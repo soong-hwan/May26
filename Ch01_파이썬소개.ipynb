{
  "nbformat": 4,
  "nbformat_minor": 0,
  "metadata": {
    "colab": {
      "name": "Ch01-파이썬소개.ipynb",
      "provenance": [],
      "collapsed_sections": [],
      "include_colab_link": true
    },
    "language_info": {
      "codemirror_mode": {
        "name": "ipython",
        "version": 3
      },
      "file_extension": ".py",
      "mimetype": "text/x-python",
      "name": "python",
      "nbconvert_exporter": "python",
      "pygments_lexer": "ipython3",
      "version": "3.7.1"
    },
    "kernelspec": {
      "display_name": "Python 3",
      "language": "python",
      "name": "python3"
    }
  },
  "cells": [
    {
      "cell_type": "markdown",
      "metadata": {
        "id": "view-in-github",
        "colab_type": "text"
      },
      "source": [
        "<a href=\"https://colab.research.google.com/github/dongupak/Prime-Python/blob/master/jupyter-notebook/Ch01_%ED%8C%8C%EC%9D%B4%EC%8D%AC%EC%86%8C%EA%B0%9C.ipynb\" target=\"_parent\"><img src=\"https://colab.research.google.com/assets/colab-badge.svg\" alt=\"Open In Colab\"/></a>"
      ]
    },
    {
      "cell_type": "markdown",
      "metadata": {
        "id": "pHHrdEdsQ87y",
        "colab_type": "text"
      },
      "source": [
        "# **생능 출판사 \"으뜸 파이썬\"(1판) 교재의 소스 코드**\n",
        "# *1장 파이썬 소개*\n",
        "---\n",
        "* 출판사 : 생능 출판사( http://www.booksr.co.kr/ )\n",
        "* 으뜸 파이썬 저자 : 박동규, 강영민 \n",
        "* 소스코드 저장소 : https://github.com/dongupak/Prime-Python\n",
        "* 저작권 : 본 주피터 노트북 코드는 학습을 위한 목적으로 자유롭게 배포가능하지만 위의 출판사, 저서, 저자표기와 함께 배포해 주십시오.\n",
        "---"
      ]
    },
    {
      "cell_type": "markdown",
      "metadata": {
        "id": "MijXjr-dWLCf",
        "colab_type": "text"
      },
      "source": [
        "# hello.py 프로그램의 코드\n",
        "## hello.py"
      ]
    },
    {
      "cell_type": "code",
      "metadata": {
        "id": "n4Chn9Z5RElS",
        "colab_type": "code",
        "outputId": "981acd9f-2bd5-481f-d2e2-4ebd822d93a7",
        "colab": {
          "base_uri": "https://localhost:8080/",
          "height": 35
        }
      },
      "source": [
        "print('Hello Python')"
      ],
      "execution_count": 0,
      "outputs": [
        {
          "output_type": "stream",
          "text": [
            "Hello Python\n"
          ],
          "name": "stdout"
        }
      ]
    },
    {
      "cell_type": "markdown",
      "metadata": {
        "id": "-1C1rfqSRPPA",
        "colab_type": "text"
      },
      "source": [
        "# 코드 1-1 : Hello World 출력하기\n",
        "## print_hello.py(이것은 여러분이 만들 파일의 이름입니다)"
      ]
    },
    {
      "cell_type": "code",
      "metadata": {
        "id": "ElL_u8WERXfg",
        "colab_type": "code",
        "outputId": "475649a0-3ed0-459a-dba8-ead81fe3ddb1",
        "colab": {
          "base_uri": "https://localhost:8080/",
          "height": 35
        }
      },
      "source": [
        "print('Hello World!')"
      ],
      "execution_count": 0,
      "outputs": [
        {
          "output_type": "stream",
          "text": [
            "Hello World!\n"
          ],
          "name": "stdout"
        }
      ]
    },
    {
      "cell_type": "markdown",
      "metadata": {
        "id": "Y5upiP3YRb1_",
        "colab_type": "text"
      },
      "source": [
        "# 코드 1-2 : Hello World 3번 출력하기\n",
        "## print_hello_3.py"
      ]
    },
    {
      "cell_type": "code",
      "metadata": {
        "id": "dxR16-paRwaY",
        "colab_type": "code",
        "outputId": "e90681e6-2214-45ff-9451-4c2859fd6273",
        "colab": {
          "base_uri": "https://localhost:8080/",
          "height": 72
        }
      },
      "source": [
        "print('Hello World!')\n",
        "print('Hello World!')\n",
        "print('Hello World!')"
      ],
      "execution_count": 0,
      "outputs": [
        {
          "output_type": "stream",
          "text": [
            "Hello World!\n",
            "Hello World!\n",
            "Hello World!\n"
          ],
          "name": "stdout"
        }
      ]
    },
    {
      "cell_type": "markdown",
      "metadata": {
        "id": "n4Cub__wTs2U",
        "colab_type": "text"
      },
      "source": [
        "## 대화창 실습 : 대화창에서 문자열과 숫자 출력하기"
      ]
    },
    {
      "cell_type": "code",
      "metadata": {
        "id": "Wi8nXb6GRwac",
        "colab_type": "code",
        "outputId": "d8a6a2c6-d3b7-403a-dec3-60e351f806d6",
        "colab": {
          "base_uri": "https://localhost:8080/",
          "height": 34
        }
      },
      "source": [
        "print('Hello World!') "
      ],
      "execution_count": 0,
      "outputs": [
        {
          "output_type": "stream",
          "text": [
            "Hello World!\n"
          ],
          "name": "stdout"
        }
      ]
    },
    {
      "cell_type": "code",
      "metadata": {
        "id": "YdZn9tONRwaf",
        "colab_type": "code",
        "outputId": "4ce83781-53f6-489c-ffb5-b6beb9aa0636",
        "colab": {
          "base_uri": "https://localhost:8080/",
          "height": 35
        }
      },
      "source": [
        "print('Hello', 'World!')"
      ],
      "execution_count": 0,
      "outputs": [
        {
          "output_type": "stream",
          "text": [
            "Hello World!\n"
          ],
          "name": "stdout"
        }
      ]
    },
    {
      "cell_type": "code",
      "metadata": {
        "id": "GkKSfJpBTxq7",
        "colab_type": "code",
        "outputId": "21a63336-cc6d-4451-99f9-0083f425f741",
        "colab": {
          "base_uri": "https://localhost:8080/",
          "height": 35
        }
      },
      "source": [
        "print('Hello'+'World!')"
      ],
      "execution_count": 0,
      "outputs": [
        {
          "output_type": "stream",
          "text": [
            "HelloWorld!\n"
          ],
          "name": "stdout"
        }
      ]
    },
    {
      "cell_type": "code",
      "metadata": {
        "id": "xW3C2LVlRwaj",
        "colab_type": "code",
        "outputId": "b23302be-694c-469d-d41e-34a9dd8c3273",
        "colab": {
          "base_uri": "https://localhost:8080/",
          "height": 35
        }
      },
      "source": [
        "print(100)"
      ],
      "execution_count": 0,
      "outputs": [
        {
          "output_type": "stream",
          "text": [
            "100\n"
          ],
          "name": "stdout"
        }
      ]
    },
    {
      "cell_type": "code",
      "metadata": {
        "id": "o2RS8snTRwaq",
        "colab_type": "code",
        "outputId": "e88864a5-4e74-4ee3-b172-3a3a50e25b75",
        "colab": {
          "base_uri": "https://localhost:8080/",
          "height": 35
        }
      },
      "source": [
        "print(2+4)"
      ],
      "execution_count": 0,
      "outputs": [
        {
          "output_type": "stream",
          "text": [
            "6\n"
          ],
          "name": "stdout"
        }
      ]
    },
    {
      "cell_type": "markdown",
      "metadata": {
        "id": "KqpsMObqT5OM",
        "colab_type": "text"
      },
      "source": [
        "## 대화창 실습 : 대화창에서 간단한 숫자 출력하기와 연산"
      ]
    },
    {
      "cell_type": "code",
      "metadata": {
        "id": "uz4XXxqqRwat",
        "colab_type": "code",
        "outputId": "48c338f9-a8b3-43a5-efb3-b4b617589716",
        "colab": {
          "base_uri": "https://localhost:8080/",
          "height": 34
        }
      },
      "source": [
        "100"
      ],
      "execution_count": 0,
      "outputs": [
        {
          "output_type": "execute_result",
          "data": {
            "text/plain": [
              "100"
            ]
          },
          "metadata": {
            "tags": []
          },
          "execution_count": 12
        }
      ]
    },
    {
      "cell_type": "code",
      "metadata": {
        "id": "CeYx8bbZRwaw",
        "colab_type": "code",
        "outputId": "ea82fd14-75c8-496b-daae-5dc1df1398c2",
        "colab": {
          "base_uri": "https://localhost:8080/",
          "height": 34
        }
      },
      "source": [
        "10 + 20"
      ],
      "execution_count": 0,
      "outputs": [
        {
          "output_type": "execute_result",
          "data": {
            "text/plain": [
              "30"
            ]
          },
          "metadata": {
            "tags": []
          },
          "execution_count": 13
        }
      ]
    },
    {
      "cell_type": "code",
      "metadata": {
        "id": "eBueIESBUAMb",
        "colab_type": "code",
        "outputId": "28250b3f-84c9-4fe1-ac01-83eb9e44493f",
        "colab": {
          "base_uri": "https://localhost:8080/",
          "height": 34
        }
      },
      "source": [
        "10 - 20"
      ],
      "execution_count": 0,
      "outputs": [
        {
          "output_type": "execute_result",
          "data": {
            "text/plain": [
              "-10"
            ]
          },
          "metadata": {
            "tags": []
          },
          "execution_count": 14
        }
      ]
    },
    {
      "cell_type": "code",
      "metadata": {
        "id": "B2WM6Z3ZUBGS",
        "colab_type": "code",
        "outputId": "b03603a2-6bfc-47bc-cd9c-1a281064df50",
        "colab": {
          "base_uri": "https://localhost:8080/",
          "height": 34
        }
      },
      "source": [
        "10 * 20"
      ],
      "execution_count": 0,
      "outputs": [
        {
          "output_type": "execute_result",
          "data": {
            "text/plain": [
              "200"
            ]
          },
          "metadata": {
            "tags": []
          },
          "execution_count": 15
        }
      ]
    },
    {
      "cell_type": "code",
      "metadata": {
        "id": "kngFkerQUBqq",
        "colab_type": "code",
        "outputId": "174cf092-f920-4e1f-9a33-5655158e9b6c",
        "colab": {
          "base_uri": "https://localhost:8080/",
          "height": 34
        }
      },
      "source": [
        "10 / 20"
      ],
      "execution_count": 0,
      "outputs": [
        {
          "output_type": "execute_result",
          "data": {
            "text/plain": [
              "0.5"
            ]
          },
          "metadata": {
            "tags": []
          },
          "execution_count": 16
        }
      ]
    },
    {
      "cell_type": "code",
      "metadata": {
        "id": "Lnse9525UCB7",
        "colab_type": "code",
        "outputId": "bd47def2-8a08-4cca-8363-2b849333d9af",
        "colab": {
          "base_uri": "https://localhost:8080/",
          "height": 34
        }
      },
      "source": [
        "123 * 8765"
      ],
      "execution_count": 0,
      "outputs": [
        {
          "output_type": "execute_result",
          "data": {
            "text/plain": [
              "1078095"
            ]
          },
          "metadata": {
            "tags": []
          },
          "execution_count": 17
        }
      ]
    },
    {
      "cell_type": "code",
      "metadata": {
        "id": "41Xhr0UOUDMS",
        "colab_type": "code",
        "outputId": "a56cf825-f79a-42f2-b48d-677af880d72f",
        "colab": {
          "base_uri": "https://localhost:8080/",
          "height": 34
        }
      },
      "source": [
        "10 + 20 * 30"
      ],
      "execution_count": 0,
      "outputs": [
        {
          "output_type": "execute_result",
          "data": {
            "text/plain": [
              "610"
            ]
          },
          "metadata": {
            "tags": []
          },
          "execution_count": 18
        }
      ]
    },
    {
      "cell_type": "markdown",
      "metadata": {
        "id": "DIdttxNNUE9z",
        "colab_type": "text"
      },
      "source": [
        "## 대화창 실습 : 대화창에서 변수를 변수 선언하기와 연산하기"
      ]
    },
    {
      "cell_type": "code",
      "metadata": {
        "id": "I3UGAsHeUQkQ",
        "colab_type": "code",
        "colab": {}
      },
      "source": [
        "x = 100"
      ],
      "execution_count": 0,
      "outputs": []
    },
    {
      "cell_type": "code",
      "metadata": {
        "id": "tBp_qFAeUXXg",
        "colab_type": "code",
        "colab": {}
      },
      "source": [
        "y = 200"
      ],
      "execution_count": 0,
      "outputs": []
    },
    {
      "cell_type": "code",
      "metadata": {
        "id": "VEeJ8zwFUYSG",
        "colab_type": "code",
        "outputId": "a4f3d735-5dd8-4f51-d414-ad900fc3b86d",
        "colab": {
          "base_uri": "https://localhost:8080/",
          "height": 34
        }
      },
      "source": [
        "x + y"
      ],
      "execution_count": 0,
      "outputs": [
        {
          "output_type": "execute_result",
          "data": {
            "text/plain": [
              "300"
            ]
          },
          "metadata": {
            "tags": []
          },
          "execution_count": 21
        }
      ]
    },
    {
      "cell_type": "code",
      "metadata": {
        "id": "cGsBladDUY0-",
        "colab_type": "code",
        "outputId": "b4f91142-e304-4016-ee98-864cd4bf8fc2",
        "colab": {
          "base_uri": "https://localhost:8080/",
          "height": 34
        }
      },
      "source": [
        "x - y"
      ],
      "execution_count": 0,
      "outputs": [
        {
          "output_type": "execute_result",
          "data": {
            "text/plain": [
              "-100"
            ]
          },
          "metadata": {
            "tags": []
          },
          "execution_count": 22
        }
      ]
    },
    {
      "cell_type": "code",
      "metadata": {
        "id": "5oUKd4y-UZZ-",
        "colab_type": "code",
        "outputId": "f346a2c0-9a04-497f-e46f-786b2148b81e",
        "colab": {
          "base_uri": "https://localhost:8080/",
          "height": 34
        }
      },
      "source": [
        "x * y"
      ],
      "execution_count": 0,
      "outputs": [
        {
          "output_type": "execute_result",
          "data": {
            "text/plain": [
              "20000"
            ]
          },
          "metadata": {
            "tags": []
          },
          "execution_count": 23
        }
      ]
    },
    {
      "cell_type": "code",
      "metadata": {
        "id": "6rVcKJqvUZ62",
        "colab_type": "code",
        "outputId": "827768a3-fad1-4f56-c00d-4f652a0d4e28",
        "colab": {
          "base_uri": "https://localhost:8080/",
          "height": 34
        }
      },
      "source": [
        "x / y"
      ],
      "execution_count": 0,
      "outputs": [
        {
          "output_type": "execute_result",
          "data": {
            "text/plain": [
              "0.5"
            ]
          },
          "metadata": {
            "tags": []
          },
          "execution_count": 24
        }
      ]
    },
    {
      "cell_type": "code",
      "metadata": {
        "id": "tQhBVO35UbkO",
        "colab_type": "code",
        "outputId": "c2c0d959-41b9-48b1-d861-d52422d7cf63",
        "colab": {
          "base_uri": "https://localhost:8080/",
          "height": 34
        }
      },
      "source": [
        "x ** 2"
      ],
      "execution_count": 0,
      "outputs": [
        {
          "output_type": "execute_result",
          "data": {
            "text/plain": [
              "10000"
            ]
          },
          "metadata": {
            "tags": []
          },
          "execution_count": 25
        }
      ]
    },
    {
      "cell_type": "code",
      "metadata": {
        "id": "RGacb3qdUcUe",
        "colab_type": "code",
        "colab": {}
      },
      "source": [
        "x = 5"
      ],
      "execution_count": 0,
      "outputs": []
    },
    {
      "cell_type": "code",
      "metadata": {
        "id": "cx7G5xbYUcx-",
        "colab_type": "code",
        "outputId": "b4f5167d-4fba-48e2-a9a9-1abcf0fdfa1c",
        "colab": {
          "base_uri": "https://localhost:8080/",
          "height": 34
        }
      },
      "source": [
        "x ** 2"
      ],
      "execution_count": 0,
      "outputs": [
        {
          "output_type": "execute_result",
          "data": {
            "text/plain": [
              "25"
            ]
          },
          "metadata": {
            "tags": []
          },
          "execution_count": 27
        }
      ]
    }
  ]
}