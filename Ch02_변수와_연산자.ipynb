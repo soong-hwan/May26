{
  "nbformat": 4,
  "nbformat_minor": 0,
  "metadata": {
    "colab": {
      "name": "Ch02-변수와 연산자.ipynb",
      "provenance": [],
      "collapsed_sections": [
        "Qzx9kCCGRCWE"
      ],
      "include_colab_link": true
    },
    "language_info": {
      "codemirror_mode": {
        "name": "ipython",
        "version": 3
      },
      "file_extension": ".py",
      "mimetype": "text/x-python",
      "name": "python",
      "nbconvert_exporter": "python",
      "pygments_lexer": "ipython3",
      "version": "3.7.3"
    },
    "kernelspec": {
      "display_name": "Python 3",
      "language": "python",
      "name": "python3"
    }
  },
  "cells": [
    {
      "cell_type": "markdown",
      "metadata": {
        "id": "view-in-github",
        "colab_type": "text"
      },
      "source": [
        "<a href=\"https://colab.research.google.com/github/dongupak/Prime-Python/blob/master/jupyter-notebook/Ch02_%EB%B3%80%EC%88%98%EC%99%80_%EC%97%B0%EC%82%B0%EC%9E%90.ipynb\" target=\"_parent\"><img src=\"https://colab.research.google.com/assets/colab-badge.svg\" alt=\"Open In Colab\"/></a>"
      ]
    },
    {
      "cell_type": "markdown",
      "metadata": {
        "id": "pI8q9_caWOvF",
        "colab_type": "text"
      },
      "source": [
        "# **생능 출판사 \"으뜸 파이썬\"(1판) 교재의 소스 코드**\n",
        "# *2장 변수와 연산자*\n",
        "---\n",
        "* 출판사 : 생능 출판사( http://www.booksr.co.kr/ )\n",
        "* 으뜸 파이썬 저자 : 박동규, 강영민 \n",
        "* 소스코드 저장소 : https://github.com/dongupak/Prime-Python\n",
        "* 저작권 : 본 주피터 노트북 코드는 학습을 위한 목적으로 자유롭게 배포가능하지만 위의 출판사, 저서, 저자표기와 함께 배포해 주십시오.\n",
        "--- \n"
      ]
    },
    {
      "cell_type": "code",
      "metadata": {
        "scrolled": true,
        "id": "BKI4m9_1RCSs",
        "colab_type": "code",
        "outputId": "ee532862-ea73-43b1-dcdc-ef6da07524ca",
        "colab": {
          "base_uri": "https://localhost:8080/",
          "height": 35
        }
      },
      "source": [
        "print('Hello Python!!')"
      ],
      "execution_count": 0,
      "outputs": [
        {
          "output_type": "stream",
          "text": [
            "Hello Python!!\n"
          ],
          "name": "stdout"
        }
      ]
    },
    {
      "cell_type": "code",
      "metadata": {
        "scrolled": false,
        "id": "NXR92kOXRCS9",
        "colab_type": "code",
        "outputId": "9f957db5-ffd8-4328-db9e-caa750e900e4",
        "colab": {
          "base_uri": "https://localhost:8080/",
          "height": 136
        }
      },
      "source": [
        "print(Hello Python!!)"
      ],
      "execution_count": 0,
      "outputs": [
        {
          "output_type": "error",
          "ename": "SyntaxError",
          "evalue": "ignored",
          "traceback": [
            "\u001b[0;36m  File \u001b[0;32m\"<ipython-input-3-ef7c10eca875>\"\u001b[0;36m, line \u001b[0;32m1\u001b[0m\n\u001b[0;31m    print(Hello Python!!)\u001b[0m\n\u001b[0m                     ^\u001b[0m\n\u001b[0;31mSyntaxError\u001b[0m\u001b[0;31m:\u001b[0m invalid syntax\n"
          ]
        }
      ]
    },
    {
      "cell_type": "code",
      "metadata": {
        "scrolled": false,
        "id": "Tf4hXnTVRCTE",
        "colab_type": "code",
        "outputId": "12acdf8e-516d-4438-dc7d-6cda64a826ae",
        "colab": {
          "base_uri": "https://localhost:8080/",
          "height": 34
        }
      },
      "source": [
        "print('My age is', 20)"
      ],
      "execution_count": 0,
      "outputs": [
        {
          "output_type": "stream",
          "text": [
            "My age is 20\n"
          ],
          "name": "stdout"
        }
      ]
    },
    {
      "cell_type": "code",
      "metadata": {
        "scrolled": false,
        "id": "drviQGv-RCTG",
        "colab_type": "code",
        "outputId": "0fc4fa70-832b-4739-8fde-cdb3aa856d77",
        "colab": {
          "base_uri": "https://localhost:8080/",
          "height": 34
        }
      },
      "source": [
        "print('오늘의 걸음 수', 8000, '걸음')"
      ],
      "execution_count": 0,
      "outputs": [
        {
          "output_type": "stream",
          "text": [
            "오늘의 걸음 수 8000 걸음\n"
          ],
          "name": "stdout"
        }
      ]
    },
    {
      "cell_type": "code",
      "metadata": {
        "scrolled": false,
        "id": "7F6_hqHPRCTJ",
        "colab_type": "code",
        "outputId": "b1fce5e7-73f6-48b4-efbf-b9feff042f7e",
        "colab": {
          "base_uri": "https://localhost:8080/",
          "height": 34
        }
      },
      "source": [
        "print('Hello ' * 2)"
      ],
      "execution_count": 0,
      "outputs": [
        {
          "output_type": "stream",
          "text": [
            "Hello Hello \n"
          ],
          "name": "stdout"
        }
      ]
    },
    {
      "cell_type": "code",
      "metadata": {
        "id": "be9f0rAiWQy4",
        "colab_type": "code",
        "outputId": "61410765-c6dc-4350-97b8-7dea69e340bc",
        "colab": {
          "base_uri": "https://localhost:8080/",
          "height": 36
        }
      },
      "source": [
        "print('Hello ' * 4)"
      ],
      "execution_count": 0,
      "outputs": [
        {
          "output_type": "stream",
          "text": [
            "Hello Hello Hello Hello \n"
          ],
          "name": "stdout"
        }
      ]
    },
    {
      "cell_type": "markdown",
      "metadata": {
        "id": "2_xvIcqFRCTL",
        "colab_type": "text"
      },
      "source": [
        "# 코드 2-1 : 스크립트 코드로 간단한 출력 프로그램 작성하기\n",
        "## print_test.py"
      ]
    },
    {
      "cell_type": "code",
      "metadata": {
        "id": "pld3teGmC9tp",
        "colab_type": "code",
        "outputId": "5cf1e940-bf8e-452b-e738-384875d7545e",
        "colab": {
          "base_uri": "https://localhost:8080/",
          "height": 107
        }
      },
      "source": [
        "print('나의 이름은 :', '홍길동')\n",
        "print('나의 나이는 :', 27)\n",
        "print('나의 키는', 179, 'cm 입니다.')\n",
        "print('10 + 20 =', 10 + 20)\n",
        "print('10 * 20 =', 10 * 20)"
      ],
      "execution_count": 0,
      "outputs": [
        {
          "output_type": "stream",
          "text": [
            "나의 이름은 : 홍길동\n",
            "나의 나이는 : 27\n",
            "나의 키는 179 cm 입니다.\n",
            "10 + 20 = 30\n",
            "10 * 20 = 200\n"
          ],
          "name": "stdout"
        }
      ]
    },
    {
      "cell_type": "markdown",
      "metadata": {
        "id": "yGi4EIFHDFTW",
        "colab_type": "text"
      },
      "source": [
        "# 코드 2-2 : 원의 반지름, 면적, 둘레를 출력하는 프로그램\n",
        "## circle.py"
      ]
    },
    {
      "cell_type": "code",
      "metadata": {
        "id": "U_rD51ZLRCTM",
        "colab_type": "code",
        "outputId": "86cf5809-ef57-492c-e8fe-65095921e9a5",
        "colab": {
          "base_uri": "https://localhost:8080/",
          "height": 72
        }
      },
      "source": [
        "print('원의 반지름', 4.0)\n",
        "print('원의 면적', 3.14 * 4.0 * 4.0)\n",
        "print('원의 둘레', 2.0 * 3.14 * 4.0 )"
      ],
      "execution_count": 0,
      "outputs": [
        {
          "output_type": "stream",
          "text": [
            "원의 반지름 4.0\n",
            "원의 면적 50.24\n",
            "원의 둘레 25.12\n"
          ],
          "name": "stdout"
        }
      ]
    },
    {
      "cell_type": "code",
      "metadata": {
        "scrolled": true,
        "id": "B3SRIt52RCTO",
        "colab_type": "code",
        "outputId": "f658e2be-ec5e-430d-ad58-73f0356e70e7",
        "colab": {
          "base_uri": "https://localhost:8080/",
          "height": 72
        }
      },
      "source": [
        "# 아래와 같이 수정해서 사용할 수 있습니다.\n",
        "print('원의 반지름', 5.0)\n",
        "print('원의 면적', 3.14 * 5.0 * 5.0)\n",
        "print('원의 둘레', 2.0 * 3.14 * 5.0)"
      ],
      "execution_count": 0,
      "outputs": [
        {
          "output_type": "stream",
          "text": [
            "원의 반지름 5.0\n",
            "원의 면적 78.5\n",
            "원의 둘레 31.400000000000002\n"
          ],
          "name": "stdout"
        }
      ]
    },
    {
      "cell_type": "code",
      "metadata": {
        "id": "i6HepdJfRCTS",
        "colab_type": "code",
        "outputId": "da5716be-821a-4469-8290-f61a2005e2bc",
        "colab": {
          "base_uri": "https://localhost:8080/",
          "height": 72
        }
      },
      "source": [
        "print('원의 반지름', 6.0)\n",
        "print('원의 면적', 3.14 * 6.0 * 6.0)\n",
        "print('원의 둘레', 2.0 * 3.14 * 6.0)"
      ],
      "execution_count": 0,
      "outputs": [
        {
          "output_type": "stream",
          "text": [
            "원의 반지름 6.0\n",
            "원의 면적 113.03999999999999\n",
            "원의 둘레 37.68\n"
          ],
          "name": "stdout"
        }
      ]
    },
    {
      "cell_type": "code",
      "metadata": {
        "id": "fcfncWF8l1tM",
        "colab_type": "code",
        "colab": {}
      },
      "source": [
        "# 아래의 경우 문법적으로는 맞지만 원의 둘레가 정확하지 않습니다.\n",
        "# 5.0을 6.0으로 고쳐야 반지름 6.0인 원의 둘레가 제대로 구해집니다.\n",
        "print('원의 반지름', 6.0)\n",
        "print('원의 면적', 3.14 * 6.0 * 6.0)\n",
        "print('원의 둘레', 2.0 * 3.14 * 5.0)"
      ],
      "execution_count": 0,
      "outputs": []
    },
    {
      "cell_type": "markdown",
      "metadata": {
        "id": "3MmpbyF5RCTV",
        "colab_type": "text"
      },
      "source": [
        "# 코드 2-3 : 변수를 이용하여 원의 면적과 둘레를 구하는 방법\n",
        "## circle_with_var.py"
      ]
    },
    {
      "cell_type": "code",
      "metadata": {
        "id": "e4NbPhjrRCTV",
        "colab_type": "code",
        "outputId": "cce814c7-c895-4239-a756-1b67fedaaae6",
        "colab": {
          "base_uri": "https://localhost:8080/",
          "height": 70
        }
      },
      "source": [
        "radius = 4.0\n",
        "print('원의 반지름', radius)\n",
        "print('원의 면적', 3.14 * radius * radius)\n",
        "print('원의 둘레', 2.0 * 3.14 * radius)"
      ],
      "execution_count": 0,
      "outputs": [
        {
          "output_type": "stream",
          "text": [
            "원의 반지름 4.0\n",
            "원의 면적 50.24\n",
            "원의 둘레 25.12\n"
          ],
          "name": "stdout"
        }
      ]
    },
    {
      "cell_type": "markdown",
      "metadata": {
        "id": "Uu5HSp9pEWcA",
        "colab_type": "text"
      },
      "source": [
        "# 코드 2-4 : 변수를 이용하여 원의 면적과 둘레를 구하는 방법\n",
        "## circle_with_var.py (수정)"
      ]
    },
    {
      "cell_type": "code",
      "metadata": {
        "id": "GyYdblFjRCTY",
        "colab_type": "code",
        "outputId": "516141c0-e366-45b0-f594-26389a2234cb",
        "colab": {
          "base_uri": "https://localhost:8080/",
          "height": 70
        }
      },
      "source": [
        "radius = 6.0\n",
        "print('원의 반지름', radius)\n",
        "print('원의 면적', 3.14 * radius * radius)\n",
        "print('원의 둘레', 2.0 * 3.14 * radius)"
      ],
      "execution_count": 0,
      "outputs": [
        {
          "output_type": "stream",
          "text": [
            "원의 반지름 6.0\n",
            "원의 면적 113.03999999999999\n",
            "원의 둘레 37.68\n"
          ],
          "name": "stdout"
        }
      ]
    },
    {
      "cell_type": "markdown",
      "metadata": {
        "id": "UirpI_ALRCTb",
        "colab_type": "text"
      },
      "source": [
        "## 대화창 실습 : name 변수의 선언과 출력"
      ]
    },
    {
      "cell_type": "code",
      "metadata": {
        "scrolled": true,
        "id": "l1r2SA0vRCTb",
        "colab_type": "code",
        "outputId": "6296ea6e-9b55-448b-aee1-b0a10db52b01",
        "colab": {
          "base_uri": "https://localhost:8080/",
          "height": 35
        }
      },
      "source": [
        "name = '홍길동'\n",
        "print(name)"
      ],
      "execution_count": 0,
      "outputs": [
        {
          "output_type": "stream",
          "text": [
            "홍길동\n"
          ],
          "name": "stdout"
        }
      ]
    },
    {
      "cell_type": "code",
      "metadata": {
        "id": "543wDZTQXM8q",
        "colab_type": "code",
        "outputId": "f276dde8-93f8-4ce7-c6ef-abd9bc88cb67",
        "colab": {
          "base_uri": "https://localhost:8080/",
          "height": 35
        }
      },
      "source": [
        "width = 10\n",
        "height = 5\n",
        "rectangle_area = width * height\n",
        "print(rectangle_area)"
      ],
      "execution_count": 0,
      "outputs": [
        {
          "output_type": "stream",
          "text": [
            "50\n"
          ],
          "name": "stdout"
        }
      ]
    },
    {
      "cell_type": "markdown",
      "metadata": {
        "id": "CtWbk9PdRCTi",
        "colab_type": "text"
      },
      "source": [
        "# 코드 2-5 : 변수에 값을 지정하고 출력하기\n",
        "## variable_test.py"
      ]
    },
    {
      "cell_type": "code",
      "metadata": {
        "id": "d5ozXfbSRCTj",
        "colab_type": "code",
        "outputId": "315024c7-b610-4741-bce8-07e427b65139",
        "colab": {
          "base_uri": "https://localhost:8080/",
          "height": 34
        }
      },
      "source": [
        "name = '홍길동'\n",
        "age = 27\n",
        "print('안녕! 나는', name , '이야. 나는 나이가', age, '살이야.')"
      ],
      "execution_count": 0,
      "outputs": [
        {
          "output_type": "stream",
          "text": [
            "안녕! 나는 홍길동 이야. 나는 나이가 27 살이야.\n"
          ],
          "name": "stdout"
        }
      ]
    },
    {
      "cell_type": "markdown",
      "metadata": {
        "id": "YpGLK3l5RCTl",
        "colab_type": "text"
      },
      "source": [
        "# 코드 2-6 : 변수에 새로운 값을 할당하기\n",
        "## change_var.py"
      ]
    },
    {
      "cell_type": "code",
      "metadata": {
        "id": "KrKAkr32RCTm",
        "colab_type": "code",
        "outputId": "d9f7e65c-4100-46fd-cfca-e0baeb8e9d1b",
        "colab": {
          "base_uri": "https://localhost:8080/",
          "height": 52
        }
      },
      "source": [
        "name = '홍길동'\n",
        "age = 27\n",
        "print('안녕! 나는', name , '이야. 나는 나이가', age, '살이야.')\n",
        "name = '홍길순'\n",
        "age = 23\n",
        "print('안녕! 나는', name , '이야. 나는 나이가', age, '살이야.')"
      ],
      "execution_count": 0,
      "outputs": [
        {
          "output_type": "stream",
          "text": [
            "안녕! 나는 홍길동 이야. 나는 나이가 27 살이야.\n",
            "안녕! 나는 홍길순 이야. 나는 나이가 23 살이야.\n"
          ],
          "name": "stdout"
        }
      ]
    },
    {
      "cell_type": "code",
      "metadata": {
        "id": "WVCDw8jdXgw5",
        "colab_type": "code",
        "colab": {}
      },
      "source": [
        "age = 27"
      ],
      "execution_count": 0,
      "outputs": []
    },
    {
      "cell_type": "code",
      "metadata": {
        "id": "OklQsAiya4RR",
        "colab_type": "code",
        "outputId": "8b385fbd-2d8f-4208-b05c-ee2533e272d6",
        "colab": {
          "base_uri": "https://localhost:8080/",
          "height": 136
        }
      },
      "source": [
        "27 = age"
      ],
      "execution_count": 0,
      "outputs": [
        {
          "output_type": "error",
          "ename": "SyntaxError",
          "evalue": "ignored",
          "traceback": [
            "\u001b[0;36m  File \u001b[0;32m\"<ipython-input-13-0785a0653c98>\"\u001b[0;36m, line \u001b[0;32m1\u001b[0m\n\u001b[0;31m    27 = age\u001b[0m\n\u001b[0m            ^\u001b[0m\n\u001b[0;31mSyntaxError\u001b[0m\u001b[0;31m:\u001b[0m can't assign to literal\n"
          ]
        }
      ]
    },
    {
      "cell_type": "markdown",
      "metadata": {
        "id": "x-KbYSNORCTs",
        "colab_type": "text"
      },
      "source": [
        "## 대화창 실습 : 파이썬 표현식의 사용"
      ]
    },
    {
      "cell_type": "code",
      "metadata": {
        "id": "w-m0yiqmRCTt",
        "colab_type": "code",
        "outputId": "be33cd8d-e65a-41aa-91a7-f62ef8b153b0",
        "colab": {
          "base_uri": "https://localhost:8080/",
          "height": 34
        }
      },
      "source": [
        "4 + 10     # 덧셈 연산"
      ],
      "execution_count": 0,
      "outputs": [
        {
          "output_type": "execute_result",
          "data": {
            "text/plain": [
              "14"
            ]
          },
          "metadata": {
            "tags": []
          },
          "execution_count": 19
        }
      ]
    },
    {
      "cell_type": "code",
      "metadata": {
        "id": "91TcFwLsRCTw",
        "colab_type": "code",
        "outputId": "0436c914-db96-4faf-a2ff-172b2cf3d7d3",
        "colab": {
          "base_uri": "https://localhost:8080/",
          "height": 34
        }
      },
      "source": [
        "4.0 - 0.1  # 뺄셈 연산"
      ],
      "execution_count": 0,
      "outputs": [
        {
          "output_type": "execute_result",
          "data": {
            "text/plain": [
              "3.9"
            ]
          },
          "metadata": {
            "tags": []
          },
          "execution_count": 20
        }
      ]
    },
    {
      "cell_type": "code",
      "metadata": {
        "id": "C7ppQ329RCTy",
        "colab_type": "code",
        "outputId": "6fec569c-83e6-4e27-bb07-abe7d7a84251",
        "colab": {}
      },
      "source": [
        "20 * 20    # 곱셈 연산"
      ],
      "execution_count": 0,
      "outputs": [
        {
          "output_type": "execute_result",
          "data": {
            "text/plain": [
              "400"
            ]
          },
          "metadata": {
            "tags": []
          },
          "execution_count": 19
        }
      ]
    },
    {
      "cell_type": "code",
      "metadata": {
        "id": "O7Q2yiauRCT0",
        "colab_type": "code",
        "outputId": "1f7718d7-682c-41a0-e971-f8424c828fee",
        "colab": {}
      },
      "source": [
        "11 / 2     # 실수 나눗셈 연산"
      ],
      "execution_count": 0,
      "outputs": [
        {
          "output_type": "execute_result",
          "data": {
            "text/plain": [
              "5.5"
            ]
          },
          "metadata": {
            "tags": []
          },
          "execution_count": 20
        }
      ]
    },
    {
      "cell_type": "code",
      "metadata": {
        "id": "Z9zyLovQRCT2",
        "colab_type": "code",
        "outputId": "d3de0c11-8b1b-4240-e13f-4a7762c7e75f",
        "colab": {}
      },
      "source": [
        "11 // 2    # 정수 나눗셈 연산 - 몫을 구함"
      ],
      "execution_count": 0,
      "outputs": [
        {
          "output_type": "execute_result",
          "data": {
            "text/plain": [
              "5"
            ]
          },
          "metadata": {
            "tags": []
          },
          "execution_count": 21
        }
      ]
    },
    {
      "cell_type": "code",
      "metadata": {
        "scrolled": true,
        "id": "VabxHCe3RCT4",
        "colab_type": "code",
        "outputId": "eb3f4c8d-4ee8-46e4-e508-45a8b96d7531",
        "colab": {}
      },
      "source": [
        "11 % 2     # 정수 나눗셈후의 나머지 연산"
      ],
      "execution_count": 0,
      "outputs": [
        {
          "output_type": "execute_result",
          "data": {
            "text/plain": [
              "1"
            ]
          },
          "metadata": {
            "tags": []
          },
          "execution_count": 22
        }
      ]
    },
    {
      "cell_type": "code",
      "metadata": {
        "id": "SvXFowWMRCT8",
        "colab_type": "code",
        "outputId": "fa9080ea-f86b-4ae8-b0b3-85f275d5609a",
        "colab": {
          "base_uri": "https://localhost:8080/",
          "height": 34
        }
      },
      "source": [
        "4 ** 0.5   # 거듭제곱 - 4의 제곱근을 구함"
      ],
      "execution_count": 0,
      "outputs": [
        {
          "output_type": "execute_result",
          "data": {
            "text/plain": [
              "2.0"
            ]
          },
          "metadata": {
            "tags": []
          },
          "execution_count": 21
        }
      ]
    },
    {
      "cell_type": "code",
      "metadata": {
        "id": "rpGt2B8ZRCT-",
        "colab_type": "code",
        "outputId": "dad45eac-a83a-4b86-a141-8f7ae942daa8",
        "colab": {
          "base_uri": "https://localhost:8080/",
          "height": 34
        }
      },
      "source": [
        "4 ** 5     # 거듭제곱 - 4의 5승을 구함"
      ],
      "execution_count": 0,
      "outputs": [
        {
          "output_type": "execute_result",
          "data": {
            "text/plain": [
              "1024"
            ]
          },
          "metadata": {
            "tags": []
          },
          "execution_count": 23
        }
      ]
    },
    {
      "cell_type": "markdown",
      "metadata": {
        "id": "D-7yE1CjRCUB",
        "colab_type": "text"
      },
      "source": [
        "# 코드 2-7 : 문자열과 정수의 덧셈연산\n",
        "## number_and_string1.py"
      ]
    },
    {
      "cell_type": "code",
      "metadata": {
        "id": "VknL7HAcRCUC",
        "colab_type": "code",
        "outputId": "56c4168d-5c79-4688-a3d7-552be6112f5e",
        "colab": {
          "base_uri": "https://localhost:8080/",
          "height": 239
        }
      },
      "source": [
        "my_age = 22\n",
        "my_height = '177'\n",
        "\n",
        "my_age = my_age + 1\n",
        "my_height = my_height + 1\n",
        "\n",
        "print(my_age, my_height)"
      ],
      "execution_count": 0,
      "outputs": [
        {
          "output_type": "error",
          "ename": "TypeError",
          "evalue": "ignored",
          "traceback": [
            "\u001b[0;31m---------------------------------------------------------------------------\u001b[0m",
            "\u001b[0;31mTypeError\u001b[0m                                 Traceback (most recent call last)",
            "\u001b[0;32m<ipython-input-24-2c57114dbf28>\u001b[0m in \u001b[0;36m<module>\u001b[0;34m()\u001b[0m\n\u001b[1;32m      3\u001b[0m \u001b[0;34m\u001b[0m\u001b[0m\n\u001b[1;32m      4\u001b[0m \u001b[0mmy_age\u001b[0m \u001b[0;34m=\u001b[0m \u001b[0mmy_age\u001b[0m \u001b[0;34m+\u001b[0m \u001b[0;36m1\u001b[0m\u001b[0;34m\u001b[0m\u001b[0;34m\u001b[0m\u001b[0m\n\u001b[0;32m----> 5\u001b[0;31m \u001b[0mmy_height\u001b[0m \u001b[0;34m=\u001b[0m \u001b[0mmy_height\u001b[0m \u001b[0;34m+\u001b[0m \u001b[0;36m1\u001b[0m\u001b[0;34m\u001b[0m\u001b[0;34m\u001b[0m\u001b[0m\n\u001b[0m\u001b[1;32m      6\u001b[0m \u001b[0;34m\u001b[0m\u001b[0m\n\u001b[1;32m      7\u001b[0m \u001b[0mprint\u001b[0m\u001b[0;34m(\u001b[0m\u001b[0mmy_age\u001b[0m\u001b[0;34m,\u001b[0m \u001b[0mmy_height\u001b[0m\u001b[0;34m)\u001b[0m\u001b[0;34m\u001b[0m\u001b[0;34m\u001b[0m\u001b[0m\n",
            "\u001b[0;31mTypeError\u001b[0m: must be str, not int"
          ]
        }
      ]
    },
    {
      "cell_type": "markdown",
      "metadata": {
        "id": "rBot80JaRCUE",
        "colab_type": "text"
      },
      "source": [
        "# 코드 2-8 : 실수와 정수의 덧셈 연산\n",
        "## number_and_string2.py"
      ]
    },
    {
      "cell_type": "code",
      "metadata": {
        "id": "F8RxZ4xiRCUF",
        "colab_type": "code",
        "outputId": "e77bf3ac-ae29-4418-c27a-338fd18098ca",
        "colab": {
          "base_uri": "https://localhost:8080/",
          "height": 34
        }
      },
      "source": [
        "my_age = 22\n",
        "my_height = 177.5\n",
        "\n",
        "my_age = my_age + 1\n",
        "my_height = my_height + 1\n",
        "\n",
        "print(my_age, my_height)"
      ],
      "execution_count": 0,
      "outputs": [
        {
          "output_type": "stream",
          "text": [
            "23 178.5\n"
          ],
          "name": "stdout"
        }
      ]
    },
    {
      "cell_type": "markdown",
      "metadata": {
        "id": "3MOySgfmFrif",
        "colab_type": "text"
      },
      "source": [
        "## 대화창 실습 : 거듭제곱 연산의 적용"
      ]
    },
    {
      "cell_type": "code",
      "metadata": {
        "id": "ljEFARRiFv5K",
        "colab_type": "code",
        "outputId": "c83d1fe8-13d3-432b-f64a-6a494ff45302",
        "colab": {
          "base_uri": "https://localhost:8080/",
          "height": 34
        }
      },
      "source": [
        "4 ** 0.2"
      ],
      "execution_count": 0,
      "outputs": [
        {
          "output_type": "execute_result",
          "data": {
            "text/plain": [
              "1.3195079107728942"
            ]
          },
          "metadata": {
            "tags": []
          },
          "execution_count": 26
        }
      ]
    },
    {
      "cell_type": "code",
      "metadata": {
        "id": "MttHjWgXFy9U",
        "colab_type": "code",
        "outputId": "022c5482-76fb-4c01-8929-af1ea6f4894b",
        "colab": {
          "base_uri": "https://localhost:8080/",
          "height": 34
        }
      },
      "source": [
        "0.2 ** 4"
      ],
      "execution_count": 0,
      "outputs": [
        {
          "output_type": "execute_result",
          "data": {
            "text/plain": [
              "0.0016000000000000003"
            ]
          },
          "metadata": {
            "tags": []
          },
          "execution_count": 27
        }
      ]
    },
    {
      "cell_type": "markdown",
      "metadata": {
        "id": "wLOfs7nSRCUH",
        "colab_type": "text"
      },
      "source": [
        "## 대화창 실습 : 다양한 자료형의 이해와 type 함수"
      ]
    },
    {
      "cell_type": "code",
      "metadata": {
        "id": "Wn3sa5vjRCUH",
        "colab_type": "code",
        "outputId": "047ada11-efbe-4868-bddb-0df87c3fdab1",
        "colab": {
          "base_uri": "https://localhost:8080/",
          "height": 34
        }
      },
      "source": [
        "num = 85\n",
        "type(num)"
      ],
      "execution_count": 0,
      "outputs": [
        {
          "output_type": "execute_result",
          "data": {
            "text/plain": [
              "int"
            ]
          },
          "metadata": {
            "tags": []
          },
          "execution_count": 28
        }
      ]
    },
    {
      "cell_type": "code",
      "metadata": {
        "scrolled": true,
        "id": "ivN45hGvRCUJ",
        "colab_type": "code",
        "outputId": "1846ae33-4f87-4290-f6e9-bc1d3ca6f486",
        "colab": {
          "base_uri": "https://localhost:8080/",
          "height": 34
        }
      },
      "source": [
        "pi = 3.14159\n",
        "type(pi)"
      ],
      "execution_count": 0,
      "outputs": [
        {
          "output_type": "execute_result",
          "data": {
            "text/plain": [
              "float"
            ]
          },
          "metadata": {
            "tags": []
          },
          "execution_count": 29
        }
      ]
    },
    {
      "cell_type": "code",
      "metadata": {
        "id": "SUkXTUfiRCUN",
        "colab_type": "code",
        "outputId": "752d7487-f3ed-41e7-d213-ab30255871af",
        "colab": {
          "base_uri": "https://localhost:8080/",
          "height": 34
        }
      },
      "source": [
        "message = \"Good morning\"\n",
        "type(message)"
      ],
      "execution_count": 0,
      "outputs": [
        {
          "output_type": "execute_result",
          "data": {
            "text/plain": [
              "str"
            ]
          },
          "metadata": {
            "tags": []
          },
          "execution_count": 30
        }
      ]
    },
    {
      "cell_type": "markdown",
      "metadata": {
        "id": "AXdJTsdkRCUQ",
        "colab_type": "text"
      },
      "source": [
        "## 대화창 실습 : 동적 형결정(dynamic typing)의 이해"
      ]
    },
    {
      "cell_type": "code",
      "metadata": {
        "id": "EbkcBJBJRCUQ",
        "colab_type": "code",
        "outputId": "b4ef701e-d0ce-4958-cf04-cb581832c86d",
        "colab": {
          "base_uri": "https://localhost:8080/",
          "height": 34
        }
      },
      "source": [
        "foo = 100\n",
        "type(foo)"
      ],
      "execution_count": 0,
      "outputs": [
        {
          "output_type": "execute_result",
          "data": {
            "text/plain": [
              "int"
            ]
          },
          "metadata": {
            "tags": []
          },
          "execution_count": 31
        }
      ]
    },
    {
      "cell_type": "code",
      "metadata": {
        "id": "iiyqpwqfRCUU",
        "colab_type": "code",
        "outputId": "cf73e784-dfb2-4d19-ed87-fb99a9cede7b",
        "colab": {
          "base_uri": "https://localhost:8080/",
          "height": 34
        }
      },
      "source": [
        "foo = 'Hello'\n",
        "type(foo)"
      ],
      "execution_count": 0,
      "outputs": [
        {
          "output_type": "execute_result",
          "data": {
            "text/plain": [
              "str"
            ]
          },
          "metadata": {
            "tags": []
          },
          "execution_count": 32
        }
      ]
    },
    {
      "cell_type": "markdown",
      "metadata": {
        "id": "UlwHEd1JRCUW",
        "colab_type": "text"
      },
      "source": [
        "## 대화창 실습 : 다양한 자료형의 이해"
      ]
    },
    {
      "cell_type": "code",
      "metadata": {
        "id": "zZIjC_ApRCUX",
        "colab_type": "code",
        "outputId": "25d8502f-d18a-40bc-95b7-0a675ac165e6",
        "colab": {
          "base_uri": "https://localhost:8080/",
          "height": 34
        }
      },
      "source": [
        "l = [100, 300, 500, 900]\n",
        "type(l)"
      ],
      "execution_count": 0,
      "outputs": [
        {
          "output_type": "execute_result",
          "data": {
            "text/plain": [
              "list"
            ]
          },
          "metadata": {
            "tags": []
          },
          "execution_count": 1
        }
      ]
    },
    {
      "cell_type": "code",
      "metadata": {
        "id": "YKuJfsOgRCUY",
        "colab_type": "code",
        "outputId": "62e609ac-019b-4405-926d-ff22cfae0937",
        "colab": {
          "base_uri": "https://localhost:8080/",
          "height": 34
        }
      },
      "source": [
        "d = {'apple': 3000, 'banana': 4200}\n",
        "type(d)"
      ],
      "execution_count": 0,
      "outputs": [
        {
          "output_type": "execute_result",
          "data": {
            "text/plain": [
              "dict"
            ]
          },
          "metadata": {
            "tags": []
          },
          "execution_count": 2
        }
      ]
    },
    {
      "cell_type": "code",
      "metadata": {
        "id": "az90uEbVRCUa",
        "colab_type": "code",
        "outputId": "cc5a8f0f-d1d3-4ec0-e88f-e79221e79c9e",
        "colab": {
          "base_uri": "https://localhost:8080/",
          "height": 34
        }
      },
      "source": [
        "t = ('홍길동', 30, '율도국의 왕')\n",
        "type(t)"
      ],
      "execution_count": 0,
      "outputs": [
        {
          "output_type": "execute_result",
          "data": {
            "text/plain": [
              "tuple"
            ]
          },
          "metadata": {
            "tags": []
          },
          "execution_count": 3
        }
      ]
    },
    {
      "cell_type": "markdown",
      "metadata": {
        "id": "DaV1Dh_ERCUc",
        "colab_type": "text"
      },
      "source": [
        "## 대화창 실습 : str() 함수 실습"
      ]
    },
    {
      "cell_type": "code",
      "metadata": {
        "id": "oaCAhSAORCUd",
        "colab_type": "code",
        "outputId": "f5f0eb9d-0cb4-44f8-e86e-bcd85aec5e02",
        "colab": {
          "base_uri": "https://localhost:8080/",
          "height": 34
        }
      },
      "source": [
        "str(100)"
      ],
      "execution_count": 0,
      "outputs": [
        {
          "output_type": "execute_result",
          "data": {
            "text/plain": [
              "'100'"
            ]
          },
          "metadata": {
            "tags": []
          },
          "execution_count": 34
        }
      ]
    },
    {
      "cell_type": "code",
      "metadata": {
        "id": "mPTx1lVcRCUh",
        "colab_type": "code",
        "outputId": "33b31e4a-b78a-49c4-f0ca-86f44159ffe5",
        "colab": {
          "base_uri": "https://localhost:8080/",
          "height": 34
        }
      },
      "source": [
        "str(123.5)"
      ],
      "execution_count": 0,
      "outputs": [
        {
          "output_type": "execute_result",
          "data": {
            "text/plain": [
              "'123.5'"
            ]
          },
          "metadata": {
            "tags": []
          },
          "execution_count": 35
        }
      ]
    },
    {
      "cell_type": "code",
      "metadata": {
        "scrolled": true,
        "id": "F35ZrCT4RCUl",
        "colab_type": "code",
        "outputId": "25e190ae-34ff-4211-8436-9ef24821a92c",
        "colab": {
          "base_uri": "https://localhost:8080/",
          "height": 34
        }
      },
      "source": [
        "x = ['A', 'B', 'C']\n",
        "str(x)"
      ],
      "execution_count": 0,
      "outputs": [
        {
          "output_type": "execute_result",
          "data": {
            "text/plain": [
              "\"['A', 'B', 'C']\""
            ]
          },
          "metadata": {
            "tags": []
          },
          "execution_count": 36
        }
      ]
    },
    {
      "cell_type": "code",
      "metadata": {
        "id": "quHhutCPZym_",
        "colab_type": "code",
        "outputId": "cdaf929e-cf13-4a94-8efc-9452ef27db62",
        "colab": {
          "base_uri": "https://localhost:8080/",
          "height": 34
        }
      },
      "source": [
        "x = [\"A\", \"B\", \"C\"]\n",
        "str(x)"
      ],
      "execution_count": 0,
      "outputs": [
        {
          "output_type": "execute_result",
          "data": {
            "text/plain": [
              "\"['A', 'B', 'C']\""
            ]
          },
          "metadata": {
            "tags": []
          },
          "execution_count": 37
        }
      ]
    },
    {
      "cell_type": "code",
      "metadata": {
        "id": "PJ4TdUPNRCUn",
        "colab_type": "code",
        "outputId": "3c9f0079-2774-4f07-fbc1-0245f034b168",
        "colab": {
          "base_uri": "https://localhost:8080/",
          "height": 35
        }
      },
      "source": [
        "txt1 = '강아지 이름은 \"햇님\"이야'\n",
        "txt1"
      ],
      "execution_count": 0,
      "outputs": [
        {
          "output_type": "execute_result",
          "data": {
            "text/plain": [
              "'강아지 이름은 \"햇님\"이야'"
            ]
          },
          "metadata": {
            "tags": []
          },
          "execution_count": 13
        }
      ]
    },
    {
      "cell_type": "code",
      "metadata": {
        "id": "WcgfkdRmRCUr",
        "colab_type": "code",
        "outputId": "0e0f7aef-04f1-47f4-f717-3e48477428d3",
        "colab": {}
      },
      "source": [
        "txt2 = \"강아지 이름은 '햇님'이야\"\n",
        "txt2"
      ],
      "execution_count": 0,
      "outputs": [
        {
          "output_type": "execute_result",
          "data": {
            "text/plain": [
              "\"강아지 이름은 '햇님'이야\""
            ]
          },
          "metadata": {
            "tags": []
          },
          "execution_count": 30
        }
      ]
    },
    {
      "cell_type": "code",
      "metadata": {
        "scrolled": true,
        "id": "2sPAxcA3RCUu",
        "colab_type": "code",
        "outputId": "3e0104ba-117a-4d59-dbe7-80f982955eb5",
        "colab": {}
      },
      "source": [
        "txt3 = \"친구가 \"햇님이 좋아!\"라고 말했다.\""
      ],
      "execution_count": 0,
      "outputs": [
        {
          "output_type": "error",
          "ename": "SyntaxError",
          "evalue": "invalid syntax (<ipython-input-31-f63eed27aca9>, line 1)",
          "traceback": [
            "\u001b[1;36m  File \u001b[1;32m\"<ipython-input-31-f63eed27aca9>\"\u001b[1;36m, line \u001b[1;32m1\u001b[0m\n\u001b[1;33m    txt3 = \"친구가 \"햇님이 좋아!\"라고 말했다.\"\u001b[0m\n\u001b[1;37m                   ^\u001b[0m\n\u001b[1;31mSyntaxError\u001b[0m\u001b[1;31m:\u001b[0m invalid syntax\n"
          ]
        }
      ]
    },
    {
      "cell_type": "code",
      "metadata": {
        "id": "xFgLj7w3RCUy",
        "colab_type": "code",
        "outputId": "ba629044-8803-4f0c-b619-b6fbb9501054",
        "colab": {}
      },
      "source": [
        "txt3 = \"친구가 \\\"햇님이 좋아!\\\"라고 말했다.\"\n",
        "txt3"
      ],
      "execution_count": 0,
      "outputs": [
        {
          "output_type": "execute_result",
          "data": {
            "text/plain": [
              "'친구가 \"햇님이 좋아!\"라고 말했다.'"
            ]
          },
          "metadata": {
            "tags": []
          },
          "execution_count": 32
        }
      ]
    },
    {
      "cell_type": "code",
      "metadata": {
        "id": "EJdTT_QfRCU0",
        "colab_type": "code",
        "outputId": "931070f8-ee71-4f84-f547-5389e857da57",
        "colab": {}
      },
      "source": [
        "txt4 = 'Hello ''Python'\n",
        "txt4"
      ],
      "execution_count": 0,
      "outputs": [
        {
          "output_type": "execute_result",
          "data": {
            "text/plain": [
              "'Hello Python'"
            ]
          },
          "metadata": {
            "tags": []
          },
          "execution_count": 34
        }
      ]
    },
    {
      "cell_type": "code",
      "metadata": {
        "id": "l8zmRWBjRCU2",
        "colab_type": "code",
        "outputId": "cf5e97e5-3abc-4dcd-f800-3a034d6e3224",
        "colab": {
          "base_uri": "https://localhost:8080/",
          "height": 34
        }
      },
      "source": [
        "txt5 = 'banana\\napple\\norange'\n",
        "txt5"
      ],
      "execution_count": 0,
      "outputs": [
        {
          "output_type": "execute_result",
          "data": {
            "text/plain": [
              "'banana\\napple\\norange'"
            ]
          },
          "metadata": {
            "tags": []
          },
          "execution_count": 43
        }
      ]
    },
    {
      "cell_type": "code",
      "metadata": {
        "scrolled": false,
        "id": "ieD5gWUcRCU3",
        "colab_type": "code",
        "outputId": "a5814ae7-a64f-4bfd-db21-b3a7186eede4",
        "colab": {
          "base_uri": "https://localhost:8080/",
          "height": 70
        }
      },
      "source": [
        "print(txt5)"
      ],
      "execution_count": 0,
      "outputs": [
        {
          "output_type": "stream",
          "text": [
            "banana\n",
            "apple\n",
            "orange\n"
          ],
          "name": "stdout"
        }
      ]
    },
    {
      "cell_type": "code",
      "metadata": {
        "scrolled": true,
        "id": "9puqZkWhRCU6",
        "colab_type": "code",
        "outputId": "3f71fd28-5c72-4f37-9992-c518295313cd",
        "colab": {
          "base_uri": "https://localhost:8080/",
          "height": 34
        }
      },
      "source": [
        "txt6 = '''Let's go'''\n",
        "txt6"
      ],
      "execution_count": 0,
      "outputs": [
        {
          "output_type": "execute_result",
          "data": {
            "text/plain": [
              "\"Let's go\""
            ]
          },
          "metadata": {
            "tags": []
          },
          "execution_count": 45
        }
      ]
    },
    {
      "cell_type": "code",
      "metadata": {
        "id": "swTD8I2sGrPa",
        "colab_type": "code",
        "outputId": "3bc98100-e195-4768-bf54-07abd32aeba5",
        "colab": {
          "base_uri": "https://localhost:8080/",
          "height": 34
        }
      },
      "source": [
        "txt7 = '''큰따옴표(\")와 작은따옴표(')를 모두 포함한 문장'''\n",
        "txt7"
      ],
      "execution_count": 0,
      "outputs": [
        {
          "output_type": "execute_result",
          "data": {
            "text/plain": [
              "'큰따옴표(\")와 작은따옴표(\\')를 모두 포함한 문장'"
            ]
          },
          "metadata": {
            "tags": []
          },
          "execution_count": 46
        }
      ]
    },
    {
      "cell_type": "code",
      "metadata": {
        "id": "x6uG1WlHRCU8",
        "colab_type": "code",
        "outputId": "cb05e3bc-15ef-444f-e916-b1e7674925de",
        "colab": {
          "base_uri": "https://localhost:8080/",
          "height": 34
        }
      },
      "source": [
        "long_str2 = \"\"\"사과는 맛있어\n",
        "맛있는 건 바나나\n",
        "\"\"\"\n",
        "long_str2"
      ],
      "execution_count": 0,
      "outputs": [
        {
          "output_type": "execute_result",
          "data": {
            "text/plain": [
              "'사과는 맛있어\\n맛있는 건 바나나\\n'"
            ]
          },
          "metadata": {
            "tags": []
          },
          "execution_count": 47
        }
      ]
    },
    {
      "cell_type": "code",
      "metadata": {
        "scrolled": false,
        "id": "3nJ_e8QnRCU9",
        "colab_type": "code",
        "outputId": "7235f7ce-cf0e-477a-ee51-86dc650f0984",
        "colab": {
          "base_uri": "https://localhost:8080/",
          "height": 70
        }
      },
      "source": [
        "print(long_str2)"
      ],
      "execution_count": 0,
      "outputs": [
        {
          "output_type": "stream",
          "text": [
            "사과는 맛있어\n",
            "맛있는 건 바나나\n",
            "\n"
          ],
          "name": "stdout"
        }
      ]
    },
    {
      "cell_type": "markdown",
      "metadata": {
        "id": "Y_sgTniWRCVX",
        "colab_type": "text"
      },
      "source": [
        "## 대화창 실습 : 자료형과 연산자 실습"
      ]
    },
    {
      "cell_type": "code",
      "metadata": {
        "id": "31z6HDhTRCVX",
        "colab_type": "code",
        "outputId": "26722b55-cb0b-4f60-f816-908d176fc6a9",
        "colab": {
          "base_uri": "https://localhost:8080/",
          "height": 34
        }
      },
      "source": [
        "print(1 + 2)"
      ],
      "execution_count": 0,
      "outputs": [
        {
          "output_type": "stream",
          "text": [
            "3\n"
          ],
          "name": "stdout"
        }
      ]
    },
    {
      "cell_type": "code",
      "metadata": {
        "id": "wSIgvPsBRCVZ",
        "colab_type": "code",
        "outputId": "b38a7d0d-701a-4e0f-a9b4-9f78e453624b",
        "colab": {
          "base_uri": "https://localhost:8080/",
          "height": 34
        }
      },
      "source": [
        "print(1.0 + 2.0)"
      ],
      "execution_count": 0,
      "outputs": [
        {
          "output_type": "stream",
          "text": [
            "3.0\n"
          ],
          "name": "stdout"
        }
      ]
    },
    {
      "cell_type": "code",
      "metadata": {
        "id": "Sn9mOEJJRCVc",
        "colab_type": "code",
        "outputId": "7932e832-8dff-4110-a7a0-2946b31b39b7",
        "colab": {
          "base_uri": "https://localhost:8080/",
          "height": 34
        }
      },
      "source": [
        "print(1 + 2.0)"
      ],
      "execution_count": 0,
      "outputs": [
        {
          "output_type": "stream",
          "text": [
            "3.0\n"
          ],
          "name": "stdout"
        }
      ]
    },
    {
      "cell_type": "code",
      "metadata": {
        "id": "yUwRCB0HRCVe",
        "colab_type": "code",
        "outputId": "2b745e18-3019-4aa2-f3b7-95378a5cf9ee",
        "colab": {
          "base_uri": "https://localhost:8080/",
          "height": 34
        }
      },
      "source": [
        "print(1 / 2)"
      ],
      "execution_count": 0,
      "outputs": [
        {
          "output_type": "stream",
          "text": [
            "0.5\n"
          ],
          "name": "stdout"
        }
      ]
    },
    {
      "cell_type": "code",
      "metadata": {
        "id": "zyFLrC2Vg1No",
        "colab_type": "code",
        "outputId": "da8a4488-a090-42d5-b32d-47f5e200f731",
        "colab": {
          "base_uri": "https://localhost:8080/",
          "height": 34
        }
      },
      "source": [
        "print(5.0 == 5.00)"
      ],
      "execution_count": 0,
      "outputs": [
        {
          "output_type": "stream",
          "text": [
            "True\n"
          ],
          "name": "stdout"
        }
      ]
    },
    {
      "cell_type": "markdown",
      "metadata": {
        "id": "9WTAhWmqRCVh",
        "colab_type": "text"
      },
      "source": [
        "## 대화창 실습 : 부동소수점 수의 수치 오류"
      ]
    },
    {
      "cell_type": "code",
      "metadata": {
        "id": "MVtjtFz-RCVh",
        "colab_type": "code",
        "outputId": "b92c263b-bd00-4043-a419-03a384c8c15c",
        "colab": {
          "base_uri": "https://localhost:8080/",
          "height": 34
        }
      },
      "source": [
        "print(0.1 + 0.1 == 0.2)"
      ],
      "execution_count": 0,
      "outputs": [
        {
          "output_type": "stream",
          "text": [
            "True\n"
          ],
          "name": "stdout"
        }
      ]
    },
    {
      "cell_type": "code",
      "metadata": {
        "scrolled": true,
        "id": "zINnRbK_RCVj",
        "colab_type": "code",
        "outputId": "f8bc33f5-fcf8-40f5-bc23-8b5dcac34a2c",
        "colab": {
          "base_uri": "https://localhost:8080/",
          "height": 34
        }
      },
      "source": [
        "print(0.1 + 0.1 + 0.1 == 0.3)"
      ],
      "execution_count": 0,
      "outputs": [
        {
          "output_type": "stream",
          "text": [
            "False\n"
          ],
          "name": "stdout"
        }
      ]
    },
    {
      "cell_type": "markdown",
      "metadata": {
        "id": "tfDv6BcERCVo",
        "colab_type": "text"
      },
      "source": [
        "## 대화창 실습 : 부동소수점 수의 수치 오류 자세히 살펴보기"
      ]
    },
    {
      "cell_type": "code",
      "metadata": {
        "id": "xsymGdp6RCVp",
        "colab_type": "code",
        "outputId": "b2a62dbe-14d4-453c-8549-2bd224d16b24",
        "colab": {
          "base_uri": "https://localhost:8080/",
          "height": 34
        }
      },
      "source": [
        "0.1 + 0.1 + 0.1"
      ],
      "execution_count": 0,
      "outputs": [
        {
          "output_type": "execute_result",
          "data": {
            "text/plain": [
              "0.30000000000000004"
            ]
          },
          "metadata": {
            "tags": []
          },
          "execution_count": 56
        }
      ]
    },
    {
      "cell_type": "code",
      "metadata": {
        "id": "DWXt52z1H94Z",
        "colab_type": "code",
        "outputId": "26a5c2cc-fb09-44ab-96a0-861e7977995e",
        "colab": {
          "base_uri": "https://localhost:8080/",
          "height": 34
        }
      },
      "source": [
        "0.1 + 0.1 + 0.1 + 0.1"
      ],
      "execution_count": 0,
      "outputs": [
        {
          "output_type": "execute_result",
          "data": {
            "text/plain": [
              "0.4"
            ]
          },
          "metadata": {
            "tags": []
          },
          "execution_count": 57
        }
      ]
    },
    {
      "cell_type": "code",
      "metadata": {
        "id": "BmUpU4EaIAhA",
        "colab_type": "code",
        "outputId": "8800f8a7-b3ec-400c-a3ca-1fffa0715506",
        "colab": {
          "base_uri": "https://localhost:8080/",
          "height": 34
        }
      },
      "source": [
        "0.1 + 0.1 + 0.1 + 0.1 + 0.1"
      ],
      "execution_count": 0,
      "outputs": [
        {
          "output_type": "execute_result",
          "data": {
            "text/plain": [
              "0.5"
            ]
          },
          "metadata": {
            "tags": []
          },
          "execution_count": 58
        }
      ]
    },
    {
      "cell_type": "code",
      "metadata": {
        "id": "PjGjEImkIC5i",
        "colab_type": "code",
        "outputId": "b4fbb59f-5cbd-4805-fe58-a6fdd57fe97b",
        "colab": {
          "base_uri": "https://localhost:8080/",
          "height": 34
        }
      },
      "source": [
        "0.1 + 0.1 + 0.1 + 0.1 + 0.1 + 0.1"
      ],
      "execution_count": 0,
      "outputs": [
        {
          "output_type": "execute_result",
          "data": {
            "text/plain": [
              "0.6"
            ]
          },
          "metadata": {
            "tags": []
          },
          "execution_count": 59
        }
      ]
    },
    {
      "cell_type": "code",
      "metadata": {
        "id": "yUlHWkHrIH-e",
        "colab_type": "code",
        "outputId": "9db990dc-27af-4dc7-93f4-5255400943ef",
        "colab": {
          "base_uri": "https://localhost:8080/",
          "height": 34
        }
      },
      "source": [
        "0.1 + 0.1 + 0.1 + 0.1 + 0.1 + 0.1 + 0.1"
      ],
      "execution_count": 0,
      "outputs": [
        {
          "output_type": "execute_result",
          "data": {
            "text/plain": [
              "0.7"
            ]
          },
          "metadata": {
            "tags": []
          },
          "execution_count": 60
        }
      ]
    },
    {
      "cell_type": "code",
      "metadata": {
        "id": "2OM7av00IOGx",
        "colab_type": "code",
        "outputId": "05336a03-88de-483a-a7fc-0248790a8a22",
        "colab": {
          "base_uri": "https://localhost:8080/",
          "height": 34
        }
      },
      "source": [
        "0.1 + 0.1 + 0.1 + 0.1 + 0.1 + 0.1 + 0.1 + 0.1"
      ],
      "execution_count": 0,
      "outputs": [
        {
          "output_type": "execute_result",
          "data": {
            "text/plain": [
              "0.7999999999999999"
            ]
          },
          "metadata": {
            "tags": []
          },
          "execution_count": 61
        }
      ]
    },
    {
      "cell_type": "code",
      "metadata": {
        "id": "Vse9KTQsIQvv",
        "colab_type": "code",
        "outputId": "0706809b-e71e-4a05-aacf-979289a79dc7",
        "colab": {
          "base_uri": "https://localhost:8080/",
          "height": 34
        }
      },
      "source": [
        "0.1 * 8"
      ],
      "execution_count": 0,
      "outputs": [
        {
          "output_type": "execute_result",
          "data": {
            "text/plain": [
              "0.8"
            ]
          },
          "metadata": {
            "tags": []
          },
          "execution_count": 62
        }
      ]
    },
    {
      "cell_type": "code",
      "metadata": {
        "id": "jETfntKIi6Q-",
        "colab_type": "code",
        "outputId": "6e49d911-2295-4ad2-d1c4-614c1e0d467b",
        "colab": {
          "base_uri": "https://localhost:8080/",
          "height": 34
        }
      },
      "source": [
        "0.1 * 19.0"
      ],
      "execution_count": 0,
      "outputs": [
        {
          "output_type": "execute_result",
          "data": {
            "text/plain": [
              "1.9000000000000001"
            ]
          },
          "metadata": {
            "tags": []
          },
          "execution_count": 65
        }
      ]
    },
    {
      "cell_type": "markdown",
      "metadata": {
        "id": "B9XKKg3nRCVq",
        "colab_type": "text"
      },
      "source": [
        "## 대화창 실습 : 정수 표현의 한계 실습"
      ]
    },
    {
      "cell_type": "code",
      "metadata": {
        "id": "1Gw4a982RCVq",
        "colab_type": "code",
        "outputId": "99a7f82a-2ab8-4de9-b09e-f428887b1746",
        "colab": {
          "base_uri": "https://localhost:8080/",
          "height": 34
        }
      },
      "source": [
        "10 ** 100"
      ],
      "execution_count": 0,
      "outputs": [
        {
          "output_type": "execute_result",
          "data": {
            "text/plain": [
              "10000000000000000000000000000000000000000000000000000000000000000000000000000000000000000000000000000"
            ]
          },
          "metadata": {
            "tags": []
          },
          "execution_count": 74
        }
      ]
    },
    {
      "cell_type": "markdown",
      "metadata": {
        "id": "PvuXC0J2RCVs",
        "colab_type": "text"
      },
      "source": [
        "## 대화창 실습 : 정수 표현의 한계"
      ]
    },
    {
      "cell_type": "code",
      "metadata": {
        "id": "TbMe_2M-RCVt",
        "colab_type": "code",
        "outputId": "1099777a-d151-494c-d90f-9ee4d0e6dcd6",
        "colab": {
          "base_uri": "https://localhost:8080/",
          "height": 34
        }
      },
      "source": [
        "14 / 5"
      ],
      "execution_count": 0,
      "outputs": [
        {
          "output_type": "execute_result",
          "data": {
            "text/plain": [
              "2.8"
            ]
          },
          "metadata": {
            "tags": []
          },
          "execution_count": 75
        }
      ]
    },
    {
      "cell_type": "code",
      "metadata": {
        "id": "CTr4UoGwRCVu",
        "colab_type": "code",
        "outputId": "f706fc97-8229-438a-cf0f-0936648d96e7",
        "colab": {
          "base_uri": "https://localhost:8080/",
          "height": 34
        }
      },
      "source": [
        "14 // 5"
      ],
      "execution_count": 0,
      "outputs": [
        {
          "output_type": "execute_result",
          "data": {
            "text/plain": [
              "2"
            ]
          },
          "metadata": {
            "tags": []
          },
          "execution_count": 76
        }
      ]
    },
    {
      "cell_type": "code",
      "metadata": {
        "id": "ZXBCMsPQRCVw",
        "colab_type": "code",
        "outputId": "7a56e12f-cf5a-4a26-bc0e-55c9e59bcd79",
        "colab": {
          "base_uri": "https://localhost:8080/",
          "height": 34
        }
      },
      "source": [
        "14 % 5"
      ],
      "execution_count": 0,
      "outputs": [
        {
          "output_type": "execute_result",
          "data": {
            "text/plain": [
              "4"
            ]
          },
          "metadata": {
            "tags": []
          },
          "execution_count": 77
        }
      ]
    },
    {
      "cell_type": "code",
      "metadata": {
        "id": "u2Etk9Q8lr6u",
        "colab_type": "code",
        "outputId": "e5ab53bb-d87f-4cfd-96f8-fa3bc98c5881",
        "colab": {
          "base_uri": "https://localhost:8080/",
          "height": 34
        }
      },
      "source": [
        "14.2 // 5.3"
      ],
      "execution_count": 0,
      "outputs": [
        {
          "output_type": "execute_result",
          "data": {
            "text/plain": [
              "2.0"
            ]
          },
          "metadata": {
            "tags": []
          },
          "execution_count": 83
        }
      ]
    },
    {
      "cell_type": "code",
      "metadata": {
        "id": "AUthXgthlv_8",
        "colab_type": "code",
        "outputId": "b3cf06ec-b469-4279-82dd-289d08c3c5f3",
        "colab": {
          "base_uri": "https://localhost:8080/",
          "height": 34
        }
      },
      "source": [
        "14.2 % 5.3"
      ],
      "execution_count": 0,
      "outputs": [
        {
          "output_type": "execute_result",
          "data": {
            "text/plain": [
              "3.5999999999999996"
            ]
          },
          "metadata": {
            "tags": []
          },
          "execution_count": 85
        }
      ]
    },
    {
      "cell_type": "code",
      "metadata": {
        "id": "SjWAGlIYmWTP",
        "colab_type": "code",
        "outputId": "006925c0-cbda-4b71-ec3b-543d3baca62f",
        "colab": {
          "base_uri": "https://localhost:8080/",
          "height": 34
        }
      },
      "source": [
        "14.2 - (5.3 * 2.0)"
      ],
      "execution_count": 0,
      "outputs": [
        {
          "output_type": "execute_result",
          "data": {
            "text/plain": [
              "3.5999999999999996"
            ]
          },
          "metadata": {
            "tags": []
          },
          "execution_count": 86
        }
      ]
    },
    {
      "cell_type": "markdown",
      "metadata": {
        "id": "WqRu_96eRCVx",
        "colab_type": "text"
      },
      "source": [
        "## 대화창 실습 : 복소수 표현 실습"
      ]
    },
    {
      "cell_type": "code",
      "metadata": {
        "id": "-rYuQ9G9RCVx",
        "colab_type": "code",
        "outputId": "b86449c2-4b26-451a-9bf3-0a9a2ddba394",
        "colab": {}
      },
      "source": [
        "c1 = 2 + 3i"
      ],
      "execution_count": 0,
      "outputs": [
        {
          "output_type": "error",
          "ename": "SyntaxError",
          "evalue": "invalid syntax (<ipython-input-98-369d08d81c7b>, line 1)",
          "traceback": [
            "\u001b[1;36m  File \u001b[1;32m\"<ipython-input-98-369d08d81c7b>\"\u001b[1;36m, line \u001b[1;32m1\u001b[0m\n\u001b[1;33m    c1 = 2 + 3i\u001b[0m\n\u001b[1;37m              ^\u001b[0m\n\u001b[1;31mSyntaxError\u001b[0m\u001b[1;31m:\u001b[0m invalid syntax\n"
          ]
        }
      ]
    },
    {
      "cell_type": "code",
      "metadata": {
        "id": "XUv0nzN3RCVy",
        "colab_type": "code",
        "outputId": "4617897a-44e3-4c77-fee6-7a4e80aaea75",
        "colab": {}
      },
      "source": [
        "c1 = 2 + 3j\n",
        "c1.real"
      ],
      "execution_count": 0,
      "outputs": [
        {
          "output_type": "execute_result",
          "data": {
            "text/plain": [
              "2.0"
            ]
          },
          "metadata": {
            "tags": []
          },
          "execution_count": 99
        }
      ]
    },
    {
      "cell_type": "code",
      "metadata": {
        "id": "HcKQci3jRCV1",
        "colab_type": "code",
        "outputId": "24628ad6-cc18-40ce-ba42-553411544b93",
        "colab": {}
      },
      "source": [
        "c1.imag"
      ],
      "execution_count": 0,
      "outputs": [
        {
          "output_type": "execute_result",
          "data": {
            "text/plain": [
              "3.0"
            ]
          },
          "metadata": {
            "tags": []
          },
          "execution_count": 100
        }
      ]
    },
    {
      "cell_type": "code",
      "metadata": {
        "id": "0dLpdjAWRCV2",
        "colab_type": "code",
        "outputId": "07e0a91b-ef41-4a27-ccdb-a09e412b11c4",
        "colab": {}
      },
      "source": [
        "c2 = 5 + 6j\n",
        "c3 = c1 + c2\n",
        "c3"
      ],
      "execution_count": 0,
      "outputs": [
        {
          "output_type": "execute_result",
          "data": {
            "text/plain": [
              "(7+9j)"
            ]
          },
          "metadata": {
            "tags": []
          },
          "execution_count": 101
        }
      ]
    },
    {
      "cell_type": "markdown",
      "metadata": {
        "id": "yGqkDp0GRCV5",
        "colab_type": "text"
      },
      "source": [
        "## 대화창 실습 : 켤레 복소수 표현과 크기 구하기"
      ]
    },
    {
      "cell_type": "code",
      "metadata": {
        "id": "cMfdOpB1RCV6",
        "colab_type": "code",
        "outputId": "fac7ab42-10ce-44a7-fbcb-59a9035208ad",
        "colab": {
          "base_uri": "https://localhost:8080/",
          "height": 34
        }
      },
      "source": [
        "c1 = 2 + 3j\n",
        "c2 = c1.conjugate()\n",
        "c2"
      ],
      "execution_count": 0,
      "outputs": [
        {
          "output_type": "execute_result",
          "data": {
            "text/plain": [
              "(2-3j)"
            ]
          },
          "metadata": {
            "tags": []
          },
          "execution_count": 87
        }
      ]
    },
    {
      "cell_type": "code",
      "metadata": {
        "id": "4WUQBXvJRCV7",
        "colab_type": "code",
        "outputId": "f7965cb5-6c09-4b4b-98dd-e1d9881be0c7",
        "colab": {
          "base_uri": "https://localhost:8080/",
          "height": 34
        }
      },
      "source": [
        "abs(c1)"
      ],
      "execution_count": 0,
      "outputs": [
        {
          "output_type": "execute_result",
          "data": {
            "text/plain": [
              "3.605551275463989"
            ]
          },
          "metadata": {
            "tags": []
          },
          "execution_count": 88
        }
      ]
    },
    {
      "cell_type": "code",
      "metadata": {
        "id": "PllBrfoqRCV8",
        "colab_type": "code",
        "outputId": "66bb308b-a608-4349-cde5-f949f1d455c3",
        "colab": {
          "base_uri": "https://localhost:8080/",
          "height": 34
        }
      },
      "source": [
        "abs(c2)"
      ],
      "execution_count": 0,
      "outputs": [
        {
          "output_type": "execute_result",
          "data": {
            "text/plain": [
              "3.605551275463989"
            ]
          },
          "metadata": {
            "tags": []
          },
          "execution_count": 89
        }
      ]
    },
    {
      "cell_type": "code",
      "metadata": {
        "id": "fNlrnoM7rA7h",
        "colab_type": "code",
        "outputId": "e3971282-27f4-480e-a065-290712c5c8b7",
        "colab": {
          "base_uri": "https://localhost:8080/",
          "height": 34
        }
      },
      "source": [
        "c3 = c1 * c2\n",
        "c3"
      ],
      "execution_count": 0,
      "outputs": [
        {
          "output_type": "execute_result",
          "data": {
            "text/plain": [
              "(13+0j)"
            ]
          },
          "metadata": {
            "tags": []
          },
          "execution_count": 90
        }
      ]
    },
    {
      "cell_type": "code",
      "metadata": {
        "id": "tIQ09s0PrJm3",
        "colab_type": "code",
        "outputId": "94c48a78-ed8d-4b4c-e150-4917f8f9f4d7",
        "colab": {
          "base_uri": "https://localhost:8080/",
          "height": 34
        }
      },
      "source": [
        "abs(c1)*abs(c1)"
      ],
      "execution_count": 0,
      "outputs": [
        {
          "output_type": "execute_result",
          "data": {
            "text/plain": [
              "12.999999999999998"
            ]
          },
          "metadata": {
            "tags": []
          },
          "execution_count": 91
        }
      ]
    },
    {
      "cell_type": "markdown",
      "metadata": {
        "id": "HD8o6dWqRCV9",
        "colab_type": "text"
      },
      "source": [
        "## 대화창 실습 : 다중 할당과 동시 할당"
      ]
    },
    {
      "cell_type": "code",
      "metadata": {
        "id": "vwN79bCfRCV9",
        "colab_type": "code",
        "outputId": "4bd50e4b-fb85-42a7-906e-5e719a82e33b",
        "colab": {
          "base_uri": "https://localhost:8080/",
          "height": 34
        }
      },
      "source": [
        "num1 = num2 = num3 = 200 # 다중 할당문\n",
        "print(num1, num2, num3)"
      ],
      "execution_count": 0,
      "outputs": [
        {
          "output_type": "stream",
          "text": [
            "200 200 200\n"
          ],
          "name": "stdout"
        }
      ]
    },
    {
      "cell_type": "code",
      "metadata": {
        "id": "QeaT-6NHRCV-",
        "colab_type": "code",
        "outputId": "ea655e81-c7f5-4311-dbad-25a367c776bf",
        "colab": {
          "base_uri": "https://localhost:8080/",
          "height": 34
        }
      },
      "source": [
        "num4, num5 = 300, 400 # 동시 할당문\n",
        "print(num4, num5)"
      ],
      "execution_count": 0,
      "outputs": [
        {
          "output_type": "stream",
          "text": [
            "300 400\n"
          ],
          "name": "stdout"
        }
      ]
    },
    {
      "cell_type": "markdown",
      "metadata": {
        "id": "UbS1oOZXRCWA",
        "colab_type": "text"
      },
      "source": [
        "## 대화창 실습 : 할당 연산 실습"
      ]
    },
    {
      "cell_type": "code",
      "metadata": {
        "id": "8w2kqUDlRCWA",
        "colab_type": "code",
        "outputId": "cfc52cc1-f08e-4ffa-b55b-98f317d19dea",
        "colab": {
          "base_uri": "https://localhost:8080/",
          "height": 34
        }
      },
      "source": [
        "result1 = 10 * 20\n",
        "result1"
      ],
      "execution_count": 0,
      "outputs": [
        {
          "output_type": "execute_result",
          "data": {
            "text/plain": [
              "200"
            ]
          },
          "metadata": {
            "tags": []
          },
          "execution_count": 95
        }
      ]
    },
    {
      "cell_type": "code",
      "metadata": {
        "id": "yt3F6HSlRCWB",
        "colab_type": "code",
        "outputId": "137b38a4-6dca-45ec-e3d2-6e52ab320f01",
        "colab": {
          "base_uri": "https://localhost:8080/",
          "height": 34
        }
      },
      "source": [
        "result2 = (2 * 3) - (4 ** 2) / 2\n",
        "result2"
      ],
      "execution_count": 0,
      "outputs": [
        {
          "output_type": "execute_result",
          "data": {
            "text/plain": [
              "-2.0"
            ]
          },
          "metadata": {
            "tags": []
          },
          "execution_count": 22
        }
      ]
    },
    {
      "cell_type": "code",
      "metadata": {
        "scrolled": true,
        "id": "fsvRBKFvRCWC",
        "colab_type": "code",
        "outputId": "9820ebd2-5f2d-421f-baec-67020e5c34b4",
        "colab": {
          "base_uri": "https://localhost:8080/",
          "height": 134
        }
      },
      "source": [
        "300 = 500"
      ],
      "execution_count": 0,
      "outputs": [
        {
          "output_type": "error",
          "ename": "SyntaxError",
          "evalue": "ignored",
          "traceback": [
            "\u001b[0;36m  File \u001b[0;32m\"<ipython-input-94-888117e46ed6>\"\u001b[0;36m, line \u001b[0;32m1\u001b[0m\n\u001b[0;31m    300 = 500\u001b[0m\n\u001b[0m             ^\u001b[0m\n\u001b[0;31mSyntaxError\u001b[0m\u001b[0;31m:\u001b[0m can't assign to literal\n"
          ]
        }
      ]
    },
    {
      "cell_type": "code",
      "metadata": {
        "id": "l0XQ-UwBtQAL",
        "colab_type": "code",
        "outputId": "e65ef536-5f43-48b0-b48f-cf7404dfec0d",
        "colab": {
          "base_uri": "https://localhost:8080/",
          "height": 134
        }
      },
      "source": [
        "str = 'world'\n",
        "'hello' = str"
      ],
      "execution_count": 0,
      "outputs": [
        {
          "output_type": "error",
          "ename": "SyntaxError",
          "evalue": "ignored",
          "traceback": [
            "\u001b[0;36m  File \u001b[0;32m\"<ipython-input-97-cef318a2c739>\"\u001b[0;36m, line \u001b[0;32m2\u001b[0m\n\u001b[0;31m    'hello' = str\u001b[0m\n\u001b[0m                 ^\u001b[0m\n\u001b[0;31mSyntaxError\u001b[0m\u001b[0;31m:\u001b[0m can't assign to literal\n"
          ]
        }
      ]
    },
    {
      "cell_type": "markdown",
      "metadata": {
        "id": "Qzx9kCCGRCWE",
        "colab_type": "text"
      },
      "source": [
        "## 대화창 실습 : 할당 연산 실습"
      ]
    },
    {
      "cell_type": "code",
      "metadata": {
        "id": "PLJH1n96RCWE",
        "colab_type": "code",
        "outputId": "7913536e-12bd-4f20-b101-a6e194220dbf",
        "colab": {
          "base_uri": "https://localhost:8080/",
          "height": 34
        }
      },
      "source": [
        "num = 200\n",
        "num = num + 100\n",
        "num"
      ],
      "execution_count": 0,
      "outputs": [
        {
          "output_type": "execute_result",
          "data": {
            "text/plain": [
              "300"
            ]
          },
          "metadata": {
            "tags": []
          },
          "execution_count": 99
        }
      ]
    },
    {
      "cell_type": "markdown",
      "metadata": {
        "id": "vAMW9CGIRCWF",
        "colab_type": "text"
      },
      "source": [
        "## 대화창 실습 : 할당 연산자와 사칙연산"
      ]
    },
    {
      "cell_type": "code",
      "metadata": {
        "id": "Owe8bKncRCWG",
        "colab_type": "code",
        "outputId": "dd5bf8f7-6f98-45de-b22a-3c0cfef6f3bb",
        "colab": {
          "base_uri": "https://localhost:8080/",
          "height": 34
        }
      },
      "source": [
        "num = 200\n",
        "num = num + 100\n",
        "num"
      ],
      "execution_count": 0,
      "outputs": [
        {
          "output_type": "execute_result",
          "data": {
            "text/plain": [
              "300"
            ]
          },
          "metadata": {
            "tags": []
          },
          "execution_count": 1
        }
      ]
    },
    {
      "cell_type": "code",
      "metadata": {
        "id": "5pXMAiQFRCWI",
        "colab_type": "code",
        "outputId": "0fcc67af-60c5-42e9-d947-6c7b457058d1",
        "colab": {
          "base_uri": "https://localhost:8080/",
          "height": 34
        }
      },
      "source": [
        "num = num - 100\n",
        "num"
      ],
      "execution_count": 0,
      "outputs": [
        {
          "output_type": "execute_result",
          "data": {
            "text/plain": [
              "200"
            ]
          },
          "metadata": {
            "tags": []
          },
          "execution_count": 2
        }
      ]
    },
    {
      "cell_type": "code",
      "metadata": {
        "id": "b2Om8gjDRCWJ",
        "colab_type": "code",
        "outputId": "a4ee172c-d121-4aac-ebe4-4ea0319cf70b",
        "colab": {
          "base_uri": "https://localhost:8080/",
          "height": 34
        }
      },
      "source": [
        "num = num * 20\n",
        "num"
      ],
      "execution_count": 0,
      "outputs": [
        {
          "output_type": "execute_result",
          "data": {
            "text/plain": [
              "4000"
            ]
          },
          "metadata": {
            "tags": []
          },
          "execution_count": 3
        }
      ]
    },
    {
      "cell_type": "code",
      "metadata": {
        "id": "m8DpquKgRCWL",
        "colab_type": "code",
        "outputId": "659c70e6-3231-42e7-eee9-4e2045ac390e",
        "colab": {
          "base_uri": "https://localhost:8080/",
          "height": 34
        }
      },
      "source": [
        "num = num / 2\n",
        "num"
      ],
      "execution_count": 0,
      "outputs": [
        {
          "output_type": "execute_result",
          "data": {
            "text/plain": [
              "2000.0"
            ]
          },
          "metadata": {
            "tags": []
          },
          "execution_count": 4
        }
      ]
    },
    {
      "cell_type": "markdown",
      "metadata": {
        "id": "yC7O06YBRCWM",
        "colab_type": "text"
      },
      "source": [
        "## 대화창 실습 : 복합 대입 연산과 그 수행 결과"
      ]
    },
    {
      "cell_type": "code",
      "metadata": {
        "id": "CvwEpn1dRCWN",
        "colab_type": "code",
        "outputId": "193e4946-3ce7-4727-ba97-badbda7078cb",
        "colab": {
          "base_uri": "https://localhost:8080/",
          "height": 34
        }
      },
      "source": [
        "num = 200\n",
        "num += 100\n",
        "num"
      ],
      "execution_count": 0,
      "outputs": [
        {
          "output_type": "execute_result",
          "data": {
            "text/plain": [
              "300"
            ]
          },
          "metadata": {
            "tags": []
          },
          "execution_count": 10
        }
      ]
    },
    {
      "cell_type": "code",
      "metadata": {
        "id": "5UU8_svxRCWO",
        "colab_type": "code",
        "outputId": "e7ed0553-c44b-42cf-d153-907c7c1f3722",
        "colab": {
          "base_uri": "https://localhost:8080/",
          "height": 34
        }
      },
      "source": [
        "num -= 100\n",
        "num"
      ],
      "execution_count": 0,
      "outputs": [
        {
          "output_type": "execute_result",
          "data": {
            "text/plain": [
              "200"
            ]
          },
          "metadata": {
            "tags": []
          },
          "execution_count": 11
        }
      ]
    },
    {
      "cell_type": "code",
      "metadata": {
        "id": "8OExkwEHRCWQ",
        "colab_type": "code",
        "outputId": "2ea19338-1c20-4e83-87df-6571a98c556b",
        "colab": {
          "base_uri": "https://localhost:8080/",
          "height": 34
        }
      },
      "source": [
        "num *= 20\n",
        "num"
      ],
      "execution_count": 0,
      "outputs": [
        {
          "output_type": "execute_result",
          "data": {
            "text/plain": [
              "4000"
            ]
          },
          "metadata": {
            "tags": []
          },
          "execution_count": 12
        }
      ]
    },
    {
      "cell_type": "code",
      "metadata": {
        "id": "weadP5LZRCWU",
        "colab_type": "code",
        "outputId": "6e093444-6931-4728-9476-161c71c2fbc8",
        "colab": {
          "base_uri": "https://localhost:8080/",
          "height": 34
        }
      },
      "source": [
        "num /= 2\n",
        "num"
      ],
      "execution_count": 0,
      "outputs": [
        {
          "output_type": "execute_result",
          "data": {
            "text/plain": [
              "2000.0"
            ]
          },
          "metadata": {
            "tags": []
          },
          "execution_count": 13
        }
      ]
    },
    {
      "cell_type": "markdown",
      "metadata": {
        "id": "nyofhBiJRCWa",
        "colab_type": "text"
      },
      "source": [
        "## 대화창 실습 : 비교 연산"
      ]
    },
    {
      "cell_type": "code",
      "metadata": {
        "id": "o_H9dFBTRCWa",
        "colab_type": "code",
        "outputId": "4df2e68d-c663-4423-b217-b5f539b1a76d",
        "colab": {
          "base_uri": "https://localhost:8080/",
          "height": 34
        }
      },
      "source": [
        "a, b = 100, 200\n",
        "a == b"
      ],
      "execution_count": 0,
      "outputs": [
        {
          "output_type": "execute_result",
          "data": {
            "text/plain": [
              "False"
            ]
          },
          "metadata": {
            "tags": []
          },
          "execution_count": 109
        }
      ]
    },
    {
      "cell_type": "code",
      "metadata": {
        "id": "BxOad3EpRCWc",
        "colab_type": "code",
        "outputId": "ff1bc76b-7da2-412b-f91d-7a95b3f56446",
        "colab": {
          "base_uri": "https://localhost:8080/",
          "height": 34
        }
      },
      "source": [
        "a != b"
      ],
      "execution_count": 0,
      "outputs": [
        {
          "output_type": "execute_result",
          "data": {
            "text/plain": [
              "True"
            ]
          },
          "metadata": {
            "tags": []
          },
          "execution_count": 110
        }
      ]
    },
    {
      "cell_type": "code",
      "metadata": {
        "id": "zOYyI7RtRCWe",
        "colab_type": "code",
        "outputId": "8f28a88b-050a-464f-e711-0d026142a55c",
        "colab": {
          "base_uri": "https://localhost:8080/",
          "height": 34
        }
      },
      "source": [
        "a > b"
      ],
      "execution_count": 0,
      "outputs": [
        {
          "output_type": "execute_result",
          "data": {
            "text/plain": [
              "False"
            ]
          },
          "metadata": {
            "tags": []
          },
          "execution_count": 111
        }
      ]
    },
    {
      "cell_type": "code",
      "metadata": {
        "id": "EH2cOcEHRCWf",
        "colab_type": "code",
        "outputId": "397ac8f5-91bf-4f9f-e54a-5384e11bdb8a",
        "colab": {
          "base_uri": "https://localhost:8080/",
          "height": 34
        }
      },
      "source": [
        "a < b"
      ],
      "execution_count": 0,
      "outputs": [
        {
          "output_type": "execute_result",
          "data": {
            "text/plain": [
              "True"
            ]
          },
          "metadata": {
            "tags": []
          },
          "execution_count": 112
        }
      ]
    },
    {
      "cell_type": "code",
      "metadata": {
        "id": "WxbPPwWHRCWh",
        "colab_type": "code",
        "outputId": "c4237dad-814d-4213-cb34-4e0a7cbcf1d1",
        "colab": {
          "base_uri": "https://localhost:8080/",
          "height": 34
        }
      },
      "source": [
        "a >= b"
      ],
      "execution_count": 0,
      "outputs": [
        {
          "output_type": "execute_result",
          "data": {
            "text/plain": [
              "False"
            ]
          },
          "metadata": {
            "tags": []
          },
          "execution_count": 113
        }
      ]
    },
    {
      "cell_type": "code",
      "metadata": {
        "id": "PDYOxUtOMmKm",
        "colab_type": "code",
        "outputId": "c29fbba7-c2eb-44d0-d457-ed51ab8722b0",
        "colab": {
          "base_uri": "https://localhost:8080/",
          "height": 134
        }
      },
      "source": [
        "a > = b"
      ],
      "execution_count": 0,
      "outputs": [
        {
          "output_type": "error",
          "ename": "SyntaxError",
          "evalue": "ignored",
          "traceback": [
            "\u001b[0;36m  File \u001b[0;32m\"<ipython-input-114-81fa1d79b65f>\"\u001b[0;36m, line \u001b[0;32m1\u001b[0m\n\u001b[0;31m    a > = b\u001b[0m\n\u001b[0m        ^\u001b[0m\n\u001b[0;31mSyntaxError\u001b[0m\u001b[0;31m:\u001b[0m invalid syntax\n"
          ]
        }
      ]
    },
    {
      "cell_type": "code",
      "metadata": {
        "id": "djKOugEWMtH0",
        "colab_type": "code",
        "outputId": "e63e487e-17ff-4ccc-fef0-117b2a081b75",
        "colab": {
          "base_uri": "https://localhost:8080/",
          "height": 130
        }
      },
      "source": [
        "a => b"
      ],
      "execution_count": 0,
      "outputs": [
        {
          "output_type": "error",
          "ename": "SyntaxError",
          "evalue": "ignored",
          "traceback": [
            "\u001b[0;36m  File \u001b[0;32m\"<ipython-input-42-8bde89c41c7b>\"\u001b[0;36m, line \u001b[0;32m1\u001b[0m\n\u001b[0;31m    a => b\u001b[0m\n\u001b[0m       ^\u001b[0m\n\u001b[0;31mSyntaxError\u001b[0m\u001b[0;31m:\u001b[0m invalid syntax\n"
          ]
        }
      ]
    },
    {
      "cell_type": "markdown",
      "metadata": {
        "id": "QdFHHS9pJBfa",
        "colab_type": "text"
      },
      "source": [
        "## 대화창 실습 : 부울형 출력 테스트"
      ]
    },
    {
      "cell_type": "code",
      "metadata": {
        "id": "UnciaF3nbyKA",
        "colab_type": "code",
        "outputId": "40dba77a-e7db-462d-b6dc-f26acf6464c2",
        "colab": {
          "base_uri": "https://localhost:8080/",
          "height": 34
        }
      },
      "source": [
        "10 > 20"
      ],
      "execution_count": 0,
      "outputs": [
        {
          "output_type": "execute_result",
          "data": {
            "text/plain": [
              "False"
            ]
          },
          "metadata": {
            "tags": []
          },
          "execution_count": 2
        }
      ]
    },
    {
      "cell_type": "code",
      "metadata": {
        "id": "v17nmifMbx0Y",
        "colab_type": "code",
        "outputId": "d0608491-5899-4dec-91fa-6291f5cedbcd",
        "colab": {
          "base_uri": "https://localhost:8080/",
          "height": 34
        }
      },
      "source": [
        "10 < 20"
      ],
      "execution_count": 0,
      "outputs": [
        {
          "output_type": "execute_result",
          "data": {
            "text/plain": [
              "True"
            ]
          },
          "metadata": {
            "tags": []
          },
          "execution_count": 3
        }
      ]
    },
    {
      "cell_type": "code",
      "metadata": {
        "id": "JmWMZgnuJF46",
        "colab_type": "code",
        "outputId": "db616e3e-dda7-4124-af6d-27009f05e9bd",
        "colab": {
          "base_uri": "https://localhost:8080/",
          "height": 34
        }
      },
      "source": [
        "bool(9)"
      ],
      "execution_count": 0,
      "outputs": [
        {
          "output_type": "execute_result",
          "data": {
            "text/plain": [
              "True"
            ]
          },
          "metadata": {
            "tags": []
          },
          "execution_count": 108
        }
      ]
    },
    {
      "cell_type": "code",
      "metadata": {
        "id": "987pMGwRJhRR",
        "colab_type": "code",
        "outputId": "b28e6d1f-5930-4878-8759-61d83bf55262",
        "colab": {
          "base_uri": "https://localhost:8080/",
          "height": 34
        }
      },
      "source": [
        "bool(-1)"
      ],
      "execution_count": 0,
      "outputs": [
        {
          "output_type": "execute_result",
          "data": {
            "text/plain": [
              "True"
            ]
          },
          "metadata": {
            "tags": []
          },
          "execution_count": 26
        }
      ]
    },
    {
      "cell_type": "code",
      "metadata": {
        "id": "ouVae-7mJl7N",
        "colab_type": "code",
        "outputId": "d56d2019-772c-4599-d617-04d3b111f953",
        "colab": {
          "base_uri": "https://localhost:8080/",
          "height": 34
        }
      },
      "source": [
        "bool(0)"
      ],
      "execution_count": 0,
      "outputs": [
        {
          "output_type": "execute_result",
          "data": {
            "text/plain": [
              "False"
            ]
          },
          "metadata": {
            "tags": []
          },
          "execution_count": 27
        }
      ]
    },
    {
      "cell_type": "code",
      "metadata": {
        "id": "-EYgIDcNJIDM",
        "colab_type": "code",
        "outputId": "7e147638-464d-4f7c-f33b-fd177eb29d6b",
        "colab": {
          "base_uri": "https://localhost:8080/",
          "height": 34
        }
      },
      "source": [
        "bool(None)"
      ],
      "execution_count": 0,
      "outputs": [
        {
          "output_type": "execute_result",
          "data": {
            "text/plain": [
              "False"
            ]
          },
          "metadata": {
            "tags": []
          },
          "execution_count": 28
        }
      ]
    },
    {
      "cell_type": "code",
      "metadata": {
        "id": "xVutev--JqWH",
        "colab_type": "code",
        "outputId": "44f2d64e-133b-430a-8370-09a92cc7c03a",
        "colab": {
          "base_uri": "https://localhost:8080/",
          "height": 34
        }
      },
      "source": [
        "bool('')"
      ],
      "execution_count": 0,
      "outputs": [
        {
          "output_type": "execute_result",
          "data": {
            "text/plain": [
              "False"
            ]
          },
          "metadata": {
            "tags": []
          },
          "execution_count": 29
        }
      ]
    },
    {
      "cell_type": "code",
      "metadata": {
        "id": "wt8SPXhAJqho",
        "colab_type": "code",
        "outputId": "b6cd5596-060c-4eb2-9c26-42980b0372c9",
        "colab": {
          "base_uri": "https://localhost:8080/",
          "height": 34
        }
      },
      "source": [
        "bool('hello')"
      ],
      "execution_count": 0,
      "outputs": [
        {
          "output_type": "execute_result",
          "data": {
            "text/plain": [
              "True"
            ]
          },
          "metadata": {
            "tags": []
          },
          "execution_count": 30
        }
      ]
    },
    {
      "cell_type": "code",
      "metadata": {
        "id": "UAZRbmKAJq2_",
        "colab_type": "code",
        "outputId": "a1e6f4b9-d56b-438b-e837-bb776938d301",
        "colab": {
          "base_uri": "https://localhost:8080/",
          "height": 34
        }
      },
      "source": [
        "bool([])"
      ],
      "execution_count": 0,
      "outputs": [
        {
          "output_type": "execute_result",
          "data": {
            "text/plain": [
              "False"
            ]
          },
          "metadata": {
            "tags": []
          },
          "execution_count": 31
        }
      ]
    },
    {
      "cell_type": "code",
      "metadata": {
        "id": "rlzMrB1lJq7Y",
        "colab_type": "code",
        "outputId": "70b5f425-0ee5-407d-c514-60ad21b50e88",
        "colab": {
          "base_uri": "https://localhost:8080/",
          "height": 34
        }
      },
      "source": [
        "bool([10,20])"
      ],
      "execution_count": 0,
      "outputs": [
        {
          "output_type": "execute_result",
          "data": {
            "text/plain": [
              "True"
            ]
          },
          "metadata": {
            "tags": []
          },
          "execution_count": 33
        }
      ]
    },
    {
      "cell_type": "markdown",
      "metadata": {
        "id": "8rpWde94RCWV",
        "colab_type": "text"
      },
      "source": [
        "## 대화창 실습 : 논리 연산 실습"
      ]
    },
    {
      "cell_type": "code",
      "metadata": {
        "id": "QWyFCh7CRCWW",
        "colab_type": "code",
        "outputId": "83a05ee0-c929-4375-f21b-0a790c569ba8",
        "colab": {}
      },
      "source": [
        "x = True\n",
        "y = False\n",
        "x and y"
      ],
      "execution_count": 0,
      "outputs": [
        {
          "output_type": "execute_result",
          "data": {
            "text/plain": [
              "False"
            ]
          },
          "metadata": {
            "tags": []
          },
          "execution_count": 136
        }
      ]
    },
    {
      "cell_type": "code",
      "metadata": {
        "id": "EXhP3QBwRCWX",
        "colab_type": "code",
        "outputId": "70ac39f5-e7b7-4d3c-bcdb-8ee2ac21e038",
        "colab": {}
      },
      "source": [
        "x or y"
      ],
      "execution_count": 0,
      "outputs": [
        {
          "output_type": "execute_result",
          "data": {
            "text/plain": [
              "True"
            ]
          },
          "metadata": {
            "tags": []
          },
          "execution_count": 138
        }
      ]
    },
    {
      "cell_type": "code",
      "metadata": {
        "id": "qGWkWXmYRCWY",
        "colab_type": "code",
        "outputId": "466e0dc2-c2f3-4a2d-ba34-9273f95560d1",
        "colab": {}
      },
      "source": [
        "not x"
      ],
      "execution_count": 0,
      "outputs": [
        {
          "output_type": "execute_result",
          "data": {
            "text/plain": [
              "False"
            ]
          },
          "metadata": {
            "tags": []
          },
          "execution_count": 139
        }
      ]
    },
    {
      "cell_type": "markdown",
      "metadata": {
        "id": "3n3IbaiIRCWj",
        "colab_type": "text"
      },
      "source": [
        "## 대화창 실습 : 정수값의 2진수 출력"
      ]
    },
    {
      "cell_type": "code",
      "metadata": {
        "id": "xBQmmWxyRCWk",
        "colab_type": "code",
        "outputId": "298623d6-8f2e-4d18-d043-933ef4829fd8",
        "colab": {
          "base_uri": "https://localhost:8080/",
          "height": 35
        }
      },
      "source": [
        "bin(9)  # 2진수 형식 출력"
      ],
      "execution_count": 0,
      "outputs": [
        {
          "output_type": "execute_result",
          "data": {
            "text/plain": [
              "'0b1001'"
            ]
          },
          "metadata": {
            "tags": []
          },
          "execution_count": 35
        }
      ]
    },
    {
      "cell_type": "code",
      "metadata": {
        "id": "jkwyCnkARCWm",
        "colab_type": "code",
        "outputId": "edd5cde0-930a-4dcf-d67d-057a84d39f5c",
        "colab": {
          "base_uri": "https://localhost:8080/",
          "height": 35
        }
      },
      "source": [
        "bin(10)"
      ],
      "execution_count": 0,
      "outputs": [
        {
          "output_type": "execute_result",
          "data": {
            "text/plain": [
              "'0b1010'"
            ]
          },
          "metadata": {
            "tags": []
          },
          "execution_count": 36
        }
      ]
    },
    {
      "cell_type": "markdown",
      "metadata": {
        "id": "lB0kPNY-RCWn",
        "colab_type": "text"
      },
      "source": [
        "## 대화창 실습 : 9와 10의 비트단위 AND 연산"
      ]
    },
    {
      "cell_type": "code",
      "metadata": {
        "id": "Qhj1DLaBRCWn",
        "colab_type": "code",
        "outputId": "330ea071-1946-4ebc-e5e8-38a5e7288b77",
        "colab": {
          "base_uri": "https://localhost:8080/",
          "height": 35
        }
      },
      "source": [
        "9 & 10"
      ],
      "execution_count": 0,
      "outputs": [
        {
          "output_type": "execute_result",
          "data": {
            "text/plain": [
              "8"
            ]
          },
          "metadata": {
            "tags": []
          },
          "execution_count": 37
        }
      ]
    },
    {
      "cell_type": "code",
      "metadata": {
        "id": "S3NSTzrJRCWo",
        "colab_type": "code",
        "outputId": "b98f2cb0-dfee-4a09-cdab-0a86d6c89878",
        "colab": {
          "base_uri": "https://localhost:8080/",
          "height": 35
        }
      },
      "source": [
        "bin(8)"
      ],
      "execution_count": 0,
      "outputs": [
        {
          "output_type": "execute_result",
          "data": {
            "text/plain": [
              "'0b1000'"
            ]
          },
          "metadata": {
            "tags": []
          },
          "execution_count": 38
        }
      ]
    },
    {
      "cell_type": "markdown",
      "metadata": {
        "id": "RUDXRU2zRCWp",
        "colab_type": "text"
      },
      "source": [
        "## 대화창 실습 : 9와 10의 비트단위 OR 연산"
      ]
    },
    {
      "cell_type": "code",
      "metadata": {
        "id": "dkgw6roNRCWp",
        "colab_type": "code",
        "outputId": "24cf140b-c8e4-4ac6-a3b0-6c79ad26cb7b",
        "colab": {}
      },
      "source": [
        "9 | 10"
      ],
      "execution_count": 0,
      "outputs": [
        {
          "output_type": "execute_result",
          "data": {
            "text/plain": [
              "11"
            ]
          },
          "metadata": {
            "tags": []
          },
          "execution_count": 153
        }
      ]
    },
    {
      "cell_type": "code",
      "metadata": {
        "id": "uaH_ah_IRCWr",
        "colab_type": "code",
        "outputId": "156a7c8c-03d4-438b-b4f2-c72877c747c4",
        "colab": {}
      },
      "source": [
        "bin(11)"
      ],
      "execution_count": 0,
      "outputs": [
        {
          "output_type": "execute_result",
          "data": {
            "text/plain": [
              "'0b1011'"
            ]
          },
          "metadata": {
            "tags": []
          },
          "execution_count": 154
        }
      ]
    },
    {
      "cell_type": "markdown",
      "metadata": {
        "id": "YXtB5PzGRCWs",
        "colab_type": "text"
      },
      "source": [
        "## 대화창 실습 : 9와 10의 비트단위 배타적 합 연산"
      ]
    },
    {
      "cell_type": "code",
      "metadata": {
        "id": "9TfssllsRCWs",
        "colab_type": "code",
        "outputId": "0530e01a-9df3-4094-d743-ede5a04314c1",
        "colab": {
          "base_uri": "https://localhost:8080/",
          "height": 34
        }
      },
      "source": [
        "9 ^ 10"
      ],
      "execution_count": 0,
      "outputs": [
        {
          "output_type": "execute_result",
          "data": {
            "text/plain": [
              "3"
            ]
          },
          "metadata": {
            "tags": []
          },
          "execution_count": 1
        }
      ]
    },
    {
      "cell_type": "code",
      "metadata": {
        "id": "echb3rnoRCWu",
        "colab_type": "code",
        "outputId": "9caf7251-090f-498f-f026-773ff260c614",
        "colab": {
          "base_uri": "https://localhost:8080/",
          "height": 34
        }
      },
      "source": [
        "bin(3)"
      ],
      "execution_count": 0,
      "outputs": [
        {
          "output_type": "execute_result",
          "data": {
            "text/plain": [
              "'0b11'"
            ]
          },
          "metadata": {
            "tags": []
          },
          "execution_count": 2
        }
      ]
    },
    {
      "cell_type": "markdown",
      "metadata": {
        "id": "lWDqqkmkRCWv",
        "colab_type": "text"
      },
      "source": [
        "## 대화창 실습 : 9의 비트 단위 부정연산자의 실행"
      ]
    },
    {
      "cell_type": "code",
      "metadata": {
        "id": "znZyELWDRCWv",
        "colab_type": "code",
        "outputId": "f1708fce-bdc4-476a-c83f-2718fecd390d",
        "colab": {
          "base_uri": "https://localhost:8080/",
          "height": 34
        }
      },
      "source": [
        "~9"
      ],
      "execution_count": 0,
      "outputs": [
        {
          "output_type": "execute_result",
          "data": {
            "text/plain": [
              "-10"
            ]
          },
          "metadata": {
            "tags": []
          },
          "execution_count": 3
        }
      ]
    },
    {
      "cell_type": "code",
      "metadata": {
        "id": "n9P_Q8e_RCWy",
        "colab_type": "code",
        "outputId": "6dc78e6f-f926-48f8-f46f-d636a5d40ab4",
        "colab": {}
      },
      "source": [
        "bin(-10)"
      ],
      "execution_count": 0,
      "outputs": [
        {
          "output_type": "execute_result",
          "data": {
            "text/plain": [
              "'-0b1010'"
            ]
          },
          "metadata": {
            "tags": []
          },
          "execution_count": 160
        }
      ]
    },
    {
      "cell_type": "markdown",
      "metadata": {
        "id": "oagijfAERCWz",
        "colab_type": "text"
      },
      "source": [
        "## 대화창 실습 : 비트 단위 왼쪽 이동 연산 실습"
      ]
    },
    {
      "cell_type": "code",
      "metadata": {
        "id": "K6GLihY7RCW1",
        "colab_type": "code",
        "outputId": "c42cccfc-e359-48ef-d6dc-25d9a9156caf",
        "colab": {
          "base_uri": "https://localhost:8080/",
          "height": 34
        }
      },
      "source": [
        "4 << 1"
      ],
      "execution_count": 0,
      "outputs": [
        {
          "output_type": "execute_result",
          "data": {
            "text/plain": [
              "8"
            ]
          },
          "metadata": {
            "tags": []
          },
          "execution_count": 4
        }
      ]
    },
    {
      "cell_type": "code",
      "metadata": {
        "id": "u97-QHiHRCW2",
        "colab_type": "code",
        "outputId": "e0707930-e666-4d38-c8b7-a7ebf6ae4a5a",
        "colab": {
          "base_uri": "https://localhost:8080/",
          "height": 34
        }
      },
      "source": [
        "4 << 2"
      ],
      "execution_count": 0,
      "outputs": [
        {
          "output_type": "execute_result",
          "data": {
            "text/plain": [
              "16"
            ]
          },
          "metadata": {
            "tags": []
          },
          "execution_count": 5
        }
      ]
    },
    {
      "cell_type": "markdown",
      "metadata": {
        "id": "w0Q2FQoxRCW3",
        "colab_type": "text"
      },
      "source": [
        "## 대화창 실습 : 비트 단위 오른쪽 이동 연산 실습"
      ]
    },
    {
      "cell_type": "code",
      "metadata": {
        "id": "jKMNJkV6RCW3",
        "colab_type": "code",
        "outputId": "1262a125-a423-4b0e-8d93-67fb6a66fd15",
        "colab": {
          "base_uri": "https://localhost:8080/",
          "height": 34
        }
      },
      "source": [
        "4 >> 1"
      ],
      "execution_count": 0,
      "outputs": [
        {
          "output_type": "execute_result",
          "data": {
            "text/plain": [
              "2"
            ]
          },
          "metadata": {
            "tags": []
          },
          "execution_count": 6
        }
      ]
    },
    {
      "cell_type": "code",
      "metadata": {
        "id": "olev11E7RCW4",
        "colab_type": "code",
        "outputId": "4c2d3e80-5970-4b0f-b248-f7c4d1f1d409",
        "colab": {
          "base_uri": "https://localhost:8080/",
          "height": 34
        }
      },
      "source": [
        "4 >> 2"
      ],
      "execution_count": 0,
      "outputs": [
        {
          "output_type": "execute_result",
          "data": {
            "text/plain": [
              "1"
            ]
          },
          "metadata": {
            "tags": []
          },
          "execution_count": 7
        }
      ]
    },
    {
      "cell_type": "markdown",
      "metadata": {
        "id": "jSNHlxzARCXO",
        "colab_type": "text"
      },
      "source": [
        "# 코드 2-9 : 주석을 넣기 전 코드\n",
        "## circle_with_var.py"
      ]
    },
    {
      "cell_type": "code",
      "metadata": {
        "id": "40sImTl0RCXO",
        "colab_type": "code",
        "outputId": "302de4b2-c15e-45a1-dde0-87dd0f07ba36",
        "colab": {
          "base_uri": "https://localhost:8080/",
          "height": 70
        }
      },
      "source": [
        "radius = 4.0\n",
        "print('원의 반지름', radius)\n",
        "print('원의 면적 ', 3.14 * radius * radius)\n",
        "print('원의 둘레 ', 2.0 * 3.14 * radius)"
      ],
      "execution_count": 0,
      "outputs": [
        {
          "output_type": "stream",
          "text": [
            "원의 반지름 4.0\n",
            "원의 면적  50.24\n",
            "원의 둘레  25.12\n"
          ],
          "name": "stdout"
        }
      ]
    },
    {
      "cell_type": "markdown",
      "metadata": {
        "id": "-SDXkG5BRCXQ",
        "colab_type": "text"
      },
      "source": [
        "# 코드 2-10 : 주석을 넣은 후 코드\n",
        "## circle_with_var_comment.py"
      ]
    },
    {
      "cell_type": "code",
      "metadata": {
        "id": "gWBizDYTRCXR",
        "colab_type": "code",
        "outputId": "35cd878b-3862-4175-f1c4-a7c29dee2aca",
        "colab": {
          "base_uri": "https://localhost:8080/",
          "height": 70
        }
      },
      "source": [
        "# 원의 반지름을 radius라는 변수로 정의 함\n",
        "radius = 5.0\n",
        "\n",
        "# 원의 반지름과 면적, 둘레를 각각 출력\n",
        "print('원의 반지름', radius)\n",
        "print('원의 면적 ', 3.14 * radius * radius) # 원의 면적을 구하는 식\n",
        "print('원의 둘레 ', 2.0 * 3.14 * radius)    # 원의 둘레를 구하는 식"
      ],
      "execution_count": 0,
      "outputs": [
        {
          "output_type": "stream",
          "text": [
            "원의 반지름 5.0\n",
            "원의 면적  78.5\n",
            "원의 둘레  31.400000000000002\n"
          ],
          "name": "stdout"
        }
      ]
    },
    {
      "cell_type": "code",
      "metadata": {
        "id": "jXsEX1MqcGC4",
        "colab_type": "code",
        "colab": {}
      },
      "source": [
        "# 여러 줄의 주석을 사용할 때\n",
        "# 해시 표시를 문장의 첫 줄에 넣어서\n",
        "# 주석을 사용할 수 있습니다."
      ],
      "execution_count": 0,
      "outputs": []
    },
    {
      "cell_type": "markdown",
      "metadata": {
        "id": "Ry2lOJDNRCXR",
        "colab_type": "text"
      },
      "source": [
        "# 코드 2-11 :  파이썬의 주석문에 대해 알아보는 예제\n",
        "## comment_test1.py"
      ]
    },
    {
      "cell_type": "code",
      "metadata": {
        "scrolled": false,
        "id": "9IWCDUVERCXR",
        "colab_type": "code",
        "outputId": "9736cd5e-27a7-472b-e479-6af49c8cd17a",
        "colab": {}
      },
      "source": [
        "# 파이썬의 주석문에 대해 알아보는 예제입니다\n",
        "print(\"주석은\")\n",
        "print(\"이 프린트 문을 주석으로 처리하세요\")\n",
        "print(\"실행되지 않습니다.\")"
      ],
      "execution_count": 0,
      "outputs": [
        {
          "output_type": "stream",
          "text": [
            "주석은\n",
            "이 프린트 문을 주석으로 처리하세요\n",
            "실행되지 않습니다.\n"
          ],
          "name": "stdout"
        }
      ]
    },
    {
      "cell_type": "markdown",
      "metadata": {
        "id": "pHQ-OebuRCXS",
        "colab_type": "text"
      },
      "source": [
        "# 코드 2-12 파이썬의 주석문에 대해 알아보는 예제\n",
        "## comment_test2.py"
      ]
    },
    {
      "cell_type": "code",
      "metadata": {
        "scrolled": true,
        "id": "FUtDmMS5RCXT",
        "colab_type": "code",
        "outputId": "03faa8d9-541f-482d-9479-a1b350ab5af4",
        "colab": {}
      },
      "source": [
        "# 파이썬의 주석문에 대해 알아보는 예제입니다\n",
        "print(\"주석은\")\n",
        "# print(\"이 프린트 문을 주석으로 처리하세요\")\n",
        "print(\"실행되지 않습니다.\")"
      ],
      "execution_count": 0,
      "outputs": [
        {
          "output_type": "stream",
          "text": [
            "주석은\n",
            "실행되지 않습니다.\n"
          ],
          "name": "stdout"
        }
      ]
    },
    {
      "cell_type": "markdown",
      "metadata": {
        "id": "ytVUcd8_RCXU",
        "colab_type": "text"
      },
      "source": [
        "# 코드 2-13 : 여러줄에 걸친 주석문의 사용\n",
        "## comment_test3.py"
      ]
    },
    {
      "cell_type": "code",
      "metadata": {
        "id": "q8ymcIsvRCXU",
        "colab_type": "code",
        "outputId": "c973b7b9-5c5a-48fa-cc88-cc060e3f378b",
        "colab": {}
      },
      "source": [
        "print(\"주석은\")\n",
        "''' print (\"이 프린트 문을 주석으로 처리하세요\")print(\"실행되지 않습니다.\")'''"
      ],
      "execution_count": 0,
      "outputs": [
        {
          "output_type": "stream",
          "text": [
            "주석은\n"
          ],
          "name": "stdout"
        },
        {
          "output_type": "execute_result",
          "data": {
            "text/plain": [
              "' print (\"이 프린트 문을 주석으로 처리하세요\")print(\"실행되지 않습니다.\")'"
            ]
          },
          "metadata": {
            "tags": []
          },
          "execution_count": 197
        }
      ]
    },
    {
      "cell_type": "markdown",
      "metadata": {
        "id": "kJFzKvMRRCXV",
        "colab_type": "text"
      },
      "source": [
        "# 코드 2-14 : 주석문의 잘못된 사용\n",
        "## comment_test4.py"
      ]
    },
    {
      "cell_type": "code",
      "metadata": {
        "id": "_oW2M14DRCXW",
        "colab_type": "code",
        "outputId": "a893fb3b-919b-45f5-deff-7dc49ed89bcd",
        "colab": {}
      },
      "source": [
        "# 아래의 예제는 주석문의 잘못된 사용 예입니다.\n",
        "print(\"주석은\")\n",
        "''' print(\"이 프린트 문을 주석으로 처리하세요\") \"\"\"\n",
        "print(\"실행되지 않습니다.\")"
      ],
      "execution_count": 0,
      "outputs": [
        {
          "output_type": "error",
          "ename": "SyntaxError",
          "evalue": "EOF while scanning triple-quoted string literal (<ipython-input-200-865aec16e79a>, line 4)",
          "traceback": [
            "\u001b[1;36m  File \u001b[1;32m\"<ipython-input-200-865aec16e79a>\"\u001b[1;36m, line \u001b[1;32m4\u001b[0m\n\u001b[1;33m    print(\"실행되지 않습니다.\")\u001b[0m\n\u001b[1;37m                       \n^\u001b[0m\n\u001b[1;31mSyntaxError\u001b[0m\u001b[1;31m:\u001b[0m EOF while scanning triple-quoted string literal\n"
          ]
        }
      ]
    },
    {
      "cell_type": "markdown",
      "metadata": {
        "id": "h_7142V0RVz2",
        "colab_type": "text"
      },
      "source": [
        "# 코드 2-15 : input() 함수를 통해 사용자의 입력받기\n",
        "## input_test.py"
      ]
    },
    {
      "cell_type": "code",
      "metadata": {
        "id": "PO5s7uIDRchR",
        "colab_type": "code",
        "outputId": "26dbff6e-6080-4338-c4cd-7edc191cc337",
        "colab": {
          "base_uri": "https://localhost:8080/",
          "height": 87
        }
      },
      "source": [
        "name = input('이름을 입력하세요 : ')  # name은 문자열로 입력받음\n",
        "print('이름 :', name)\n",
        "age = int(input('나이를 입력하세요 : ')) # age는 문자열로 입력받아 int 형으로 변환\n",
        "print('10년 후 나이 :', age + 10)   # 따라서 정수 덧셈 연산이 가능"
      ],
      "execution_count": 0,
      "outputs": [
        {
          "output_type": "stream",
          "text": [
            "이름을 입력하세요 : 홍길동\n",
            "이름 : 홍길동\n",
            "나이를 입력하세요 : 22\n",
            "10년 후 나이 : 32\n"
          ],
          "name": "stdout"
        }
      ]
    },
    {
      "cell_type": "markdown",
      "metadata": {
        "id": "5-Frk0ehRCXe",
        "colab_type": "text"
      },
      "source": [
        "# 주석문등의 테스트"
      ]
    },
    {
      "cell_type": "code",
      "metadata": {
        "id": "0c2UyaotRCXf",
        "colab_type": "code",
        "outputId": "06022414-e0fb-4110-b97d-dfec30bf5e71",
        "colab": {}
      },
      "source": [
        "# 원의 반지름을 radius라는 변수로 정의 함\n",
        "radius = 5.0\n",
        "\n",
        "# 원의 반지름과 면적, 둘레를 각각 출력\n",
        "print('원의 반지름', radius)\n",
        "print('원의 면적 ', 3.14 * radius * radius) # 원의 면적을 구하는 식을 적용\n",
        "print('원의 둘레 ', 2.0 * 3.14 * radius)    # 원의 둘레를 구하는 식을 적용"
      ],
      "execution_count": 0,
      "outputs": [
        {
          "output_type": "stream",
          "text": [
            "원의 반지름 5.0\n",
            "원의 면적  78.5\n",
            "원의 둘레  31.400000000000002\n"
          ],
          "name": "stdout"
        }
      ]
    },
    {
      "cell_type": "code",
      "metadata": {
        "id": "i3O-LSH8RCXf",
        "colab_type": "code",
        "colab": {}
      },
      "source": [
        "#\n",
        "# 여러 줄의 주석을 사용할 때\n",
        "# 해시 표시를 문장의 첫 줄에 넣어서\n",
        "# 주석을 사용할 수 있습니다.\n",
        "#"
      ],
      "execution_count": 0,
      "outputs": []
    },
    {
      "cell_type": "code",
      "metadata": {
        "id": "FQ9zLOhZRCXg",
        "colab_type": "code",
        "outputId": "bfe19c47-5161-4151-ccb7-01056e6221ee",
        "colab": {}
      },
      "source": [
        "'''\n",
        "작은따옴표를 이용하여 여러 줄 주석을 만드는 방법입니다\n",
        "이 방식으로 주석을 만들면\n",
        "여러 줄에 걸친 주석을 남길 수 있습니다\n",
        "'''\n"
      ],
      "execution_count": 0,
      "outputs": [
        {
          "output_type": "execute_result",
          "data": {
            "text/plain": [
              "'\\n작은따옴표를 이용하여 여러 줄 주석을 만드는 방법입니다\\n이 방식으로 주석을 만들면\\n여러 줄에 걸친 주석을 남길 수 있습니다\\n'"
            ]
          },
          "metadata": {
            "tags": []
          },
          "execution_count": 3
        }
      ]
    },
    {
      "cell_type": "code",
      "metadata": {
        "id": "ubg8qW-hRCXj",
        "colab_type": "code",
        "outputId": "49020099-fa8d-4ede-d2c1-966615787bfc",
        "colab": {}
      },
      "source": [
        "\"\"\"\n",
        "혹은 이와 같이 큰 따옴표를 이용할 수도 있습니다.\n",
        "큰 따옴표를 사용해도 작은 따옴표를 사용하는 것과 동일합니다.\n",
        "\"\"\""
      ],
      "execution_count": 0,
      "outputs": [
        {
          "output_type": "execute_result",
          "data": {
            "text/plain": [
              "'\\n혹은 이와 같이 큰 따옴표를 이용할 수도 있습니다.\\n큰 따옴표를 사용해도 작은 따옴표를 사용하는 것과 동일합니다.\\n'"
            ]
          },
          "metadata": {
            "tags": []
          },
          "execution_count": 4
        }
      ]
    },
    {
      "cell_type": "code",
      "metadata": {
        "id": "Lo8u-dwXRCXk",
        "colab_type": "code",
        "outputId": "98e7ee8b-9829-46ea-dd60-8e96b85a80b0",
        "colab": {}
      },
      "source": [
        " ''' test\n",
        " '''"
      ],
      "execution_count": 0,
      "outputs": [
        {
          "output_type": "execute_result",
          "data": {
            "text/plain": [
              "' test\\n'"
            ]
          },
          "metadata": {
            "tags": []
          },
          "execution_count": 5
        }
      ]
    },
    {
      "cell_type": "code",
      "metadata": {
        "id": "5XeXc6lrRCXk",
        "colab_type": "code",
        "colab": {}
      },
      "source": [
        " # test"
      ],
      "execution_count": 0,
      "outputs": []
    }
  ]
}