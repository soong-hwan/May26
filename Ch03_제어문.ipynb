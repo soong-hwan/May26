{
  "nbformat": 4,
  "nbformat_minor": 0,
  "metadata": {
    "colab": {
      "name": "Ch03-제어문.ipynb",
      "provenance": [],
      "collapsed_sections": [],
      "include_colab_link": true
    },
    "language_info": {
      "codemirror_mode": {
        "name": "ipython",
        "version": 3
      },
      "file_extension": ".py",
      "mimetype": "text/x-python",
      "name": "python",
      "nbconvert_exporter": "python",
      "pygments_lexer": "ipython3",
      "version": "3.7.3"
    },
    "kernelspec": {
      "display_name": "Python 3",
      "language": "python",
      "name": "python3"
    }
  },
  "cells": [
    {
      "cell_type": "markdown",
      "metadata": {
        "id": "view-in-github",
        "colab_type": "text"
      },
      "source": [
        "<a href=\"https://colab.research.google.com/github/dongupak/Prime-Python/blob/master/jupyter-notebook/Ch03_%EC%A0%9C%EC%96%B4%EB%AC%B8.ipynb\" target=\"_parent\"><img src=\"https://colab.research.google.com/assets/colab-badge.svg\" alt=\"Open In Colab\"/></a>"
      ]
    },
    {
      "cell_type": "markdown",
      "metadata": {
        "id": "YH1QdWN0sigk",
        "colab_type": "text"
      },
      "source": [
        "# **생능 출판사 \"으뜸 파이썬\"(1판) 교재의 소스 코드**\n",
        "# *3장 제어문*\n",
        "---\n",
        "* 출판사 : 생능 출판사( http://www.booksr.co.kr/ )\n",
        "* 으뜸 파이썬 저자 : 박동규, 강영민 \n",
        "*  소스코드 저장소 : https://github.com/dongupak/Prime-Python\n",
        "*  저작권 : 본 주피터 노트북 코드는 자유롭게 배포가능하지만 위의 출판사, 저서, 저자표기와 함께 배포해 주십시오.\n",
        "---"
      ]
    },
    {
      "cell_type": "markdown",
      "metadata": {
        "id": "mhb2bHv3bgCh",
        "colab_type": "text"
      },
      "source": [
        "\n",
        "# 코드 3-1 : 순차적 실행 구조를 이용한 변수의 덧셈\n",
        "## seq_test.py"
      ]
    },
    {
      "cell_type": "code",
      "metadata": {
        "scrolled": true,
        "id": "VRYhI00psigl",
        "colab_type": "code",
        "outputId": "58e007a2-a36f-4073-c26f-23e1fd713126",
        "colab": {
          "base_uri": "https://localhost:8080/",
          "height": 71
        }
      },
      "source": [
        "num = 100\n",
        "print('num =', num)  # 100이 출력됨\n",
        "num = num + 100\n",
        "print('num =', num)  # num에 100이 더해져 200이 출력됨\n",
        "num = num + 100\n",
        "print('num =', num)  # num에 다시 100이 더해져 300이 출력됨"
      ],
      "execution_count": 0,
      "outputs": [
        {
          "output_type": "stream",
          "text": [
            "num = 100\n",
            "num = 200\n",
            "num = 300\n"
          ],
          "name": "stdout"
        }
      ]
    },
    {
      "cell_type": "markdown",
      "metadata": {
        "id": "2B_uX1HJsigp",
        "colab_type": "text"
      },
      "source": [
        "# 코드 3-2 : if 조건문을 이용한 출력기능(조건을 만족하는 경우)\n",
        "## if_youth_discount.py"
      ]
    },
    {
      "cell_type": "code",
      "metadata": {
        "id": "AMnjvYUisigp",
        "colab_type": "code",
        "outputId": "d3bd616f-15c2-492e-a9c4-fb3b4aa978ab",
        "colab": {
          "base_uri": "https://localhost:8080/",
          "height": 35
        }
      },
      "source": [
        "age = 18        # age가 20 미만의 값\n",
        "\n",
        "if age < 20:    # age < 20 조건식의 결과는 True임   \n",
        "    print('청소년 할인')\n"
      ],
      "execution_count": 0,
      "outputs": [
        {
          "output_type": "stream",
          "text": [
            "청소년 할인\n"
          ],
          "name": "stdout"
        }
      ]
    },
    {
      "cell_type": "markdown",
      "metadata": {
        "id": "NeATQh_Asigs",
        "colab_type": "text"
      },
      "source": [
        "# 코드 3-3 : if 조건문을 이용한 출력기능(조건을 만족하지 않는 경우)\n",
        "## if_youth_discount.py"
      ]
    },
    {
      "cell_type": "code",
      "metadata": {
        "id": "Ymr69-K_sigs",
        "colab_type": "code",
        "colab": {}
      },
      "source": [
        "age = 24     # age가 20 이상의 값\n",
        "\n",
        "if age < 20: # age < 20 조건식의 결과는 False임   \n",
        "    print('청소년 할인')"
      ],
      "execution_count": 0,
      "outputs": []
    },
    {
      "cell_type": "markdown",
      "metadata": {
        "id": "pi0rSgE3sigu",
        "colab_type": "text"
      },
      "source": [
        "# 코드 3-4 : if 조건문을 이용한 출력기능(조건을 만족하는 경우)\n",
        "## if_walk_count.py"
      ]
    },
    {
      "cell_type": "code",
      "metadata": {
        "id": "omKRB_bVsigv",
        "colab_type": "code",
        "outputId": "c2b414d9-12d4-4512-af46-e4df7476b699",
        "colab": {
          "base_uri": "https://localhost:8080/",
          "height": 35
        }
      },
      "source": [
        "walk_count = 1200\n",
        "\n",
        "if walk_count >= 1000:  # walk_count >= 1000 조건의 결과는 True임\n",
        "    print('목표 달성')"
      ],
      "execution_count": 0,
      "outputs": [
        {
          "output_type": "stream",
          "text": [
            "목표 달성\n"
          ],
          "name": "stdout"
        }
      ]
    },
    {
      "cell_type": "markdown",
      "metadata": {
        "id": "ic8eJgaSsigx",
        "colab_type": "text"
      },
      "source": [
        "# 코드 3-5 : 들여쓰기 없는 print() 문\n",
        "## if_youth_error.py"
      ]
    },
    {
      "cell_type": "code",
      "metadata": {
        "id": "2X2phTRxsigx",
        "colab_type": "code",
        "outputId": "94f7f476-2dc4-44fa-a9ee-3a2368507ddc",
        "colab": {
          "base_uri": "https://localhost:8080/",
          "height": 136
        }
      },
      "source": [
        "age = 18\n",
        "\n",
        "if age < 20:\n",
        "print('청소년 할인')  # 들여쓰기 없는 print()문    "
      ],
      "execution_count": 0,
      "outputs": [
        {
          "output_type": "error",
          "ename": "IndentationError",
          "evalue": "ignored",
          "traceback": [
            "\u001b[0;36m  File \u001b[0;32m\"<ipython-input-6-825aab06ac44>\"\u001b[0;36m, line \u001b[0;32m4\u001b[0m\n\u001b[0;31m    print('청소년 할인')  # 들여쓰기 없는 print()문\u001b[0m\n\u001b[0m        ^\u001b[0m\n\u001b[0;31mIndentationError\u001b[0m\u001b[0;31m:\u001b[0m expected an indented block\n"
          ]
        }
      ]
    },
    {
      "cell_type": "markdown",
      "metadata": {
        "id": "QqQ90a3FmGPB",
        "colab_type": "text"
      },
      "source": [
        "[들여쓰기 코드 1] 조건을 만족하는 경우 "
      ]
    },
    {
      "cell_type": "code",
      "metadata": {
        "id": "UE2yGGH8mF3O",
        "colab_type": "code",
        "outputId": "b5895ec8-b387-44cc-c180-492af3ba40fe",
        "colab": {
          "base_uri": "https://localhost:8080/",
          "height": 53
        }
      },
      "source": [
        "age = 18 \n",
        "if age < 20:\n",
        "    print('청소년 할인') \n",
        "print('입장을 환영합니다') "
      ],
      "execution_count": 0,
      "outputs": [
        {
          "output_type": "stream",
          "text": [
            "청소년 할인\n",
            "입장을 환영합니다\n"
          ],
          "name": "stdout"
        }
      ]
    },
    {
      "cell_type": "markdown",
      "metadata": {
        "id": "jB1WFG9KmVOE",
        "colab_type": "text"
      },
      "source": [
        "[들여쓰기 코드 2] 조건을 만족하지 않는 경우"
      ]
    },
    {
      "cell_type": "code",
      "metadata": {
        "id": "KGtbgflsmXps",
        "colab_type": "code",
        "outputId": "87539b91-22ab-4a22-8262-5e8d7ca1ce39",
        "colab": {
          "base_uri": "https://localhost:8080/",
          "height": 35
        }
      },
      "source": [
        "age = 24\n",
        "if age < 20:\n",
        "    print('청소년 할인')\n",
        "print('입장을 환영합니다') "
      ],
      "execution_count": 0,
      "outputs": [
        {
          "output_type": "stream",
          "text": [
            "입장을 환영합니다\n"
          ],
          "name": "stdout"
        }
      ]
    },
    {
      "cell_type": "markdown",
      "metadata": {
        "id": "lUHDFzyVmtCC",
        "colab_type": "text"
      },
      "source": [
        "[들여쓰기 코드 3] 조건을 만족하는 경우"
      ]
    },
    {
      "cell_type": "code",
      "metadata": {
        "id": "G3zLzUvVmuir",
        "colab_type": "code",
        "outputId": "300b622e-4254-4899-e933-440216f9a7d6",
        "colab": {
          "base_uri": "https://localhost:8080/",
          "height": 71
        }
      },
      "source": [
        "age = 18\n",
        "\n",
        "if age < 20:\n",
        "    print('나이', age)\n",
        "    print('청소년 환영')\n",
        "    print('청소년 할인')"
      ],
      "execution_count": 0,
      "outputs": [
        {
          "output_type": "stream",
          "text": [
            "나이 18\n",
            "청소년 환영\n",
            "청소년 할인\n"
          ],
          "name": "stdout"
        }
      ]
    },
    {
      "cell_type": "markdown",
      "metadata": {
        "id": "Bh2cQE7mm4-n",
        "colab_type": "text"
      },
      "source": [
        "[들여쓰기 코드 4] 조건을 만족하지 않는 경우"
      ]
    },
    {
      "cell_type": "code",
      "metadata": {
        "id": "dqPGtIbdm85j",
        "colab_type": "code",
        "colab": {}
      },
      "source": [
        "age = 24\n",
        "\n",
        "if age < 20:\n",
        "    print('나이', age)\n",
        "    print('청소년 환영')\n",
        "    print('청소년 할인')"
      ],
      "execution_count": 0,
      "outputs": []
    },
    {
      "cell_type": "markdown",
      "metadata": {
        "id": "uC4OzaQunIBb",
        "colab_type": "text"
      },
      "source": [
        "[들여쓰기 코드 5] \n",
        "들여쓰기가 잘못된 경우(들여쓰기의 크기가 일정하지 않음) "
      ]
    },
    {
      "cell_type": "code",
      "metadata": {
        "id": "5C2HoBXinLsV",
        "colab_type": "code",
        "outputId": "39f71984-6510-4e0b-9f42-1443b5f383b7",
        "colab": {
          "base_uri": "https://localhost:8080/",
          "height": 136
        }
      },
      "source": [
        "age = 18\n",
        "if age < 20:\n",
        "    print('나이', age)\n",
        "  print('청소년 환영')"
      ],
      "execution_count": 0,
      "outputs": [
        {
          "output_type": "error",
          "ename": "IndentationError",
          "evalue": "ignored",
          "traceback": [
            "\u001b[0;36m  File \u001b[0;32m\"<ipython-input-14-8ffcca604689>\"\u001b[0;36m, line \u001b[0;32m4\u001b[0m\n\u001b[0;31m    print('청소년 환영')\u001b[0m\n\u001b[0m                   ^\u001b[0m\n\u001b[0;31mIndentationError\u001b[0m\u001b[0;31m:\u001b[0m unindent does not match any outer indentation level\n"
          ]
        }
      ]
    },
    {
      "cell_type": "markdown",
      "metadata": {
        "id": "BIiDK94ksig0",
        "colab_type": "text"
      },
      "source": [
        "## 대화창 실습 : 대화형 모드를 통한 블록과 들여쓰기 실습"
      ]
    },
    {
      "cell_type": "code",
      "metadata": {
        "id": "nvZimcydsig0",
        "colab_type": "code",
        "outputId": "9eaad132-fbdc-456a-8064-7b490a895fd1",
        "colab": {
          "base_uri": "https://localhost:8080/",
          "height": 35
        }
      },
      "source": [
        "num = 300\n",
        "if num > 200:\n",
        "     print('num은 200보다 큽니다')"
      ],
      "execution_count": 0,
      "outputs": [
        {
          "output_type": "stream",
          "text": [
            "num은 200보다 큽니다\n"
          ],
          "name": "stdout"
        }
      ]
    },
    {
      "cell_type": "markdown",
      "metadata": {
        "id": "6dXaOzwSsig3",
        "colab_type": "text"
      },
      "source": [
        "# 코드 3-6 : 3과 5의 배수를 판단하기 위한 모듈로 연산과 조건문\n",
        "## if_modulo1.py"
      ]
    },
    {
      "cell_type": "code",
      "metadata": {
        "id": "laeWNwwIsig3",
        "colab_type": "code",
        "outputId": "6b22c135-9f25-4013-9a5d-0121cc06bfb7",
        "colab": {
          "base_uri": "https://localhost:8080/",
          "height": 35
        }
      },
      "source": [
        "number = int(input('정수를 입력하세요 : ')) # 입력값을 정수형으로 변환\n",
        "if (number % 3) == 0:    # 모듈로 3의 값이 0이면 3의 배수임\n",
        "    print(number, '은(는) 3의 배수입니다.')"
      ],
      "execution_count": 0,
      "outputs": [
        {
          "output_type": "stream",
          "text": [
            "정수를 입력하세요 : 16\n"
          ],
          "name": "stdout"
        }
      ]
    },
    {
      "cell_type": "markdown",
      "metadata": {
        "id": "OHJgm4p1sig6",
        "colab_type": "text"
      },
      "source": [
        "# 코드 3-7 : 3과 5의 배수를 판단하기 위한 모듈로 연산과 and 조건문 \n",
        "## if_modulo2.py\n",
        " "
      ]
    },
    {
      "cell_type": "code",
      "metadata": {
        "id": "gekujp3esig7",
        "colab_type": "code",
        "outputId": "e7e8b2d5-78e3-4710-8fa1-22d26b729e1c",
        "colab": {
          "base_uri": "https://localhost:8080/",
          "height": 53
        }
      },
      "source": [
        "number = int(input('정수를 입력하세요 : ')) \n",
        "if (number % 3) == 0 and (number % 5) == 0:    # 오류 : 책에는 3으로 표기됨\n",
        "    print(number, '은(는) 3의 배수이면서 5의 배수입니다.')"
      ],
      "execution_count": 0,
      "outputs": [
        {
          "output_type": "stream",
          "text": [
            "정수를 입력하세요 : 15\n",
            "15 은(는) 3의 배수이면서 5의 배수입니다.\n"
          ],
          "name": "stdout"
        }
      ]
    },
    {
      "cell_type": "markdown",
      "metadata": {
        "id": "wkcCY37asihA",
        "colab_type": "text"
      },
      "source": [
        "# 코드 3-8 : if문을 이용한 ‘오전’ 혹은 ‘오후’의 출력기능\n",
        "## if_hour_test.py"
      ]
    },
    {
      "cell_type": "code",
      "metadata": {
        "id": "qgjUkqMxsihA",
        "colab_type": "code",
        "outputId": "84cfcdd3-c948-4695-d9ab-ffa00cf429b2",
        "colab": {
          "base_uri": "https://localhost:8080/",
          "height": 35
        }
      },
      "source": [
        "hour = 10\n",
        "if hour < 12:\n",
        "    print('오전입니다.')\n",
        "\n",
        "if hour >= 12:\n",
        "    print('오후입니다.')"
      ],
      "execution_count": 0,
      "outputs": [
        {
          "output_type": "stream",
          "text": [
            "오전입니다.\n"
          ],
          "name": "stdout"
        }
      ]
    },
    {
      "cell_type": "markdown",
      "metadata": {
        "id": "e_TL7sdCsihD",
        "colab_type": "text"
      },
      "source": [
        "# 코드 3-9 : if-else 문을 이용한 ‘오전’ 혹은 ‘오후’의 출력 기능\n",
        "## if_else_hour_test.py"
      ]
    },
    {
      "cell_type": "code",
      "metadata": {
        "id": "5B9kjbcesihD",
        "colab_type": "code",
        "outputId": "c131cb48-93da-4445-93d5-61110d9f210d",
        "colab": {
          "base_uri": "https://localhost:8080/",
          "height": 35
        }
      },
      "source": [
        "hour = 10\n",
        "\n",
        "if hour < 12:\n",
        "    print('오전입니다.')\n",
        "else:\n",
        "    print('오후입니다.')"
      ],
      "execution_count": 0,
      "outputs": [
        {
          "output_type": "stream",
          "text": [
            "오전입니다.\n"
          ],
          "name": "stdout"
        }
      ]
    },
    {
      "cell_type": "markdown",
      "metadata": {
        "id": "BS3qiJNmsihG",
        "colab_type": "text"
      },
      "source": [
        "# 코드 3-10 : if-else 문을 이용한 ‘음수’ 혹은 ‘음수아님’의 출력기능\n",
        "## if_else_minus_test.py"
      ]
    },
    {
      "cell_type": "code",
      "metadata": {
        "id": "qft8PahesihH",
        "colab_type": "code",
        "outputId": "87ffce20-06e8-4ba9-9da4-18805b9d1d4b",
        "colab": {
          "base_uri": "https://localhost:8080/",
          "height": 35
        }
      },
      "source": [
        "num = -10\n",
        "\n",
        "if num < 0:\n",
        "   print(num, '은(는) 음수입니다.')\n",
        "else:\n",
        "   print(num, '은(는) 음수가 아닙니다.')"
      ],
      "execution_count": 0,
      "outputs": [
        {
          "output_type": "stream",
          "text": [
            "-10 은(는) 음수입니다.\n"
          ],
          "name": "stdout"
        }
      ]
    },
    {
      "cell_type": "markdown",
      "metadata": {
        "id": "Qzn6xL6ssihK",
        "colab_type": "text"
      },
      "source": [
        "# 코드 3-11 : if-else 문을 이용한 ‘짝수’ 혹은 ‘홀수’의 출력기능\n",
        "## if_else_even_test.py"
      ]
    },
    {
      "cell_type": "code",
      "metadata": {
        "id": "YlFREXJTsihK",
        "colab_type": "code",
        "outputId": "383df638-dd94-4008-de37-8bb30a9b12d9",
        "colab": {
          "base_uri": "https://localhost:8080/",
          "height": 35
        }
      },
      "source": [
        "num = 10\n",
        "\n",
        "if num % 2 == 0:\n",
        "    print(num, '은(는) 짝수입니다.')\n",
        "else:\n",
        "    print(num, '은(는) 홀수입니다.')"
      ],
      "execution_count": 0,
      "outputs": [
        {
          "output_type": "stream",
          "text": [
            "10 은(는) 짝수입니다.\n"
          ],
          "name": "stdout"
        }
      ]
    },
    {
      "cell_type": "markdown",
      "metadata": {
        "id": "DQo7tNI2sihN",
        "colab_type": "text"
      },
      "source": [
        "# 코드 3-12 : 외부 if-else문과 내부 if-else문의 사용\n",
        "## if_block.py"
      ]
    },
    {
      "cell_type": "code",
      "metadata": {
        "id": "ohmzDVDysihO",
        "colab_type": "code",
        "outputId": "242c611b-4e0c-4506-8b8b-e9088e044c17",
        "colab": {
          "base_uri": "https://localhost:8080/",
          "height": 53
        }
      },
      "source": [
        "num = 100\n",
        "\n",
        "if num < 0:\n",
        "    print(num, '은(는) 음수입니다.')\n",
        "else:\n",
        "    print(num, '은(는) 음수가 아닙니다.')\n",
        "    \n",
        "    # 짝수, 홀수는 음수가 아닌 경우에만 판별합니다\n",
        "    if num % 2 == 0:\n",
        "        print(num, '은(는) 짝수입니다.')\n",
        "    else:\n",
        "        print(num, '은(는) 홀수입니다.')"
      ],
      "execution_count": 0,
      "outputs": [
        {
          "output_type": "stream",
          "text": [
            "100 은(는) 음수가 아닙니다.\n",
            "100 은(는) 짝수입니다.\n"
          ],
          "name": "stdout"
        }
      ]
    },
    {
      "cell_type": "markdown",
      "metadata": {
        "id": "BU4s5ke6sihS",
        "colab_type": "text"
      },
      "source": [
        "## 대화창 실습 : 조건식 실습"
      ]
    },
    {
      "cell_type": "code",
      "metadata": {
        "id": "ff6q7Qp3sihS",
        "colab_type": "code",
        "outputId": "ae05e01a-618b-490f-eca7-2f5c38a168e2",
        "colab": {
          "base_uri": "https://localhost:8080/",
          "height": 35
        }
      },
      "source": [
        "0 < 10         # 조건식이 참 'True' 출력"
      ],
      "execution_count": 0,
      "outputs": [
        {
          "output_type": "execute_result",
          "data": {
            "text/plain": [
              "True"
            ]
          },
          "metadata": {
            "tags": []
          },
          "execution_count": 31
        }
      ]
    },
    {
      "cell_type": "code",
      "metadata": {
        "id": "l0CNyFresihW",
        "colab_type": "code",
        "outputId": "e5a70c89-b7ad-4e16-a080-cb6c9a810a02",
        "colab": {
          "base_uri": "https://localhost:8080/",
          "height": 35
        }
      },
      "source": [
        "4 > 10         # 조건식이 거짓 'False' 출력"
      ],
      "execution_count": 0,
      "outputs": [
        {
          "output_type": "execute_result",
          "data": {
            "text/plain": [
              "False"
            ]
          },
          "metadata": {
            "tags": []
          },
          "execution_count": 32
        }
      ]
    },
    {
      "cell_type": "code",
      "metadata": {
        "id": "XonAAKEasihY",
        "colab_type": "code",
        "outputId": "284bf1b8-97b9-4d8c-a6e6-c87acb0d576d",
        "colab": {
          "base_uri": "https://localhost:8080/",
          "height": 35
        }
      },
      "source": [
        "3 <= 10        # 조건식이 참 'True' 출력"
      ],
      "execution_count": 0,
      "outputs": [
        {
          "output_type": "execute_result",
          "data": {
            "text/plain": [
              "True"
            ]
          },
          "metadata": {
            "tags": []
          },
          "execution_count": 33
        }
      ]
    },
    {
      "cell_type": "code",
      "metadata": {
        "id": "JB_KZfg8siha",
        "colab_type": "code",
        "outputId": "f0864fba-cfff-482b-f5eb-5b1c8922c2f4",
        "colab": {
          "base_uri": "https://localhost:8080/",
          "height": 35
        }
      },
      "source": [
        "15 >= 10       # 조건식이 참 'True' 출력"
      ],
      "execution_count": 0,
      "outputs": [
        {
          "output_type": "execute_result",
          "data": {
            "text/plain": [
              "True"
            ]
          },
          "metadata": {
            "tags": []
          },
          "execution_count": 34
        }
      ]
    },
    {
      "cell_type": "code",
      "metadata": {
        "id": "leB_VkgEsihd",
        "colab_type": "code",
        "outputId": "b208bc79-b95d-481a-b71a-a42d2157e302",
        "colab": {
          "base_uri": "https://localhost:8080/",
          "height": 35
        }
      },
      "source": [
        "1 == 2         # 조건식이 거짓 'False' 출력"
      ],
      "execution_count": 0,
      "outputs": [
        {
          "output_type": "execute_result",
          "data": {
            "text/plain": [
              "False"
            ]
          },
          "metadata": {
            "tags": []
          },
          "execution_count": 35
        }
      ]
    },
    {
      "cell_type": "code",
      "metadata": {
        "id": "HBApQgvksihf",
        "colab_type": "code",
        "outputId": "0e3863c0-893e-442c-9191-1c64a6dce09b",
        "colab": {
          "base_uri": "https://localhost:8080/",
          "height": 35
        }
      },
      "source": [
        "True or False  # 조건식이 참 'True' 출력"
      ],
      "execution_count": 0,
      "outputs": [
        {
          "output_type": "execute_result",
          "data": {
            "text/plain": [
              "True"
            ]
          },
          "metadata": {
            "tags": []
          },
          "execution_count": 36
        }
      ]
    },
    {
      "cell_type": "code",
      "metadata": {
        "id": "uGN54R_6sihh",
        "colab_type": "code",
        "outputId": "9fe54f7d-6002-4d31-d223-0aeea6907540",
        "colab": {
          "base_uri": "https://localhost:8080/",
          "height": 35
        }
      },
      "source": [
        "True and False # 조건식이 거짓 'False' 출력"
      ],
      "execution_count": 0,
      "outputs": [
        {
          "output_type": "execute_result",
          "data": {
            "text/plain": [
              "False"
            ]
          },
          "metadata": {
            "tags": []
          },
          "execution_count": 37
        }
      ]
    },
    {
      "cell_type": "markdown",
      "metadata": {
        "id": "Vvi0yjxWsihj",
        "colab_type": "text"
      },
      "source": [
        "# 코드 3-13 : and와 or 조건문의 사용법\n",
        "## if_and_or_test.py"
      ]
    },
    {
      "cell_type": "code",
      "metadata": {
        "id": "cevkJd0jsihk",
        "colab_type": "code",
        "outputId": "bcf523dc-9640-47f4-fd4c-2da398dd01b5",
        "colab": {
          "base_uri": "https://localhost:8080/",
          "height": 53
        }
      },
      "source": [
        "a = 10\n",
        "b = 14   # 13으로 수정하면 첫 번째 조건문을 만족하지 않음\n",
        "if (a % 2 == 0) and (b % 2 == 0):  # 첫 번째 조건문\n",
        "    print('두 수 모두 짝수입니다.')\n",
        "    \n",
        "if (a % 2 == 0) or (b % 2 == 0):  # 두 번째 조건문\n",
        "    print('두 수 중 하나 이상이 짝수입니다.')"
      ],
      "execution_count": 0,
      "outputs": [
        {
          "output_type": "stream",
          "text": [
            "두 수 모두 짝수입니다.\n",
            "두 수 중 하나 이상이 짝수입니다.\n"
          ],
          "name": "stdout"
        }
      ]
    },
    {
      "cell_type": "markdown",
      "metadata": {
        "id": "5khBrr5Tsihm",
        "colab_type": "text"
      },
      "source": [
        "# 코드 3-14 : 윤년을 판별하기 위한 식\n",
        "## if_leapyear_test.py"
      ]
    },
    {
      "cell_type": "code",
      "metadata": {
        "id": "YWOaQ9aXsihm",
        "colab_type": "code",
        "outputId": "28a08c19-5e7c-488b-e83a-960ac3fa6b71",
        "colab": {
          "base_uri": "https://localhost:8080/",
          "height": 53
        }
      },
      "source": [
        "# 윤년 판별하기\n",
        "year = int(input('연도를 입력하세요: '))\n",
        "is_leap_year = ((year % 4 == 0) and (year % 100!=0) or (year % 400 == 0))\n",
        "print(year, '년은 윤년입니까?', is_leap_year)"
      ],
      "execution_count": 0,
      "outputs": [
        {
          "output_type": "stream",
          "text": [
            "연도를 입력하세요: 2000\n",
            "2000 년은 윤년입니까? True\n"
          ],
          "name": "stdout"
        }
      ]
    },
    {
      "cell_type": "markdown",
      "metadata": {
        "id": "MChhukCSsiho",
        "colab_type": "text"
      },
      "source": [
        "# 코드 3-15 : 'A','B','C','D','F' 등급 계산을 위한 if문\n",
        "## if_grade1.py"
      ]
    },
    {
      "cell_type": "code",
      "metadata": {
        "id": "M0RpNI9esihp",
        "colab_type": "code",
        "outputId": "4225cf73-701f-4817-e95a-0c1edaca4bab",
        "colab": {
          "base_uri": "https://localhost:8080/",
          "height": 53
        }
      },
      "source": [
        "score = int(input('점수를 입력하세요 : '))\n",
        "\n",
        "if score >= 90 :                 # 90 이상인 경우 ‘A’\n",
        "    grade = 'A'\n",
        "if score < 90 and score >= 80 :  # 90 미만 80 이상인 경우 ‘B’\n",
        "    grade = 'B'\n",
        "if score < 80 and score >= 70 :  # 80 미만 70 이상인 경우 ‘C’\n",
        "    grade = 'C'\n",
        "if score < 70 and score >= 60  : # 70 미만 60 이상인 경우 ‘D’\n",
        "    grade = 'D'\n",
        "if score < 60 :                  # 60 미만인 경우 ‘F’\n",
        "    grade = 'F'\n",
        "\n",
        "print('당신의 등급은 :', grade)"
      ],
      "execution_count": 0,
      "outputs": [
        {
          "output_type": "stream",
          "text": [
            "점수를 입력하세요 : 77\n",
            "당신의 등급은 : C\n"
          ],
          "name": "stdout"
        }
      ]
    },
    {
      "cell_type": "markdown",
      "metadata": {
        "id": "5Z-r1Awisihq",
        "colab_type": "text"
      },
      "source": [
        "# 코드 3-16 : 'A','B','C','D','F' 등급 계산을 위한 복합 if 문\n",
        "## if_grade2.py"
      ]
    },
    {
      "cell_type": "code",
      "metadata": {
        "id": "ntm40LQ1sihr",
        "colab_type": "code",
        "outputId": "21196e0d-7512-4a2a-f6fe-563ec6712573",
        "colab": {
          "base_uri": "https://localhost:8080/",
          "height": 53
        }
      },
      "source": [
        "score = int(input('점수를 입력하세요 : '))\n",
        "\n",
        "if score >= 90:       # 90 이상인 경우 ‘A’\n",
        "    grade = 'A'\n",
        "else:\n",
        "    if score >= 80 :  # 90 미만 80 이상인 경우 ‘B’\n",
        "        grade = 'B'\n",
        "    else:\n",
        "        if score >= 70:  # 80 미만 70 이상인 경우 ‘C’\n",
        "            grade = 'C'\n",
        "        else:\n",
        "            if score >= 60:  # 70 미만 60 이상인 경우 ‘D’\n",
        "                grade = 'D'\n",
        "            else:            # 60 미만인 경우 ‘F’\n",
        "                grade = 'F'\n",
        "\n",
        "print('당신의 등급은 :', grade)"
      ],
      "execution_count": 0,
      "outputs": [
        {
          "output_type": "stream",
          "text": [
            "점수를 입력하세요 : 88\n",
            "당신의 등급은 : B\n"
          ],
          "name": "stdout"
        }
      ]
    },
    {
      "cell_type": "markdown",
      "metadata": {
        "id": "rbIrHXnFsiht",
        "colab_type": "text"
      },
      "source": [
        "# 코드 3-17 : if-elif-else 문으로 구성된 등급계산기\n",
        "## if_elif_grade.py "
      ]
    },
    {
      "cell_type": "code",
      "metadata": {
        "id": "kJ4qbQ6tsiht",
        "colab_type": "code",
        "outputId": "1424ea97-bae6-45f9-a3fa-51af741aa6bb",
        "colab": {
          "base_uri": "https://localhost:8080/",
          "height": 53
        }
      },
      "source": [
        "score = int(input('점수를 입력하세요 : '))\n",
        "\n",
        "if score >= 90:    # 90 이상인 경우 'A'\n",
        "    grade = 'A'\n",
        "elif score >= 80:  # 'A'가 아닌 경우, 80 이상이면 'B'\n",
        "    grade = 'B'\n",
        "elif score >= 70:  # 'B'도 아닌 경우, 70 이상이면 'C'\n",
        "    grade = 'C'\n",
        "elif score >= 60:  # 'C'도 아닌 경우, 60 이상이면 'D'\n",
        "    grade = 'D'\n",
        "else:              # 그 외의 경우 'F'\n",
        "    grade = 'F'\n",
        "    \n",
        "print('당신의 등급은 :', grade)"
      ],
      "execution_count": 0,
      "outputs": [
        {
          "output_type": "stream",
          "text": [
            "점수를 입력하세요 : 88\n",
            "당신의 등급은 : B\n"
          ],
          "name": "stdout"
        }
      ]
    },
    {
      "cell_type": "markdown",
      "metadata": {
        "id": "nIoCzb_rsih1",
        "colab_type": "text"
      },
      "source": [
        "# 코드 3-18 : print() 함수의 호출을 통한 반복적 수행\n",
        "## print_welcome.py"
      ]
    },
    {
      "cell_type": "code",
      "metadata": {
        "id": "LwIlXY4Dsih1",
        "colab_type": "code",
        "outputId": "fedc8861-12aa-4990-91c5-4198d7428f07",
        "colab": {
          "base_uri": "https://localhost:8080/",
          "height": 107
        }
      },
      "source": [
        "print('Welcome to everyone!!')\n",
        "print('Welcome to everyone!!')\n",
        "print('Welcome to everyone!!')\n",
        "print('Welcome to everyone!!')\n",
        "print('Welcome to everyone!!')"
      ],
      "execution_count": 0,
      "outputs": [
        {
          "output_type": "stream",
          "text": [
            "Welcome to everyone!!\n",
            "Welcome to everyone!!\n",
            "Welcome to everyone!!\n",
            "Welcome to everyone!!\n",
            "Welcome to everyone!!\n"
          ],
          "name": "stdout"
        }
      ]
    },
    {
      "cell_type": "markdown",
      "metadata": {
        "id": "-giT65QPsih3",
        "colab_type": "text"
      },
      "source": [
        "# 코드 3-19 : for문을 이용한 반복적 수행\n",
        "## print_welcome_with_for1.py"
      ]
    },
    {
      "cell_type": "code",
      "metadata": {
        "scrolled": true,
        "id": "cL2MIZRhsih4",
        "colab_type": "code",
        "outputId": "ea887474-e379-4851-ad3c-4a6b6f82eb67",
        "colab": {
          "base_uri": "https://localhost:8080/",
          "height": 107
        }
      },
      "source": [
        "for i in range(5):\n",
        "    print('Welcome to everyone!!')"
      ],
      "execution_count": 0,
      "outputs": [
        {
          "output_type": "stream",
          "text": [
            "Welcome to everyone!!\n",
            "Welcome to everyone!!\n",
            "Welcome to everyone!!\n",
            "Welcome to everyone!!\n",
            "Welcome to everyone!!\n"
          ],
          "name": "stdout"
        }
      ]
    },
    {
      "cell_type": "code",
      "metadata": {
        "id": "9ptLmR1UxPjp",
        "colab_type": "code",
        "outputId": "a4c04f19-182a-4913-e180-3fd2341189cd",
        "colab": {
          "base_uri": "https://localhost:8080/",
          "height": 197
        }
      },
      "source": [
        "for i in range(10):\n",
        "    print('Welcome to everyone!!')"
      ],
      "execution_count": 0,
      "outputs": [
        {
          "output_type": "stream",
          "text": [
            "Welcome to everyone!!\n",
            "Welcome to everyone!!\n",
            "Welcome to everyone!!\n",
            "Welcome to everyone!!\n",
            "Welcome to everyone!!\n",
            "Welcome to everyone!!\n",
            "Welcome to everyone!!\n",
            "Welcome to everyone!!\n",
            "Welcome to everyone!!\n",
            "Welcome to everyone!!\n"
          ],
          "name": "stdout"
        }
      ]
    },
    {
      "cell_type": "markdown",
      "metadata": {
        "id": "k0x8u0GoYgqB",
        "colab_type": "text"
      },
      "source": [
        "# 코드 3-20 : for문을 이용한 반복적 수행 - 10회 수행\n",
        "## print_welcome_with_for2.py"
      ]
    },
    {
      "cell_type": "code",
      "metadata": {
        "id": "lYbPxJNpYd_F",
        "colab_type": "code",
        "outputId": "6a61ad17-3667-4c13-d7b8-64e7e58e78de",
        "colab": {
          "base_uri": "https://localhost:8080/",
          "height": 197
        }
      },
      "source": [
        "for i in range(10):\n",
        "    print(i, 'Welcome to everyone!!')"
      ],
      "execution_count": 0,
      "outputs": [
        {
          "output_type": "stream",
          "text": [
            "0 Welcome to everyone!!\n",
            "1 Welcome to everyone!!\n",
            "2 Welcome to everyone!!\n",
            "3 Welcome to everyone!!\n",
            "4 Welcome to everyone!!\n",
            "5 Welcome to everyone!!\n",
            "6 Welcome to everyone!!\n",
            "7 Welcome to everyone!!\n",
            "8 Welcome to everyone!!\n",
            "9 Welcome to everyone!!\n"
          ],
          "name": "stdout"
        }
      ]
    },
    {
      "cell_type": "markdown",
      "metadata": {
        "id": "KPb_cOeqsih7",
        "colab_type": "text"
      },
      "source": [
        "## 대화창 실습 : range()함수의 활용과 리스트"
      ]
    },
    {
      "cell_type": "code",
      "metadata": {
        "id": "lQ7n4uyJsih7",
        "colab_type": "code",
        "outputId": "a41aa771-5432-41b9-ab0b-37ffc63c8fd8",
        "colab": {
          "base_uri": "https://localhost:8080/",
          "height": 35
        }
      },
      "source": [
        "list(range(5))           # 0에서 4사이의 정수열을 생성"
      ],
      "execution_count": 0,
      "outputs": [
        {
          "output_type": "execute_result",
          "data": {
            "text/plain": [
              "[0, 1, 2, 3, 4]"
            ]
          },
          "metadata": {
            "tags": []
          },
          "execution_count": 55
        }
      ]
    },
    {
      "cell_type": "code",
      "metadata": {
        "id": "F8kPx0Ausih9",
        "colab_type": "code",
        "outputId": "cb0e427c-3e3e-4e3a-aca2-c3d368d2d6e3",
        "colab": {
          "base_uri": "https://localhost:8080/",
          "height": 35
        }
      },
      "source": [
        "list(range(0, 5))        # list(range(5))와 동일한 결과"
      ],
      "execution_count": 0,
      "outputs": [
        {
          "output_type": "execute_result",
          "data": {
            "text/plain": [
              "[0, 1, 2, 3, 4]"
            ]
          },
          "metadata": {
            "tags": []
          },
          "execution_count": 56
        }
      ]
    },
    {
      "cell_type": "code",
      "metadata": {
        "id": "zXqwnk5usih-",
        "colab_type": "code",
        "outputId": "0927105a-452a-4491-8c76-6537a5a3914a",
        "colab": {
          "base_uri": "https://localhost:8080/",
          "height": 35
        }
      },
      "source": [
        "list(range(0, 5, 1))     # list(range(0, 5))와 동일한 결과"
      ],
      "execution_count": 0,
      "outputs": [
        {
          "output_type": "execute_result",
          "data": {
            "text/plain": [
              "[0, 1, 2, 3, 4]"
            ]
          },
          "metadata": {
            "tags": []
          },
          "execution_count": 57
        }
      ]
    },
    {
      "cell_type": "code",
      "metadata": {
        "id": "1x9YlqC4siiD",
        "colab_type": "code",
        "outputId": "0dc83a64-5c61-4cd5-a83e-862cc0b2bcf2",
        "colab": {
          "base_uri": "https://localhost:8080/",
          "height": 35
        }
      },
      "source": [
        "list(range(0, 5, 2))     # 생성하는 값을 2씩 증가시킴"
      ],
      "execution_count": 0,
      "outputs": [
        {
          "output_type": "execute_result",
          "data": {
            "text/plain": [
              "[0, 2, 4]"
            ]
          },
          "metadata": {
            "tags": []
          },
          "execution_count": 58
        }
      ]
    },
    {
      "cell_type": "code",
      "metadata": {
        "id": "SXztek5HsiiC",
        "colab_type": "code",
        "outputId": "7fbbcf20-28f9-4f3e-9fe2-dfcde3c5dd66",
        "colab": {
          "base_uri": "https://localhost:8080/",
          "height": 35
        }
      },
      "source": [
        "list(range(2, 5))        # 2에서 5-1까지의 연속된 수 2, 3, 4을 생성 "
      ],
      "execution_count": 0,
      "outputs": [
        {
          "output_type": "execute_result",
          "data": {
            "text/plain": [
              "[2, 3, 4]"
            ]
          },
          "metadata": {
            "tags": []
          },
          "execution_count": 59
        }
      ]
    },
    {
      "cell_type": "code",
      "metadata": {
        "id": "mzOm38FEsiiG",
        "colab_type": "code",
        "outputId": "64e366df-b366-49bd-dfba-3c12c678a38f",
        "colab": {
          "base_uri": "https://localhost:8080/",
          "height": 35
        }
      },
      "source": [
        "list(range(0, 10, 2))    # 0에서 9사이의 짝수 리스트 생성"
      ],
      "execution_count": 0,
      "outputs": [
        {
          "output_type": "execute_result",
          "data": {
            "text/plain": [
              "[0, 2, 4, 6, 8]"
            ]
          },
          "metadata": {
            "tags": []
          },
          "execution_count": 60
        }
      ]
    },
    {
      "cell_type": "code",
      "metadata": {
        "id": "ymA1P94dsiiI",
        "colab_type": "code",
        "outputId": "02e20449-e11a-40f5-f15b-cd3463516753",
        "colab": {
          "base_uri": "https://localhost:8080/",
          "height": 35
        }
      },
      "source": [
        "list(range(1, 10, 2))    # 0에서 9사이의 홀수 리스트 생성"
      ],
      "execution_count": 0,
      "outputs": [
        {
          "output_type": "execute_result",
          "data": {
            "text/plain": [
              "[1, 3, 5, 7, 9]"
            ]
          },
          "metadata": {
            "tags": []
          },
          "execution_count": 61
        }
      ]
    },
    {
      "cell_type": "code",
      "metadata": {
        "id": "pDLcq2s5siiK",
        "colab_type": "code",
        "outputId": "2bd0f60f-4869-49ae-ec91-266448d74a63",
        "colab": {
          "base_uri": "https://localhost:8080/",
          "height": 35
        }
      },
      "source": [
        "list(range(-2, -10, -2)) # 음수 간격값 -2,-4,-6,-8 출력"
      ],
      "execution_count": 0,
      "outputs": [
        {
          "output_type": "execute_result",
          "data": {
            "text/plain": [
              "[-2, -4, -6, -8]"
            ]
          },
          "metadata": {
            "tags": []
          },
          "execution_count": 62
        }
      ]
    },
    {
      "cell_type": "markdown",
      "metadata": {
        "id": "ni3_lUjQsiiO",
        "colab_type": "text"
      },
      "source": [
        "# 코드 3-21 : range() 함수를 이용한 for 문의 제어 \n",
        "## for_in_range_test1.py"
      ]
    },
    {
      "cell_type": "code",
      "metadata": {
        "id": "T9psWxYzsiiO",
        "colab_type": "code",
        "outputId": "80d1bbf4-b94f-46ed-d3b0-2f8e0b3c6df6",
        "colab": {
          "base_uri": "https://localhost:8080/",
          "height": 107
        }
      },
      "source": [
        "# for in range 표현식\n",
        "for i in range(5):\n",
        "    print(i)"
      ],
      "execution_count": 0,
      "outputs": [
        {
          "output_type": "stream",
          "text": [
            "0\n",
            "1\n",
            "2\n",
            "3\n",
            "4\n"
          ],
          "name": "stdout"
        }
      ]
    },
    {
      "cell_type": "markdown",
      "metadata": {
        "id": "jf6S01ajsiiP",
        "colab_type": "text"
      },
      "source": [
        "# 코드 3-22 : for문의 제어와 print() 함수의 end 키워드 인자 사용방법\n",
        "## for_in_range_test2.py"
      ]
    },
    {
      "cell_type": "code",
      "metadata": {
        "id": "n4pstXY1siiQ",
        "colab_type": "code",
        "outputId": "0caa01d2-3a1e-4d1d-da69-6760bbfc991a",
        "colab": {
          "base_uri": "https://localhost:8080/",
          "height": 35
        }
      },
      "source": [
        "# for in range 표현식 1\n",
        "for i in range(5):    \n",
        "    print(i, end = ' ')\n",
        "\n",
        "# for in range 표현식 2\n",
        "for i in range(0,5):    \n",
        "    print(i, end = ' ')"
      ],
      "execution_count": 0,
      "outputs": [
        {
          "output_type": "stream",
          "text": [
            "0 1 2 3 4 0 1 2 3 4 "
          ],
          "name": "stdout"
        }
      ]
    },
    {
      "cell_type": "markdown",
      "metadata": {
        "id": "Ukn0Lx9esiiR",
        "colab_type": "text"
      },
      "source": [
        "# 코드 3-23 : for 문의 제어와 print() 함수의 end 인자 사용방법\n",
        "## for_in_range_test3.py"
      ]
    },
    {
      "cell_type": "code",
      "metadata": {
        "id": "jFx_BQDisiiS",
        "colab_type": "code",
        "outputId": "57374e52-f5a7-4d10-ea74-772d0af430b8",
        "colab": {
          "base_uri": "https://localhost:8080/",
          "height": 53
        }
      },
      "source": [
        "# for in range 표현식 1\n",
        "for i in range(5):    \n",
        "    print(i, end = ' ')\n",
        "print()\n",
        "\n",
        "# for in range 표현식 2\n",
        "for i in range(0, 5):    \n",
        "    print(i, end = ' ')\n",
        "print()"
      ],
      "execution_count": 0,
      "outputs": [
        {
          "output_type": "stream",
          "text": [
            "0 1 2 3 4 \n",
            "0 1 2 3 4 \n"
          ],
          "name": "stdout"
        }
      ]
    },
    {
      "cell_type": "markdown",
      "metadata": {
        "id": "U8RlYClxsiiT",
        "colab_type": "text"
      },
      "source": [
        "# 코드 3-24 : range() 함수를 이용한 for문의 제어와 간격값 사용법\n",
        "## for_in_range_test4.py"
      ]
    },
    {
      "cell_type": "code",
      "metadata": {
        "id": "lgu0k_b0siiU",
        "colab_type": "code",
        "outputId": "b1cdc53c-ceb5-4cb5-dcd4-6a3a4bc07554",
        "colab": {
          "base_uri": "https://localhost:8080/",
          "height": 71
        }
      },
      "source": [
        "# 표현식 1 : 2에서 5-1까지 연속값 2, 3, 4 출력\n",
        "for i in range(2, 5):\n",
        "    print(i, end = ' ')\n",
        "print()\n",
        "\n",
        "# 표현식 2 : 간격 값을 사용하여 0, 2, 4, 6, 8 출력\n",
        "for i in range(0, 10, 2):\n",
        "    print(i, end = ' ')\n",
        "print()\n",
        "\n",
        "# 표현식 3 : 음수 간격 값 사용, -2,-4,-6,-8 출력\n",
        "for i in range(-2, -10, -2):\n",
        "    print(i, end = ' ')\n",
        "print()"
      ],
      "execution_count": 0,
      "outputs": [
        {
          "output_type": "stream",
          "text": [
            "2 3 4 \n",
            "0 2 4 6 8 \n",
            "-2 -4 -6 -8 \n"
          ],
          "name": "stdout"
        }
      ]
    },
    {
      "cell_type": "markdown",
      "metadata": {
        "id": "TkC0Z3iUsiiX",
        "colab_type": "text"
      },
      "source": [
        "# 코드 3-25 : 연속적인 값의 생성과 누적 덧셈\n",
        "## for_sum_ex1.py"
      ]
    },
    {
      "cell_type": "code",
      "metadata": {
        "id": "T1j9_jLosiiX",
        "colab_type": "code",
        "outputId": "50c0bf47-b5b8-446a-c610-c3e4c191cb7e",
        "colab": {
          "base_uri": "https://localhost:8080/",
          "height": 35
        }
      },
      "source": [
        "s = 0\n",
        "for i in range(1, 11):\n",
        "    s = s + i\n",
        "    \n",
        "print('1에서 10까지의 합:', s)"
      ],
      "execution_count": 0,
      "outputs": [
        {
          "output_type": "stream",
          "text": [
            "1에서 10까지의 합: 55\n"
          ],
          "name": "stdout"
        }
      ]
    },
    {
      "cell_type": "markdown",
      "metadata": {
        "id": "pUe1S6NHsiiZ",
        "colab_type": "text"
      },
      "source": [
        "# 코드 3-26 : 누적 덧셈의 중간 결과 출력하기\n",
        "## for_sum_ex2.py"
      ]
    },
    {
      "cell_type": "code",
      "metadata": {
        "id": "FqEyxyVFsiia",
        "colab_type": "code",
        "outputId": "6ba4d8ab-5341-4df8-a10a-64dab2dd2042",
        "colab": {
          "base_uri": "https://localhost:8080/",
          "height": 215
        }
      },
      "source": [
        "s = 0\n",
        "for i in range(1, 11):\n",
        "    s = s + i\n",
        "    print('i = {}, s = {}'.format(i, s) )\n",
        "    \n",
        "print('1에서 10까지의 합:', s)"
      ],
      "execution_count": 0,
      "outputs": [
        {
          "output_type": "stream",
          "text": [
            "i = 1, s = 1\n",
            "i = 2, s = 3\n",
            "i = 3, s = 6\n",
            "i = 4, s = 10\n",
            "i = 5, s = 15\n",
            "i = 6, s = 21\n",
            "i = 7, s = 28\n",
            "i = 8, s = 36\n",
            "i = 9, s = 45\n",
            "i = 10, s = 55\n",
            "1에서 10까지의 합: 55\n"
          ],
          "name": "stdout"
        }
      ]
    },
    {
      "cell_type": "markdown",
      "metadata": {
        "id": "Nt2HBIiesiib",
        "colab_type": "text"
      },
      "source": [
        "# 코드 3-27 : 사용자로부터 입력을 받은 후 누적 합계 값 구하기\n",
        "## for_sum_input1.py"
      ]
    },
    {
      "cell_type": "code",
      "metadata": {
        "id": "UkPyUjGXsiic",
        "colab_type": "code",
        "outputId": "2daf887d-dbe1-402c-9441-76228f5234c5",
        "colab": {
          "base_uri": "https://localhost:8080/",
          "height": 53
        }
      },
      "source": [
        "n = int(input('합계를 구할 수를 입력하세요 : '))\n",
        "s = 0\n",
        "\n",
        "for i in range(0, n) :    \n",
        "    s = s + (i+1)\n",
        "\n",
        "print('1부터 {}까지의 합은 {}'.format(n, s))"
      ],
      "execution_count": 0,
      "outputs": [
        {
          "output_type": "stream",
          "text": [
            "합계를 구할 수를 입력하세요 : 100\n",
            "1부터 100까지의 합은 5050\n"
          ],
          "name": "stdout"
        }
      ]
    },
    {
      "cell_type": "markdown",
      "metadata": {
        "id": "D_6tnMabsiid",
        "colab_type": "text"
      },
      "source": [
        "# 코드 3-28 : 사용자로부터 입력을 받은 후 누적 합계 값 구하기\n",
        "## for_sum_input2.py"
      ]
    },
    {
      "cell_type": "code",
      "metadata": {
        "id": "z7v_pqw1siid",
        "colab_type": "code",
        "outputId": "060d8950-5159-4af8-f26e-1569b62e7f6c",
        "colab": {
          "base_uri": "https://localhost:8080/",
          "height": 53
        }
      },
      "source": [
        "n = int(input('합계를 구할 수를 입력하세요 : '))\n",
        "s = 0\n",
        "\n",
        "for i in range(1, n+1) :    \n",
        "    s = s + i\n",
        "\n",
        "print('1부터 {}까지의 합은 {}'.format(n, s))"
      ],
      "execution_count": 0,
      "outputs": [
        {
          "output_type": "stream",
          "text": [
            "합계를 구할 수를 입력하세요 : 100\n",
            "1부터 100까지의 합은 5050\n"
          ],
          "name": "stdout"
        }
      ]
    },
    {
      "cell_type": "markdown",
      "metadata": {
        "id": "rgBZYKWQsiif",
        "colab_type": "text"
      },
      "source": [
        "# 코드 3-29 : for 반복문을 이용한 5 팩토리얼(5!) 계산\n",
        "## for_factorial.py"
      ]
    },
    {
      "cell_type": "code",
      "metadata": {
        "id": "0TYPxDvzsiif",
        "colab_type": "code",
        "outputId": "e883dcb0-01c6-4bb4-d1f6-02af019d7671",
        "colab": {
          "base_uri": "https://localhost:8080/",
          "height": 53
        }
      },
      "source": [
        "n = int(input('수를 입력하세요 : '))\n",
        "fact = 1\n",
        "for i in range(1, n+1):\n",
        "    fact = fact * i\n",
        "    \n",
        "print('{}! = {}'.format(n, fact))"
      ],
      "execution_count": 0,
      "outputs": [
        {
          "output_type": "stream",
          "text": [
            "수를 입력하세요 : 5\n",
            "5! = 120\n"
          ],
          "name": "stdout"
        }
      ]
    },
    {
      "cell_type": "markdown",
      "metadata": {
        "id": "dIL-0r6wsiih",
        "colab_type": "text"
      },
      "source": [
        "# 코드 3-30 : for문을 이용한 리스트의 정수 객체 순회\n",
        "## for_in_numbers.py"
      ]
    },
    {
      "cell_type": "code",
      "metadata": {
        "id": "x6sQyfFOsiii",
        "colab_type": "code",
        "outputId": "d4534ff6-089d-441c-89d5-3892a3da18c9",
        "colab": {
          "base_uri": "https://localhost:8080/",
          "height": 35
        }
      },
      "source": [
        "numbers = [11, 22, 33, 44, 55, 66]\n",
        "\n",
        "for n in numbers:    \n",
        "    print(n, end = ' ')"
      ],
      "execution_count": 0,
      "outputs": [
        {
          "output_type": "stream",
          "text": [
            "11 22 33 44 55 66 "
          ],
          "name": "stdout"
        }
      ]
    },
    {
      "cell_type": "markdown",
      "metadata": {
        "id": "hG4oTF2Psiik",
        "colab_type": "text"
      },
      "source": [
        "# 코드 3-31 : for문을 이용한 리스트의 실수 객체 순회\n",
        "## for_in_f_numbers.py"
      ]
    },
    {
      "cell_type": "code",
      "metadata": {
        "id": "aP1QzIJgsiik",
        "colab_type": "code",
        "outputId": "e65703d7-f11c-44d4-960f-0ebffda9072a",
        "colab": {
          "base_uri": "https://localhost:8080/",
          "height": 35
        }
      },
      "source": [
        "f_numbers = [1.1, 2.5, 3.7, 5.6, 9.2, 11.3, 6.8]\n",
        "\n",
        "for f in f_numbers:\n",
        "    print(f, end = ' ')"
      ],
      "execution_count": 0,
      "outputs": [
        {
          "output_type": "stream",
          "text": [
            "1.1 2.5 3.7 5.6 9.2 11.3 6.8 "
          ],
          "name": "stdout"
        }
      ]
    },
    {
      "cell_type": "markdown",
      "metadata": {
        "id": "_IIBnZoUsiim",
        "colab_type": "text"
      },
      "source": [
        "# 코드 3-32 : for문을 이용한 리스트의 문자열 객체 순회\n",
        "## for_in_str_list.py"
      ]
    },
    {
      "cell_type": "code",
      "metadata": {
        "id": "Foi1Wn-Nsiin",
        "colab_type": "code",
        "outputId": "20e7ab22-05d4-44ec-8d95-a386b7a34fc2",
        "colab": {
          "base_uri": "https://localhost:8080/",
          "height": 35
        }
      },
      "source": [
        "summer_fruits = ['수박', '참외', '체리', '포도']\n",
        "\n",
        "for fruit in summer_fruits:    \n",
        "    print(fruit, end = ' ')"
      ],
      "execution_count": 0,
      "outputs": [
        {
          "output_type": "stream",
          "text": [
            "수박 참외 체리 포도 "
          ],
          "name": "stdout"
        }
      ]
    },
    {
      "cell_type": "markdown",
      "metadata": {
        "id": "OAjCsAgjsiip",
        "colab_type": "text"
      },
      "source": [
        "# 코드 3-33 : 리스트 항목내 정수 값들의 누적 덧셈\n",
        "## for_sum1.py"
      ]
    },
    {
      "cell_type": "code",
      "metadata": {
        "id": "PPB-lKo8siiq",
        "colab_type": "code",
        "outputId": "9cd577f6-42eb-40da-dd6a-fbe8f667597b",
        "colab": {
          "base_uri": "https://localhost:8080/",
          "height": 35
        }
      },
      "source": [
        "numbers = [10, 20, 30, 40, 50]\n",
        "s = 0\n",
        "for n in numbers:    \n",
        "    s = s + n\n",
        "    \n",
        "print('리스트 항목 값의 합 :', s)"
      ],
      "execution_count": 0,
      "outputs": [
        {
          "output_type": "stream",
          "text": [
            "리스트 항목 값의 합 : 150\n"
          ],
          "name": "stdout"
        }
      ]
    },
    {
      "cell_type": "markdown",
      "metadata": {
        "id": "LlFJRgSysiit",
        "colab_type": "text"
      },
      "source": [
        "# 코드 3-34 : sum() 함수의 사용\n",
        "## for_sum2.py"
      ]
    },
    {
      "cell_type": "code",
      "metadata": {
        "id": "12X0Ri2jsiiu",
        "colab_type": "code",
        "outputId": "c994197c-eeca-42cb-fc59-593fbfab8e71",
        "colab": {
          "base_uri": "https://localhost:8080/",
          "height": 35
        }
      },
      "source": [
        "numbers = [10, 20, 30, 40, 50]\n",
        "\n",
        "print('리스트 항목 값의 합 :', sum(numbers))"
      ],
      "execution_count": 0,
      "outputs": [
        {
          "output_type": "stream",
          "text": [
            "리스트 항목 값의 합 : 150\n"
          ],
          "name": "stdout"
        }
      ]
    },
    {
      "cell_type": "markdown",
      "metadata": {
        "id": "2q52EJ7PFLqU",
        "colab_type": "text"
      },
      "source": [
        "## 대화창 실습 : 대화형 모드를 통한 1에서 100까지의 합"
      ]
    },
    {
      "cell_type": "code",
      "metadata": {
        "id": "sjk3ehyoEOzG",
        "colab_type": "code",
        "outputId": "85c09701-2352-4959-db47-ced88924cf0f",
        "colab": {
          "base_uri": "https://localhost:8080/",
          "height": 35
        }
      },
      "source": [
        "print('1에서 100까지의 합 :', sum(range(1, 101)))"
      ],
      "execution_count": 0,
      "outputs": [
        {
          "output_type": "stream",
          "text": [
            "1에서 100까지의 합 : 5050\n"
          ],
          "name": "stdout"
        }
      ]
    },
    {
      "cell_type": "markdown",
      "metadata": {
        "id": "xvo2xiOmsiiw",
        "colab_type": "text"
      },
      "source": [
        "## 대화창 실습 : 대화형 모드를 통한 str 자료형의 리스트화"
      ]
    },
    {
      "cell_type": "code",
      "metadata": {
        "id": "Mjd78g-Ssiix",
        "colab_type": "code",
        "outputId": "6d39b1f8-6bdd-4d7d-9435-85936bcd980f",
        "colab": {
          "base_uri": "https://localhost:8080/",
          "height": 35
        }
      },
      "source": [
        "st = 'Hello'\n",
        "list(st)"
      ],
      "execution_count": 0,
      "outputs": [
        {
          "output_type": "execute_result",
          "data": {
            "text/plain": [
              "['H', 'e', 'l', 'l', 'o']"
            ]
          },
          "metadata": {
            "tags": []
          },
          "execution_count": 79
        }
      ]
    },
    {
      "cell_type": "markdown",
      "metadata": {
        "id": "FBMzbvzKsiiz",
        "colab_type": "text"
      },
      "source": [
        "# 코드 3-35 : for 반복문에서 문자열의 사용\n",
        "## for_in_hello.py"
      ]
    },
    {
      "cell_type": "code",
      "metadata": {
        "scrolled": true,
        "id": "vRP9FjAosiiz",
        "colab_type": "code",
        "outputId": "dcde4b30-8b87-48ab-a527-951bf288bcc2",
        "colab": {
          "base_uri": "https://localhost:8080/",
          "height": 35
        }
      },
      "source": [
        "for ch in 'Hello':\n",
        "    print(ch, end = ' ')"
      ],
      "execution_count": 0,
      "outputs": [
        {
          "output_type": "stream",
          "text": [
            "H e l l o "
          ],
          "name": "stdout"
        }
      ]
    },
    {
      "cell_type": "markdown",
      "metadata": {
        "id": "FKcUolnqsii1",
        "colab_type": "text"
      },
      "source": [
        "# 코드 3-36 : 중첩 for문을 사용한 구구단 출력\n",
        "## double_for.py"
      ]
    },
    {
      "cell_type": "code",
      "metadata": {
        "id": "2vMmL8MKsii1",
        "colab_type": "code",
        "outputId": "d4260c60-f9b3-40c1-8730-6cbd1445af24",
        "colab": {
          "base_uri": "https://localhost:8080/",
          "height": 161
        }
      },
      "source": [
        "for i in range(2,10):                # 외부 for 루프\n",
        "    for j in range(1,10):            # 내부 for 루프\n",
        "        print('{}*{} = {:2d}'.format(i, j, i*j), end = '  ')\n",
        "    print()         # 내부 루프 수행 후 줄바꿈을 함"
      ],
      "execution_count": 0,
      "outputs": [
        {
          "output_type": "stream",
          "text": [
            "2*1 =  2  2*2 =  4  2*3 =  6  2*4 =  8  2*5 = 10  2*6 = 12  2*7 = 14  2*8 = 16  2*9 = 18  \n",
            "3*1 =  3  3*2 =  6  3*3 =  9  3*4 = 12  3*5 = 15  3*6 = 18  3*7 = 21  3*8 = 24  3*9 = 27  \n",
            "4*1 =  4  4*2 =  8  4*3 = 12  4*4 = 16  4*5 = 20  4*6 = 24  4*7 = 28  4*8 = 32  4*9 = 36  \n",
            "5*1 =  5  5*2 = 10  5*3 = 15  5*4 = 20  5*5 = 25  5*6 = 30  5*7 = 35  5*8 = 40  5*9 = 45  \n",
            "6*1 =  6  6*2 = 12  6*3 = 18  6*4 = 24  6*5 = 30  6*6 = 36  6*7 = 42  6*8 = 48  6*9 = 54  \n",
            "7*1 =  7  7*2 = 14  7*3 = 21  7*4 = 28  7*5 = 35  7*6 = 42  7*7 = 49  7*8 = 56  7*9 = 63  \n",
            "8*1 =  8  8*2 = 16  8*3 = 24  8*4 = 32  8*5 = 40  8*6 = 48  8*7 = 56  8*8 = 64  8*9 = 72  \n",
            "9*1 =  9  9*2 = 18  9*3 = 27  9*4 = 36  9*5 = 45  9*6 = 54  9*7 = 63  9*8 = 72  9*9 = 81  \n"
          ],
          "name": "stdout"
        }
      ]
    },
    {
      "cell_type": "markdown",
      "metadata": {
        "id": "ME0wgi9Nsii9",
        "colab_type": "text"
      },
      "source": [
        "# 코드 3-37 : 이중 for 루프를 사용한 패턴 생성하기\n",
        "## double_for_pattern.py"
      ]
    },
    {
      "cell_type": "code",
      "metadata": {
        "id": "M-gjJFqRsii9",
        "colab_type": "code",
        "outputId": "31fa3efc-eb07-48ad-ff58-6dfba836e14b",
        "colab": {
          "base_uri": "https://localhost:8080/",
          "height": 143
        }
      },
      "source": [
        "n = 7\n",
        "for i in range(n):       # 외부 for 루프는 n번 수행, i는 0,1,2,3,4,5,6 까지 증가\n",
        "    st = ''\n",
        "    for j in  range(i):  # 내부 for 루프는 i번 수행\n",
        "        st = st + ' '    # 공백을 i개 추가함\n",
        "    print(st + '#')      # 공백 추가 후 '#'출력"
      ],
      "execution_count": 0,
      "outputs": [
        {
          "output_type": "stream",
          "text": [
            "#\n",
            " #\n",
            "  #\n",
            "   #\n",
            "    #\n",
            "     #\n",
            "      #\n"
          ],
          "name": "stdout"
        }
      ]
    },
    {
      "cell_type": "markdown",
      "metadata": {
        "id": "yIzJ8pjEsii_",
        "colab_type": "text"
      },
      "source": [
        "# 코드 3-38 : for 루프와 *를 사용한 패턴 생성하기\n",
        "## for_pattern.py"
      ]
    },
    {
      "cell_type": "code",
      "metadata": {
        "scrolled": false,
        "id": "gAOG8mCCsii_",
        "colab_type": "code",
        "outputId": "525d2262-659f-419e-ce3e-98c977a31187",
        "colab": {
          "base_uri": "https://localhost:8080/",
          "height": 143
        }
      },
      "source": [
        "n = 7\n",
        "for i in range(n):        # 외부 for 루프는 n번 수행, i는 0,1,2,3,4,5,6 까지 증가 \n",
        "    print (' ' * i + '#') # 공백을 i번 추가한 후 '#'출력"
      ],
      "execution_count": 0,
      "outputs": [
        {
          "output_type": "stream",
          "text": [
            "#\n",
            " #\n",
            "  #\n",
            "   #\n",
            "    #\n",
            "     #\n",
            "      #\n"
          ],
          "name": "stdout"
        }
      ]
    },
    {
      "cell_type": "markdown",
      "metadata": {
        "id": "yhtj63JVsijB",
        "colab_type": "text"
      },
      "source": [
        "# 코드 3-39 : 4, 3, 2, 1, 0을 순서대로 출력하는 프로그램\n",
        "## pattern_test1.py"
      ]
    },
    {
      "cell_type": "code",
      "metadata": {
        "id": "ieMud3BfsijB",
        "colab_type": "code",
        "outputId": "e8debfa0-d0a3-43f0-f595-1cd7ad8f84a9",
        "colab": {
          "base_uri": "https://localhost:8080/",
          "height": 35
        }
      },
      "source": [
        "n = 5\n",
        "for i in range(n):                  # i는 0,1,2,3,4 까지 증가\n",
        "    print(n - (i + 1), end = ' ')   # n이 5이므로 n-(i+1)은 4,3,2,1,0이 됨"
      ],
      "execution_count": 0,
      "outputs": [
        {
          "output_type": "stream",
          "text": [
            "4 3 2 1 0 "
          ],
          "name": "stdout"
        }
      ]
    },
    {
      "cell_type": "markdown",
      "metadata": {
        "id": "UC1Z-VU9sijG",
        "colab_type": "text"
      },
      "source": [
        "# 코드 3-40 : 1, 3, 5, 7, 9를 순서대로 출력하는 프로그램\n",
        "## pattern_test2.py"
      ]
    },
    {
      "cell_type": "code",
      "metadata": {
        "id": "tq5uYSeKsijG",
        "colab_type": "code",
        "outputId": "fcc07a2f-47c9-4138-cf63-8a756522e69f",
        "colab": {
          "base_uri": "https://localhost:8080/",
          "height": 35
        }
      },
      "source": [
        "n = 5\n",
        "for i in range(n):                # i는 0,1,2,3,4 까지 증가\n",
        "    print(2 * i + 1, end = ' ')   # 2 * i + 1은 1,3,5,7,9가 됨"
      ],
      "execution_count": 0,
      "outputs": [
        {
          "output_type": "stream",
          "text": [
            "1 3 5 7 9 "
          ],
          "name": "stdout"
        }
      ]
    },
    {
      "cell_type": "markdown",
      "metadata": {
        "id": "YF_VTSZCsijI",
        "colab_type": "text"
      },
      "source": [
        "# 코드 3-41 : 삼각형 패턴을 출력하는 기능\n",
        "## triangle_pattern1.py"
      ]
    },
    {
      "cell_type": "code",
      "metadata": {
        "id": "HoA8wrFssijI",
        "colab_type": "code",
        "outputId": "abbbdd72-fff3-4789-df7c-66e991ac8171",
        "colab": {
          "base_uri": "https://localhost:8080/",
          "height": 107
        }
      },
      "source": [
        "n = 5\n",
        "for i in range(n):\n",
        "    for j in range(n - (i + 1)): # 공백을 출력함\n",
        "        print(' ', end = '')\n",
        "    for j in range(2 * i + 1):   # ‘+’를 출력함\n",
        "        print('+', end = '')\n",
        "    print()"
      ],
      "execution_count": 0,
      "outputs": [
        {
          "output_type": "stream",
          "text": [
            "    +\n",
            "   +++\n",
            "  +++++\n",
            " +++++++\n",
            "+++++++++\n"
          ],
          "name": "stdout"
        }
      ]
    },
    {
      "cell_type": "markdown",
      "metadata": {
        "id": "cnU82QI6sijK",
        "colab_type": "text"
      },
      "source": [
        "# 코드 3-42 : 삼각형 패턴을 출력하는 기능을 가진 짧은 코드\n",
        "## triangle_pattern2.py"
      ]
    },
    {
      "cell_type": "code",
      "metadata": {
        "id": "HS-fsEYFsijL",
        "colab_type": "code",
        "outputId": "4506de39-d9fd-4851-adfa-ca11e0e1ef43",
        "colab": {
          "base_uri": "https://localhost:8080/",
          "height": 107
        }
      },
      "source": [
        "n = 5\n",
        "for i in range(n):\n",
        "    print(' ' * (n - (i + 1)), end = '')\n",
        "    print('+' * (2 * i + 1))"
      ],
      "execution_count": 0,
      "outputs": [
        {
          "output_type": "stream",
          "text": [
            "    +\n",
            "   +++\n",
            "  +++++\n",
            " +++++++\n",
            "+++++++++\n"
          ],
          "name": "stdout"
        }
      ]
    },
    {
      "cell_type": "code",
      "metadata": {
        "id": "B5vmVIgZYO_i",
        "colab_type": "code",
        "outputId": "2040aade-0ca6-420b-b14e-4a731f12cbc6",
        "colab": {
          "base_uri": "https://localhost:8080/",
          "height": 53
        }
      },
      "source": [
        "n = int(input('수를 입력하세요 :'))\n",
        "is_prime = True\n",
        "for num in range(2, n):   # 2~(n-1) 사이의 수 num에 대하여\n",
        "    if n % num == 0:      # 이 수 중에서 n의 약수가 있으면        \n",
        "        is_prime = False  # 소수가 아님\n",
        "\n",
        "print(n,'is prime :', is_prime)"
      ],
      "execution_count": 0,
      "outputs": [
        {
          "output_type": "stream",
          "text": [
            "수를 입력하세요 :12\n",
            "12 is prime : False\n"
          ],
          "name": "stdout"
        }
      ]
    },
    {
      "cell_type": "markdown",
      "metadata": {
        "id": "_adJgTDpsijM",
        "colab_type": "text"
      },
      "source": [
        "# 코드 3-43 : 2부터 100까지의 소수 구하기\n",
        "## get_primes.py"
      ]
    },
    {
      "cell_type": "code",
      "metadata": {
        "id": "3xgSAjjlsijM",
        "colab_type": "code",
        "outputId": "ceb7e46d-6a29-4063-d67d-eb4238bae065",
        "colab": {
          "base_uri": "https://localhost:8080/",
          "height": 35
        }
      },
      "source": [
        "# 소수를 담을 리스트 초기화\n",
        "primes = []\n",
        "\n",
        "for n in range(2, 101):\n",
        "    # 일단 n을 소수라고 두자\n",
        "    is_prime = True    \n",
        "    for num in range(2, n):     # 2~(n-1) 사이의 수 num에 대하여\n",
        "        if n % num == 0:        # 이 수 중에서 n의 약수가 있으면        \n",
        "            is_prime = False    # 소수가 아님\n",
        "    \n",
        "    if is_prime:                # 소수일 경우 primes라는 리스트에 추가한다\n",
        "        primes.append(n)        # append() 메소드는 리스트에 n을 추가함\n",
        "        \n",
        "print(primes)"
      ],
      "execution_count": 0,
      "outputs": [
        {
          "output_type": "stream",
          "text": [
            "[2, 3, 5, 7, 11, 13, 17, 19, 23, 29, 31, 37, 41, 43, 47, 53, 59, 61, 67, 71, 73, 79, 83, 89, 97]\n"
          ],
          "name": "stdout"
        }
      ]
    },
    {
      "cell_type": "markdown",
      "metadata": {
        "id": "tje2XG5HsijO",
        "colab_type": "text"
      },
      "source": [
        "# 코드 3-44 : for문을 이용한 'Welcome to everyone!!'의 반복 출력기능\n",
        "## print_welcome_with_for.py"
      ]
    },
    {
      "cell_type": "code",
      "metadata": {
        "id": "txjr-u8xsijO",
        "colab_type": "code",
        "outputId": "43b3876e-7ad0-4465-caa2-e824eaf445b7",
        "colab": {
          "base_uri": "https://localhost:8080/",
          "height": 107
        }
      },
      "source": [
        "for i in range(5):\n",
        "    print('Welcome to everyone!!')"
      ],
      "execution_count": 0,
      "outputs": [
        {
          "output_type": "stream",
          "text": [
            "Welcome to everyone!!\n",
            "Welcome to everyone!!\n",
            "Welcome to everyone!!\n",
            "Welcome to everyone!!\n",
            "Welcome to everyone!!\n"
          ],
          "name": "stdout"
        }
      ]
    },
    {
      "cell_type": "markdown",
      "metadata": {
        "id": "Ct1f0MojsijP",
        "colab_type": "text"
      },
      "source": [
        "# 코드 3-45 : while문을 이용한 'Welcome to everyone!!'의 반복 출력기능\n",
        "## print_welcome_with_while.py"
      ]
    },
    {
      "cell_type": "code",
      "metadata": {
        "id": "mlbJ85LksijQ",
        "colab_type": "code",
        "outputId": "6c69fbac-d2da-4074-dbfc-1ddcbf20f22f",
        "colab": {
          "base_uri": "https://localhost:8080/",
          "height": 107
        }
      },
      "source": [
        "i = 0  # 초기 값\n",
        "while i < 5:    # 루프의 조건식이 참이면 내부 블록이 실행됨\n",
        "    print('Welcome to everyone!!')\n",
        "    i += 1      # 조건 값의 변경"
      ],
      "execution_count": 0,
      "outputs": [
        {
          "output_type": "stream",
          "text": [
            "Welcome to everyone!!\n",
            "Welcome to everyone!!\n",
            "Welcome to everyone!!\n",
            "Welcome to everyone!!\n",
            "Welcome to everyone!!\n"
          ],
          "name": "stdout"
        }
      ]
    },
    {
      "cell_type": "markdown",
      "metadata": {
        "id": "Xqc_VE5FsijS",
        "colab_type": "text"
      },
      "source": [
        "# 코드 3-46 : 지정된 수까지의 누적 합을 구하는 기능\n",
        "## while_sum_input.py"
      ]
    },
    {
      "cell_type": "code",
      "metadata": {
        "id": "R07vARi1sijS",
        "colab_type": "code",
        "outputId": "06c09b51-5ae4-499e-f3b8-c066fe24c00c",
        "colab": {
          "base_uri": "https://localhost:8080/",
          "height": 53
        }
      },
      "source": [
        "n = int(input('합계를 구할 수를 입력하세요 : '))\n",
        "s = 0\n",
        "i = 1\n",
        "while i <= n:    \n",
        "    s = s + i\n",
        "    i += 1\n",
        "    \n",
        "print('1부터 {}까지의 합은 {}'.format(n, s))"
      ],
      "execution_count": 0,
      "outputs": [
        {
          "output_type": "stream",
          "text": [
            "합계를 구할 수를 입력하세요 : 100\n",
            "1부터 100까지의 합은 5050\n"
          ],
          "name": "stdout"
        }
      ]
    },
    {
      "cell_type": "markdown",
      "metadata": {
        "id": "C4_B-z8-sijT",
        "colab_type": "text"
      },
      "source": [
        "# 코드 3-47 : while 반복문을 이용한 가위, 바위, 보 선택하기\n",
        "## rsp_input.py"
      ]
    },
    {
      "cell_type": "code",
      "metadata": {
        "id": "3anuHkCNsijT",
        "colab_type": "code",
        "outputId": "64b94f18-ebed-4b8f-a036-b91fe4b9cd6b",
        "colab": {
          "base_uri": "https://localhost:8080/",
          "height": 107
        }
      },
      "source": [
        "selected = None\n",
        "while selected not in ['가위', '바위', '보']:\n",
        "    selected = input('가위, 바위, 보 중에 선택하세요> ')\n",
        "\n",
        "print('선택한 값은:', selected)"
      ],
      "execution_count": 0,
      "outputs": [
        {
          "output_type": "stream",
          "text": [
            "가위, 바위, 보 중에 선택하세요> 묵\n",
            "가위, 바위, 보 중에 선택하세요> 찌\n",
            "가위, 바위, 보 중에 선택하세요> 빠\n",
            "가위, 바위, 보 중에 선택하세요> 가위\n",
            "선택한 값은: 가위\n"
          ],
          "name": "stdout"
        }
      ]
    },
    {
      "cell_type": "markdown",
      "metadata": {
        "id": "aKrPsXS5sijU",
        "colab_type": "text"
      },
      "source": [
        "# 코드 3-48 : 양수 n을 입력받아 1부터 n까지의 합을 구하는 코드\n",
        "## for_sum_input2.py"
      ]
    },
    {
      "cell_type": "code",
      "metadata": {
        "id": "IhvbJDhJsijV",
        "colab_type": "code",
        "outputId": "05fd52aa-d4dc-42ff-f57d-0c5bad5abc01",
        "colab": {
          "base_uri": "https://localhost:8080/",
          "height": 53
        }
      },
      "source": [
        "n = int(input('합계를 구할 양의 정수를 입력하세요  : '))\n",
        "s = 0\n",
        "\n",
        "for i in range(1, n+1) :    \n",
        "    s = s + i\n",
        "\n",
        "print('1부터 {}까지의 합은 {}'.format(n, s))"
      ],
      "execution_count": 0,
      "outputs": [
        {
          "output_type": "stream",
          "text": [
            "합계를 구할 양의 정수를 입력하세요  : -10\n",
            "1부터 -10까지의 합은 0\n"
          ],
          "name": "stdout"
        }
      ]
    },
    {
      "cell_type": "markdown",
      "metadata": {
        "id": "PYUH0akFsijW",
        "colab_type": "text"
      },
      "source": [
        "# 코드 3-49 : 1부터 n까지의 합을 구하는 코드로 while문 내에서 입력문 사용\n",
        "## for_sum_input2_1.py"
      ]
    },
    {
      "cell_type": "code",
      "metadata": {
        "id": "Fpy0ufz8sijW",
        "colab_type": "code",
        "outputId": "3e9e3842-6dd1-4b3b-ed36-81c46937888d",
        "colab": {
          "base_uri": "https://localhost:8080/",
          "height": 89
        }
      },
      "source": [
        "n = -1\n",
        "while n <= 0: # 양수가 입력될 때 까지 input() 문을 반복 수행함\n",
        "    n = int(input('합계를 구할 양의 정수를 입력하세요 : '))\n",
        "\n",
        "s = 0\n",
        "for i in range(1, n+1) :    \n",
        "    s = s + i\n",
        "\n",
        "print('1부터 {}까지의 합은 {}'.format(n, s))"
      ],
      "execution_count": 0,
      "outputs": [
        {
          "output_type": "stream",
          "text": [
            "합계를 구할 양의 정수를 입력하세요 : -10\n",
            "합계를 구할 양의 정수를 입력하세요 : 0\n",
            "합계를 구할 양의 정수를 입력하세요 : 10\n",
            "1부터 10까지의 합은 55\n"
          ],
          "name": "stdout"
        }
      ]
    },
    {
      "cell_type": "markdown",
      "metadata": {
        "id": "c_6HAVezsijX",
        "colab_type": "text"
      },
      "source": [
        "# 코드 3-50 : break를 사용하여 모음이 나타나면 반복문을 종료하는 기능 \n",
        "## skip_vowel_break.py"
      ]
    },
    {
      "cell_type": "code",
      "metadata": {
        "id": "V9M4UkL2sijX",
        "colab_type": "code",
        "outputId": "1adf6e9d-32c9-42a5-99ae-1bfb181717fa",
        "colab": {
          "base_uri": "https://localhost:8080/",
          "height": 71
        }
      },
      "source": [
        "st = 'Programming'\n",
        "\n",
        "# 자음이 나타나는 동안만 출력하는 기능\n",
        "for ch in st:\n",
        "    if ch in ['a','e','i','o','u']:\n",
        "        break    # 모음일 경우 반복문을 종료한다.\n",
        "    print(ch)\n",
        "    \n",
        "print('The end')"
      ],
      "execution_count": 0,
      "outputs": [
        {
          "output_type": "stream",
          "text": [
            "P\n",
            "r\n",
            "The end\n"
          ],
          "name": "stdout"
        }
      ]
    },
    {
      "cell_type": "markdown",
      "metadata": {
        "id": "6QvvvZkxsijY",
        "colab_type": "text"
      },
      "source": [
        "# 코드 3-51 : continue를 사용하여 모음일 경우 출력을 건너뛰는 기능\n",
        "## skip_vowel_continue.py"
      ]
    },
    {
      "cell_type": "code",
      "metadata": {
        "id": "lJPpTi2fsijY",
        "colab_type": "code",
        "outputId": "723c1949-c5b6-4781-99cd-7fab54234581",
        "colab": {
          "base_uri": "https://localhost:8080/",
          "height": 179
        }
      },
      "source": [
        "st = 'Programming'\n",
        "\n",
        "# 자음이 나타날때만 출력하는 기능\n",
        "for ch in st:\n",
        "    if ch in ['a','e','i','o','u']:\n",
        "        continue  # 모음일 경우 아래 출력을 건너뛴다\n",
        "    print(ch)\n",
        "    \n",
        "print('The end')"
      ],
      "execution_count": 0,
      "outputs": [
        {
          "output_type": "stream",
          "text": [
            "P\n",
            "r\n",
            "g\n",
            "r\n",
            "m\n",
            "m\n",
            "n\n",
            "g\n",
            "The end\n"
          ],
          "name": "stdout"
        }
      ]
    }
  ]
}