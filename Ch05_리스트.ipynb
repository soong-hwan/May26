{
  "nbformat": 4,
  "nbformat_minor": 0,
  "metadata": {
    "colab": {
      "name": "Ch05-리스트.ipynb",
      "provenance": [],
      "collapsed_sections": [],
      "include_colab_link": true
    },
    "language_info": {
      "codemirror_mode": {
        "name": "ipython",
        "version": 3
      },
      "file_extension": ".py",
      "mimetype": "text/x-python",
      "name": "python",
      "nbconvert_exporter": "python",
      "pygments_lexer": "ipython3",
      "version": "3.7.3"
    },
    "kernelspec": {
      "display_name": "Python 3",
      "language": "python",
      "name": "python3"
    }
  },
  "cells": [
    {
      "cell_type": "markdown",
      "metadata": {
        "id": "view-in-github",
        "colab_type": "text"
      },
      "source": [
        "<a href=\"https://colab.research.google.com/github/dongupak/Prime-Python/blob/master/jupyter-notebook/Ch05_%EB%A6%AC%EC%8A%A4%ED%8A%B8.ipynb\" target=\"_parent\"><img src=\"https://colab.research.google.com/assets/colab-badge.svg\" alt=\"Open In Colab\"/></a>"
      ]
    },
    {
      "cell_type": "markdown",
      "metadata": {
        "id": "WP2TRkUhMRng",
        "colab_type": "text"
      },
      "source": [
        "# **생능 출판사 \"으뜸 파이썬\"(1판) 교재의 소스 코드**\n",
        "# *5장 리스트*\n",
        "---\n",
        "* 출판사 : 생능 출판사( http://www.booksr.co.kr/ )\n",
        "* 으뜸 파이썬 저자 : 박동규, 강영민 \n",
        "* 소스코드 저장소 : https://github.com/dongupak/Prime-Python\n",
        "* 저작권 : 본 주피터 노트북 코드는 자유롭게 배포가능하지만 위의 출판사, 저서, 저자표기와 함께 배포해 주십시오.\n",
        "--- "
      ]
    },
    {
      "cell_type": "markdown",
      "metadata": {
        "id": "JW-XPAWtp9VB",
        "colab_type": "text"
      },
      "source": [
        "## 대화창 실습 : 여러 개의 변수를 생성하고 사용하기"
      ]
    },
    {
      "cell_type": "code",
      "metadata": {
        "id": "49K0SnHJqCyq",
        "colab_type": "code",
        "outputId": "50090f6c-07f2-43de-f8e0-294890509965",
        "colab": {
          "base_uri": "https://localhost:8080/",
          "height": 35
        }
      },
      "source": [
        "score0 = 87\n",
        "score1 = 84\n",
        "score2 = 95\n",
        "score3 = 67\n",
        "score4 = 88\n",
        "score5 = 94\n",
        "score6 = 63\n",
        "print(score0, score3)"
      ],
      "execution_count": 0,
      "outputs": [
        {
          "output_type": "stream",
          "text": [
            "87 67\n"
          ],
          "name": "stdout"
        }
      ]
    },
    {
      "cell_type": "markdown",
      "metadata": {
        "id": "bOomeDh2ywLI",
        "colab_type": "text"
      },
      "source": [
        "## 대화창 실습 : 수치 자료값을 가진 리스트 만들기"
      ]
    },
    {
      "cell_type": "code",
      "metadata": {
        "id": "DEPaj_EtywLL",
        "colab_type": "code",
        "outputId": "8ecaa475-5b5f-4431-9d1d-09f98f217244",
        "colab": {
          "base_uri": "https://localhost:8080/",
          "height": 35
        }
      },
      "source": [
        "score_list = [87, 84, 95, 67, 88, 94, 63]\n",
        "score_list"
      ],
      "execution_count": 0,
      "outputs": [
        {
          "output_type": "execute_result",
          "data": {
            "text/plain": [
              "[87, 84, 95, 67, 88, 94, 63]"
            ]
          },
          "metadata": {
            "tags": []
          },
          "execution_count": 2
        }
      ]
    },
    {
      "cell_type": "code",
      "metadata": {
        "id": "ny2dgk8Bqzcf",
        "colab_type": "code",
        "outputId": "a84b519e-1a6c-4d49-da3e-8922910beca5",
        "colab": {
          "base_uri": "https://localhost:8080/",
          "height": 35
        }
      },
      "source": [
        "print(score_list[0], score_list[3])"
      ],
      "execution_count": 0,
      "outputs": [
        {
          "output_type": "stream",
          "text": [
            "87 67\n"
          ],
          "name": "stdout"
        }
      ]
    },
    {
      "cell_type": "markdown",
      "metadata": {
        "id": "5kXrwookqgnH",
        "colab_type": "text"
      },
      "source": [
        "## 대화창 실습 : 문자열과 복합 자료값을 가진 리스트 만들기"
      ]
    },
    {
      "cell_type": "code",
      "metadata": {
        "id": "ANHW50kZywLY",
        "colab_type": "code",
        "outputId": "9128087a-2500-47b4-8076-da894114fe59",
        "colab": {
          "base_uri": "https://localhost:8080/",
          "height": 35
        }
      },
      "source": [
        "fruits = ['banana', 'apple', 'orange', 'kiwi']  # 문자열을 가지는 리스트\n",
        "fruits"
      ],
      "execution_count": 0,
      "outputs": [
        {
          "output_type": "execute_result",
          "data": {
            "text/plain": [
              "['banana', 'apple', 'orange', 'kiwi']"
            ]
          },
          "metadata": {
            "tags": []
          },
          "execution_count": 4
        }
      ]
    },
    {
      "cell_type": "code",
      "metadata": {
        "id": "V1u3f63OywLf",
        "colab_type": "code",
        "outputId": "cd1b400b-ce16-4c9f-fcb3-2537311ba80d",
        "colab": {
          "base_uri": "https://localhost:8080/",
          "height": 35
        }
      },
      "source": [
        "mixed_list = [100, 200, 'apple', 400]\n",
        "mixed_list"
      ],
      "execution_count": 0,
      "outputs": [
        {
          "output_type": "execute_result",
          "data": {
            "text/plain": [
              "[100, 200, 'apple', 400]"
            ]
          },
          "metadata": {
            "tags": []
          },
          "execution_count": 5
        }
      ]
    },
    {
      "cell_type": "markdown",
      "metadata": {
        "id": "HRCA82XVywLm",
        "colab_type": "text"
      },
      "source": [
        "## 대화창 실습 : 다양한 방법으로 리스트 만들기"
      ]
    },
    {
      "cell_type": "code",
      "metadata": {
        "id": "nZIncr0YywLo",
        "colab_type": "code",
        "outputId": "f5fc9afe-503d-4565-dcb0-be48f401fccb",
        "colab": {
          "base_uri": "https://localhost:8080/",
          "height": 35
        }
      },
      "source": [
        "list1 = list() # 빈 리스트 생성하기\n",
        "list2 = []   # 빈 리스트 생성하기\n",
        "list3 = list((1, 2, 3)) # 튜플로부터 리스트 생성\n",
        "list3"
      ],
      "execution_count": 0,
      "outputs": [
        {
          "output_type": "execute_result",
          "data": {
            "text/plain": [
              "[1, 2, 3]"
            ]
          },
          "metadata": {
            "tags": []
          },
          "execution_count": 6
        }
      ]
    },
    {
      "cell_type": "code",
      "metadata": {
        "id": "izM8FbwnywLv",
        "colab_type": "code",
        "outputId": "9047cc64-2dd9-4aaa-a4a5-74d33524f84d",
        "colab": {
          "base_uri": "https://localhost:8080/",
          "height": 35
        }
      },
      "source": [
        "list4 = list(range(1, 10))\n",
        "list4"
      ],
      "execution_count": 0,
      "outputs": [
        {
          "output_type": "execute_result",
          "data": {
            "text/plain": [
              "[1, 2, 3, 4, 5, 6, 7, 8, 9]"
            ]
          },
          "metadata": {
            "tags": []
          },
          "execution_count": 10
        }
      ]
    },
    {
      "cell_type": "code",
      "metadata": {
        "id": "wMB3uQY2ywL3",
        "colab_type": "code",
        "outputId": "7472e51e-2ef4-4359-97b2-f33037b90767",
        "colab": {
          "base_uri": "https://localhost:8080/",
          "height": 34
        }
      },
      "source": [
        "list5 = list('ABCDEF')\n",
        "list5"
      ],
      "execution_count": 0,
      "outputs": [
        {
          "output_type": "execute_result",
          "data": {
            "text/plain": [
              "['A', 'B', 'C', 'D', 'E', 'F']"
            ]
          },
          "metadata": {
            "tags": []
          },
          "execution_count": 5
        }
      ]
    },
    {
      "cell_type": "markdown",
      "metadata": {
        "id": "bGLYplhkywL-",
        "colab_type": "text"
      },
      "source": [
        "## 대화창 실습 : 6개의 원소를 가지는 리스트 만들기"
      ]
    },
    {
      "cell_type": "code",
      "metadata": {
        "id": "6Ixydz5PywMA",
        "colab_type": "code",
        "outputId": "53208fce-ff71-4470-dc87-68ebe2541dfd",
        "colab": {
          "base_uri": "https://localhost:8080/",
          "height": 35
        }
      },
      "source": [
        "n_list = [11, 22, 33, 44, 55, 66] \n",
        "n_list"
      ],
      "execution_count": 0,
      "outputs": [
        {
          "output_type": "execute_result",
          "data": {
            "text/plain": [
              "[11, 22, 33, 44, 55, 66]"
            ]
          },
          "metadata": {
            "tags": []
          },
          "execution_count": 2
        }
      ]
    },
    {
      "cell_type": "code",
      "metadata": {
        "id": "Rl6IuaetywMH",
        "colab_type": "code",
        "outputId": "26444844-4c3c-42a6-de55-8a8304a91e03",
        "colab": {
          "base_uri": "https://localhost:8080/",
          "height": 35
        }
      },
      "source": [
        "len(n_list)      # 리스트 요소의 개수를 구하는 함수 "
      ],
      "execution_count": 0,
      "outputs": [
        {
          "output_type": "execute_result",
          "data": {
            "text/plain": [
              "6"
            ]
          },
          "metadata": {
            "tags": []
          },
          "execution_count": 3
        }
      ]
    },
    {
      "cell_type": "code",
      "metadata": {
        "id": "UBrzVslILBEY",
        "colab_type": "code",
        "outputId": "00807915-d907-4473-898b-0ac325042af0",
        "colab": {
          "base_uri": "https://localhost:8080/",
          "height": 35
        }
      },
      "source": [
        "n_list[0]         # 리스트의 첫 번째 항목의 인덱스는 0이다. "
      ],
      "execution_count": 0,
      "outputs": [
        {
          "output_type": "execute_result",
          "data": {
            "text/plain": [
              "11"
            ]
          },
          "metadata": {
            "tags": []
          },
          "execution_count": 5
        }
      ]
    },
    {
      "cell_type": "code",
      "metadata": {
        "id": "QTG9DOiVLHr3",
        "colab_type": "code",
        "colab": {}
      },
      "source": [
        "n_list[1]         # 리스트의 두 번째 항목의 인덱스는 1이다. "
      ],
      "execution_count": 0,
      "outputs": []
    },
    {
      "cell_type": "code",
      "metadata": {
        "id": "7fPT1vepGuQ2",
        "colab_type": "code",
        "outputId": "2e294714-5e47-4642-c3ea-94407880b4ee",
        "colab": {
          "base_uri": "https://localhost:8080/",
          "height": 35
        }
      },
      "source": [
        "sum(n_list)/len(n_list)"
      ],
      "execution_count": 0,
      "outputs": [
        {
          "output_type": "execute_result",
          "data": {
            "text/plain": [
              "38.5"
            ]
          },
          "metadata": {
            "tags": []
          },
          "execution_count": 26
        }
      ]
    },
    {
      "cell_type": "code",
      "metadata": {
        "id": "zIOZDm0iHvlt",
        "colab_type": "code",
        "outputId": "0ada2d58-0380-4aee-979d-c8bda9583af2",
        "colab": {
          "base_uri": "https://localhost:8080/",
          "height": 35
        }
      },
      "source": [
        "min(n_list)"
      ],
      "execution_count": 0,
      "outputs": [
        {
          "output_type": "execute_result",
          "data": {
            "text/plain": [
              "66"
            ]
          },
          "metadata": {
            "tags": []
          },
          "execution_count": 27
        }
      ]
    },
    {
      "cell_type": "markdown",
      "metadata": {
        "id": "OkPt6QGqywMP",
        "colab_type": "text"
      },
      "source": [
        "## 대화창 실습 : 리스트 인덱스를 통한 요소의 접근"
      ]
    },
    {
      "cell_type": "code",
      "metadata": {
        "id": "2RKE3vcfywMR",
        "colab_type": "code",
        "outputId": "34e1d395-a65d-4e78-bb26-2df7939f27c1",
        "colab": {
          "base_uri": "https://localhost:8080/",
          "height": 35
        }
      },
      "source": [
        "n_list = [11, 22, 33, 44, 55, 66]  # 숫자 값의 리스트\n",
        "n_list[5]    # 리스트의 여섯 번째 요소 값 "
      ],
      "execution_count": 0,
      "outputs": [
        {
          "output_type": "execute_result",
          "data": {
            "text/plain": [
              "66"
            ]
          },
          "metadata": {
            "tags": []
          },
          "execution_count": 8
        }
      ]
    },
    {
      "cell_type": "code",
      "metadata": {
        "id": "d1KfsOJrywMo",
        "colab_type": "code",
        "outputId": "a0d1d438-a31c-4a92-b0e1-9e85ab57b37c",
        "colab": {
          "base_uri": "https://localhost:8080/",
          "height": 172
        }
      },
      "source": [
        "n_list[6]     # 리스트의 일곱 번째 요소 값은 존재하지 않음 "
      ],
      "execution_count": 0,
      "outputs": [
        {
          "output_type": "error",
          "ename": "IndexError",
          "evalue": "ignored",
          "traceback": [
            "\u001b[0;31m---------------------------------------------------------------------------\u001b[0m",
            "\u001b[0;31mIndexError\u001b[0m                                Traceback (most recent call last)",
            "\u001b[0;32m<ipython-input-9-bdc27ba346c6>\u001b[0m in \u001b[0;36m<module>\u001b[0;34m()\u001b[0m\n\u001b[0;32m----> 1\u001b[0;31m \u001b[0mn_list\u001b[0m\u001b[0;34m[\u001b[0m\u001b[0;36m6\u001b[0m\u001b[0;34m]\u001b[0m     \u001b[0;31m# 리스트의 일곱 번째 요소 값은 존재하지 않음\u001b[0m\u001b[0;34m\u001b[0m\u001b[0;34m\u001b[0m\u001b[0m\n\u001b[0m",
            "\u001b[0;31mIndexError\u001b[0m: list index out of range"
          ]
        }
      ]
    },
    {
      "cell_type": "markdown",
      "metadata": {
        "id": "1AkZz65tywMu",
        "colab_type": "text"
      },
      "source": [
        "## 대화창 실습 : 리스트의 음수 인덱스 사용법"
      ]
    },
    {
      "cell_type": "code",
      "metadata": {
        "id": "yzg1RAkDywMw",
        "colab_type": "code",
        "outputId": "645335be-efe1-4f8c-cb62-5e612840c07e",
        "colab": {
          "base_uri": "https://localhost:8080/",
          "height": 35
        }
      },
      "source": [
        "n_list = [11, 22, 33, 44, 55, 66]\n",
        "n_list[-1]       # 리스트의 마지막 요소 값 "
      ],
      "execution_count": 0,
      "outputs": [
        {
          "output_type": "execute_result",
          "data": {
            "text/plain": [
              "66"
            ]
          },
          "metadata": {
            "tags": []
          },
          "execution_count": 10
        }
      ]
    },
    {
      "cell_type": "code",
      "metadata": {
        "id": "9rrpoOpqywM4",
        "colab_type": "code",
        "outputId": "b126ee33-1ea4-46ef-cb07-08960c6c4afb",
        "colab": {
          "base_uri": "https://localhost:8080/",
          "height": 35
        }
      },
      "source": [
        "n_list[-2]"
      ],
      "execution_count": 0,
      "outputs": [
        {
          "output_type": "execute_result",
          "data": {
            "text/plain": [
              "55"
            ]
          },
          "metadata": {
            "tags": []
          },
          "execution_count": 11
        }
      ]
    },
    {
      "cell_type": "code",
      "metadata": {
        "id": "isvPh4rSywM-",
        "colab_type": "code",
        "outputId": "b19c1400-ccdc-47f9-9e97-686d2aa21f95",
        "colab": {
          "base_uri": "https://localhost:8080/",
          "height": 35
        }
      },
      "source": [
        "n_list[-3]"
      ],
      "execution_count": 0,
      "outputs": [
        {
          "output_type": "execute_result",
          "data": {
            "text/plain": [
              "44"
            ]
          },
          "metadata": {
            "tags": []
          },
          "execution_count": 12
        }
      ]
    },
    {
      "cell_type": "markdown",
      "metadata": {
        "id": "0LI5mDfKywNE",
        "colab_type": "text"
      },
      "source": [
        "## 대화창 실습 : 리스트의 append() 메소드를 사용한 항목의 추가"
      ]
    },
    {
      "cell_type": "code",
      "metadata": {
        "id": "lWuMFof3ywNH",
        "colab_type": "code",
        "outputId": "4987bd27-374b-4480-8e36-96d3eb490127",
        "colab": {
          "base_uri": "https://localhost:8080/",
          "height": 36
        }
      },
      "source": [
        "a_list = ['a', 'b', 'c', 'd', 'e']\n",
        "a_list.append('f')   # ‘f’ 항목 추가\n",
        "a_list"
      ],
      "execution_count": 0,
      "outputs": [
        {
          "output_type": "execute_result",
          "data": {
            "text/plain": [
              "['a', 'b', 'c', 'd', 'e', 'f']"
            ]
          },
          "metadata": {
            "tags": []
          },
          "execution_count": 10
        }
      ]
    },
    {
      "cell_type": "code",
      "metadata": {
        "id": "WO12lhmOywNO",
        "colab_type": "code",
        "outputId": "569fbeda-9a04-4dd3-80f7-479176b07fb5",
        "colab": {
          "base_uri": "https://localhost:8080/",
          "height": 36
        }
      },
      "source": [
        "n_list = [10, 20, 30, 40]\n",
        "n_list.append(50)    # 50 항목 추가\n",
        "n_list"
      ],
      "execution_count": 0,
      "outputs": [
        {
          "output_type": "execute_result",
          "data": {
            "text/plain": [
              "[10, 20, 30, 40, 50]"
            ]
          },
          "metadata": {
            "tags": []
          },
          "execution_count": 11
        }
      ]
    },
    {
      "cell_type": "markdown",
      "metadata": {
        "id": "RaVGAD8yywNV",
        "colab_type": "text"
      },
      "source": [
        "# 코드 5-1 : del 명령어를 통한 리스트의 항목 삭제\n",
        "## list_del_ex.py"
      ]
    },
    {
      "cell_type": "code",
      "metadata": {
        "id": "eymDpW82ywNW",
        "colab_type": "code",
        "outputId": "5580818c-638a-4963-ff8a-5dce8871b646",
        "colab": {
          "base_uri": "https://localhost:8080/",
          "height": 51
        }
      },
      "source": [
        "n_list = [11, 22, 33, 44, 55, 66]\n",
        "print(n_list)  # 전체 항목 출력\n",
        "\n",
        "del n_list[3]  # 44 항목 삭제\n",
        "print(n_list)"
      ],
      "execution_count": 0,
      "outputs": [
        {
          "output_type": "stream",
          "text": [
            "[11, 22, 33, 44, 55, 66]\n",
            "[11, 22, 33, 55, 66]\n"
          ],
          "name": "stdout"
        }
      ]
    },
    {
      "cell_type": "markdown",
      "metadata": {
        "id": "k63BPXt6ywNc",
        "colab_type": "text"
      },
      "source": [
        "# 코드 5-2 : remove() 메소드를 이용한 리스트의 항목 삭제\n",
        "## list_remove_ex1.py"
      ]
    },
    {
      "cell_type": "code",
      "metadata": {
        "id": "UwGGJiV1ywNd",
        "colab_type": "code",
        "outputId": "921e0848-5efb-4229-8399-238156579fca",
        "colab": {
          "base_uri": "https://localhost:8080/",
          "height": 53
        }
      },
      "source": [
        "n_list = [11, 22, 33, 44, 55, 66]\n",
        "print(n_list)\n",
        "\n",
        "n_list.remove(44)    # 44라는 값을 가진 항목 삭제 \n",
        "print(n_list)"
      ],
      "execution_count": 0,
      "outputs": [
        {
          "output_type": "stream",
          "text": [
            "[11, 22, 33, 44, 55, 66]\n",
            "[11, 22, 33, 55, 66]\n"
          ],
          "name": "stdout"
        }
      ]
    },
    {
      "cell_type": "markdown",
      "metadata": {
        "id": "cZ9lS43RywNl",
        "colab_type": "text"
      },
      "source": [
        "# 코드 5-3 : 리스트 내부에 존재하지 않는 항목을 삭제하는 경우\n",
        "## list_remove_ex2.py"
      ]
    },
    {
      "cell_type": "code",
      "metadata": {
        "id": "gfim1B3LywNm",
        "colab_type": "code",
        "outputId": "56653882-3bbe-4e44-fc4e-df46da265503",
        "colab": {
          "base_uri": "https://localhost:8080/",
          "height": 244
        }
      },
      "source": [
        "n_list = [11, 22, 33, 44, 55, 66]\n",
        "print(n_list)\n",
        "\n",
        "n_list.remove(88)\n",
        "print(n_list)"
      ],
      "execution_count": 0,
      "outputs": [
        {
          "output_type": "stream",
          "text": [
            "[11, 22, 33, 44, 55, 66]\n"
          ],
          "name": "stdout"
        },
        {
          "output_type": "error",
          "ename": "ValueError",
          "evalue": "ignored",
          "traceback": [
            "\u001b[0;31m---------------------------------------------------------------------------\u001b[0m",
            "\u001b[0;31mValueError\u001b[0m                                Traceback (most recent call last)",
            "\u001b[0;32m<ipython-input-14-e5b8ba8b9713>\u001b[0m in \u001b[0;36m<module>\u001b[0;34m()\u001b[0m\n\u001b[1;32m      2\u001b[0m \u001b[0mprint\u001b[0m\u001b[0;34m(\u001b[0m\u001b[0mn_list\u001b[0m\u001b[0;34m)\u001b[0m\u001b[0;34m\u001b[0m\u001b[0;34m\u001b[0m\u001b[0m\n\u001b[1;32m      3\u001b[0m \u001b[0;34m\u001b[0m\u001b[0m\n\u001b[0;32m----> 4\u001b[0;31m \u001b[0mn_list\u001b[0m\u001b[0;34m.\u001b[0m\u001b[0mremove\u001b[0m\u001b[0;34m(\u001b[0m\u001b[0;36m88\u001b[0m\u001b[0;34m)\u001b[0m\u001b[0;34m\u001b[0m\u001b[0;34m\u001b[0m\u001b[0m\n\u001b[0m\u001b[1;32m      5\u001b[0m \u001b[0mprint\u001b[0m\u001b[0;34m(\u001b[0m\u001b[0mn_list\u001b[0m\u001b[0;34m)\u001b[0m\u001b[0;34m\u001b[0m\u001b[0;34m\u001b[0m\u001b[0m\n",
            "\u001b[0;31mValueError\u001b[0m: list.remove(x): x not in list"
          ]
        }
      ]
    },
    {
      "cell_type": "markdown",
      "metadata": {
        "id": "ZCY-cCCQr4f9",
        "colab_type": "text"
      },
      "source": [
        "## 대화창 실습 : 멤버 연산자 in과 리스트"
      ]
    },
    {
      "cell_type": "code",
      "metadata": {
        "id": "_zA50boUsAsx",
        "colab_type": "code",
        "outputId": "3c76fe53-d9dc-4d5a-8940-0a7cebab59fe",
        "colab": {
          "base_uri": "https://localhost:8080/",
          "height": 34
        }
      },
      "source": [
        "a_list = [10, 20, 30, 40]\n",
        "10 in a_list"
      ],
      "execution_count": 0,
      "outputs": [
        {
          "output_type": "execute_result",
          "data": {
            "text/plain": [
              "True"
            ]
          },
          "metadata": {
            "tags": []
          },
          "execution_count": 3
        }
      ]
    },
    {
      "cell_type": "code",
      "metadata": {
        "id": "QwhLf2uOsA2J",
        "colab_type": "code",
        "outputId": "b6d84efa-6786-4830-96a1-5071d0225205",
        "colab": {
          "base_uri": "https://localhost:8080/",
          "height": 34
        }
      },
      "source": [
        "50 in a_list"
      ],
      "execution_count": 0,
      "outputs": [
        {
          "output_type": "execute_result",
          "data": {
            "text/plain": [
              "False"
            ]
          },
          "metadata": {
            "tags": []
          },
          "execution_count": 5
        }
      ]
    },
    {
      "cell_type": "code",
      "metadata": {
        "id": "8crYzB3NsA78",
        "colab_type": "code",
        "outputId": "c6bdd45e-f662-43de-ff2b-d92163c41d33",
        "colab": {
          "base_uri": "https://localhost:8080/",
          "height": 34
        }
      },
      "source": [
        "10 not in a_list"
      ],
      "execution_count": 0,
      "outputs": [
        {
          "output_type": "execute_result",
          "data": {
            "text/plain": [
              "False"
            ]
          },
          "metadata": {
            "tags": []
          },
          "execution_count": 6
        }
      ]
    },
    {
      "cell_type": "code",
      "metadata": {
        "id": "yE2LfHNIsBC1",
        "colab_type": "code",
        "outputId": "bf42a334-a90b-4ad7-fffc-f2256bead44f",
        "colab": {
          "base_uri": "https://localhost:8080/",
          "height": 34
        }
      },
      "source": [
        "50 not in a_list"
      ],
      "execution_count": 0,
      "outputs": [
        {
          "output_type": "execute_result",
          "data": {
            "text/plain": [
              "True"
            ]
          },
          "metadata": {
            "tags": []
          },
          "execution_count": 7
        }
      ]
    },
    {
      "cell_type": "markdown",
      "metadata": {
        "id": "Y0SVOrS6ywNs",
        "colab_type": "text"
      },
      "source": [
        "# 코드 5-4 : 리스트 내부에 값이 존재하는가를 확인하는 기능\n",
        "## value_in_list.py"
      ]
    },
    {
      "cell_type": "code",
      "metadata": {
        "id": "Y7lfF-FxywNu",
        "colab_type": "code",
        "outputId": "db3e7566-21ae-4aa2-e5ce-886821284b0b",
        "colab": {
          "base_uri": "https://localhost:8080/",
          "height": 55
        }
      },
      "source": [
        "n_list = [11, 22, 33, 44, 55, 66]\n",
        "\n",
        "print (88 in n_list)  # 88은 n_list에 없음\n",
        "print (55 in n_list)  # 55는 n_list에 있음"
      ],
      "execution_count": 0,
      "outputs": [
        {
          "output_type": "stream",
          "text": [
            "False\n",
            "True\n"
          ],
          "name": "stdout"
        }
      ]
    },
    {
      "cell_type": "markdown",
      "metadata": {
        "id": "vDljQNQOywN0",
        "colab_type": "text"
      },
      "source": [
        "# 코드 5-5 : in 연산자를 이용한 안전한 원소 삭제\n",
        "## list_remove_ex3.py"
      ]
    },
    {
      "cell_type": "code",
      "metadata": {
        "id": "LgZX29x9ywN1",
        "colab_type": "code",
        "outputId": "3c3a1b27-f7fa-41fc-85b4-cdef88e45941",
        "colab": {}
      },
      "source": [
        "n_list = [11, 22, 33, 44, 55, 66]\n",
        "\n",
        "if (55 in n_list) :\n",
        "    n_list.remove(55)\n",
        "    \n",
        "if (88 in n_list) :\n",
        "    n_list.remove(88)\n",
        "    \n",
        "print(n_list)"
      ],
      "execution_count": 0,
      "outputs": [
        {
          "output_type": "stream",
          "text": [
            "[11, 22, 33, 44, 66]\n"
          ],
          "name": "stdout"
        }
      ]
    },
    {
      "cell_type": "markdown",
      "metadata": {
        "id": "CK3TY1cRywN7",
        "colab_type": "text"
      },
      "source": [
        "## 대화창 실습 : 리스트와 내장함수 min(), max(), sum(), len()"
      ]
    },
    {
      "cell_type": "code",
      "metadata": {
        "id": "cM5PsrHDywN9",
        "colab_type": "code",
        "outputId": "7c3e2752-b228-446b-98da-beb8cf9373cf",
        "colab": {}
      },
      "source": [
        "list1 = [20, 10, 40, 50, 30]\n",
        "min(list1)  # 리스트의 원소들 중 가장 작은 원소를 구한다"
      ],
      "execution_count": 0,
      "outputs": [
        {
          "output_type": "execute_result",
          "data": {
            "text/plain": [
              "10"
            ]
          },
          "metadata": {
            "tags": []
          },
          "execution_count": 32
        }
      ]
    },
    {
      "cell_type": "code",
      "metadata": {
        "id": "FgmTj7kKywOE",
        "colab_type": "code",
        "outputId": "fa0e8714-c518-4613-fa62-081a7e937b8a",
        "colab": {}
      },
      "source": [
        "max(list1)  # 리스트의 원소들 중 가장 큰 원소를 구한다"
      ],
      "execution_count": 0,
      "outputs": [
        {
          "output_type": "execute_result",
          "data": {
            "text/plain": [
              "50"
            ]
          },
          "metadata": {
            "tags": []
          },
          "execution_count": 33
        }
      ]
    },
    {
      "cell_type": "code",
      "metadata": {
        "id": "_cmi9FcjywOK",
        "colab_type": "code",
        "outputId": "0d269e60-d1fd-4524-8173-418ae7b5590a",
        "colab": {}
      },
      "source": [
        "sum(list1) # 리스트내의 원소의 합을 구한다"
      ],
      "execution_count": 0,
      "outputs": [
        {
          "output_type": "execute_result",
          "data": {
            "text/plain": [
              "150"
            ]
          },
          "metadata": {
            "tags": []
          },
          "execution_count": 34
        }
      ]
    },
    {
      "cell_type": "markdown",
      "metadata": {
        "id": "-NFFEUkxywOV",
        "colab_type": "text"
      },
      "source": [
        "## 대화창 실습 : 문자열 리스트와 내장함수 min(), max()"
      ]
    },
    {
      "cell_type": "code",
      "metadata": {
        "id": "TwgR1bQ7ywOW",
        "colab_type": "code",
        "outputId": "79ff2e49-63bb-433b-e8f0-642f0381926b",
        "colab": {}
      },
      "source": [
        "fruits = ['banana', 'orange', 'apple', 'kiwi']\n",
        "min(fruits)"
      ],
      "execution_count": 0,
      "outputs": [
        {
          "output_type": "execute_result",
          "data": {
            "text/plain": [
              "'apple'"
            ]
          },
          "metadata": {
            "tags": []
          },
          "execution_count": 37
        }
      ]
    },
    {
      "cell_type": "code",
      "metadata": {
        "id": "puSGVRbGywOe",
        "colab_type": "code",
        "outputId": "cc042bc9-a75d-4980-b60f-597e6d16cc56",
        "colab": {}
      },
      "source": [
        "max(fruits)"
      ],
      "execution_count": 0,
      "outputs": [
        {
          "output_type": "execute_result",
          "data": {
            "text/plain": [
              "'orange'"
            ]
          },
          "metadata": {
            "tags": []
          },
          "execution_count": 38
        }
      ]
    },
    {
      "cell_type": "markdown",
      "metadata": {
        "id": "1V0iJ3M_Nre-",
        "colab_type": "text"
      },
      "source": [
        "## 대화창 실습 : 한글 문자열 리스트와 내장함수 min(), max()\n"
      ]
    },
    {
      "cell_type": "code",
      "metadata": {
        "id": "9O7YiJTXNt78",
        "colab_type": "code",
        "outputId": "53812eae-0b85-467a-8592-b4a20b395a00",
        "colab": {
          "base_uri": "https://localhost:8080/",
          "height": 35
        }
      },
      "source": [
        " k_fruits = ['사과', '오렌지', '포도', '바나나'] \n",
        " min(k_fruits)"
      ],
      "execution_count": 0,
      "outputs": [
        {
          "output_type": "execute_result",
          "data": {
            "text/plain": [
              "'바나나'"
            ]
          },
          "metadata": {
            "tags": []
          },
          "execution_count": 15
        }
      ]
    },
    {
      "cell_type": "code",
      "metadata": {
        "id": "ql9LHjyJNy7k",
        "colab_type": "code",
        "outputId": "f3af4a7c-6109-46ea-bba3-f7a74d199fd7",
        "colab": {
          "base_uri": "https://localhost:8080/",
          "height": 35
        }
      },
      "source": [
        "max(k_fruits)"
      ],
      "execution_count": 0,
      "outputs": [
        {
          "output_type": "execute_result",
          "data": {
            "text/plain": [
              "'포도'"
            ]
          },
          "metadata": {
            "tags": []
          },
          "execution_count": 17
        }
      ]
    },
    {
      "cell_type": "markdown",
      "metadata": {
        "id": "Z1_i81CbywO2",
        "colab_type": "text"
      },
      "source": [
        "## 대화창 실습 : 리스트와 sort() 메소드"
      ]
    },
    {
      "cell_type": "code",
      "metadata": {
        "id": "ieuWHxJ-ywO3",
        "colab_type": "code",
        "outputId": "b83d9cf7-2192-40ab-ac1b-3a47fa362e19",
        "colab": {}
      },
      "source": [
        "ist1 = [20, 10, 40, 50, 30]\n",
        "list1.sort()\n",
        "list1"
      ],
      "execution_count": 0,
      "outputs": [
        {
          "output_type": "execute_result",
          "data": {
            "text/plain": [
              "[10, 20, 30, 40, 50]"
            ]
          },
          "metadata": {
            "tags": []
          },
          "execution_count": 41
        }
      ]
    },
    {
      "cell_type": "code",
      "metadata": {
        "id": "AQLn-1KwywO8",
        "colab_type": "code",
        "outputId": "e93903da-51a1-404c-9071-531e9ebbfc20",
        "colab": {}
      },
      "source": [
        "list1.sort(reverse=True)\n",
        "list1"
      ],
      "execution_count": 0,
      "outputs": [
        {
          "output_type": "execute_result",
          "data": {
            "text/plain": [
              "[50, 40, 30, 20, 10]"
            ]
          },
          "metadata": {
            "tags": []
          },
          "execution_count": 42
        }
      ]
    },
    {
      "cell_type": "markdown",
      "metadata": {
        "id": "vDIdCkhVywPC",
        "colab_type": "text"
      },
      "source": [
        "## 대화창 실습 : 원소의 인덱스를 반환하는 index() 메소드"
      ]
    },
    {
      "cell_type": "code",
      "metadata": {
        "id": "M2ENSf7OywPD",
        "colab_type": "code",
        "outputId": "4f17cce1-9319-486a-ba8a-6c10fd5b94ca",
        "colab": {
          "base_uri": "https://localhost:8080/",
          "height": 35
        }
      },
      "source": [
        "a_list = ['a', 'b', 'c', 'd', 'e']\n",
        "a_list.index('a')"
      ],
      "execution_count": 0,
      "outputs": [
        {
          "output_type": "execute_result",
          "data": {
            "text/plain": [
              "0"
            ]
          },
          "metadata": {
            "tags": []
          },
          "execution_count": 20
        }
      ]
    },
    {
      "cell_type": "code",
      "metadata": {
        "id": "WvAJjlFoywPN",
        "colab_type": "code",
        "outputId": "9ac58b6f-a04c-4f7a-8136-ae8b9cbcf102",
        "colab": {
          "base_uri": "https://localhost:8080/",
          "height": 35
        }
      },
      "source": [
        "a_list.index('b')"
      ],
      "execution_count": 0,
      "outputs": [
        {
          "output_type": "execute_result",
          "data": {
            "text/plain": [
              "1"
            ]
          },
          "metadata": {
            "tags": []
          },
          "execution_count": 21
        }
      ]
    },
    {
      "cell_type": "code",
      "metadata": {
        "id": "TnRRVEnnywPX",
        "colab_type": "code",
        "outputId": "424796ef-f691-4543-ed23-83b410563e07",
        "colab": {
          "base_uri": "https://localhost:8080/",
          "height": 172
        }
      },
      "source": [
        "a_list.index('x')    # 존재하지 않는 'x' 원소의 인덱스를 조회 – 오류 발생 "
      ],
      "execution_count": 0,
      "outputs": [
        {
          "output_type": "error",
          "ename": "ValueError",
          "evalue": "ignored",
          "traceback": [
            "\u001b[0;31m---------------------------------------------------------------------------\u001b[0m",
            "\u001b[0;31mValueError\u001b[0m                                Traceback (most recent call last)",
            "\u001b[0;32m<ipython-input-22-6e43b97838ed>\u001b[0m in \u001b[0;36m<module>\u001b[0;34m()\u001b[0m\n\u001b[0;32m----> 1\u001b[0;31m \u001b[0ma_list\u001b[0m\u001b[0;34m.\u001b[0m\u001b[0mindex\u001b[0m\u001b[0;34m(\u001b[0m\u001b[0;34m'x'\u001b[0m\u001b[0;34m)\u001b[0m    \u001b[0;31m# 존재하지 않는 'x' 원소의 인덱스를 조회 – 오류 발생\u001b[0m\u001b[0;34m\u001b[0m\u001b[0;34m\u001b[0m\u001b[0m\n\u001b[0m",
            "\u001b[0;31mValueError\u001b[0m: 'x' is not in list"
          ]
        }
      ]
    },
    {
      "cell_type": "markdown",
      "metadata": {
        "id": "kKAkKFuTywPe",
        "colab_type": "text"
      },
      "source": [
        "## 대화창 실습 : 리스트의 count() 메소드"
      ]
    },
    {
      "cell_type": "code",
      "metadata": {
        "id": "ocxXMok-ywPg",
        "colab_type": "code",
        "outputId": "97a389aa-6ed9-4bc4-b089-0188a42d40f9",
        "colab": {
          "base_uri": "https://localhost:8080/",
          "height": 35
        }
      },
      "source": [
        "b_list = ['a', 'b', 'c', 'a', 'b', 'a']\n",
        "b_list.count('a') # 'a'의 개수를 반환"
      ],
      "execution_count": 0,
      "outputs": [
        {
          "output_type": "execute_result",
          "data": {
            "text/plain": [
              "3"
            ]
          },
          "metadata": {
            "tags": []
          },
          "execution_count": 23
        }
      ]
    },
    {
      "cell_type": "code",
      "metadata": {
        "id": "En0D5qpcywPn",
        "colab_type": "code",
        "outputId": "aa557b9c-c2e5-4c5d-9be9-84116bd41352",
        "colab": {
          "base_uri": "https://localhost:8080/",
          "height": 35
        }
      },
      "source": [
        "b_list.count('b') # ‘b'의 개수를 반환"
      ],
      "execution_count": 0,
      "outputs": [
        {
          "output_type": "execute_result",
          "data": {
            "text/plain": [
              "2"
            ]
          },
          "metadata": {
            "tags": []
          },
          "execution_count": 24
        }
      ]
    },
    {
      "cell_type": "markdown",
      "metadata": {
        "id": "qXs0DgA2ywPs",
        "colab_type": "text"
      },
      "source": [
        "## 대화창 실습 : 리스트의 extend() 메소드"
      ]
    },
    {
      "cell_type": "code",
      "metadata": {
        "id": "T9IKi94nywPy",
        "colab_type": "code",
        "outputId": "60326db6-1aaa-42bf-e94d-1ef4d259741b",
        "colab": {
          "base_uri": "https://localhost:8080/",
          "height": 35
        }
      },
      "source": [
        "list1 = ['a', 'b', 'c']\n",
        "list2 = [1, 2, 3]\n",
        "list1.extend(list2)\n",
        "list1"
      ],
      "execution_count": 0,
      "outputs": [
        {
          "output_type": "execute_result",
          "data": {
            "text/plain": [
              "['a', 'b', 'c', 1, 2, 3]"
            ]
          },
          "metadata": {
            "tags": []
          },
          "execution_count": 25
        }
      ]
    },
    {
      "cell_type": "code",
      "metadata": {
        "id": "vQCce-2mywP2",
        "colab_type": "code",
        "outputId": "025f76ec-3d65-4c3c-c620-aa4cf50caf47",
        "colab": {
          "base_uri": "https://localhost:8080/",
          "height": 35
        }
      },
      "source": [
        "list1.extend('d')\n",
        "list1"
      ],
      "execution_count": 0,
      "outputs": [
        {
          "output_type": "execute_result",
          "data": {
            "text/plain": [
              "['a', 'b', 'c', 1, 2, 3, 'd']"
            ]
          },
          "metadata": {
            "tags": []
          },
          "execution_count": 26
        }
      ]
    },
    {
      "cell_type": "markdown",
      "metadata": {
        "id": "Rlw7GqhaywP7",
        "colab_type": "text"
      },
      "source": [
        "## 대화창 실습 : 리스트의 insert() 메소드"
      ]
    },
    {
      "cell_type": "code",
      "metadata": {
        "id": "NGoQh93JywP9",
        "colab_type": "code",
        "outputId": "7a1f8d87-a6b7-4b4b-8bea-ab771900ac44",
        "colab": {
          "base_uri": "https://localhost:8080/",
          "height": 35
        }
      },
      "source": [
        "list1 = ['a', 'c', 'd']\n",
        "list1.insert(1, 'b')\n",
        "list1"
      ],
      "execution_count": 0,
      "outputs": [
        {
          "output_type": "execute_result",
          "data": {
            "text/plain": [
              "['a', 'b', 'c', 'd']"
            ]
          },
          "metadata": {
            "tags": []
          },
          "execution_count": 27
        }
      ]
    },
    {
      "cell_type": "markdown",
      "metadata": {
        "id": "UvtqOOB2ywQD",
        "colab_type": "text"
      },
      "source": [
        "## 대화창 실습 : 리스트의 remove() 메소드"
      ]
    },
    {
      "cell_type": "code",
      "metadata": {
        "id": "--Iv4fXNywQE",
        "colab_type": "code",
        "outputId": "e6b1b3a2-1248-4433-d2ab-e34e8b807462",
        "colab": {
          "base_uri": "https://localhost:8080/",
          "height": 35
        }
      },
      "source": [
        "list1 = ['a', 'b', 'c', 'b', 'd']\n",
        "list1.remove('b')  # 제일 먼저 나타나는 'b' 원소를 삭제함\n",
        "list1"
      ],
      "execution_count": 0,
      "outputs": [
        {
          "output_type": "execute_result",
          "data": {
            "text/plain": [
              "['a', 'c', 'b', 'd']"
            ]
          },
          "metadata": {
            "tags": []
          },
          "execution_count": 28
        }
      ]
    },
    {
      "cell_type": "code",
      "metadata": {
        "id": "mrovl64DywQI",
        "colab_type": "code",
        "outputId": "0a14ddfd-89ef-42c1-855a-73e17326ca19",
        "colab": {
          "base_uri": "https://localhost:8080/",
          "height": 35
        }
      },
      "source": [
        "list1.remove('b')  # 'b' 원소를 제거함\n",
        "list1"
      ],
      "execution_count": 0,
      "outputs": [
        {
          "output_type": "execute_result",
          "data": {
            "text/plain": [
              "['a', 'c', 'd']"
            ]
          },
          "metadata": {
            "tags": []
          },
          "execution_count": 29
        }
      ]
    },
    {
      "cell_type": "markdown",
      "metadata": {
        "id": "nzV-jm0mywQP",
        "colab_type": "text"
      },
      "source": [
        "## 대화창 실습 : 리스트의 pop() 메소드"
      ]
    },
    {
      "cell_type": "code",
      "metadata": {
        "id": "oZBS1DJoywQQ",
        "colab_type": "code",
        "outputId": "526384cd-4cff-4453-f858-cfb829038e6e",
        "colab": {
          "base_uri": "https://localhost:8080/",
          "height": 35
        }
      },
      "source": [
        "list1 = ['a', 'b', 'c', 'd']\n",
        "list1.pop()   # list1의 마지막 원소를 삭제하고 반환"
      ],
      "execution_count": 0,
      "outputs": [
        {
          "output_type": "execute_result",
          "data": {
            "text/plain": [
              "'d'"
            ]
          },
          "metadata": {
            "tags": []
          },
          "execution_count": 30
        }
      ]
    },
    {
      "cell_type": "code",
      "metadata": {
        "id": "3dLtnOrDywQU",
        "colab_type": "code",
        "outputId": "d4b65afa-5cbf-4671-c9f3-faba74a191b9",
        "colab": {
          "base_uri": "https://localhost:8080/",
          "height": 35
        }
      },
      "source": [
        "list1"
      ],
      "execution_count": 0,
      "outputs": [
        {
          "output_type": "execute_result",
          "data": {
            "text/plain": [
              "['a', 'b', 'c']"
            ]
          },
          "metadata": {
            "tags": []
          },
          "execution_count": 31
        }
      ]
    },
    {
      "cell_type": "code",
      "metadata": {
        "id": "yUQ0pRf0ywQY",
        "colab_type": "code",
        "outputId": "1f83f209-af19-4d63-82dc-83bdeec6ba45",
        "colab": {
          "base_uri": "https://localhost:8080/",
          "height": 35
        }
      },
      "source": [
        "list1 = ['a', 'b', 'c', 'd']\n",
        "\n",
        "list1.pop(1)  # list1의 두 번째 원소를 삭제하고 반환"
      ],
      "execution_count": 0,
      "outputs": [
        {
          "output_type": "execute_result",
          "data": {
            "text/plain": [
              "'b'"
            ]
          },
          "metadata": {
            "tags": []
          },
          "execution_count": 32
        }
      ]
    },
    {
      "cell_type": "code",
      "metadata": {
        "id": "InCg_pgbywQe",
        "colab_type": "code",
        "outputId": "14ae8979-ca66-47a6-e947-66811dbbb808",
        "colab": {
          "base_uri": "https://localhost:8080/",
          "height": 35
        }
      },
      "source": [
        "list1"
      ],
      "execution_count": 0,
      "outputs": [
        {
          "output_type": "execute_result",
          "data": {
            "text/plain": [
              "['a', 'c', 'd']"
            ]
          },
          "metadata": {
            "tags": []
          },
          "execution_count": 33
        }
      ]
    },
    {
      "cell_type": "markdown",
      "metadata": {
        "id": "cstgRFLRywQi",
        "colab_type": "text"
      },
      "source": [
        "## 대화창 실습 : remove()를 이용한 인덱스를 이용한 마지막 원소의 삭제"
      ]
    },
    {
      "cell_type": "code",
      "metadata": {
        "id": "aaZuqiCoywQj",
        "colab_type": "code",
        "outputId": "2cf43cd7-c703-4494-bec6-db9e67efb3d4",
        "colab": {
          "base_uri": "https://localhost:8080/",
          "height": 35
        }
      },
      "source": [
        "list1 = ['a', 'b', 'c', 'd']\n",
        "list1.remove(list1[-1])      # pop()과 유사하게 리스트의 마지막 원소 삭제   \n",
        "#list1.remove(list1[len(list1)-1]) # 리스트의 마지막 원소 삭제\n",
        "list1"
      ],
      "execution_count": 0,
      "outputs": [
        {
          "output_type": "execute_result",
          "data": {
            "text/plain": [
              "['a', 'b', 'c']"
            ]
          },
          "metadata": {
            "tags": []
          },
          "execution_count": 36
        }
      ]
    },
    {
      "cell_type": "markdown",
      "metadata": {
        "id": "RSvSZgiAeXO5",
        "colab_type": "text"
      },
      "source": [
        "## 대화창 실습 : 리스트의 reverse() 매소드"
      ]
    },
    {
      "cell_type": "code",
      "metadata": {
        "id": "1vXS9L1feaxG",
        "colab_type": "code",
        "outputId": "8b2fbecd-c54a-4b8a-81c1-8e84917c6f05",
        "colab": {
          "base_uri": "https://localhost:8080/",
          "height": 35
        }
      },
      "source": [
        "list1 = [10, 20, 30, 40]\n",
        "list1.reverse()   # 리스트의 원소를 역순으로 다시 배열함 \n",
        "list1"
      ],
      "execution_count": 0,
      "outputs": [
        {
          "output_type": "execute_result",
          "data": {
            "text/plain": [
              "[40, 30, 20, 10]"
            ]
          },
          "metadata": {
            "tags": []
          },
          "execution_count": 38
        }
      ]
    },
    {
      "cell_type": "markdown",
      "metadata": {
        "id": "TtXsyOwuywQn",
        "colab_type": "text"
      },
      "source": [
        "# 코드 5-6 : 두 리스트를 합치는 연산자 +\n",
        "## list_plus_ex1.py"
      ]
    },
    {
      "cell_type": "code",
      "metadata": {
        "id": "uA4mkkCHywQq",
        "colab_type": "code",
        "outputId": "5f62828e-a74f-411f-d8b2-a7b49d88476c",
        "colab": {
          "base_uri": "https://localhost:8080/",
          "height": 53
        }
      },
      "source": [
        "list1 = [11, 22, 33, 44]\n",
        "list2 = [55, 66]\n",
        "\n",
        "print(list1)\n",
        "print(list1 + list2)"
      ],
      "execution_count": 0,
      "outputs": [
        {
          "output_type": "stream",
          "text": [
            "[11, 22, 33, 44]\n",
            "[11, 22, 33, 44, 55, 66]\n"
          ],
          "name": "stdout"
        }
      ]
    },
    {
      "cell_type": "markdown",
      "metadata": {
        "id": "sEQz6TeHywQv",
        "colab_type": "text"
      },
      "source": [
        "# 코드 5-7 : 두 리스트를 합치는 연산자 +를 이용하여 그 결과를 저장함\n",
        "## list_plus_ex2.py"
      ]
    },
    {
      "cell_type": "code",
      "metadata": {
        "id": "WW1YApThywQw",
        "colab_type": "code",
        "outputId": "0b7dcca5-03be-4a9f-ff03-10cf0dc62077",
        "colab": {
          "base_uri": "https://localhost:8080/",
          "height": 35
        }
      },
      "source": [
        "list1 = [11, 22, 33, 44]\n",
        "list2 = [55, 66]\n",
        "\n",
        "list3 = list1 + list2\n",
        "print(list3)"
      ],
      "execution_count": 0,
      "outputs": [
        {
          "output_type": "stream",
          "text": [
            "[11, 22, 33, 44, 55, 66]\n"
          ],
          "name": "stdout"
        }
      ]
    },
    {
      "cell_type": "markdown",
      "metadata": {
        "id": "zf71IH1GywQ1",
        "colab_type": "text"
      },
      "source": [
        "## 대화창 실습 : * 연산자를 이용한 반복 리스트"
      ]
    },
    {
      "cell_type": "code",
      "metadata": {
        "id": "MO-dJIaAywQ2",
        "colab_type": "code",
        "outputId": "05e376c6-ae24-45dc-c67e-b1435a142e67",
        "colab": {
          "base_uri": "https://localhost:8080/",
          "height": 35
        }
      },
      "source": [
        "list1 = [1, 2, 3, 4]\n",
        "list1 * 2"
      ],
      "execution_count": 0,
      "outputs": [
        {
          "output_type": "execute_result",
          "data": {
            "text/plain": [
              "[1, 2, 3, 4, 1, 2, 3, 4]"
            ]
          },
          "metadata": {
            "tags": []
          },
          "execution_count": 41
        }
      ]
    },
    {
      "cell_type": "code",
      "metadata": {
        "id": "gT2thkr8ywQ_",
        "colab_type": "code",
        "outputId": "82d09ef6-6abf-445c-c5cb-61d0b1a4c75a",
        "colab": {
          "base_uri": "https://localhost:8080/",
          "height": 35
        }
      },
      "source": [
        "list2 = list1 * 3\n",
        "list2"
      ],
      "execution_count": 0,
      "outputs": [
        {
          "output_type": "execute_result",
          "data": {
            "text/plain": [
              "[1, 2, 3, 4, 1, 2, 3, 4, 1, 2, 3, 4]"
            ]
          },
          "metadata": {
            "tags": []
          },
          "execution_count": 42
        }
      ]
    },
    {
      "cell_type": "markdown",
      "metadata": {
        "id": "KkUG93sOzCIo",
        "colab_type": "text"
      },
      "source": [
        "## 대화창 실습 : 문법 오류를 유발하는 두 리스트의 * 연산"
      ]
    },
    {
      "cell_type": "code",
      "metadata": {
        "id": "pyC1ZEflzDvN",
        "colab_type": "code",
        "outputId": "c5f394af-17f5-4685-bed7-8d2b1b6c3897",
        "colab": {
          "base_uri": "https://localhost:8080/",
          "height": 208
        }
      },
      "source": [
        "list1 = [1, 2, 3, 4]\n",
        "list2 = [10, 20, 30]\n",
        "list1 * list2"
      ],
      "execution_count": 0,
      "outputs": [
        {
          "output_type": "error",
          "ename": "TypeError",
          "evalue": "ignored",
          "traceback": [
            "\u001b[0;31m---------------------------------------------------------------------------\u001b[0m",
            "\u001b[0;31mTypeError\u001b[0m                                 Traceback (most recent call last)",
            "\u001b[0;32m<ipython-input-43-a3da09a36b1c>\u001b[0m in \u001b[0;36m<module>\u001b[0;34m()\u001b[0m\n\u001b[1;32m      1\u001b[0m \u001b[0mlist1\u001b[0m \u001b[0;34m=\u001b[0m \u001b[0;34m[\u001b[0m\u001b[0;36m1\u001b[0m\u001b[0;34m,\u001b[0m \u001b[0;36m2\u001b[0m\u001b[0;34m,\u001b[0m \u001b[0;36m3\u001b[0m\u001b[0;34m,\u001b[0m \u001b[0;36m4\u001b[0m\u001b[0;34m]\u001b[0m\u001b[0;34m\u001b[0m\u001b[0;34m\u001b[0m\u001b[0m\n\u001b[1;32m      2\u001b[0m \u001b[0mlist2\u001b[0m \u001b[0;34m=\u001b[0m \u001b[0;34m[\u001b[0m\u001b[0;36m10\u001b[0m\u001b[0;34m,\u001b[0m \u001b[0;36m20\u001b[0m\u001b[0;34m,\u001b[0m \u001b[0;36m30\u001b[0m\u001b[0;34m]\u001b[0m\u001b[0;34m\u001b[0m\u001b[0;34m\u001b[0m\u001b[0m\n\u001b[0;32m----> 3\u001b[0;31m \u001b[0mlist1\u001b[0m \u001b[0;34m*\u001b[0m \u001b[0mlist2\u001b[0m\u001b[0;34m\u001b[0m\u001b[0;34m\u001b[0m\u001b[0m\n\u001b[0m",
            "\u001b[0;31mTypeError\u001b[0m: can't multiply sequence by non-int of type 'list'"
          ]
        }
      ]
    },
    {
      "cell_type": "markdown",
      "metadata": {
        "id": "lQIBUaQQywRG",
        "colab_type": "text"
      },
      "source": [
        "## 대화창 실습 : == 연산자를 이용한 리스트의 비교"
      ]
    },
    {
      "cell_type": "code",
      "metadata": {
        "id": "Zeg0JWwlywRH",
        "colab_type": "code",
        "outputId": "fde36b1a-23ac-4f08-becc-533d4644f4f6",
        "colab": {
          "base_uri": "https://localhost:8080/",
          "height": 35
        }
      },
      "source": [
        "list1 = [1, 2, 3, 4]\n",
        "list2 = [1, 2, 3, 4]\n",
        "list1 == list2"
      ],
      "execution_count": 0,
      "outputs": [
        {
          "output_type": "execute_result",
          "data": {
            "text/plain": [
              "True"
            ]
          },
          "metadata": {
            "tags": []
          },
          "execution_count": 44
        }
      ]
    },
    {
      "cell_type": "code",
      "metadata": {
        "id": "xkndSx0zywRM",
        "colab_type": "code",
        "outputId": "d35085bc-1dfe-43b4-df3d-7b8d84e72187",
        "colab": {
          "base_uri": "https://localhost:8080/",
          "height": 35
        }
      },
      "source": [
        "list3 = [4, 1, 2, 3]\n",
        "list1 == list3"
      ],
      "execution_count": 0,
      "outputs": [
        {
          "output_type": "execute_result",
          "data": {
            "text/plain": [
              "False"
            ]
          },
          "metadata": {
            "tags": []
          },
          "execution_count": 45
        }
      ]
    },
    {
      "cell_type": "markdown",
      "metadata": {
        "id": "s9XAPfG3ywRP",
        "colab_type": "text"
      },
      "source": [
        "## 대화창 실습 : >, < 연산자를 이용한 리스트의 비교"
      ]
    },
    {
      "cell_type": "code",
      "metadata": {
        "id": "ecklsjN7ywRQ",
        "colab_type": "code",
        "outputId": "5f26ecb0-cf0a-4f0e-8803-14606174356f",
        "colab": {
          "base_uri": "https://localhost:8080/",
          "height": 35
        }
      },
      "source": [
        "list1 = [1, 2, 3, 4]\n",
        "list2 = [2, 3, 3, 4]\n",
        "list1 > list2"
      ],
      "execution_count": 0,
      "outputs": [
        {
          "output_type": "execute_result",
          "data": {
            "text/plain": [
              "False"
            ]
          },
          "metadata": {
            "tags": []
          },
          "execution_count": 46
        }
      ]
    },
    {
      "cell_type": "code",
      "metadata": {
        "id": "jmr99FLLywRU",
        "colab_type": "code",
        "outputId": "20e94068-4b08-457a-fc1b-daf123dbf3f9",
        "colab": {
          "base_uri": "https://localhost:8080/",
          "height": 35
        }
      },
      "source": [
        "list2 > list1"
      ],
      "execution_count": 0,
      "outputs": [
        {
          "output_type": "execute_result",
          "data": {
            "text/plain": [
              "True"
            ]
          },
          "metadata": {
            "tags": []
          },
          "execution_count": 47
        }
      ]
    },
    {
      "cell_type": "markdown",
      "metadata": {
        "id": "rz-R1tEX1yTY",
        "colab_type": "text"
      },
      "source": [
        "# 코드 5-8 : 리스트 요소들을 하나하나 방문하며 10을 곱하는 기능"
      ]
    },
    {
      "cell_type": "markdown",
      "metadata": {
        "id": "Sv6q9ePZBXP3",
        "colab_type": "text"
      },
      "source": [
        "## list_element_ex1.py"
      ]
    },
    {
      "cell_type": "code",
      "metadata": {
        "id": "J4cBszCE11Ww",
        "colab_type": "code",
        "outputId": "b74fffd6-c725-4e0a-b8dd-5f5b4615ce4a",
        "colab": {
          "base_uri": "https://localhost:8080/",
          "height": 35
        }
      },
      "source": [
        "list1 = [10, 20, 30, 40, 50]\n",
        "i = 0\n",
        "for n in list1:\n",
        "    list1[i] = n * 10\n",
        "    i = i + 1\n",
        "\n",
        "print(list1)"
      ],
      "execution_count": 0,
      "outputs": [
        {
          "output_type": "stream",
          "text": [
            "[100, 200, 300, 400, 500]\n"
          ],
          "name": "stdout"
        }
      ]
    },
    {
      "cell_type": "markdown",
      "metadata": {
        "id": "ksNrkkAwBux1",
        "colab_type": "text"
      },
      "source": [
        "#  코드 5-9 : 리스트의 축약 표현을 사용하여 10을 곱하는 기능"
      ]
    },
    {
      "cell_type": "markdown",
      "metadata": {
        "id": "Kggf9VCgBv5e",
        "colab_type": "text"
      },
      "source": [
        "## list_element_ex2.py"
      ]
    },
    {
      "cell_type": "code",
      "metadata": {
        "id": "GhY6Qb9t7yGr",
        "colab_type": "code",
        "outputId": "18b9e65a-202c-4809-ddfd-e930f0bf0081",
        "colab": {
          "base_uri": "https://localhost:8080/",
          "height": 35
        }
      },
      "source": [
        "list1 = [10, 20, 30, 40, 50]\n",
        "list1 = [n * 10 for n in list1]\n",
        "print(list1)"
      ],
      "execution_count": 0,
      "outputs": [
        {
          "output_type": "stream",
          "text": [
            "[100, 200, 300, 400, 500]\n"
          ],
          "name": "stdout"
        }
      ]
    },
    {
      "cell_type": "markdown",
      "metadata": {
        "id": "JSJT3x-9B3td",
        "colab_type": "text"
      },
      "source": [
        "# 코드 5-10 : 람다 함수와 map을 이용하여 리스트 요소들을 조작하기"
      ]
    },
    {
      "cell_type": "markdown",
      "metadata": {
        "id": "40vWR_lHB6Z2",
        "colab_type": "text"
      },
      "source": [
        "## list_element_ex5.py"
      ]
    },
    {
      "cell_type": "code",
      "metadata": {
        "id": "Llr_Rx8Q-pCk",
        "colab_type": "code",
        "outputId": "fdc442d4-c219-4b3d-a906-92c5895659e5",
        "colab": {
          "base_uri": "https://localhost:8080/",
          "height": 35
        }
      },
      "source": [
        "list1 = [10, 20, 30, 40, 50]\n",
        "list1 = list(map(lambda x: x*10, list1))\n",
        "print(list1)"
      ],
      "execution_count": 0,
      "outputs": [
        {
          "output_type": "stream",
          "text": [
            "[100, 200, 300, 400, 500]\n"
          ],
          "name": "stdout"
        }
      ]
    },
    {
      "cell_type": "markdown",
      "metadata": {
        "id": "Ysvd3Z-dywRg",
        "colab_type": "text"
      },
      "source": [
        "## 대화창 실습 : 리스트와 슬라이싱"
      ]
    },
    {
      "cell_type": "code",
      "metadata": {
        "id": "CquHfdqMywRh",
        "colab_type": "code",
        "outputId": "987ec247-df00-4887-b746-51f4233bbb3b",
        "colab": {
          "base_uri": "https://localhost:8080/",
          "height": 35
        }
      },
      "source": [
        "a_list = [10, 20, 30, 40, 50, 60, 70, 80]\n",
        "a_list[1:5]"
      ],
      "execution_count": 0,
      "outputs": [
        {
          "output_type": "execute_result",
          "data": {
            "text/plain": [
              "[20, 30, 40, 50]"
            ]
          },
          "metadata": {
            "tags": []
          },
          "execution_count": 72
        }
      ]
    },
    {
      "cell_type": "code",
      "metadata": {
        "id": "d4zdectvywRl",
        "colab_type": "code",
        "outputId": "f420adda-8dd3-41c3-e73b-d7415b7d22d0",
        "colab": {
          "base_uri": "https://localhost:8080/",
          "height": 35
        }
      },
      "source": [
        "a_list[0:1]"
      ],
      "execution_count": 0,
      "outputs": [
        {
          "output_type": "execute_result",
          "data": {
            "text/plain": [
              "[10]"
            ]
          },
          "metadata": {
            "tags": []
          },
          "execution_count": 73
        }
      ]
    },
    {
      "cell_type": "code",
      "metadata": {
        "id": "3AwpFUJ6ywRo",
        "colab_type": "code",
        "outputId": "98ffd63d-6c38-435e-ff83-140caf5d9135",
        "colab": {
          "base_uri": "https://localhost:8080/",
          "height": 35
        }
      },
      "source": [
        "a_list[0:2]"
      ],
      "execution_count": 0,
      "outputs": [
        {
          "output_type": "execute_result",
          "data": {
            "text/plain": [
              "[10, 20]"
            ]
          },
          "metadata": {
            "tags": []
          },
          "execution_count": 74
        }
      ]
    },
    {
      "cell_type": "code",
      "metadata": {
        "id": "gK5xvUQUywRv",
        "colab_type": "code",
        "outputId": "5f9df282-452c-458e-da18-e462ec0b55e0",
        "colab": {
          "base_uri": "https://localhost:8080/",
          "height": 35
        }
      },
      "source": [
        "a_list[0:5]"
      ],
      "execution_count": 0,
      "outputs": [
        {
          "output_type": "execute_result",
          "data": {
            "text/plain": [
              "[10, 20, 30, 40, 50]"
            ]
          },
          "metadata": {
            "tags": []
          },
          "execution_count": 75
        }
      ]
    },
    {
      "cell_type": "code",
      "metadata": {
        "id": "en3A1S3EywR3",
        "colab_type": "code",
        "outputId": "eb52aad3-af80-4a97-8e15-cd68feb315ab",
        "colab": {
          "base_uri": "https://localhost:8080/",
          "height": 35
        }
      },
      "source": [
        "a_list[1:]"
      ],
      "execution_count": 0,
      "outputs": [
        {
          "output_type": "execute_result",
          "data": {
            "text/plain": [
              "[20, 30, 40, 50, 60, 70, 80]"
            ]
          },
          "metadata": {
            "tags": []
          },
          "execution_count": 76
        }
      ]
    },
    {
      "cell_type": "code",
      "metadata": {
        "id": "ioohWsNQywSA",
        "colab_type": "code",
        "outputId": "eaf080d7-e441-4f47-cb4f-c57362b2c273",
        "colab": {
          "base_uri": "https://localhost:8080/",
          "height": 35
        }
      },
      "source": [
        "a_list[:5]"
      ],
      "execution_count": 0,
      "outputs": [
        {
          "output_type": "execute_result",
          "data": {
            "text/plain": [
              "[10, 20, 30, 40, 50]"
            ]
          },
          "metadata": {
            "tags": []
          },
          "execution_count": 77
        }
      ]
    },
    {
      "cell_type": "code",
      "metadata": {
        "id": "t1PSz5yiPOhr",
        "colab_type": "code",
        "outputId": "f533bad0-dcf3-4ad3-a483-ffaa1f68da9c",
        "colab": {
          "base_uri": "https://localhost:8080/",
          "height": 35
        }
      },
      "source": [
        "a_list[1:5]"
      ],
      "execution_count": 0,
      "outputs": [
        {
          "output_type": "execute_result",
          "data": {
            "text/plain": [
              "[20, 30, 40, 50]"
            ]
          },
          "metadata": {
            "tags": []
          },
          "execution_count": 78
        }
      ]
    },
    {
      "cell_type": "code",
      "metadata": {
        "id": "dmdfNUy_PRBh",
        "colab_type": "code",
        "outputId": "3995127c-6cf5-4f03-dfad-69be2f5ffcf6",
        "colab": {
          "base_uri": "https://localhost:8080/",
          "height": 35
        }
      },
      "source": [
        "a_list[1:]"
      ],
      "execution_count": 0,
      "outputs": [
        {
          "output_type": "execute_result",
          "data": {
            "text/plain": [
              "[20, 30, 40, 50, 60, 70, 80]"
            ]
          },
          "metadata": {
            "tags": []
          },
          "execution_count": 79
        }
      ]
    },
    {
      "cell_type": "code",
      "metadata": {
        "id": "j2j9p2FGPUEp",
        "colab_type": "code",
        "outputId": "a66e4c1e-c976-4112-f95d-599bff0c94c2",
        "colab": {
          "base_uri": "https://localhost:8080/",
          "height": 35
        }
      },
      "source": [
        "a_list[:]"
      ],
      "execution_count": 0,
      "outputs": [
        {
          "output_type": "execute_result",
          "data": {
            "text/plain": [
              "[10, 20, 30, 40, 50, 60, 70, 80]"
            ]
          },
          "metadata": {
            "tags": []
          },
          "execution_count": 80
        }
      ]
    },
    {
      "cell_type": "code",
      "metadata": {
        "id": "BWdcbVDuPWvB",
        "colab_type": "code",
        "outputId": "ae1e8e5a-c0e3-4418-b106-5a98da2e4974",
        "colab": {
          "base_uri": "https://localhost:8080/",
          "height": 35
        }
      },
      "source": [
        "a_list[-7:-2]"
      ],
      "execution_count": 0,
      "outputs": [
        {
          "output_type": "execute_result",
          "data": {
            "text/plain": [
              "[20, 30, 40, 50, 60]"
            ]
          },
          "metadata": {
            "tags": []
          },
          "execution_count": 81
        }
      ]
    },
    {
      "cell_type": "code",
      "metadata": {
        "id": "zFLlYV5WPaDU",
        "colab_type": "code",
        "outputId": "b43b03f4-db39-448e-e13e-3524f9250fad",
        "colab": {
          "base_uri": "https://localhost:8080/",
          "height": 35
        }
      },
      "source": [
        "a_list[-7:]"
      ],
      "execution_count": 0,
      "outputs": [
        {
          "output_type": "execute_result",
          "data": {
            "text/plain": [
              "[20, 30, 40, 50, 60, 70, 80]"
            ]
          },
          "metadata": {
            "tags": []
          },
          "execution_count": 82
        }
      ]
    },
    {
      "cell_type": "code",
      "metadata": {
        "id": "Yw8RLkZyPd-h",
        "colab_type": "code",
        "outputId": "ef034fc5-31d8-4f06-f203-9fd9808e63bc",
        "colab": {
          "base_uri": "https://localhost:8080/",
          "height": 35
        }
      },
      "source": [
        "a_list[:-2]"
      ],
      "execution_count": 0,
      "outputs": [
        {
          "output_type": "execute_result",
          "data": {
            "text/plain": [
              "[10, 20, 30, 40, 50, 60]"
            ]
          },
          "metadata": {
            "tags": []
          },
          "execution_count": 83
        }
      ]
    },
    {
      "cell_type": "code",
      "metadata": {
        "id": "MF4cu754Pf9h",
        "colab_type": "code",
        "outputId": "c8d39108-33ad-41ea-a36e-5ec31a311bdc",
        "colab": {
          "base_uri": "https://localhost:8080/",
          "height": 35
        }
      },
      "source": [
        "a_list[-2:]"
      ],
      "execution_count": 0,
      "outputs": [
        {
          "output_type": "execute_result",
          "data": {
            "text/plain": [
              "[70, 80]"
            ]
          },
          "metadata": {
            "tags": []
          },
          "execution_count": 84
        }
      ]
    },
    {
      "cell_type": "code",
      "metadata": {
        "id": "wXvmNG5JPifZ",
        "colab_type": "code",
        "outputId": "6675dca5-4a91-4eb2-836b-58b7107adc00",
        "colab": {
          "base_uri": "https://localhost:8080/",
          "height": 35
        }
      },
      "source": [
        "a_list[:-2] + a_list[-2:]"
      ],
      "execution_count": 0,
      "outputs": [
        {
          "output_type": "execute_result",
          "data": {
            "text/plain": [
              "[10, 20, 30, 40, 50, 60, 70, 80]"
            ]
          },
          "metadata": {
            "tags": []
          },
          "execution_count": 85
        }
      ]
    },
    {
      "cell_type": "code",
      "metadata": {
        "id": "iClaPg4HPmox",
        "colab_type": "code",
        "outputId": "20809acb-e2c1-4fc0-c2aa-78713202af03",
        "colab": {
          "base_uri": "https://localhost:8080/",
          "height": 35
        }
      },
      "source": [
        "a_list[-2:] + a_list[:-2]"
      ],
      "execution_count": 0,
      "outputs": [
        {
          "output_type": "execute_result",
          "data": {
            "text/plain": [
              "[70, 80, 10, 20, 30, 40, 50, 60]"
            ]
          },
          "metadata": {
            "tags": []
          },
          "execution_count": 86
        }
      ]
    },
    {
      "cell_type": "code",
      "metadata": {
        "id": "kZOWv5YqPuap",
        "colab_type": "code",
        "outputId": "d54dd5e9-ba5c-4193-c042-7f301eccf17d",
        "colab": {
          "base_uri": "https://localhost:8080/",
          "height": 35
        }
      },
      "source": [
        "a_list[0:8:3]"
      ],
      "execution_count": 0,
      "outputs": [
        {
          "output_type": "execute_result",
          "data": {
            "text/plain": [
              "[10, 40, 70]"
            ]
          },
          "metadata": {
            "tags": []
          },
          "execution_count": 88
        }
      ]
    },
    {
      "cell_type": "code",
      "metadata": {
        "id": "Xe2Q_RpEQXIK",
        "colab_type": "code",
        "outputId": "13a8e33f-1cdc-474b-e03e-914d89c330e2",
        "colab": {
          "base_uri": "https://localhost:8080/",
          "height": 35
        }
      },
      "source": [
        "a_list[::-1]"
      ],
      "execution_count": 0,
      "outputs": [
        {
          "output_type": "execute_result",
          "data": {
            "text/plain": [
              "[80, 70, 60, 50, 40, 30, 20, 10]"
            ]
          },
          "metadata": {
            "tags": []
          },
          "execution_count": 89
        }
      ]
    },
    {
      "cell_type": "markdown",
      "metadata": {
        "id": "NfvhC4Q4Qmdu",
        "colab_type": "text"
      },
      "source": [
        "# 참고할 내용 : 튜플과 문자열의 슬라이싱\n",
        "------------"
      ]
    },
    {
      "cell_type": "code",
      "metadata": {
        "id": "RXCMrKJgywY9",
        "colab_type": "code",
        "outputId": "36b8d079-bf21-415d-ac50-70e1ef368511",
        "colab": {}
      },
      "source": [
        "tu = (0, 1, 2, 3, 4, 5, 6, 7, 8, 9)\n",
        "tu[1:5]"
      ],
      "execution_count": 0,
      "outputs": [
        {
          "output_type": "execute_result",
          "data": {
            "text/plain": [
              "(1, 2, 3, 4)"
            ]
          },
          "metadata": {
            "tags": []
          },
          "execution_count": 14
        }
      ]
    },
    {
      "cell_type": "code",
      "metadata": {
        "id": "9-e9Ir94ywZA",
        "colab_type": "code",
        "outputId": "5260dda7-8802-4166-c802-07d6d7eb3782",
        "colab": {}
      },
      "source": [
        "tu[0:10:3]"
      ],
      "execution_count": 0,
      "outputs": [
        {
          "output_type": "execute_result",
          "data": {
            "text/plain": [
              "(0, 3, 6, 9)"
            ]
          },
          "metadata": {
            "tags": []
          },
          "execution_count": 15
        }
      ]
    },
    {
      "cell_type": "code",
      "metadata": {
        "id": "KulmW_jHywZC",
        "colab_type": "code",
        "outputId": "2e8d8e73-bdb5-44bc-e74c-2a5d1cd7f0c4",
        "colab": {}
      },
      "source": [
        "tu[::-1]"
      ],
      "execution_count": 0,
      "outputs": [
        {
          "output_type": "execute_result",
          "data": {
            "text/plain": [
              "(9, 8, 7, 6, 5, 4, 3, 2, 1, 0)"
            ]
          },
          "metadata": {
            "tags": []
          },
          "execution_count": 16
        }
      ]
    },
    {
      "cell_type": "markdown",
      "metadata": {
        "colab_type": "text",
        "id": "ys89NF43F6Sl"
      },
      "source": [
        "## 문자열 슬라이싱"
      ]
    },
    {
      "cell_type": "code",
      "metadata": {
        "colab_type": "code",
        "id": "vm4sByipF6Sm",
        "outputId": "3c166c1c-76f3-4eaf-c341-8e3c54cab1d5",
        "colab": {}
      },
      "source": [
        "text = 'hello world'\n",
        "text[1:5]"
      ],
      "execution_count": 0,
      "outputs": [
        {
          "output_type": "execute_result",
          "data": {
            "text/plain": [
              "'ello'"
            ]
          },
          "metadata": {
            "tags": []
          },
          "execution_count": 22
        }
      ]
    },
    {
      "cell_type": "code",
      "metadata": {
        "id": "4FfADXp7ywZP",
        "colab_type": "code",
        "outputId": "764b37cc-d125-4aee-f703-d52c833536e2",
        "colab": {}
      },
      "source": [
        "text[6:]"
      ],
      "execution_count": 0,
      "outputs": [
        {
          "output_type": "execute_result",
          "data": {
            "text/plain": [
              "'world'"
            ]
          },
          "metadata": {
            "tags": []
          },
          "execution_count": 23
        }
      ]
    },
    {
      "cell_type": "code",
      "metadata": {
        "id": "hNDgEdtGywZV",
        "colab_type": "code",
        "outputId": "996c8844-f942-45cd-8d4d-9e5789e33bc8",
        "colab": {}
      },
      "source": [
        "text[::3]"
      ],
      "execution_count": 0,
      "outputs": [
        {
          "output_type": "execute_result",
          "data": {
            "text/plain": [
              "'hlwl'"
            ]
          },
          "metadata": {
            "tags": []
          },
          "execution_count": 24
        }
      ]
    },
    {
      "cell_type": "code",
      "metadata": {
        "id": "q54NfA3zywZY",
        "colab_type": "code",
        "outputId": "b3aad0a8-9cf4-43d3-d26c-94617efb7ef9",
        "colab": {}
      },
      "source": [
        "text[::-1]"
      ],
      "execution_count": 0,
      "outputs": [
        {
          "output_type": "execute_result",
          "data": {
            "text/plain": [
              "'dlrow olleh'"
            ]
          },
          "metadata": {
            "tags": []
          },
          "execution_count": 25
        }
      ]
    }
  ]
}