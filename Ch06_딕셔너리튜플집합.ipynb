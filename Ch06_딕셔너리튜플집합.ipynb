{
  "nbformat": 4,
  "nbformat_minor": 0,
  "metadata": {
    "colab": {
      "name": "Ch06-딕셔너리튜플집합.ipynb",
      "provenance": [],
      "collapsed_sections": [],
      "include_colab_link": true
    },
    "language_info": {
      "codemirror_mode": {
        "name": "ipython",
        "version": 3
      },
      "file_extension": ".py",
      "mimetype": "text/x-python",
      "name": "python",
      "nbconvert_exporter": "python",
      "pygments_lexer": "ipython3",
      "version": "3.7.3"
    },
    "kernelspec": {
      "display_name": "Python 3",
      "language": "python",
      "name": "python3"
    }
  },
  "cells": [
    {
      "cell_type": "markdown",
      "metadata": {
        "id": "view-in-github",
        "colab_type": "text"
      },
      "source": [
        "<a href=\"https://colab.research.google.com/github/dongupak/Prime-Python/blob/master/jupyter-notebook/Ch06_%EB%94%95%EC%85%94%EB%84%88%EB%A6%AC%ED%8A%9C%ED%94%8C%EC%A7%91%ED%95%A9.ipynb\" target=\"_parent\"><img src=\"https://colab.research.google.com/assets/colab-badge.svg\" alt=\"Open In Colab\"/></a>"
      ]
    },
    {
      "cell_type": "markdown",
      "metadata": {
        "id": "B5VuRWJcRLSC",
        "colab_type": "text"
      },
      "source": [
        "# **생능 출판사 \"으뜸 파이썬\"(1판) 교재의 소스 코드**\n",
        "# *6장 딕셔너리, 튜플, 집합*\n",
        "---\n",
        "* 출판사 : 생능 출판사( http://www.booksr.co.kr/ )\n",
        "* 으뜸 파이썬 저자 : 박동규, 강영민 \n",
        "* 소스코드 저장소 : https://github.com/dongupak/Prime-Python\n",
        "* 저작권 : 본 주피터 노트북 코드는 자유롭게 배포가능하지만 위의 출판사, 저서, 저자표기와 함께 배포해 주십시오.\n",
        "--- "
      ]
    },
    {
      "cell_type": "markdown",
      "metadata": {
        "id": "V8ndw886etzI",
        "colab_type": "text"
      },
      "source": [
        "## 대화창 실습 : person 딕셔너리의 생성과 조회\n",
        "\n"
      ]
    },
    {
      "cell_type": "code",
      "metadata": {
        "id": "PAL31cAAetzK",
        "colab_type": "code",
        "colab": {}
      },
      "source": [
        "person = {'이름' : '홍길동', '나이' : 26, '몸무게' : 82 } "
      ],
      "execution_count": 0,
      "outputs": []
    },
    {
      "cell_type": "code",
      "metadata": {
        "id": "TIaUqCK9etzS",
        "colab_type": "code",
        "colab": {}
      },
      "source": [
        "person['이름']"
      ],
      "execution_count": 0,
      "outputs": []
    },
    {
      "cell_type": "code",
      "metadata": {
        "id": "orIE-4K3etzc",
        "colab_type": "code",
        "colab": {}
      },
      "source": [
        "person['나이']"
      ],
      "execution_count": 0,
      "outputs": []
    },
    {
      "cell_type": "code",
      "metadata": {
        "id": "D4gxvkMhetzj",
        "colab_type": "code",
        "colab": {}
      },
      "source": [
        "person['몸무게']"
      ],
      "execution_count": 0,
      "outputs": []
    },
    {
      "cell_type": "markdown",
      "metadata": {
        "id": "PihRDx5tYx7h",
        "colab_type": "text"
      },
      "source": [
        "## 대화창 실습 : students 딕셔너리의 생성과 조회"
      ]
    },
    {
      "cell_type": "code",
      "metadata": {
        "id": "pEQVOyrhY0W-",
        "colab_type": "code",
        "colab": {}
      },
      "source": [
        "students = { 2019001:'이순신', 2019002:'김유신', 2019003:'강감찬'}\n",
        "students[2019001]"
      ],
      "execution_count": 0,
      "outputs": []
    },
    {
      "cell_type": "code",
      "metadata": {
        "id": "_RbgBgTPY-r6",
        "colab_type": "code",
        "colab": {}
      },
      "source": [
        "students[2019002]"
      ],
      "execution_count": 0,
      "outputs": []
    },
    {
      "cell_type": "code",
      "metadata": {
        "id": "CQKHORRYY_Ii",
        "colab_type": "code",
        "colab": {}
      },
      "source": [
        "students[2019003]"
      ],
      "execution_count": 0,
      "outputs": []
    },
    {
      "cell_type": "markdown",
      "metadata": {
        "id": "sYACFKQSetzq",
        "colab_type": "text"
      },
      "source": [
        "## 대화창 실습 : 딕셔너리의 항목 삽입"
      ]
    },
    {
      "cell_type": "code",
      "metadata": {
        "id": "KovuBMc4etzt",
        "colab_type": "code",
        "colab": {}
      },
      "source": [
        "person = {'이름' : '홍길동', '나이' : 26, '몸무게' : 82 }"
      ],
      "execution_count": 0,
      "outputs": []
    },
    {
      "cell_type": "code",
      "metadata": {
        "id": "E4qINlcxetzx",
        "colab_type": "code",
        "colab": {}
      },
      "source": [
        "person['직업'] = '율도국의 왕'   # 새로운 키:값의 항목 삽입"
      ],
      "execution_count": 0,
      "outputs": []
    },
    {
      "cell_type": "code",
      "metadata": {
        "id": "IMTkK89Netz3",
        "colab_type": "code",
        "outputId": "5e5f1968-d680-45af-e91f-407c66a56ed2",
        "colab": {
          "base_uri": "https://localhost:8080/",
          "height": 35
        }
      },
      "source": [
        "person"
      ],
      "execution_count": 0,
      "outputs": [
        {
          "output_type": "execute_result",
          "data": {
            "text/plain": [
              "{'나이': 26, '몸무게': 82, '이름': '홍길동', '직업': '율도국의 왕'}"
            ]
          },
          "metadata": {
            "tags": []
          },
          "execution_count": 11
        }
      ]
    },
    {
      "cell_type": "markdown",
      "metadata": {
        "id": "rHXg8RIHetz-",
        "colab_type": "text"
      },
      "source": [
        "## 대화창 실습 : 딕셔너리의 항목 수정"
      ]
    },
    {
      "cell_type": "code",
      "metadata": {
        "id": "PWkcYRPnetz_",
        "colab_type": "code",
        "colab": {}
      },
      "source": [
        "person = {'이름' : '홍길동', '나이' : 26, '키' : 179 }"
      ],
      "execution_count": 0,
      "outputs": []
    },
    {
      "cell_type": "code",
      "metadata": {
        "id": "jnbMq7lKet0E",
        "colab_type": "code",
        "colab": {}
      },
      "source": [
        "person['나이'] = 27"
      ],
      "execution_count": 0,
      "outputs": []
    },
    {
      "cell_type": "code",
      "metadata": {
        "id": "zUiZIW-het0J",
        "colab_type": "code",
        "outputId": "3b0fc5e4-2c94-4726-cae3-577a3934c74c",
        "colab": {
          "base_uri": "https://localhost:8080/",
          "height": 35
        }
      },
      "source": [
        "person"
      ],
      "execution_count": 0,
      "outputs": [
        {
          "output_type": "execute_result",
          "data": {
            "text/plain": [
              "{'나이': 27, '이름': '홍길동', '키': 179}"
            ]
          },
          "metadata": {
            "tags": []
          },
          "execution_count": 14
        }
      ]
    },
    {
      "cell_type": "markdown",
      "metadata": {
        "id": "tucvSlnyet0Q",
        "colab_type": "text"
      },
      "source": [
        "## 대화창 실습 : 딕셔너리의 항목 삭제"
      ]
    },
    {
      "cell_type": "code",
      "metadata": {
        "id": "5j1oCKqQet0R",
        "colab_type": "code",
        "colab": {}
      },
      "source": [
        "person = {'이름' : '홍길동', '나이' : 26, '몸무게' : 82 }"
      ],
      "execution_count": 0,
      "outputs": []
    },
    {
      "cell_type": "code",
      "metadata": {
        "id": "9VoZRA5Ret0W",
        "colab_type": "code",
        "colab": {}
      },
      "source": [
        "del person['나이']"
      ],
      "execution_count": 0,
      "outputs": []
    },
    {
      "cell_type": "code",
      "metadata": {
        "id": "ci69sczGet0d",
        "colab_type": "code",
        "outputId": "fca65c01-27f9-476c-db6b-151b285c1aee",
        "colab": {
          "base_uri": "https://localhost:8080/",
          "height": 35
        }
      },
      "source": [
        "person"
      ],
      "execution_count": 0,
      "outputs": [
        {
          "output_type": "execute_result",
          "data": {
            "text/plain": [
              "{'몸무게': 82, '이름': '홍길동'}"
            ]
          },
          "metadata": {
            "tags": []
          },
          "execution_count": 17
        }
      ]
    },
    {
      "cell_type": "markdown",
      "metadata": {
        "id": "ooBW-FUYet0l",
        "colab_type": "text"
      },
      "source": [
        "## 대화창 실습 : 딕셔너리의 항목 삭제 - KeyError 오류 발생"
      ]
    },
    {
      "cell_type": "code",
      "metadata": {
        "id": "kpjFiR6Yet0m",
        "colab_type": "code",
        "colab": {}
      },
      "source": [
        "person = {'이름' : '홍길동', '나이' : 26, '몸무게' : 82 }"
      ],
      "execution_count": 0,
      "outputs": []
    },
    {
      "cell_type": "code",
      "metadata": {
        "id": "iUFdKb5Net0s",
        "colab_type": "code",
        "outputId": "5b5ad952-9466-432f-dc4e-6979ee0873bc",
        "colab": {
          "base_uri": "https://localhost:8080/",
          "height": 172
        }
      },
      "source": [
        "del person['출생지']"
      ],
      "execution_count": 0,
      "outputs": [
        {
          "output_type": "error",
          "ename": "KeyError",
          "evalue": "ignored",
          "traceback": [
            "\u001b[0;31m---------------------------------------------------------------------------\u001b[0m",
            "\u001b[0;31mKeyError\u001b[0m                                  Traceback (most recent call last)",
            "\u001b[0;32m<ipython-input-21-29b5eba98df7>\u001b[0m in \u001b[0;36m<module>\u001b[0;34m()\u001b[0m\n\u001b[0;32m----> 1\u001b[0;31m \u001b[0;32mdel\u001b[0m \u001b[0mperson\u001b[0m\u001b[0;34m[\u001b[0m\u001b[0;34m'출생지'\u001b[0m\u001b[0;34m]\u001b[0m\u001b[0;34m\u001b[0m\u001b[0;34m\u001b[0m\u001b[0m\n\u001b[0m",
            "\u001b[0;31mKeyError\u001b[0m: '출생지'"
          ]
        }
      ]
    },
    {
      "cell_type": "markdown",
      "metadata": {
        "id": "OA9v7Ryget01",
        "colab_type": "text"
      },
      "source": [
        "## 대화창 실습 : in 연산자를 이용한 딕셔너리 항목의 조회"
      ]
    },
    {
      "cell_type": "code",
      "metadata": {
        "id": "1s_ki2Gqet02",
        "colab_type": "code",
        "colab": {}
      },
      "source": [
        "person = {'이름': '홍길동', '나이': 26, '몸무게': 82 }"
      ],
      "execution_count": 0,
      "outputs": []
    },
    {
      "cell_type": "code",
      "metadata": {
        "id": "UXN2bGXVet0-",
        "colab_type": "code",
        "outputId": "94329780-b59b-4d31-eb1a-d84bf06a05ef",
        "colab": {
          "base_uri": "https://localhost:8080/",
          "height": 35
        }
      },
      "source": [
        "len(person)  # 딕셔너리 항목의 개수를 반환"
      ],
      "execution_count": 0,
      "outputs": [
        {
          "output_type": "execute_result",
          "data": {
            "text/plain": [
              "3"
            ]
          },
          "metadata": {
            "tags": []
          },
          "execution_count": 23
        }
      ]
    },
    {
      "cell_type": "code",
      "metadata": {
        "id": "sCK0rWouet1F",
        "colab_type": "code",
        "outputId": "5430c1e0-186c-480f-c70c-a492e1cbef74",
        "colab": {
          "base_uri": "https://localhost:8080/",
          "height": 35
        }
      },
      "source": [
        "'이름' in person  # '이름'은 키에 있음"
      ],
      "execution_count": 0,
      "outputs": [
        {
          "output_type": "execute_result",
          "data": {
            "text/plain": [
              "True"
            ]
          },
          "metadata": {
            "tags": []
          },
          "execution_count": 24
        }
      ]
    },
    {
      "cell_type": "code",
      "metadata": {
        "id": "8wgpJEZSet1L",
        "colab_type": "code",
        "outputId": "490288bf-ecd9-4435-bb29-ba2bf47884b9",
        "colab": {
          "base_uri": "https://localhost:8080/",
          "height": 35
        }
      },
      "source": [
        "'직업' in person # '직업'은 키에 없음 "
      ],
      "execution_count": 0,
      "outputs": [
        {
          "output_type": "execute_result",
          "data": {
            "text/plain": [
              "False"
            ]
          },
          "metadata": {
            "tags": []
          },
          "execution_count": 25
        }
      ]
    },
    {
      "cell_type": "code",
      "metadata": {
        "id": "ZBSkWh07et1R",
        "colab_type": "code",
        "outputId": "8ecad533-7a1f-4312-9bb5-65f6ed8aab39",
        "colab": {
          "base_uri": "https://localhost:8080/",
          "height": 35
        }
      },
      "source": [
        "'홍길동' in person # ‘홍길동’은 값에 있으나 키에 없음(주의)"
      ],
      "execution_count": 0,
      "outputs": [
        {
          "output_type": "execute_result",
          "data": {
            "text/plain": [
              "False"
            ]
          },
          "metadata": {
            "tags": []
          },
          "execution_count": 26
        }
      ]
    },
    {
      "cell_type": "markdown",
      "metadata": {
        "colab_type": "text",
        "id": "4n5WWCNpekX8"
      },
      "source": [
        "## 대화창 실습 : in 연산자를 이용한 항목의 존재여부 조회"
      ]
    },
    {
      "cell_type": "code",
      "metadata": {
        "colab_type": "code",
        "id": "XiOIce4IekX-",
        "outputId": "ce46a47c-4342-4979-c5dc-37793e946cab",
        "colab": {
          "base_uri": "https://localhost:8080/",
          "height": 35
        }
      },
      "source": [
        "'apple' in ['orange', 'apple', 'mango']"
      ],
      "execution_count": 0,
      "outputs": [
        {
          "output_type": "execute_result",
          "data": {
            "text/plain": [
              "True"
            ]
          },
          "metadata": {
            "tags": []
          },
          "execution_count": 27
        }
      ]
    },
    {
      "cell_type": "code",
      "metadata": {
        "colab_type": "code",
        "outputId": "83484a46-73b2-439c-cb16-dbdff1a29e50",
        "id": "kSP4an7GekYA",
        "colab": {
          "base_uri": "https://localhost:8080/",
          "height": 35
        }
      },
      "source": [
        "'x' in 'aeiou'"
      ],
      "execution_count": 0,
      "outputs": [
        {
          "output_type": "execute_result",
          "data": {
            "text/plain": [
              "False"
            ]
          },
          "metadata": {
            "tags": []
          },
          "execution_count": 28
        }
      ]
    },
    {
      "cell_type": "markdown",
      "metadata": {
        "id": "Zc-UE9hFet1Z",
        "colab_type": "text"
      },
      "source": [
        "## 대화창 실습 : 딕셔너리의 비교 연산"
      ]
    },
    {
      "cell_type": "code",
      "metadata": {
        "id": "EOyXcJKjet1b",
        "colab_type": "code",
        "colab": {}
      },
      "source": [
        "d1 = {'이름' : '홍길동', '나이' : 26 }"
      ],
      "execution_count": 0,
      "outputs": []
    },
    {
      "cell_type": "code",
      "metadata": {
        "id": "gzjkS4hSet1f",
        "colab_type": "code",
        "colab": {}
      },
      "source": [
        "d2 = {'나이' : 26, '이름' : '홍길동' }"
      ],
      "execution_count": 0,
      "outputs": []
    },
    {
      "cell_type": "code",
      "metadata": {
        "id": "3OVuBq0yet1k",
        "colab_type": "code",
        "outputId": "48d1ead2-a62f-4c2c-9d23-f0568229540a",
        "colab": {
          "base_uri": "https://localhost:8080/",
          "height": 36
        }
      },
      "source": [
        "d1 == d2"
      ],
      "execution_count": 0,
      "outputs": [
        {
          "output_type": "execute_result",
          "data": {
            "text/plain": [
              "True"
            ]
          },
          "metadata": {
            "tags": []
          },
          "execution_count": 36
        }
      ]
    },
    {
      "cell_type": "code",
      "metadata": {
        "id": "m7pT4FpNet1q",
        "colab_type": "code",
        "outputId": "332c0137-b8dd-447c-d5be-e1ac6d34faab",
        "colab": {
          "base_uri": "https://localhost:8080/",
          "height": 176
        }
      },
      "source": [
        "d1 > d2"
      ],
      "execution_count": 0,
      "outputs": [
        {
          "output_type": "error",
          "ename": "TypeError",
          "evalue": "ignored",
          "traceback": [
            "\u001b[0;31m---------------------------------------------------------------------------\u001b[0m",
            "\u001b[0;31mTypeError\u001b[0m                                 Traceback (most recent call last)",
            "\u001b[0;32m<ipython-input-37-93fca8e036ac>\u001b[0m in \u001b[0;36m<module>\u001b[0;34m()\u001b[0m\n\u001b[0;32m----> 1\u001b[0;31m \u001b[0md1\u001b[0m \u001b[0;34m>\u001b[0m \u001b[0md2\u001b[0m\u001b[0;34m\u001b[0m\u001b[0;34m\u001b[0m\u001b[0m\n\u001b[0m",
            "\u001b[0;31mTypeError\u001b[0m: '>' not supported between instances of 'dict' and 'dict'"
          ]
        }
      ]
    },
    {
      "cell_type": "markdown",
      "metadata": {
        "id": "o_dPfYm5et1x",
        "colab_type": "text"
      },
      "source": [
        "## 대화창 실습 : 딕셔너리의 keys(), values(), items() 메소드"
      ]
    },
    {
      "cell_type": "code",
      "metadata": {
        "id": "f6Xlk0hTet1y",
        "colab_type": "code",
        "colab": {}
      },
      "source": [
        "person = {'이름' : '홍길동', '나이' : 26, '키' : 179 }"
      ],
      "execution_count": 0,
      "outputs": []
    },
    {
      "cell_type": "code",
      "metadata": {
        "id": "AB5Zm0vPet14",
        "colab_type": "code",
        "outputId": "46543068-edf1-4444-81a0-4125dbc71c65",
        "colab": {
          "base_uri": "https://localhost:8080/",
          "height": 36
        }
      },
      "source": [
        "person.keys()"
      ],
      "execution_count": 0,
      "outputs": [
        {
          "output_type": "execute_result",
          "data": {
            "text/plain": [
              "dict_keys(['이름', '나이', '키'])"
            ]
          },
          "metadata": {
            "tags": []
          },
          "execution_count": 39
        }
      ]
    },
    {
      "cell_type": "code",
      "metadata": {
        "id": "myVBkGqfet1-",
        "colab_type": "code",
        "outputId": "39372bf4-61f9-46b7-bbfb-bf976c730878",
        "colab": {
          "base_uri": "https://localhost:8080/",
          "height": 36
        }
      },
      "source": [
        "person.values()"
      ],
      "execution_count": 0,
      "outputs": [
        {
          "output_type": "execute_result",
          "data": {
            "text/plain": [
              "dict_values(['홍길동', 26, 179])"
            ]
          },
          "metadata": {
            "tags": []
          },
          "execution_count": 40
        }
      ]
    },
    {
      "cell_type": "code",
      "metadata": {
        "id": "Na9-8s5Let2E",
        "colab_type": "code",
        "outputId": "18cfa3e7-43cb-4bb8-dc75-8e32404f0279",
        "colab": {
          "base_uri": "https://localhost:8080/",
          "height": 36
        }
      },
      "source": [
        "person.items()"
      ],
      "execution_count": 0,
      "outputs": [
        {
          "output_type": "execute_result",
          "data": {
            "text/plain": [
              "dict_items([('이름', '홍길동'), ('나이', 26), ('키', 179)])"
            ]
          },
          "metadata": {
            "tags": []
          },
          "execution_count": 41
        }
      ]
    },
    {
      "cell_type": "markdown",
      "metadata": {
        "id": "4xZqglIerR-o",
        "colab_type": "text"
      },
      "source": [
        "## 대화창 실습 : 딕셔너리의 get() 메소드"
      ]
    },
    {
      "cell_type": "code",
      "metadata": {
        "id": "fMCFAyWoet2J",
        "colab_type": "code",
        "outputId": "20ef11ea-ac6b-4005-881d-58c44624d79e",
        "colab": {
          "base_uri": "https://localhost:8080/",
          "height": 195
        }
      },
      "source": [
        "person = {'이름' : '홍길동', '나이' : 26, '키' : 179 }\n",
        "person['취미']  # ’취미‘키가 없으므로 여기서는 예외를 발생시킴"
      ],
      "execution_count": 0,
      "outputs": [
        {
          "output_type": "error",
          "ename": "KeyError",
          "evalue": "ignored",
          "traceback": [
            "\u001b[0;31m---------------------------------------------------------------------------\u001b[0m",
            "\u001b[0;31mKeyError\u001b[0m                                  Traceback (most recent call last)",
            "\u001b[0;32m<ipython-input-42-72e7714624ac>\u001b[0m in \u001b[0;36m<module>\u001b[0;34m()\u001b[0m\n\u001b[1;32m      1\u001b[0m \u001b[0mperson\u001b[0m \u001b[0;34m=\u001b[0m \u001b[0;34m{\u001b[0m\u001b[0;34m'이름'\u001b[0m \u001b[0;34m:\u001b[0m \u001b[0;34m'홍길동'\u001b[0m\u001b[0;34m,\u001b[0m \u001b[0;34m'나이'\u001b[0m \u001b[0;34m:\u001b[0m \u001b[0;36m26\u001b[0m\u001b[0;34m,\u001b[0m \u001b[0;34m'키'\u001b[0m \u001b[0;34m:\u001b[0m \u001b[0;36m179\u001b[0m \u001b[0;34m}\u001b[0m\u001b[0;34m\u001b[0m\u001b[0;34m\u001b[0m\u001b[0m\n\u001b[0;32m----> 2\u001b[0;31m \u001b[0mperson\u001b[0m\u001b[0;34m[\u001b[0m\u001b[0;34m'취미'\u001b[0m\u001b[0;34m]\u001b[0m  \u001b[0;31m# ’취미‘키가 없으므로 여기서는 예외를 발생시킴\u001b[0m\u001b[0;34m\u001b[0m\u001b[0;34m\u001b[0m\u001b[0m\n\u001b[0m",
            "\u001b[0;31mKeyError\u001b[0m: '취미'"
          ]
        }
      ]
    },
    {
      "cell_type": "code",
      "metadata": {
        "id": "eOwbHLFDet2Q",
        "colab_type": "code",
        "colab": {}
      },
      "source": [
        "person.get('취미')  # ‘취미’ 키가 없으므로 아무것도 반환하지 않음"
      ],
      "execution_count": 0,
      "outputs": []
    },
    {
      "cell_type": "code",
      "metadata": {
        "id": "wRwKQqbMet2U",
        "colab_type": "code",
        "outputId": "f8f88499-6052-4fc1-dd8c-92cdabd2dc47",
        "colab": {
          "base_uri": "https://localhost:8080/",
          "height": 36
        }
      },
      "source": [
        "person.get('이름')"
      ],
      "execution_count": 0,
      "outputs": [
        {
          "output_type": "execute_result",
          "data": {
            "text/plain": [
              "'홍길동'"
            ]
          },
          "metadata": {
            "tags": []
          },
          "execution_count": 49
        }
      ]
    },
    {
      "cell_type": "markdown",
      "metadata": {
        "id": "2wdm3_9Btg_d",
        "colab_type": "text"
      },
      "source": [
        "###  NOTE : 파이썬의 None 키워드"
      ]
    },
    {
      "cell_type": "code",
      "metadata": {
        "id": "yuFQZ9OetmJQ",
        "colab_type": "code",
        "colab": {}
      },
      "source": [
        "x = None"
      ],
      "execution_count": 0,
      "outputs": []
    },
    {
      "cell_type": "code",
      "metadata": {
        "id": "M0oU0MDCtn95",
        "colab_type": "code",
        "outputId": "5064f049-9192-41a3-c9d6-7297c24b8926",
        "colab": {
          "base_uri": "https://localhost:8080/",
          "height": 36
        }
      },
      "source": [
        "x = person.get('취미')  # ‘취미’ 키가 없으므로 None을 반환함\n",
        "print(x)"
      ],
      "execution_count": 0,
      "outputs": [
        {
          "output_type": "stream",
          "text": [
            "None\n"
          ],
          "name": "stdout"
        }
      ]
    },
    {
      "cell_type": "markdown",
      "metadata": {
        "id": "WRwYH_iTwdLt",
        "colab_type": "text"
      },
      "source": [
        "## 대화창 실습 : 딕셔너리의 메소드 살펴보기"
      ]
    },
    {
      "cell_type": "code",
      "metadata": {
        "id": "l4tIODd1wg7h",
        "colab_type": "code",
        "colab": {}
      },
      "source": [
        " person = {'이름' : '홍길동', '나이' : 26,  '몸무게': 82} "
      ],
      "execution_count": 0,
      "outputs": []
    },
    {
      "cell_type": "code",
      "metadata": {
        "id": "qWWOrAGWwg_B",
        "colab_type": "code",
        "outputId": "49fabb95-ec66-43b6-ccac-05507bc311af",
        "colab": {
          "base_uri": "https://localhost:8080/",
          "height": 35
        }
      },
      "source": [
        "person.popitem()        # 랜덤하게 아이템을 선택하여 반환한 후 삭제 "
      ],
      "execution_count": 0,
      "outputs": [
        {
          "output_type": "execute_result",
          "data": {
            "text/plain": [
              "('몸무게', 82)"
            ]
          },
          "metadata": {
            "tags": []
          },
          "execution_count": 43
        }
      ]
    },
    {
      "cell_type": "code",
      "metadata": {
        "id": "Xj4t3YBrwhDU",
        "colab_type": "code",
        "outputId": "35c5865c-7cb8-464e-974c-71fa5161135a",
        "colab": {
          "base_uri": "https://localhost:8080/",
          "height": 35
        }
      },
      "source": [
        "person                  # 랜덤하게 선택된 '몸무게' 항목이 삭제되었으므로 2개 항목만 있음 "
      ],
      "execution_count": 0,
      "outputs": [
        {
          "output_type": "execute_result",
          "data": {
            "text/plain": [
              "{'나이': 26, '이름': '홍길동'}"
            ]
          },
          "metadata": {
            "tags": []
          },
          "execution_count": 44
        }
      ]
    },
    {
      "cell_type": "code",
      "metadata": {
        "id": "PFdjPpgKwhHf",
        "colab_type": "code",
        "outputId": "0a5c31a8-9b29-43a9-cfd2-ab423733b6ca",
        "colab": {
          "base_uri": "https://localhost:8080/",
          "height": 35
        }
      },
      "source": [
        "person.pop('나이')      # '나이' 항목을 반환한 후 삭제함 "
      ],
      "execution_count": 0,
      "outputs": [
        {
          "output_type": "execute_result",
          "data": {
            "text/plain": [
              "26"
            ]
          },
          "metadata": {
            "tags": []
          },
          "execution_count": 45
        }
      ]
    },
    {
      "cell_type": "code",
      "metadata": {
        "id": "P9hf60Z3whMH",
        "colab_type": "code",
        "outputId": "c0f8a225-9700-49dd-857c-39c569c7c472",
        "colab": {
          "base_uri": "https://localhost:8080/",
          "height": 35
        }
      },
      "source": [
        "person                  # '나이' 항목이 삭제되었으므로 1개 항목만 있음 "
      ],
      "execution_count": 0,
      "outputs": [
        {
          "output_type": "execute_result",
          "data": {
            "text/plain": [
              "{'이름': '홍길동'}"
            ]
          },
          "metadata": {
            "tags": []
          },
          "execution_count": 47
        }
      ]
    },
    {
      "cell_type": "code",
      "metadata": {
        "id": "NCHZLoL2whO-",
        "colab_type": "code",
        "colab": {}
      },
      "source": [
        "person.clear()          # person 딕셔너리의 모든 항목을 삭제함 "
      ],
      "execution_count": 0,
      "outputs": []
    },
    {
      "cell_type": "code",
      "metadata": {
        "id": "QYRgAHk4f53a",
        "colab_type": "code",
        "outputId": "999ce071-4c31-40ea-c26b-1bbb127be73e",
        "colab": {
          "base_uri": "https://localhost:8080/",
          "height": 35
        }
      },
      "source": [
        "person"
      ],
      "execution_count": 0,
      "outputs": [
        {
          "output_type": "execute_result",
          "data": {
            "text/plain": [
              "{}"
            ]
          },
          "metadata": {
            "tags": []
          },
          "execution_count": 49
        }
      ]
    },
    {
      "cell_type": "markdown",
      "metadata": {
        "id": "-bDEOHoqet2b",
        "colab_type": "text"
      },
      "source": [
        "## 대화창 실습 : for 문을 이용한 딕셔너리의 순회"
      ]
    },
    {
      "cell_type": "code",
      "metadata": {
        "scrolled": true,
        "id": "zloqPMeWet2c",
        "colab_type": "code",
        "colab": {}
      },
      "source": [
        "person = {'이름' : '홍길동', '나이' : 26, '몸무게' : 82 } "
      ],
      "execution_count": 0,
      "outputs": []
    },
    {
      "cell_type": "code",
      "metadata": {
        "id": "t0OfT9Bcet2g",
        "colab_type": "code",
        "outputId": "2378078a-a233-4375-9e53-33b2c4f9735d",
        "colab": {
          "base_uri": "https://localhost:8080/",
          "height": 72
        }
      },
      "source": [
        "for key in person:\n",
        "    print('{} : {}'.format(key, person[key]))"
      ],
      "execution_count": 0,
      "outputs": [
        {
          "output_type": "stream",
          "text": [
            "이름 : 홍길동\n",
            "나이 : 26\n",
            "몸무게 : 82\n"
          ],
          "name": "stdout"
        }
      ]
    },
    {
      "cell_type": "markdown",
      "metadata": {
        "id": "geJDUPypet3S",
        "colab_type": "text"
      },
      "source": [
        "## 코드 6-1 : 리스트의 항목 삭제와 lst[1] 항목의 변화 여부\n",
        "### list_pop.py"
      ]
    },
    {
      "cell_type": "code",
      "metadata": {
        "id": "zPYSCLpRet3T",
        "colab_type": "code",
        "outputId": "06ff4283-c14c-4e38-f345-f669dd8f2793",
        "colab": {
          "base_uri": "https://localhost:8080/",
          "height": 90
        }
      },
      "source": [
        "lst = [11, 22, 33, 44, 55]\n",
        "print('pop(0) 이전 :', lst)\n",
        "print('pop(0) 이전 lst[1] =', lst[1])\n",
        "lst.pop(0)            # 인덱스 0을 이용하여 리스트의 첫 항목을 삭제한다\n",
        "print('pop(0) 이후 :', lst)\n",
        "print('pop(0) 이후 lst[1] =', lst[1])       # lst[1]이 참조하는 값이 바뀐다"
      ],
      "execution_count": 0,
      "outputs": [
        {
          "output_type": "stream",
          "text": [
            "pop(0) 이전 : [11, 22, 33, 44, 55]\n",
            "pop(0) 이전 lst[1] = 22\n",
            "pop(0) 이후 : [22, 33, 44, 55]\n",
            "pop(0) 이후 lst[1] = 33\n"
          ],
          "name": "stdout"
        }
      ]
    },
    {
      "cell_type": "markdown",
      "metadata": {
        "id": "Vgy8__Onet3c",
        "colab_type": "text"
      },
      "source": [
        "## 코드 6-2 : 딕셔너리의 항목 삭제와 dic[1] 항목의 변화 여부\n",
        "### dic_pop.py"
      ]
    },
    {
      "cell_type": "code",
      "metadata": {
        "id": "rnlxeSEwet3g",
        "colab_type": "code",
        "outputId": "d62ee3a9-e4ac-4212-ef1b-b3ca94c53aab",
        "colab": {
          "base_uri": "https://localhost:8080/",
          "height": 90
        }
      },
      "source": [
        "dic = {0:11, 1:22, 2:33, 3:44, 4:55}\n",
        "# 딕셔너리의 (키,값) 튜플쌍을 반환하는 items() 함수로 항목 출력\n",
        "print('pop(0) 이전 :', dic.items())\n",
        "print('pop(0) 이전 dic[1] =', dic[1])\n",
        "dic.pop(0)  # 키 0을 이용하여 (0, 11) 항목을 삭제하였음\n",
        "print('pop(0) 이후 :', dic.items())\n",
        "print('pop(0) 이후 dic[1] =', dic[1])   # dic[1]이 참조하는 값은 안 변함"
      ],
      "execution_count": 0,
      "outputs": [
        {
          "output_type": "stream",
          "text": [
            "pop(0) 이전 : dict_items([(0, 11), (1, 22), (2, 33), (3, 44), (4, 55)])\n",
            "pop(0) 이전 dic[1] = 22\n",
            "pop(0) 이후 : dict_items([(1, 22), (2, 33), (3, 44), (4, 55)])\n",
            "pop(0) 이후 dic[1] = 22\n"
          ],
          "name": "stdout"
        }
      ]
    },
    {
      "cell_type": "markdown",
      "metadata": {
        "id": "wIWNvOciflYS",
        "colab_type": "text"
      },
      "source": [
        "##  대화창 실습 : 튜플의 생성과 조회"
      ]
    },
    {
      "cell_type": "code",
      "metadata": {
        "id": "s6-YzPgffkg0",
        "colab_type": "code",
        "outputId": "3fa93e51-a58b-478f-c5d4-b0dc39cad449",
        "colab": {
          "base_uri": "https://localhost:8080/",
          "height": 36
        }
      },
      "source": [
        "t = (1, 2, 3, 4)\n",
        "t[0]"
      ],
      "execution_count": 0,
      "outputs": [
        {
          "output_type": "execute_result",
          "data": {
            "text/plain": [
              "1"
            ]
          },
          "metadata": {
            "tags": []
          },
          "execution_count": 1
        }
      ]
    },
    {
      "cell_type": "code",
      "metadata": {
        "id": "4CNIkrRqfsFG",
        "colab_type": "code",
        "outputId": "d85dceef-56ce-43fa-83ba-f13dccbbea9b",
        "colab": {
          "base_uri": "https://localhost:8080/",
          "height": 36
        }
      },
      "source": [
        "t[1]"
      ],
      "execution_count": 0,
      "outputs": [
        {
          "output_type": "execute_result",
          "data": {
            "text/plain": [
              "2"
            ]
          },
          "metadata": {
            "tags": []
          },
          "execution_count": 2
        }
      ]
    },
    {
      "cell_type": "code",
      "metadata": {
        "id": "HRlv4AKfcvN2",
        "colab_type": "code",
        "outputId": "ef9cf9f3-51c8-4e0f-bd14-a597792a114b",
        "colab": {
          "base_uri": "https://localhost:8080/",
          "height": 36
        }
      },
      "source": [
        "type(t)"
      ],
      "execution_count": 0,
      "outputs": [
        {
          "output_type": "execute_result",
          "data": {
            "text/plain": [
              "tuple"
            ]
          },
          "metadata": {
            "tags": []
          },
          "execution_count": 3
        }
      ]
    },
    {
      "cell_type": "markdown",
      "metadata": {
        "id": "Cj1T1dCbgDKF",
        "colab_type": "text"
      },
      "source": [
        "## 대화창 실습 : 튜플 항목에 대한 할당 연산은 오류를 발생시킴"
      ]
    },
    {
      "cell_type": "code",
      "metadata": {
        "id": "xEe-ZWPUgFd9",
        "colab_type": "code",
        "outputId": "3b577da9-2b39-4361-e478-87a69d0daea4",
        "colab": {
          "base_uri": "https://localhost:8080/",
          "height": 191
        }
      },
      "source": [
        "t = (0, 1, 2, 3, 4)\n",
        "t[0] = 100    # 할당연산은 오류를 발생시킴 "
      ],
      "execution_count": 0,
      "outputs": [
        {
          "output_type": "error",
          "ename": "TypeError",
          "evalue": "ignored",
          "traceback": [
            "\u001b[0;31m---------------------------------------------------------------------------\u001b[0m",
            "\u001b[0;31mTypeError\u001b[0m                                 Traceback (most recent call last)",
            "\u001b[0;32m<ipython-input-57-aed288515640>\u001b[0m in \u001b[0;36m<module>\u001b[0;34m()\u001b[0m\n\u001b[1;32m      1\u001b[0m \u001b[0mt\u001b[0m \u001b[0;34m=\u001b[0m \u001b[0;34m(\u001b[0m\u001b[0;36m0\u001b[0m\u001b[0;34m,\u001b[0m \u001b[0;36m1\u001b[0m\u001b[0;34m,\u001b[0m \u001b[0;36m2\u001b[0m\u001b[0;34m,\u001b[0m \u001b[0;36m3\u001b[0m\u001b[0;34m,\u001b[0m \u001b[0;36m4\u001b[0m\u001b[0;34m)\u001b[0m\u001b[0;34m\u001b[0m\u001b[0;34m\u001b[0m\u001b[0m\n\u001b[0;32m----> 2\u001b[0;31m \u001b[0mt\u001b[0m\u001b[0;34m[\u001b[0m\u001b[0;36m0\u001b[0m\u001b[0;34m]\u001b[0m \u001b[0;34m=\u001b[0m \u001b[0;36m100\u001b[0m    \u001b[0;31m# 할당연산은 오류를 발생시킴\u001b[0m\u001b[0;34m\u001b[0m\u001b[0;34m\u001b[0m\u001b[0m\n\u001b[0m",
            "\u001b[0;31mTypeError\u001b[0m: 'tuple' object does not support item assignment"
          ]
        }
      ]
    },
    {
      "cell_type": "markdown",
      "metadata": {
        "id": "8D82-Kwhet3m",
        "colab_type": "text"
      },
      "source": [
        "## 코드 6-3 : 임시변수 temp를 이용한 값의 교환 \n",
        "### swap_temp.py"
      ]
    },
    {
      "cell_type": "code",
      "metadata": {
        "id": "A5N-rv9met3o",
        "colab_type": "code",
        "outputId": "8ce8e2e7-251b-4339-c7d2-412b2a7d14ea",
        "colab": {
          "base_uri": "https://localhost:8080/",
          "height": 54
        }
      },
      "source": [
        "a = 100\n",
        "b = 200\n",
        "print('swap 이전 : a =', a, 'b =', b)\n",
        "temp = a\n",
        "a = b\n",
        "b = temp\n",
        "print('swap 이후 : a =', a, 'b =', b)"
      ],
      "execution_count": 0,
      "outputs": [
        {
          "output_type": "stream",
          "text": [
            "swap 이전 : a = 100 b = 200\n",
            "swap 이후 : a = 200 b = 100\n"
          ],
          "name": "stdout"
        }
      ]
    },
    {
      "cell_type": "markdown",
      "metadata": {
        "id": "HErKC_10et3v",
        "colab_type": "text"
      },
      "source": [
        "## 코드 6-4 : 튜플과 할당 연산자를 이용한 간단한 swap\n",
        "### swap_tuple.py"
      ]
    },
    {
      "cell_type": "code",
      "metadata": {
        "id": "QfqpsokPet3w",
        "colab_type": "code",
        "outputId": "cfe4fd60-d157-49a4-b7c8-be7cf80a691a",
        "colab": {
          "base_uri": "https://localhost:8080/",
          "height": 54
        }
      },
      "source": [
        "a = 100\n",
        "b = 200\n",
        "print('swap 이전 : a=', a, 'b =', b)\n",
        "a, b = b, a\n",
        "print('튜플을 사용한 swap 결과 : a=', a, 'b =', b)"
      ],
      "execution_count": 0,
      "outputs": [
        {
          "output_type": "stream",
          "text": [
            "swap 이전 : a= 100 b = 200\n",
            "튜플을 사용한 swap 결과 : a= 200 b = 100\n"
          ],
          "name": "stdout"
        }
      ]
    },
    {
      "cell_type": "markdown",
      "metadata": {
        "id": "OD7mn4yYlDAa",
        "colab_type": "text"
      },
      "source": [
        "## 대화창 실습 : 튜플의 +와 * 연산 "
      ]
    },
    {
      "cell_type": "code",
      "metadata": {
        "id": "DhpLJXCGlEoC",
        "colab_type": "code",
        "outputId": "38641e0f-422d-416a-bfe4-81a497ba7b87",
        "colab": {
          "base_uri": "https://localhost:8080/",
          "height": 35
        }
      },
      "source": [
        "t0 = (10, 20, 30)\n",
        "t1 = t0 + t0        # 튜플의 결합 연산 \n",
        "t1"
      ],
      "execution_count": 0,
      "outputs": [
        {
          "output_type": "execute_result",
          "data": {
            "text/plain": [
              "(10, 20, 30, 10, 20, 30)"
            ]
          },
          "metadata": {
            "tags": []
          },
          "execution_count": 61
        }
      ]
    },
    {
      "cell_type": "code",
      "metadata": {
        "id": "M-u64YValLTO",
        "colab_type": "code",
        "outputId": "3a5f64da-520d-4b38-ad08-24790644318c",
        "colab": {
          "base_uri": "https://localhost:8080/",
          "height": 35
        }
      },
      "source": [
        "t2 = t0 * 2         # 튜플의 반복 연산 \n",
        "t2"
      ],
      "execution_count": 0,
      "outputs": [
        {
          "output_type": "execute_result",
          "data": {
            "text/plain": [
              "(10, 20, 30, 10, 20, 30)"
            ]
          },
          "metadata": {
            "tags": []
          },
          "execution_count": 62
        }
      ]
    },
    {
      "cell_type": "code",
      "metadata": {
        "id": "QixwacpXlXxX",
        "colab_type": "code",
        "outputId": "0ae95268-fdd2-4149-9739-91d1f74acd2b",
        "colab": {
          "base_uri": "https://localhost:8080/",
          "height": 173
        }
      },
      "source": [
        "t3 = t0 + 40        # 튜플과 정수는 덧셈 연산을 할 수 없음. "
      ],
      "execution_count": 0,
      "outputs": [
        {
          "output_type": "error",
          "ename": "TypeError",
          "evalue": "ignored",
          "traceback": [
            "\u001b[0;31m---------------------------------------------------------------------------\u001b[0m",
            "\u001b[0;31mTypeError\u001b[0m                                 Traceback (most recent call last)",
            "\u001b[0;32m<ipython-input-63-860bdae275c1>\u001b[0m in \u001b[0;36m<module>\u001b[0;34m()\u001b[0m\n\u001b[0;32m----> 1\u001b[0;31m \u001b[0mt3\u001b[0m \u001b[0;34m=\u001b[0m \u001b[0mt0\u001b[0m \u001b[0;34m+\u001b[0m \u001b[0;36m40\u001b[0m        \u001b[0;31m# 튜플과 정수는 덧셈 연산을 할 수 없음.\u001b[0m\u001b[0;34m\u001b[0m\u001b[0;34m\u001b[0m\u001b[0m\n\u001b[0m",
            "\u001b[0;31mTypeError\u001b[0m: can only concatenate tuple (not \"int\") to tuple"
          ]
        }
      ]
    },
    {
      "cell_type": "code",
      "metadata": {
        "id": "XR8o1nrelcrq",
        "colab_type": "code",
        "outputId": "004ecb2f-1d10-4dfb-d65e-ec99fef3f560",
        "colab": {
          "base_uri": "https://localhost:8080/",
          "height": 35
        }
      },
      "source": [
        "t4 = t0 + (40, )    # 튜플과 하나의 요소를 가진 튜플의 덧셈 연산 \n",
        "t4"
      ],
      "execution_count": 0,
      "outputs": [
        {
          "output_type": "execute_result",
          "data": {
            "text/plain": [
              "(10, 20, 30, 40)"
            ]
          },
          "metadata": {
            "tags": []
          },
          "execution_count": 64
        }
      ]
    },
    {
      "cell_type": "markdown",
      "metadata": {
        "id": "1xuD-BZGet37",
        "colab_type": "text"
      },
      "source": [
        "## 대화창 실습 : 튜플의 메소드 테스트"
      ]
    },
    {
      "cell_type": "code",
      "metadata": {
        "id": "6gehJwxWet38",
        "colab_type": "code",
        "colab": {}
      },
      "source": [
        "t = (10, 20, 30, 20, 20, 10, 50)"
      ],
      "execution_count": 0,
      "outputs": []
    },
    {
      "cell_type": "code",
      "metadata": {
        "id": "1ycKxYZeet4A",
        "colab_type": "code",
        "outputId": "b27a2acb-4a84-4dde-835f-c95e7e5defba",
        "colab": {
          "base_uri": "https://localhost:8080/",
          "height": 35
        }
      },
      "source": [
        "t.count(10)   # 튜플에 포함된 10 원소의 개수 "
      ],
      "execution_count": 0,
      "outputs": [
        {
          "output_type": "execute_result",
          "data": {
            "text/plain": [
              "2"
            ]
          },
          "metadata": {
            "tags": []
          },
          "execution_count": 71
        }
      ]
    },
    {
      "cell_type": "code",
      "metadata": {
        "id": "xw7pArlzet4F",
        "colab_type": "code",
        "outputId": "3d9140bc-8c4c-4d43-ae8f-130af8979043",
        "colab": {
          "base_uri": "https://localhost:8080/",
          "height": 35
        }
      },
      "source": [
        "t.count(20)   # 튜플에 포함된 20 원소의 개수 "
      ],
      "execution_count": 0,
      "outputs": [
        {
          "output_type": "execute_result",
          "data": {
            "text/plain": [
              "3"
            ]
          },
          "metadata": {
            "tags": []
          },
          "execution_count": 72
        }
      ]
    },
    {
      "cell_type": "code",
      "metadata": {
        "id": "EJy26xzket4J",
        "colab_type": "code",
        "outputId": "e7ad74d7-6c90-4f52-d2c8-7821854f605e",
        "colab": {
          "base_uri": "https://localhost:8080/",
          "height": 35
        }
      },
      "source": [
        "t.index(30)   # 튜플에 포함된 30 원소의 인덱스 "
      ],
      "execution_count": 0,
      "outputs": [
        {
          "output_type": "execute_result",
          "data": {
            "text/plain": [
              "2"
            ]
          },
          "metadata": {
            "tags": []
          },
          "execution_count": 73
        }
      ]
    },
    {
      "cell_type": "code",
      "metadata": {
        "id": "08_5VFQpet4O",
        "colab_type": "code",
        "outputId": "08584256-3d15-4174-c8c5-a1269b29151b",
        "colab": {
          "base_uri": "https://localhost:8080/",
          "height": 35
        }
      },
      "source": [
        "t.index(50)   # 튜플에 포함된 50 원소의 인덱스 "
      ],
      "execution_count": 0,
      "outputs": [
        {
          "output_type": "execute_result",
          "data": {
            "text/plain": [
              "6"
            ]
          },
          "metadata": {
            "tags": []
          },
          "execution_count": 74
        }
      ]
    },
    {
      "cell_type": "markdown",
      "metadata": {
        "id": "IZLI48tYet4g",
        "colab_type": "text"
      },
      "source": [
        "## 코드 6-5 튜플의 항목 값을 리스트를 이용하여 변경\n",
        "### tuple_item_change.py"
      ]
    },
    {
      "cell_type": "code",
      "metadata": {
        "id": "NjF-mgibet4h",
        "colab_type": "code",
        "outputId": "536de933-bad9-4012-af8c-946d44acf213",
        "colab": {
          "base_uri": "https://localhost:8080/",
          "height": 54
        }
      },
      "source": [
        "t_fruits = ('apple', 'orange', 'water melon')\n",
        "print('변경 전 :', t_fruits)\n",
        "f_list = list(t_fruits)  # 튜플을 리스트로 변환\n",
        "f_list[1] = 'kiwi'       # 리스트의 두 번째 항목 값을 ‘kiwi'로 변경함\n",
        "t_fruits = tuple(f_list) # 리스트를 튜플로 변환\n",
        "print('변경 후 :', t_fruits)"
      ],
      "execution_count": 0,
      "outputs": [
        {
          "output_type": "stream",
          "text": [
            "변경 전 : ('apple', 'orange', 'water melon')\n",
            "변경 후 : ('apple', 'kiwi', 'water melon')\n"
          ],
          "name": "stdout"
        }
      ]
    },
    {
      "cell_type": "markdown",
      "metadata": {
        "id": "mB8F07sBet40",
        "colab_type": "text"
      },
      "source": [
        "## 코드 6-6 : 원의 면적과 둘레를 튜플 형식으로 반환하는 함수\n",
        "### circle_area_and_circum.py"
      ]
    },
    {
      "cell_type": "code",
      "metadata": {
        "id": "VApBnkSOet41",
        "colab_type": "code",
        "outputId": "39505143-5b17-4ccd-a3c0-e5e6d9d79b9d",
        "colab": {
          "base_uri": "https://localhost:8080/",
          "height": 35
        }
      },
      "source": [
        "def area_and_circum(radius):  # 원의 면적과 둘레 구하기\n",
        "    area = 3.14 * radius ** 2\n",
        "    circum = 2 * 3.14 * radius\n",
        "    return area, circum       # 튜플을 반환함 – 반환값 (area, circum)\n",
        "\n",
        "r = 4\n",
        "a, c = area_and_circum(r)     # 반환받은 튜플을 언패킹함\n",
        "print('반지름 {}인 원의 면적과 둘레 : {}, {}'.format(r, a, c))"
      ],
      "execution_count": 0,
      "outputs": [
        {
          "output_type": "stream",
          "text": [
            "반지름 4인 원의 면적과 둘레 : 50.24, 25.12\n"
          ],
          "name": "stdout"
        }
      ]
    },
    {
      "cell_type": "markdown",
      "metadata": {
        "id": "OQhey91uet47",
        "colab_type": "text"
      },
      "source": [
        "## 대화창 실습 : 리스트와 튜플로 부터 집합 만들기"
      ]
    },
    {
      "cell_type": "code",
      "metadata": {
        "id": "lbiVv6byet48",
        "colab_type": "code",
        "outputId": "3f50a5a4-08ec-4edb-b1c1-d40edfe19c21",
        "colab": {
          "base_uri": "https://localhost:8080/",
          "height": 36
        }
      },
      "source": [
        "days_list = ['Mon', 'Tue', 'Wed', 'Thu', 'Fri', 'Sat', 'Sun'] # 리스트 \n",
        "days_set = set(days_list)   # 리스트로 부터 집합 만들기\n",
        "days_set"
      ],
      "execution_count": 0,
      "outputs": [
        {
          "output_type": "execute_result",
          "data": {
            "text/plain": [
              "{'Fri', 'Mon', 'Sat', 'Sun', 'Thu', 'Tue', 'Wed'}"
            ]
          },
          "metadata": {
            "tags": []
          },
          "execution_count": 1
        }
      ]
    },
    {
      "cell_type": "code",
      "metadata": {
        "id": "zfLGmfT2et5H",
        "colab_type": "code",
        "outputId": "b7c84c96-ca72-44a6-a045-5e18d35eda04",
        "colab": {
          "base_uri": "https://localhost:8080/",
          "height": 36
        }
      },
      "source": [
        "fruits_tuple = ('apple', 'orange', 'water melon')    # 튜플\n",
        "fruits_set = set(fruits_tuple)     # 튜플로부터 집합 만들기 \n",
        "fruits_set"
      ],
      "execution_count": 0,
      "outputs": [
        {
          "output_type": "execute_result",
          "data": {
            "text/plain": [
              "{'apple', 'orange', 'water melon'}"
            ]
          },
          "metadata": {
            "tags": []
          },
          "execution_count": 2
        }
      ]
    },
    {
      "cell_type": "code",
      "metadata": {
        "id": "B_JpoSwYiCH4",
        "colab_type": "code",
        "outputId": "b6828f4d-8bab-47e9-9490-f8b8905411bf",
        "colab": {
          "base_uri": "https://localhost:8080/",
          "height": 36
        }
      },
      "source": [
        "h_str = 'hello'         # 문자열\n",
        "h_set = set(h_str)      # 문자열로부터 집합 만들기\n",
        "h_set                   # 집합에서는 문자 'l'의 중복을 허용하지 않음"
      ],
      "execution_count": 0,
      "outputs": [
        {
          "output_type": "execute_result",
          "data": {
            "text/plain": [
              "{'e', 'h', 'l', 'o'}"
            ]
          },
          "metadata": {
            "tags": []
          },
          "execution_count": 1
        }
      ]
    },
    {
      "cell_type": "markdown",
      "metadata": {
        "id": "C1RVcUO4et5T",
        "colab_type": "text"
      },
      "source": [
        "## 대화창 실습 : 집합의 메소드 테스트"
      ]
    },
    {
      "cell_type": "code",
      "metadata": {
        "id": "Ehs--3RQet5U",
        "colab_type": "code",
        "colab": {}
      },
      "source": [
        "s = {100, 100, 200, 200, 300, 400}  # 중복원소 100, 200이 있음"
      ],
      "execution_count": 0,
      "outputs": []
    },
    {
      "cell_type": "code",
      "metadata": {
        "id": "Su_-73Cret5Z",
        "colab_type": "code",
        "outputId": "b053a527-7421-4893-8c46-ab1492956491",
        "colab": {
          "base_uri": "https://localhost:8080/",
          "height": 35
        }
      },
      "source": [
        "s"
      ],
      "execution_count": 0,
      "outputs": [
        {
          "output_type": "execute_result",
          "data": {
            "text/plain": [
              "{100, 200, 300, 400}"
            ]
          },
          "metadata": {
            "tags": []
          },
          "execution_count": 80
        }
      ]
    },
    {
      "cell_type": "code",
      "metadata": {
        "id": "tj_a-M-Jet5e",
        "colab_type": "code",
        "colab": {}
      },
      "source": [
        "s.add(500)    # 집합 s에 500 원소 추가 "
      ],
      "execution_count": 0,
      "outputs": []
    },
    {
      "cell_type": "code",
      "metadata": {
        "id": "W9jNkIjvet5h",
        "colab_type": "code",
        "outputId": "1ee1bf87-00e3-4de9-c621-aa9afb9e2f41",
        "colab": {
          "base_uri": "https://localhost:8080/",
          "height": 36
        }
      },
      "source": [
        "s"
      ],
      "execution_count": 0,
      "outputs": [
        {
          "output_type": "execute_result",
          "data": {
            "text/plain": [
              "{100, 200, 300, 400, 500}"
            ]
          },
          "metadata": {
            "tags": []
          },
          "execution_count": 48
        }
      ]
    },
    {
      "cell_type": "code",
      "metadata": {
        "id": "XlULT9_Oet5m",
        "colab_type": "code",
        "colab": {}
      },
      "source": [
        "s.discard(100) # 집합 s에 있는 100 원소를 삭제 "
      ],
      "execution_count": 0,
      "outputs": []
    },
    {
      "cell_type": "code",
      "metadata": {
        "id": "mBlvrkqHet5q",
        "colab_type": "code",
        "outputId": "1f38ee66-76ba-4df6-c740-6086b1025814",
        "colab": {
          "base_uri": "https://localhost:8080/",
          "height": 36
        }
      },
      "source": [
        "s"
      ],
      "execution_count": 0,
      "outputs": [
        {
          "output_type": "execute_result",
          "data": {
            "text/plain": [
              "{200, 300, 400, 500}"
            ]
          },
          "metadata": {
            "tags": []
          },
          "execution_count": 50
        }
      ]
    },
    {
      "cell_type": "markdown",
      "metadata": {
        "id": "oHN6a7ZCet5u",
        "colab_type": "text"
      },
      "source": [
        "## 대화창 실습 : 집합과 연산"
      ]
    },
    {
      "cell_type": "code",
      "metadata": {
        "id": "IQixi4TUet5v",
        "colab_type": "code",
        "colab": {}
      },
      "source": [
        "s1 = {1, 2, 3, 4, 5, 6}"
      ],
      "execution_count": 0,
      "outputs": []
    },
    {
      "cell_type": "code",
      "metadata": {
        "id": "QwSbJmI9et51",
        "colab_type": "code",
        "colab": {}
      },
      "source": [
        "s2 = {4, 5, 6, 7, 8, 9}"
      ],
      "execution_count": 0,
      "outputs": []
    },
    {
      "cell_type": "code",
      "metadata": {
        "id": "HVLE2MHret54",
        "colab_type": "code",
        "outputId": "07e76632-46c3-4231-e9a8-fae66cd2b6df",
        "colab": {
          "base_uri": "https://localhost:8080/",
          "height": 35
        }
      },
      "source": [
        "s1 | s2      # 합집합을 구함 "
      ],
      "execution_count": 0,
      "outputs": [
        {
          "output_type": "execute_result",
          "data": {
            "text/plain": [
              "{1, 2, 3, 4, 5, 6, 7, 8, 9}"
            ]
          },
          "metadata": {
            "tags": []
          },
          "execution_count": 86
        }
      ]
    },
    {
      "cell_type": "code",
      "metadata": {
        "id": "zgsvA0xnet5-",
        "colab_type": "code",
        "outputId": "667d2a26-5f72-47f7-b11e-c1668087bcb1",
        "colab": {
          "base_uri": "https://localhost:8080/",
          "height": 35
        }
      },
      "source": [
        "s1 & s2     # 교집합을 구함 "
      ],
      "execution_count": 0,
      "outputs": [
        {
          "output_type": "execute_result",
          "data": {
            "text/plain": [
              "{4, 5, 6}"
            ]
          },
          "metadata": {
            "tags": []
          },
          "execution_count": 87
        }
      ]
    },
    {
      "cell_type": "code",
      "metadata": {
        "id": "NDEAzgolet6C",
        "colab_type": "code",
        "outputId": "0c3beed7-765e-43a4-b35b-da574117c331",
        "colab": {
          "base_uri": "https://localhost:8080/",
          "height": 35
        }
      },
      "source": [
        "s1 - s2      # 차집합을 구함 "
      ],
      "execution_count": 0,
      "outputs": [
        {
          "output_type": "execute_result",
          "data": {
            "text/plain": [
              "{1, 2, 3}"
            ]
          },
          "metadata": {
            "tags": []
          },
          "execution_count": 88
        }
      ]
    },
    {
      "cell_type": "code",
      "metadata": {
        "id": "GDT58eWeL5HO",
        "colab_type": "code",
        "colab": {}
      },
      "source": [
        ""
      ],
      "execution_count": 0,
      "outputs": []
    },
    {
      "cell_type": "code",
      "metadata": {
        "id": "WF4gzSu2et6J",
        "colab_type": "code",
        "outputId": "992a4177-2905-47a7-c3cf-3b3b1b9d9682",
        "colab": {
          "base_uri": "https://localhost:8080/",
          "height": 35
        }
      },
      "source": [
        "s1 ^ s2      # 대칭 차집합을 구함 "
      ],
      "execution_count": 0,
      "outputs": [
        {
          "output_type": "execute_result",
          "data": {
            "text/plain": [
              "{1, 2, 3, 7, 8, 9}"
            ]
          },
          "metadata": {
            "tags": []
          },
          "execution_count": 89
        }
      ]
    },
    {
      "cell_type": "markdown",
      "metadata": {
        "id": "ZN1rws5Get6P",
        "colab_type": "text"
      },
      "source": [
        "## 대화창 실습 : 집합과 연산"
      ]
    },
    {
      "cell_type": "code",
      "metadata": {
        "id": "rUlJDcU8et6Q",
        "colab_type": "code",
        "colab": {}
      },
      "source": [
        " s1 = {1, 2, 3, 4, 5, 6}"
      ],
      "execution_count": 0,
      "outputs": []
    },
    {
      "cell_type": "code",
      "metadata": {
        "id": "9g2YkmENet6T",
        "colab_type": "code",
        "colab": {}
      },
      "source": [
        " s2 = {4, 5, 6, 7, 8, 9}"
      ],
      "execution_count": 0,
      "outputs": []
    },
    {
      "cell_type": "code",
      "metadata": {
        "id": "B_HTN4hNet6W",
        "colab_type": "code",
        "outputId": "a30e3989-2abb-4833-faed-3b01a08a6a2b",
        "colab": {
          "base_uri": "https://localhost:8080/",
          "height": 35
        }
      },
      "source": [
        " s1.union(s2)        # 합집합을 구함 "
      ],
      "execution_count": 0,
      "outputs": [
        {
          "output_type": "execute_result",
          "data": {
            "text/plain": [
              "{1, 2, 3, 4, 5, 6, 7, 8, 9}"
            ]
          },
          "metadata": {
            "tags": []
          },
          "execution_count": 90
        }
      ]
    },
    {
      "cell_type": "code",
      "metadata": {
        "id": "kcFyc4Tlet6a",
        "colab_type": "code",
        "outputId": "34a11e7f-50f0-46b5-faca-63de3f442d70",
        "colab": {
          "base_uri": "https://localhost:8080/",
          "height": 35
        }
      },
      "source": [
        "s1.intersection(s2)   # 교집합을 구함 "
      ],
      "execution_count": 0,
      "outputs": [
        {
          "output_type": "execute_result",
          "data": {
            "text/plain": [
              "{4, 5, 6}"
            ]
          },
          "metadata": {
            "tags": []
          },
          "execution_count": 92
        }
      ]
    },
    {
      "cell_type": "code",
      "metadata": {
        "id": "OlKcakKIet6e",
        "colab_type": "code",
        "outputId": "9b45c3e8-e9e1-4e59-e44c-74f32bda8c09",
        "colab": {
          "base_uri": "https://localhost:8080/",
          "height": 35
        }
      },
      "source": [
        "s1.difference(s2)     # 차집합을 구함 "
      ],
      "execution_count": 0,
      "outputs": [
        {
          "output_type": "execute_result",
          "data": {
            "text/plain": [
              "{1, 2, 3}"
            ]
          },
          "metadata": {
            "tags": []
          },
          "execution_count": 93
        }
      ]
    },
    {
      "cell_type": "code",
      "metadata": {
        "id": "5ickRUNeet6h",
        "colab_type": "code",
        "outputId": "558fdbdb-02c2-4cd8-be6e-2a8160004d98",
        "colab": {
          "base_uri": "https://localhost:8080/",
          "height": 35
        }
      },
      "source": [
        "s1.symmetric_difference(s2)   # 대칭 차집합을 구함 "
      ],
      "execution_count": 0,
      "outputs": [
        {
          "output_type": "execute_result",
          "data": {
            "text/plain": [
              "{1, 2, 3, 7, 8, 9}"
            ]
          },
          "metadata": {
            "tags": []
          },
          "execution_count": 94
        }
      ]
    },
    {
      "cell_type": "markdown",
      "metadata": {
        "id": "-4NDBw9aet6l",
        "colab_type": "text"
      },
      "source": [
        "## 대화창 실습 : 집합과 s1 - s2 - s3 연산"
      ]
    },
    {
      "cell_type": "code",
      "metadata": {
        "id": "a2amLhccet6m",
        "colab_type": "code",
        "colab": {}
      },
      "source": [
        "s1 = {1, 2, 3, 4, 5, 6}"
      ],
      "execution_count": 0,
      "outputs": []
    },
    {
      "cell_type": "code",
      "metadata": {
        "id": "Kmq27oMIet6o",
        "colab_type": "code",
        "colab": {}
      },
      "source": [
        "s2 = {4, 5, 6, 7, 8, 9}"
      ],
      "execution_count": 0,
      "outputs": []
    },
    {
      "cell_type": "code",
      "metadata": {
        "id": "Y3AoplC8et6r",
        "colab_type": "code",
        "colab": {}
      },
      "source": [
        "s3 = {5, 6, 9, 10, 11}"
      ],
      "execution_count": 0,
      "outputs": []
    },
    {
      "cell_type": "code",
      "metadata": {
        "id": "AA6uVOyVet6t",
        "colab_type": "code",
        "outputId": "e0d8acfc-c128-468d-e30d-d626a2d2ba4e",
        "colab": {
          "base_uri": "https://localhost:8080/",
          "height": 35
        }
      },
      "source": [
        "s1 & s2 & s3    # s1, s2, s3의 교집합을 구함 "
      ],
      "execution_count": 0,
      "outputs": [
        {
          "output_type": "execute_result",
          "data": {
            "text/plain": [
              "{5, 6}"
            ]
          },
          "metadata": {
            "tags": []
          },
          "execution_count": 97
        }
      ]
    },
    {
      "cell_type": "code",
      "metadata": {
        "id": "Sc8IT6N8et6x",
        "colab_type": "code",
        "outputId": "183b8492-2b3d-4df1-f2ba-ebff1c7b2479",
        "colab": {
          "base_uri": "https://localhost:8080/",
          "height": 35
        }
      },
      "source": [
        " s1 - s2 - s3   # s1에서 s2, s3의 원소를 뺀다 "
      ],
      "execution_count": 0,
      "outputs": [
        {
          "output_type": "execute_result",
          "data": {
            "text/plain": [
              "{1, 2, 3}"
            ]
          },
          "metadata": {
            "tags": []
          },
          "execution_count": 98
        }
      ]
    },
    {
      "cell_type": "markdown",
      "metadata": {
        "colab_type": "text",
        "id": "IW4EV7woi2Co"
      },
      "source": [
        "## 대화창 실습 : 부분집합과 상위집합 연산"
      ]
    },
    {
      "cell_type": "code",
      "metadata": {
        "colab_type": "code",
        "id": "t9WKc8RSi2Cp",
        "colab": {}
      },
      "source": [
        "s1 = {1, 2, 3, 4, 5}\n",
        "s2 = {1, 2, 3}        # s1의 부분집합임\n",
        "s3 = {1, 2, 6}        # s1의 부분집합이 아님"
      ],
      "execution_count": 0,
      "outputs": []
    },
    {
      "cell_type": "code",
      "metadata": {
        "id": "MSG8Y3MQjePh",
        "colab_type": "code",
        "outputId": "3109429e-e85b-456b-c43a-097e14d62be5",
        "colab": {
          "base_uri": "https://localhost:8080/",
          "height": 35
        }
      },
      "source": [
        "s2.issubset(s1)       # s2가 s1의 부분집합인지를 묻는 메소드"
      ],
      "execution_count": 0,
      "outputs": [
        {
          "output_type": "execute_result",
          "data": {
            "text/plain": [
              "True"
            ]
          },
          "metadata": {
            "tags": []
          },
          "execution_count": 107
        }
      ]
    },
    {
      "cell_type": "code",
      "metadata": {
        "colab_type": "code",
        "outputId": "0977ad95-2ad5-475d-bbca-93b06274583a",
        "id": "j8XWIX1Hi2Cu",
        "colab": {
          "base_uri": "https://localhost:8080/",
          "height": 35
        }
      },
      "source": [
        "s3.issubset(s1)       # s3이 s1의 부분집합인지를 묻는 메소드"
      ],
      "execution_count": 0,
      "outputs": [
        {
          "output_type": "execute_result",
          "data": {
            "text/plain": [
              "False"
            ]
          },
          "metadata": {
            "tags": []
          },
          "execution_count": 108
        }
      ]
    },
    {
      "cell_type": "code",
      "metadata": {
        "colab_type": "code",
        "outputId": "18109dcf-80a4-4517-b2fe-d019c2492fb3",
        "id": "orc-As_Ui2Cw",
        "colab": {
          "base_uri": "https://localhost:8080/",
          "height": 35
        }
      },
      "source": [
        "s1.issuperset(s2)     # s1이 s2의 상위집합인지를 묻는 메소드 "
      ],
      "execution_count": 0,
      "outputs": [
        {
          "output_type": "execute_result",
          "data": {
            "text/plain": [
              "True"
            ]
          },
          "metadata": {
            "tags": []
          },
          "execution_count": 109
        }
      ]
    },
    {
      "cell_type": "code",
      "metadata": {
        "id": "F0Zh8sDIjgF0",
        "colab_type": "code",
        "outputId": "a38d781b-3880-4832-c788-e1d72c1bcd17",
        "colab": {
          "base_uri": "https://localhost:8080/",
          "height": 35
        }
      },
      "source": [
        "s1.issuperset(s3)     # s1이 s3의 상위집합인지를 묻는 메소드 "
      ],
      "execution_count": 0,
      "outputs": [
        {
          "output_type": "execute_result",
          "data": {
            "text/plain": [
              "False"
            ]
          },
          "metadata": {
            "tags": []
          },
          "execution_count": 110
        }
      ]
    },
    {
      "cell_type": "markdown",
      "metadata": {
        "colab_type": "text",
        "id": "eqEetq1ojwBG"
      },
      "source": [
        "## 대화창 실습 : 두 집합의 서로소 연산"
      ]
    },
    {
      "cell_type": "code",
      "metadata": {
        "colab_type": "code",
        "id": "ekT_S-CfjwBI",
        "outputId": "151ee747-c963-48b1-ac57-445fa8c26b90",
        "colab": {
          "base_uri": "https://localhost:8080/",
          "height": 35
        }
      },
      "source": [
        "s1 = {1, 2, 3}\n",
        "s2 = {10, 20, 30}\n",
        "s1.isdisjoint(s2)   # 집합 s1이 s2와 서로소 인가 검사"
      ],
      "execution_count": 0,
      "outputs": [
        {
          "output_type": "execute_result",
          "data": {
            "text/plain": [
              "True"
            ]
          },
          "metadata": {
            "tags": []
          },
          "execution_count": 32
        }
      ]
    },
    {
      "cell_type": "markdown",
      "metadata": {
        "id": "jjPQHhJ88sRS",
        "colab_type": "text"
      },
      "source": [
        "## 코드 6-7 : 곱집합 함수 product_set()와 A, B 집합의 곱집합\n",
        "### product_set_test.py"
      ]
    },
    {
      "cell_type": "code",
      "metadata": {
        "id": "lux0S0bO89Uh",
        "colab_type": "code",
        "outputId": "a73ca56d-925f-4672-9e98-509e3614c02f",
        "colab": {
          "base_uri": "https://localhost:8080/",
          "height": 72
        }
      },
      "source": [
        "def product_set(set1, set2) :\n",
        "    res = set()\n",
        "    for i in set1:\n",
        "        for j in set2:\n",
        "            res = res | {(i,j)}  # 이중 for 루프를 이용한 곱집합\n",
        "    return res\n",
        "     \n",
        "A = {1, 3}    # 집합 A의 원소\n",
        "B = {2, 4}    # 집합 B의 원소\n",
        "AxB = product_set(A, B)     # A와 B의 곱집합 AxB(A x B가 아님)\n",
        "print('A =', A)\n",
        "print('B =', B)\n",
        "print('AxB =', AxB)         # A와 B의 곱집합을 출력함"
      ],
      "execution_count": 0,
      "outputs": [
        {
          "output_type": "stream",
          "text": [
            "A = {1, 3}\n",
            "B = {2, 4}\n",
            "AxB = {(1, 2), (3, 2), (3, 4), (1, 4)}\n"
          ],
          "name": "stdout"
        }
      ]
    },
    {
      "cell_type": "code",
      "metadata": {
        "id": "LVify68ybfhN",
        "colab_type": "code",
        "outputId": "98a1bfc7-f5e1-4997-fa69-aa80e7f75817",
        "colab": {
          "base_uri": "https://localhost:8080/",
          "height": 35
        }
      },
      "source": [
        "# 다음과 같은 함수 호출을 해보세요\n",
        "product_set(A,B)"
      ],
      "execution_count": 0,
      "outputs": [
        {
          "output_type": "execute_result",
          "data": {
            "text/plain": [
              "{(1, 2), (1, 4), (3, 2), (3, 4)}"
            ]
          },
          "metadata": {
            "tags": []
          },
          "execution_count": 136
        }
      ]
    },
    {
      "cell_type": "code",
      "metadata": {
        "id": "7c9fsgVabjTk",
        "colab_type": "code",
        "outputId": "7f849716-2117-4c4a-ec43-78ace872e546",
        "colab": {
          "base_uri": "https://localhost:8080/",
          "height": 35
        }
      },
      "source": [
        "# 다음과 같은 함수 호출도 해보세요.\n",
        "## 위의 결과와 비교해 보세요\n",
        "product_set(B, A)"
      ],
      "execution_count": 0,
      "outputs": [
        {
          "output_type": "execute_result",
          "data": {
            "text/plain": [
              "{(2, 1), (2, 3), (4, 1), (4, 3)}"
            ]
          },
          "metadata": {
            "tags": []
          },
          "execution_count": 135
        }
      ]
    },
    {
      "cell_type": "markdown",
      "metadata": {
        "id": "e7nUTsPE9Pe0",
        "colab_type": "text"
      },
      "source": [
        "## 코드 6-8 : 곱집합 함수를 이용한 집합의 세제곱 연산\n",
        "### set_exponent.py"
      ]
    },
    {
      "cell_type": "code",
      "metadata": {
        "id": "5QyJuVTP9WyP",
        "colab_type": "code",
        "outputId": "26173bf9-0028-4ecd-810b-0f96be13bb51",
        "colab": {
          "base_uri": "https://localhost:8080/",
          "height": 35
        }
      },
      "source": [
        "def product_set(set1, set2) :\n",
        "    res = set()\n",
        "    for i in set1:\n",
        "        for j in set2:\n",
        "            res = res | {(i, j)}    # 이중 for 루프를 이용한 곱집합\n",
        "    return res\n",
        "\n",
        "def exp(input_set, exponent) :     # input_set에 대하여 거듭제곱을 수행하는 함수\n",
        "    res = input_set                # res는 set로 초기화 함\n",
        "    for _ in range(exponent-1) :   # (exponent-1)만큼 반복해야 거듭제곱이 됨\n",
        "        res = product_set(res, input_set)\n",
        "    return res\n",
        "\n",
        "A = {1, 3}\n",
        "A3 = exp(A, 3)  # 집합 A에 대하여 거듭제곱을 3회 수행함\n",
        "print(A3)"
      ],
      "execution_count": 0,
      "outputs": [
        {
          "output_type": "stream",
          "text": [
            "{((1, 1), 1), ((3, 1), 1), ((1, 3), 3), ((1, 1), 3), ((3, 3), 1), ((1, 3), 1), ((3, 1), 3), ((3, 3), 3)}\n"
          ],
          "name": "stdout"
        }
      ]
    },
    {
      "cell_type": "markdown",
      "metadata": {
        "id": "J6_vu6DR9lmA",
        "colab_type": "text"
      },
      "source": [
        "## 코드 6-9 : 주사위 두 번 던져 얻는 경우를 모두 구하기\n",
        "### set_dice_twice.py"
      ]
    },
    {
      "cell_type": "code",
      "metadata": {
        "id": "ylL78SRL9oFJ",
        "colab_type": "code",
        "outputId": "86c9af7d-8eee-4aa1-896d-9576b3a5a672",
        "colab": {
          "base_uri": "https://localhost:8080/",
          "height": 54
        }
      },
      "source": [
        "def product_set(set1, set2) :\n",
        "    res = set()\n",
        "    for i in set1:\n",
        "        for j in set2:\n",
        "            res = res | {(i, j)}  # 이중 for 루프를 이용한 곱집합\n",
        "    return res\n",
        "\n",
        "cases = { 1, 2, 3, 4, 5, 6 }\n",
        "cases_2times = product_set(cases, cases)\n",
        "print(cases_2times)"
      ],
      "execution_count": 0,
      "outputs": [
        {
          "output_type": "stream",
          "text": [
            "{(1, 3), (6, 6), (5, 6), (2, 1), (6, 2), (1, 6), (5, 1), (2, 5), (1, 2), (3, 3), (5, 5), (4, 4), (6, 3), (1, 5), (3, 6), (2, 2), (3, 4), (4, 1), (1, 1), (6, 4), (3, 2), (2, 6), (5, 4), (4, 5), (1, 4), (2, 3), (4, 2), (6, 5), (3, 5), (5, 3), (4, 6), (6, 1), (3, 1), (4, 3), (5, 2), (2, 4)}\n"
          ],
          "name": "stdout"
        }
      ]
    },
    {
      "cell_type": "markdown",
      "metadata": {
        "id": "MjnV7exX94uW",
        "colab_type": "text"
      },
      "source": [
        "##  대화창 실습 : 튜플 데이터 요소의 합"
      ]
    },
    {
      "cell_type": "code",
      "metadata": {
        "id": "6KPgcWwD96jO",
        "colab_type": "code",
        "outputId": "507e3c80-883e-453e-875b-3bafab83c935",
        "colab": {
          "base_uri": "https://localhost:8080/",
          "height": 34
        }
      },
      "source": [
        "a_tuple = ( 1, 2, 3, 4, 5 )\n",
        "sum(a_tuple)"
      ],
      "execution_count": 0,
      "outputs": [
        {
          "output_type": "execute_result",
          "data": {
            "text/plain": [
              "15"
            ]
          },
          "metadata": {
            "tags": []
          },
          "execution_count": 6
        }
      ]
    },
    {
      "cell_type": "markdown",
      "metadata": {
        "id": "ykyXMaj8-BO9",
        "colab_type": "text"
      },
      "source": [
        "## 코드 6-10 : 주사위 두 번 던져 나오는 모든 경우에 대해 눈의 합 구하기\n",
        "### set_dice_twice_sum.py"
      ]
    },
    {
      "cell_type": "code",
      "metadata": {
        "id": "zCL9wcUQ-DjL",
        "colab_type": "code",
        "outputId": "0e72ad27-e38e-48d4-c287-f60cf7b54a3d",
        "colab": {
          "base_uri": "https://localhost:8080/",
          "height": 70
        }
      },
      "source": [
        "def product_set(set1, set2) :\n",
        "    res = set()\n",
        "    for i in set1:\n",
        "        for j in set2:\n",
        "            res = res | {(i, j)}  # 이중 for 루프를 이용한 곱집합\n",
        "    return res\n",
        "\n",
        "cases = { 1, 2, 3, 4, 5, 6 }\n",
        "cases_2times = product_set(cases, cases)\n",
        "\n",
        "sum_set = { sum(tup) for tup in cases_2times }\n",
        "print('sum_set =', sum_set)\n",
        "sum_list = [ sum(tup) for tup in cases_2times ]\n",
        "print('sum_list =', sum_list)"
      ],
      "execution_count": 1,
      "outputs": [
        {
          "output_type": "stream",
          "text": [
            "sum_set = {2, 3, 4, 5, 6, 7, 8, 9, 10, 11, 12}\n",
            "sum_list = [4, 12, 11, 3, 8, 7, 6, 7, 3, 6, 10, 8, 9, 6, 9, 4, 7, 5, 2, 10, 5, 8, 9, 9, 5, 5, 6, 11, 8, 8, 10, 7, 4, 7, 7, 6]\n"
          ],
          "name": "stdout"
        }
      ]
    },
    {
      "cell_type": "markdown",
      "metadata": {
        "colab_type": "text",
        "id": "pU75Tzowkblw"
      },
      "source": [
        "##  대화창 실습 : 주사위를 세 번 던져 얻는 모든 경우"
      ]
    },
    {
      "cell_type": "code",
      "metadata": {
        "id": "ghfogLNVlNX2",
        "colab_type": "code",
        "outputId": "1d742768-0e4c-424d-b4c2-64f5c29f6ea8",
        "colab": {
          "base_uri": "https://localhost:8080/",
          "height": 1000
        }
      },
      "source": [
        "def product_set(set1, set2) :\n",
        "    res = set()\n",
        "    for i in set1:\n",
        "        for j in set2:\n",
        "            res = res | {(i, j)}  # 이중 for 루프를 이용한 곱집합\n",
        "    return res\n",
        "\n",
        "cases = { 1, 2, 3, 4, 5, 6 }\n",
        "cases_2times = product_set(cases, cases)\n",
        "cases_3times = product_set(cases, cases_2times)\n",
        "cases_3times"
      ],
      "execution_count": 2,
      "outputs": [
        {
          "output_type": "execute_result",
          "data": {
            "text/plain": [
              "{(1, (1, 1)),\n",
              " (1, (1, 2)),\n",
              " (1, (1, 3)),\n",
              " (1, (1, 4)),\n",
              " (1, (1, 5)),\n",
              " (1, (1, 6)),\n",
              " (1, (2, 1)),\n",
              " (1, (2, 2)),\n",
              " (1, (2, 3)),\n",
              " (1, (2, 4)),\n",
              " (1, (2, 5)),\n",
              " (1, (2, 6)),\n",
              " (1, (3, 1)),\n",
              " (1, (3, 2)),\n",
              " (1, (3, 3)),\n",
              " (1, (3, 4)),\n",
              " (1, (3, 5)),\n",
              " (1, (3, 6)),\n",
              " (1, (4, 1)),\n",
              " (1, (4, 2)),\n",
              " (1, (4, 3)),\n",
              " (1, (4, 4)),\n",
              " (1, (4, 5)),\n",
              " (1, (4, 6)),\n",
              " (1, (5, 1)),\n",
              " (1, (5, 2)),\n",
              " (1, (5, 3)),\n",
              " (1, (5, 4)),\n",
              " (1, (5, 5)),\n",
              " (1, (5, 6)),\n",
              " (1, (6, 1)),\n",
              " (1, (6, 2)),\n",
              " (1, (6, 3)),\n",
              " (1, (6, 4)),\n",
              " (1, (6, 5)),\n",
              " (1, (6, 6)),\n",
              " (2, (1, 1)),\n",
              " (2, (1, 2)),\n",
              " (2, (1, 3)),\n",
              " (2, (1, 4)),\n",
              " (2, (1, 5)),\n",
              " (2, (1, 6)),\n",
              " (2, (2, 1)),\n",
              " (2, (2, 2)),\n",
              " (2, (2, 3)),\n",
              " (2, (2, 4)),\n",
              " (2, (2, 5)),\n",
              " (2, (2, 6)),\n",
              " (2, (3, 1)),\n",
              " (2, (3, 2)),\n",
              " (2, (3, 3)),\n",
              " (2, (3, 4)),\n",
              " (2, (3, 5)),\n",
              " (2, (3, 6)),\n",
              " (2, (4, 1)),\n",
              " (2, (4, 2)),\n",
              " (2, (4, 3)),\n",
              " (2, (4, 4)),\n",
              " (2, (4, 5)),\n",
              " (2, (4, 6)),\n",
              " (2, (5, 1)),\n",
              " (2, (5, 2)),\n",
              " (2, (5, 3)),\n",
              " (2, (5, 4)),\n",
              " (2, (5, 5)),\n",
              " (2, (5, 6)),\n",
              " (2, (6, 1)),\n",
              " (2, (6, 2)),\n",
              " (2, (6, 3)),\n",
              " (2, (6, 4)),\n",
              " (2, (6, 5)),\n",
              " (2, (6, 6)),\n",
              " (3, (1, 1)),\n",
              " (3, (1, 2)),\n",
              " (3, (1, 3)),\n",
              " (3, (1, 4)),\n",
              " (3, (1, 5)),\n",
              " (3, (1, 6)),\n",
              " (3, (2, 1)),\n",
              " (3, (2, 2)),\n",
              " (3, (2, 3)),\n",
              " (3, (2, 4)),\n",
              " (3, (2, 5)),\n",
              " (3, (2, 6)),\n",
              " (3, (3, 1)),\n",
              " (3, (3, 2)),\n",
              " (3, (3, 3)),\n",
              " (3, (3, 4)),\n",
              " (3, (3, 5)),\n",
              " (3, (3, 6)),\n",
              " (3, (4, 1)),\n",
              " (3, (4, 2)),\n",
              " (3, (4, 3)),\n",
              " (3, (4, 4)),\n",
              " (3, (4, 5)),\n",
              " (3, (4, 6)),\n",
              " (3, (5, 1)),\n",
              " (3, (5, 2)),\n",
              " (3, (5, 3)),\n",
              " (3, (5, 4)),\n",
              " (3, (5, 5)),\n",
              " (3, (5, 6)),\n",
              " (3, (6, 1)),\n",
              " (3, (6, 2)),\n",
              " (3, (6, 3)),\n",
              " (3, (6, 4)),\n",
              " (3, (6, 5)),\n",
              " (3, (6, 6)),\n",
              " (4, (1, 1)),\n",
              " (4, (1, 2)),\n",
              " (4, (1, 3)),\n",
              " (4, (1, 4)),\n",
              " (4, (1, 5)),\n",
              " (4, (1, 6)),\n",
              " (4, (2, 1)),\n",
              " (4, (2, 2)),\n",
              " (4, (2, 3)),\n",
              " (4, (2, 4)),\n",
              " (4, (2, 5)),\n",
              " (4, (2, 6)),\n",
              " (4, (3, 1)),\n",
              " (4, (3, 2)),\n",
              " (4, (3, 3)),\n",
              " (4, (3, 4)),\n",
              " (4, (3, 5)),\n",
              " (4, (3, 6)),\n",
              " (4, (4, 1)),\n",
              " (4, (4, 2)),\n",
              " (4, (4, 3)),\n",
              " (4, (4, 4)),\n",
              " (4, (4, 5)),\n",
              " (4, (4, 6)),\n",
              " (4, (5, 1)),\n",
              " (4, (5, 2)),\n",
              " (4, (5, 3)),\n",
              " (4, (5, 4)),\n",
              " (4, (5, 5)),\n",
              " (4, (5, 6)),\n",
              " (4, (6, 1)),\n",
              " (4, (6, 2)),\n",
              " (4, (6, 3)),\n",
              " (4, (6, 4)),\n",
              " (4, (6, 5)),\n",
              " (4, (6, 6)),\n",
              " (5, (1, 1)),\n",
              " (5, (1, 2)),\n",
              " (5, (1, 3)),\n",
              " (5, (1, 4)),\n",
              " (5, (1, 5)),\n",
              " (5, (1, 6)),\n",
              " (5, (2, 1)),\n",
              " (5, (2, 2)),\n",
              " (5, (2, 3)),\n",
              " (5, (2, 4)),\n",
              " (5, (2, 5)),\n",
              " (5, (2, 6)),\n",
              " (5, (3, 1)),\n",
              " (5, (3, 2)),\n",
              " (5, (3, 3)),\n",
              " (5, (3, 4)),\n",
              " (5, (3, 5)),\n",
              " (5, (3, 6)),\n",
              " (5, (4, 1)),\n",
              " (5, (4, 2)),\n",
              " (5, (4, 3)),\n",
              " (5, (4, 4)),\n",
              " (5, (4, 5)),\n",
              " (5, (4, 6)),\n",
              " (5, (5, 1)),\n",
              " (5, (5, 2)),\n",
              " (5, (5, 3)),\n",
              " (5, (5, 4)),\n",
              " (5, (5, 5)),\n",
              " (5, (5, 6)),\n",
              " (5, (6, 1)),\n",
              " (5, (6, 2)),\n",
              " (5, (6, 3)),\n",
              " (5, (6, 4)),\n",
              " (5, (6, 5)),\n",
              " (5, (6, 6)),\n",
              " (6, (1, 1)),\n",
              " (6, (1, 2)),\n",
              " (6, (1, 3)),\n",
              " (6, (1, 4)),\n",
              " (6, (1, 5)),\n",
              " (6, (1, 6)),\n",
              " (6, (2, 1)),\n",
              " (6, (2, 2)),\n",
              " (6, (2, 3)),\n",
              " (6, (2, 4)),\n",
              " (6, (2, 5)),\n",
              " (6, (2, 6)),\n",
              " (6, (3, 1)),\n",
              " (6, (3, 2)),\n",
              " (6, (3, 3)),\n",
              " (6, (3, 4)),\n",
              " (6, (3, 5)),\n",
              " (6, (3, 6)),\n",
              " (6, (4, 1)),\n",
              " (6, (4, 2)),\n",
              " (6, (4, 3)),\n",
              " (6, (4, 4)),\n",
              " (6, (4, 5)),\n",
              " (6, (4, 6)),\n",
              " (6, (5, 1)),\n",
              " (6, (5, 2)),\n",
              " (6, (5, 3)),\n",
              " (6, (5, 4)),\n",
              " (6, (5, 5)),\n",
              " (6, (5, 6)),\n",
              " (6, (6, 1)),\n",
              " (6, (6, 2)),\n",
              " (6, (6, 3)),\n",
              " (6, (6, 4)),\n",
              " (6, (6, 5)),\n",
              " (6, (6, 6))}"
            ]
          },
          "metadata": {
            "tags": []
          },
          "execution_count": 2
        }
      ]
    },
    {
      "cell_type": "markdown",
      "metadata": {
        "id": "MsgcsTJOAhgf",
        "colab_type": "text"
      },
      "source": [
        "##  대화창 실습 : 중첩 튜플의 원소에 sum을 사용할 경우에 발생하는 오류"
      ]
    },
    {
      "cell_type": "code",
      "metadata": {
        "id": "Xn19sDAVAj0r",
        "colab_type": "code",
        "outputId": "30a5da6f-3c16-4dbd-e047-06fbd612d4a6",
        "colab": {
          "base_uri": "https://localhost:8080/",
          "height": 213
        }
      },
      "source": [
        "sums = [sum(tup) for tup in cases_3times]"
      ],
      "execution_count": 3,
      "outputs": [
        {
          "output_type": "error",
          "ename": "TypeError",
          "evalue": "ignored",
          "traceback": [
            "\u001b[0;31m---------------------------------------------------------------------------\u001b[0m",
            "\u001b[0;31mTypeError\u001b[0m                                 Traceback (most recent call last)",
            "\u001b[0;32m<ipython-input-3-e58b443e8410>\u001b[0m in \u001b[0;36m<module>\u001b[0;34m()\u001b[0m\n\u001b[0;32m----> 1\u001b[0;31m \u001b[0msums\u001b[0m \u001b[0;34m=\u001b[0m \u001b[0;34m[\u001b[0m\u001b[0msum\u001b[0m\u001b[0;34m(\u001b[0m\u001b[0mtup\u001b[0m\u001b[0;34m)\u001b[0m \u001b[0;32mfor\u001b[0m \u001b[0mtup\u001b[0m \u001b[0;32min\u001b[0m \u001b[0mcases_3times\u001b[0m\u001b[0;34m]\u001b[0m\u001b[0;34m\u001b[0m\u001b[0;34m\u001b[0m\u001b[0m\n\u001b[0m",
            "\u001b[0;32m<ipython-input-3-e58b443e8410>\u001b[0m in \u001b[0;36m<listcomp>\u001b[0;34m(.0)\u001b[0m\n\u001b[0;32m----> 1\u001b[0;31m \u001b[0msums\u001b[0m \u001b[0;34m=\u001b[0m \u001b[0;34m[\u001b[0m\u001b[0msum\u001b[0m\u001b[0;34m(\u001b[0m\u001b[0mtup\u001b[0m\u001b[0;34m)\u001b[0m \u001b[0;32mfor\u001b[0m \u001b[0mtup\u001b[0m \u001b[0;32min\u001b[0m \u001b[0mcases_3times\u001b[0m\u001b[0;34m]\u001b[0m\u001b[0;34m\u001b[0m\u001b[0;34m\u001b[0m\u001b[0m\n\u001b[0m",
            "\u001b[0;31mTypeError\u001b[0m: unsupported operand type(s) for +: 'int' and 'tuple'"
          ]
        }
      ]
    },
    {
      "cell_type": "markdown",
      "metadata": {
        "id": "p-4bzegpZF2d",
        "colab_type": "text"
      },
      "source": [
        "## p365 대화창 실습 : 주사위를 세 번 던져 얻는 모든 경우"
      ]
    },
    {
      "cell_type": "code",
      "metadata": {
        "id": "o27qyXxqZGRM",
        "colab_type": "code",
        "colab": {
          "base_uri": "https://localhost:8080/",
          "height": 1000
        },
        "outputId": "146710c4-23b3-4898-8795-12158a74d5a7"
      },
      "source": [
        "def tuple_sum(tup) :           # tup내의 모든 항목의 합을 구하는 함수\n",
        "    if isinstance(tup, int) :  # tup가 int 형이면 tup를 반환\n",
        "        return tup\n",
        "    else:\n",
        "        accum = 0\n",
        "        for element in tup :   # tup내의 모든 항목을 조회함\n",
        "            accum += tuple_sum(element)  # 이 항목의 합을 구하기 위한 재귀적 호출\n",
        "    return accum\n",
        "\n",
        "def product_set(set1, set2) :\n",
        "    res = set()\n",
        "    for i in set1:\n",
        "        for j in set2:\n",
        "            res = res | {(i, j)}  # 이중 for 루프를 이용한 곱집합\n",
        "    return res\n",
        "\n",
        "cases = { 1, 2, 3, 4, 5, 6 }\n",
        "cases_2times = product_set(cases, cases)\n",
        "cases_3times = product_set(cases, cases_2times)\n",
        "cases_3times"
      ],
      "execution_count": 5,
      "outputs": [
        {
          "output_type": "execute_result",
          "data": {
            "text/plain": [
              "{(1, (1, 1)),\n",
              " (1, (1, 2)),\n",
              " (1, (1, 3)),\n",
              " (1, (1, 4)),\n",
              " (1, (1, 5)),\n",
              " (1, (1, 6)),\n",
              " (1, (2, 1)),\n",
              " (1, (2, 2)),\n",
              " (1, (2, 3)),\n",
              " (1, (2, 4)),\n",
              " (1, (2, 5)),\n",
              " (1, (2, 6)),\n",
              " (1, (3, 1)),\n",
              " (1, (3, 2)),\n",
              " (1, (3, 3)),\n",
              " (1, (3, 4)),\n",
              " (1, (3, 5)),\n",
              " (1, (3, 6)),\n",
              " (1, (4, 1)),\n",
              " (1, (4, 2)),\n",
              " (1, (4, 3)),\n",
              " (1, (4, 4)),\n",
              " (1, (4, 5)),\n",
              " (1, (4, 6)),\n",
              " (1, (5, 1)),\n",
              " (1, (5, 2)),\n",
              " (1, (5, 3)),\n",
              " (1, (5, 4)),\n",
              " (1, (5, 5)),\n",
              " (1, (5, 6)),\n",
              " (1, (6, 1)),\n",
              " (1, (6, 2)),\n",
              " (1, (6, 3)),\n",
              " (1, (6, 4)),\n",
              " (1, (6, 5)),\n",
              " (1, (6, 6)),\n",
              " (2, (1, 1)),\n",
              " (2, (1, 2)),\n",
              " (2, (1, 3)),\n",
              " (2, (1, 4)),\n",
              " (2, (1, 5)),\n",
              " (2, (1, 6)),\n",
              " (2, (2, 1)),\n",
              " (2, (2, 2)),\n",
              " (2, (2, 3)),\n",
              " (2, (2, 4)),\n",
              " (2, (2, 5)),\n",
              " (2, (2, 6)),\n",
              " (2, (3, 1)),\n",
              " (2, (3, 2)),\n",
              " (2, (3, 3)),\n",
              " (2, (3, 4)),\n",
              " (2, (3, 5)),\n",
              " (2, (3, 6)),\n",
              " (2, (4, 1)),\n",
              " (2, (4, 2)),\n",
              " (2, (4, 3)),\n",
              " (2, (4, 4)),\n",
              " (2, (4, 5)),\n",
              " (2, (4, 6)),\n",
              " (2, (5, 1)),\n",
              " (2, (5, 2)),\n",
              " (2, (5, 3)),\n",
              " (2, (5, 4)),\n",
              " (2, (5, 5)),\n",
              " (2, (5, 6)),\n",
              " (2, (6, 1)),\n",
              " (2, (6, 2)),\n",
              " (2, (6, 3)),\n",
              " (2, (6, 4)),\n",
              " (2, (6, 5)),\n",
              " (2, (6, 6)),\n",
              " (3, (1, 1)),\n",
              " (3, (1, 2)),\n",
              " (3, (1, 3)),\n",
              " (3, (1, 4)),\n",
              " (3, (1, 5)),\n",
              " (3, (1, 6)),\n",
              " (3, (2, 1)),\n",
              " (3, (2, 2)),\n",
              " (3, (2, 3)),\n",
              " (3, (2, 4)),\n",
              " (3, (2, 5)),\n",
              " (3, (2, 6)),\n",
              " (3, (3, 1)),\n",
              " (3, (3, 2)),\n",
              " (3, (3, 3)),\n",
              " (3, (3, 4)),\n",
              " (3, (3, 5)),\n",
              " (3, (3, 6)),\n",
              " (3, (4, 1)),\n",
              " (3, (4, 2)),\n",
              " (3, (4, 3)),\n",
              " (3, (4, 4)),\n",
              " (3, (4, 5)),\n",
              " (3, (4, 6)),\n",
              " (3, (5, 1)),\n",
              " (3, (5, 2)),\n",
              " (3, (5, 3)),\n",
              " (3, (5, 4)),\n",
              " (3, (5, 5)),\n",
              " (3, (5, 6)),\n",
              " (3, (6, 1)),\n",
              " (3, (6, 2)),\n",
              " (3, (6, 3)),\n",
              " (3, (6, 4)),\n",
              " (3, (6, 5)),\n",
              " (3, (6, 6)),\n",
              " (4, (1, 1)),\n",
              " (4, (1, 2)),\n",
              " (4, (1, 3)),\n",
              " (4, (1, 4)),\n",
              " (4, (1, 5)),\n",
              " (4, (1, 6)),\n",
              " (4, (2, 1)),\n",
              " (4, (2, 2)),\n",
              " (4, (2, 3)),\n",
              " (4, (2, 4)),\n",
              " (4, (2, 5)),\n",
              " (4, (2, 6)),\n",
              " (4, (3, 1)),\n",
              " (4, (3, 2)),\n",
              " (4, (3, 3)),\n",
              " (4, (3, 4)),\n",
              " (4, (3, 5)),\n",
              " (4, (3, 6)),\n",
              " (4, (4, 1)),\n",
              " (4, (4, 2)),\n",
              " (4, (4, 3)),\n",
              " (4, (4, 4)),\n",
              " (4, (4, 5)),\n",
              " (4, (4, 6)),\n",
              " (4, (5, 1)),\n",
              " (4, (5, 2)),\n",
              " (4, (5, 3)),\n",
              " (4, (5, 4)),\n",
              " (4, (5, 5)),\n",
              " (4, (5, 6)),\n",
              " (4, (6, 1)),\n",
              " (4, (6, 2)),\n",
              " (4, (6, 3)),\n",
              " (4, (6, 4)),\n",
              " (4, (6, 5)),\n",
              " (4, (6, 6)),\n",
              " (5, (1, 1)),\n",
              " (5, (1, 2)),\n",
              " (5, (1, 3)),\n",
              " (5, (1, 4)),\n",
              " (5, (1, 5)),\n",
              " (5, (1, 6)),\n",
              " (5, (2, 1)),\n",
              " (5, (2, 2)),\n",
              " (5, (2, 3)),\n",
              " (5, (2, 4)),\n",
              " (5, (2, 5)),\n",
              " (5, (2, 6)),\n",
              " (5, (3, 1)),\n",
              " (5, (3, 2)),\n",
              " (5, (3, 3)),\n",
              " (5, (3, 4)),\n",
              " (5, (3, 5)),\n",
              " (5, (3, 6)),\n",
              " (5, (4, 1)),\n",
              " (5, (4, 2)),\n",
              " (5, (4, 3)),\n",
              " (5, (4, 4)),\n",
              " (5, (4, 5)),\n",
              " (5, (4, 6)),\n",
              " (5, (5, 1)),\n",
              " (5, (5, 2)),\n",
              " (5, (5, 3)),\n",
              " (5, (5, 4)),\n",
              " (5, (5, 5)),\n",
              " (5, (5, 6)),\n",
              " (5, (6, 1)),\n",
              " (5, (6, 2)),\n",
              " (5, (6, 3)),\n",
              " (5, (6, 4)),\n",
              " (5, (6, 5)),\n",
              " (5, (6, 6)),\n",
              " (6, (1, 1)),\n",
              " (6, (1, 2)),\n",
              " (6, (1, 3)),\n",
              " (6, (1, 4)),\n",
              " (6, (1, 5)),\n",
              " (6, (1, 6)),\n",
              " (6, (2, 1)),\n",
              " (6, (2, 2)),\n",
              " (6, (2, 3)),\n",
              " (6, (2, 4)),\n",
              " (6, (2, 5)),\n",
              " (6, (2, 6)),\n",
              " (6, (3, 1)),\n",
              " (6, (3, 2)),\n",
              " (6, (3, 3)),\n",
              " (6, (3, 4)),\n",
              " (6, (3, 5)),\n",
              " (6, (3, 6)),\n",
              " (6, (4, 1)),\n",
              " (6, (4, 2)),\n",
              " (6, (4, 3)),\n",
              " (6, (4, 4)),\n",
              " (6, (4, 5)),\n",
              " (6, (4, 6)),\n",
              " (6, (5, 1)),\n",
              " (6, (5, 2)),\n",
              " (6, (5, 3)),\n",
              " (6, (5, 4)),\n",
              " (6, (5, 5)),\n",
              " (6, (5, 6)),\n",
              " (6, (6, 1)),\n",
              " (6, (6, 2)),\n",
              " (6, (6, 3)),\n",
              " (6, (6, 4)),\n",
              " (6, (6, 5)),\n",
              " (6, (6, 6))}"
            ]
          },
          "metadata": {
            "tags": []
          },
          "execution_count": 5
        }
      ]
    },
    {
      "cell_type": "markdown",
      "metadata": {
        "id": "xzBRorltApim",
        "colab_type": "text"
      },
      "source": [
        "## 코드 6-11 : 주사위를 세 번 던져 나오는 모든 수의 합\n",
        "### set_dice_triple.py"
      ]
    },
    {
      "cell_type": "code",
      "metadata": {
        "id": "p_3_UnFZAr9u",
        "colab_type": "code",
        "outputId": "a487eb09-23af-41f1-a1d0-851e47a9fc3b",
        "colab": {
          "base_uri": "https://localhost:8080/",
          "height": 54
        }
      },
      "source": [
        "def tuple_sum(tup) :           # tup내의 모든 항목의 합을 구하는 함수\n",
        "    if isinstance(tup, int) :  # tup가 int 형이면 tup를 반환\n",
        "        return tup\n",
        "    else:\n",
        "        accum = 0\n",
        "        for element in tup :   # tup내의 모든 항목을 조회함\n",
        "            accum += tuple_sum(element)  # 이 항목의 합을 구하기 위한 재귀적 호출\n",
        "    return accum\n",
        "\n",
        "def product_set(set1, set2) :\n",
        "    res = set()\n",
        "    for i in set1:\n",
        "        for j in set2:\n",
        "            res = res | {(i,j)}  # 이중 for 루프를 이용한 곱집합\n",
        "    return res\n",
        "\n",
        "cases = { 1, 2, 3, 4, 5, 6 }\n",
        "cases_2times = product_set(cases, cases)\n",
        "cases_3times = product_set(cases, cases_2times)\n",
        "\n",
        "sums = [tuple_sum(tup) for tup in cases_3times]\n",
        "print(sums)   # tup내의 모든 항목의 합을 리스트로 출력"
      ],
      "execution_count": 4,
      "outputs": [
        {
          "output_type": "stream",
          "text": [
            "[12, 5, 8, 9, 9, 10, 10, 12, 14, 10, 6, 8, 9, 6, 9, 10, 15, 10, 13, 13, 7, 13, 10, 7, 8, 12, 9, 13, 7, 14, 7, 6, 10, 8, 5, 12, 13, 9, 10, 11, 11, 9, 14, 11, 12, 12, 12, 9, 15, 15, 8, 13, 6, 17, 8, 9, 13, 16, 9, 13, 11, 18, 7, 7, 14, 11, 4, 10, 10, 11, 12, 12, 14, 12, 9, 13, 12, 13, 12, 5, 11, 8, 5, 6, 16, 14, 11, 11, 6, 13, 11, 12, 13, 8, 11, 8, 8, 9, 9, 11, 12, 13, 16, 11, 8, 7, 11, 12, 12, 7, 8, 9, 8, 12, 5, 13, 7, 16, 16, 14, 9, 12, 11, 10, 10, 10, 8, 12, 10, 13, 15, 10, 10, 9, 15, 13, 15, 10, 15, 6, 14, 14, 4, 11, 7, 17, 6, 14, 11, 8, 7, 9, 10, 8, 10, 13, 10, 6, 9, 7, 10, 15, 14, 15, 9, 7, 9, 9, 14, 13, 10, 14, 12, 9, 10, 11, 4, 5, 10, 15, 16, 6, 9, 10, 12, 13, 11, 10, 11, 9, 11, 8, 12, 12, 11, 11, 8, 11, 17, 9, 14, 11, 10, 8, 7, 8, 11, 12, 11, 13, 13, 3, 12, 14, 8, 7]\n"
          ],
          "name": "stdout"
        }
      ]
    },
    {
      "cell_type": "markdown",
      "metadata": {
        "id": "KrKoRE_QYONy",
        "colab_type": "text"
      },
      "source": [
        "## LAB 6-12 코드 : 복수로 주사위를 던졌을 때 특정값 이상을 얻을 확률 구하기"
      ]
    },
    {
      "cell_type": "code",
      "metadata": {
        "id": "eDzWTS7pYfd3",
        "colab_type": "code",
        "colab": {}
      },
      "source": [
        "def tuple_sum(tup) :           # tup내의 모든 항목의 합을 구하는 함수\n",
        "    if isinstance(tup, int) :  # tup가 int 형이면 tup를 반환\n",
        "        return tup\n",
        "    else:\n",
        "        accum = 0\n",
        "        for element in tup :   # tup내의 모든 항목을 조회함\n",
        "            accum += tuple_sum(element)  # 이 항목의 합을 구하기 위한 재귀적 호출\n",
        "    return accum\n",
        "\n",
        "def product_set(set1, set2) :\n",
        "    res = set()\n",
        "    for i in set1:\n",
        "        for j in set2:\n",
        "            res = res | {(i, j)}  # 이중 for 루프를 이용한 곱집합\n",
        "    return res\n",
        "\n",
        "def exp(input_set, exponent) :     # input_set에 대하여 거듭제곱을 수행하는 함수\n",
        "    res = input_set                # res는 set로 초기화 함\n",
        "    for _ in range(exponent - 1) :   # (exponent-1)만큼 반복해야 거듭제곱이 됨\n",
        "        res = product_set(res, input_set)\n",
        "    return res\n",
        "    "
      ],
      "execution_count": 0,
      "outputs": []
    },
    {
      "cell_type": "markdown",
      "metadata": {
        "id": "ZzIxzUk_zRtn",
        "colab_type": "text"
      },
      "source": [
        "## 대화창 실습 : zip() 함수에 공백 인자를 넘긴 경우"
      ]
    },
    {
      "cell_type": "code",
      "metadata": {
        "id": "YHllxjThzi7h",
        "colab_type": "code",
        "outputId": "b5c36e2a-c9ae-4a0a-b86c-ac5d2b7577bb",
        "colab": {
          "base_uri": "https://localhost:8080/",
          "height": 35
        }
      },
      "source": [
        "empty_iterator = zip()\n",
        "result = set(empty_iterator)\n",
        "result"
      ],
      "execution_count": 0,
      "outputs": [
        {
          "output_type": "execute_result",
          "data": {
            "text/plain": [
              "set()"
            ]
          },
          "metadata": {
            "tags": []
          },
          "execution_count": 34
        }
      ]
    },
    {
      "cell_type": "markdown",
      "metadata": {
        "colab_type": "text",
        "id": "pFa7K0V7ltdg"
      },
      "source": [
        "## 대화창 실습 : zip() 함수를 이용한 집적화"
      ]
    },
    {
      "cell_type": "code",
      "metadata": {
        "colab_type": "code",
        "outputId": "4a643556-55c7-4d56-96e1-783ee9c2e380",
        "id": "zi1RyP4sltdi",
        "colab": {
          "base_uri": "https://localhost:8080/",
          "height": 71
        }
      },
      "source": [
        "a = [10, 20, 30]                # 리스트 a\n",
        "b = ('ten', 'twenty', 'thirty') # 튜플 b\n",
        "for val in zip(a, b):           # 리스트 a와 튜플 b를 집적화하여 생성된 튜플을 출력\n",
        "  print(val)"
      ],
      "execution_count": 0,
      "outputs": [
        {
          "output_type": "stream",
          "text": [
            "(10, 'ten')\n",
            "(20, 'twenty')\n",
            "(30, 'thirty')\n"
          ],
          "name": "stdout"
        }
      ]
    },
    {
      "cell_type": "markdown",
      "metadata": {
        "id": "98Giq6Bpzo1g",
        "colab_type": "text"
      },
      "source": [
        "## 대화창 실습 : zip() 함수에 하나의 반복가능 자료형 인자를 전달한 경우"
      ]
    },
    {
      "cell_type": "code",
      "metadata": {
        "id": "GLpElrx5ztin",
        "colab_type": "code",
        "outputId": "6d378d03-f363-4096-d4ae-c637f151a057",
        "colab": {
          "base_uri": "https://localhost:8080/",
          "height": 35
        }
      },
      "source": [
        "lst = ['a', 'b', 'hello', 'this']\n",
        "my_iterator = zip(lst)\n",
        "result = set(my_iterator)\n",
        "result"
      ],
      "execution_count": 0,
      "outputs": [
        {
          "output_type": "execute_result",
          "data": {
            "text/plain": [
              "{('a',), ('b',), ('hello',), ('this',)}"
            ]
          },
          "metadata": {
            "tags": []
          },
          "execution_count": 6
        }
      ]
    },
    {
      "cell_type": "markdown",
      "metadata": {
        "id": "y_6_BeNLz19w",
        "colab_type": "text"
      },
      "source": [
        "## 대화창 실습 : zip() 함수에 여러 반복가능 자료형 인자를 전달한 경우"
      ]
    },
    {
      "cell_type": "code",
      "metadata": {
        "id": "C5-odxoqz6kU",
        "colab_type": "code",
        "outputId": "ab2cc636-e8b3-426d-a72f-6a65fdfa8a9c",
        "colab": {
          "base_uri": "https://localhost:8080/",
          "height": 35
        }
      },
      "source": [
        "str_list = [ 'hello', 'world', 'python', 'rocks']\n",
        "int_tuple = (1, 2, 3)\n",
        "int_list = [400, 500, 600, 700, 800]\n",
        "my_iterator = zip(str_list, int_tuple, int_list)\n",
        "list(my_iterator)"
      ],
      "execution_count": 0,
      "outputs": [
        {
          "output_type": "execute_result",
          "data": {
            "text/plain": [
              "[('hello', 1, 400), ('world', 2, 500), ('python', 3, 600)]"
            ]
          },
          "metadata": {
            "tags": []
          },
          "execution_count": 138
        }
      ]
    },
    {
      "cell_type": "markdown",
      "metadata": {
        "id": "iPfbDLlv47cL",
        "colab_type": "text"
      },
      "source": [
        "## 대화창 실습 : zip()으로 묶여진 튜플을 다시 풀어내는 방법(언패킹)"
      ]
    },
    {
      "cell_type": "code",
      "metadata": {
        "id": "PxWTYUFql9Fo",
        "colab_type": "code",
        "outputId": "91958e8d-a7fc-427c-f072-87e5ce4c8196",
        "colab": {
          "base_uri": "https://localhost:8080/",
          "height": 35
        }
      },
      "source": [
        "zip_lst = list(zip(str_list, int_tuple, int_list)) \n",
        "a, b, c = zip(*zip_lst)     # 튜플을 언패킹 함 \n",
        "print(a, b, c)"
      ],
      "execution_count": 0,
      "outputs": [
        {
          "output_type": "stream",
          "text": [
            "('hello', 'world', 'python') (1, 2, 3) (400, 500, 600)\n"
          ],
          "name": "stdout"
        }
      ]
    },
    {
      "cell_type": "markdown",
      "metadata": {
        "id": "n_FxYBbUet60",
        "colab_type": "text"
      },
      "source": [
        "## 대화창 실습 : 튜플의 슬라이싱"
      ]
    },
    {
      "cell_type": "code",
      "metadata": {
        "id": "kFwFJ8wXet61",
        "colab_type": "code",
        "colab": {}
      },
      "source": [
        "tu = (0, 1, 2, 3, 4, 5, 6, 7, 8, 9)"
      ],
      "execution_count": 0,
      "outputs": []
    },
    {
      "cell_type": "code",
      "metadata": {
        "id": "usnfbUt5et63",
        "colab_type": "code",
        "outputId": "22dd61a2-7372-405d-95d7-adc31344e47c",
        "colab": {
          "base_uri": "https://localhost:8080/",
          "height": 35
        }
      },
      "source": [
        "tu[1:5]    # 튜플의 슬라이싱으로 1, 2, 3, 4의 네 원소를 가져온다 "
      ],
      "execution_count": 0,
      "outputs": [
        {
          "output_type": "execute_result",
          "data": {
            "text/plain": [
              "(1, 2, 3, 4)"
            ]
          },
          "metadata": {
            "tags": []
          },
          "execution_count": 125
        }
      ]
    },
    {
      "cell_type": "code",
      "metadata": {
        "id": "Jb59QIXeet67",
        "colab_type": "code",
        "outputId": "8956ece4-7182-4fb0-da0e-9a835fd47bd5",
        "colab": {
          "base_uri": "https://localhost:8080/",
          "height": 35
        }
      },
      "source": [
        "tu[0:10:3]"
      ],
      "execution_count": 0,
      "outputs": [
        {
          "output_type": "execute_result",
          "data": {
            "text/plain": [
              "(0, 3, 6, 9)"
            ]
          },
          "metadata": {
            "tags": []
          },
          "execution_count": 17
        }
      ]
    },
    {
      "cell_type": "code",
      "metadata": {
        "id": "w8_V06lIet6-",
        "colab_type": "code",
        "outputId": "2f70f4a3-3136-49e8-f558-a56c41e860d7",
        "colab": {
          "base_uri": "https://localhost:8080/",
          "height": 35
        }
      },
      "source": [
        "tu[::-1]"
      ],
      "execution_count": 0,
      "outputs": [
        {
          "output_type": "execute_result",
          "data": {
            "text/plain": [
              "(9, 8, 7, 6, 5, 4, 3, 2, 1, 0)"
            ]
          },
          "metadata": {
            "tags": []
          },
          "execution_count": 20
        }
      ]
    },
    {
      "cell_type": "markdown",
      "metadata": {
        "id": "JAnx5d0Qet7B",
        "colab_type": "text"
      },
      "source": [
        "## 대화창 실습 : 문자열 슬라이싱"
      ]
    },
    {
      "cell_type": "code",
      "metadata": {
        "id": "DzGI4BPtet7D",
        "colab_type": "code",
        "colab": {}
      },
      "source": [
        "text = 'hello world'"
      ],
      "execution_count": 0,
      "outputs": []
    },
    {
      "cell_type": "code",
      "metadata": {
        "id": "Qpx16YEEet7H",
        "colab_type": "code",
        "outputId": "1b1ac217-7e13-44d2-843b-f560c2a7efc2",
        "colab": {
          "base_uri": "https://localhost:8080/",
          "height": 35
        }
      },
      "source": [
        "text[1:5]   # 문자열 슬라이싱으로 'ello'를 가져온다 "
      ],
      "execution_count": 0,
      "outputs": [
        {
          "output_type": "execute_result",
          "data": {
            "text/plain": [
              "'ello'"
            ]
          },
          "metadata": {
            "tags": []
          },
          "execution_count": 128
        }
      ]
    },
    {
      "cell_type": "code",
      "metadata": {
        "id": "K6TkyahBet7N",
        "colab_type": "code",
        "outputId": "ea35d06f-9c50-45b0-823f-67dc55cf03bb",
        "colab": {
          "base_uri": "https://localhost:8080/",
          "height": 35
        }
      },
      "source": [
        "text[6:]"
      ],
      "execution_count": 0,
      "outputs": [
        {
          "output_type": "execute_result",
          "data": {
            "text/plain": [
              "'world'"
            ]
          },
          "metadata": {
            "tags": []
          },
          "execution_count": 129
        }
      ]
    },
    {
      "cell_type": "code",
      "metadata": {
        "id": "-nqt7pRJnOrB",
        "colab_type": "code",
        "outputId": "7af81fd5-9887-4947-a769-a973663e0a57",
        "colab": {
          "base_uri": "https://localhost:8080/",
          "height": 35
        }
      },
      "source": [
        "text[::3]"
      ],
      "execution_count": 0,
      "outputs": [
        {
          "output_type": "execute_result",
          "data": {
            "text/plain": [
              "'hlwl'"
            ]
          },
          "metadata": {
            "tags": []
          },
          "execution_count": 130
        }
      ]
    },
    {
      "cell_type": "code",
      "metadata": {
        "id": "uHa5EhJaet7T",
        "colab_type": "code",
        "outputId": "5060b9ea-2070-49f6-d38f-5412cd0155c2",
        "colab": {
          "base_uri": "https://localhost:8080/",
          "height": 35
        }
      },
      "source": [
        "text[::-1]"
      ],
      "execution_count": 0,
      "outputs": [
        {
          "output_type": "execute_result",
          "data": {
            "text/plain": [
              "'dlrow olleh'"
            ]
          },
          "metadata": {
            "tags": []
          },
          "execution_count": 131
        }
      ]
    },
    {
      "cell_type": "code",
      "metadata": {
        "id": "UCqLMTTVnq_5",
        "colab_type": "code",
        "colab": {}
      },
      "source": [
        ""
      ],
      "execution_count": 0,
      "outputs": []
    }
  ]
}