{
  "nbformat": 4,
  "nbformat_minor": 0,
  "metadata": {
    "kernelspec": {
      "display_name": "Python 3",
      "language": "python",
      "name": "python3"
    },
    "language_info": {
      "codemirror_mode": {
        "name": "ipython",
        "version": 3
      },
      "file_extension": ".py",
      "mimetype": "text/x-python",
      "name": "python",
      "nbconvert_exporter": "python",
      "pygments_lexer": "ipython3",
      "version": "3.7.1"
    },
    "colab": {
      "name": "Ch09-클래스와객체지향프로그래밍.ipynb",
      "provenance": [],
      "collapsed_sections": [
        "bfPA0jPgz1a2",
        "OWqUlROCz1bI",
        "NSiu_HERz1bg",
        "WKaaGc36z1ck",
        "dMu_xzZ-zB3x",
        "Vj2ozIUEz1dt",
        "ZOBQtU4dz1d9"
      ],
      "include_colab_link": true
    }
  },
  "cells": [
    {
      "cell_type": "markdown",
      "metadata": {
        "id": "view-in-github",
        "colab_type": "text"
      },
      "source": [
        "<a href=\"https://colab.research.google.com/github/dongupak/Prime-Python/blob/master/jupyter-notebook/Ch09_%ED%81%B4%EB%9E%98%EC%8A%A4%EC%99%80%EA%B0%9D%EC%B2%B4%EC%A7%80%ED%96%A5%ED%94%84%EB%A1%9C%EA%B7%B8%EB%9E%98%EB%B0%8D.ipynb\" target=\"_parent\"><img src=\"https://colab.research.google.com/assets/colab-badge.svg\" alt=\"Open In Colab\"/></a>"
      ]
    },
    {
      "cell_type": "markdown",
      "metadata": {
        "id": "FNhLfY_1NpDd",
        "colab_type": "text"
      },
      "source": [
        "# **생능 출판사 \"으뜸 파이썬\"(1판) 교재의 소스 코드**\n",
        "# *9장 클래스와 객체지향프로그래밍*\n",
        "---\n",
        "* 출판사 : 생능 출판사( http://www.booksr.co.kr/ )\n",
        "* 으뜸 파이썬 저자 : 박동규, 강영민 \n",
        "* 소스코드 저장소 : https://github.com/dongupak/Prime-Python\n",
        "* 저작권 : 본 주피터 노트북 코드는 자유롭게 배포가능하지만 위의 출판사, 저서, 저자표기와 함께 배포해 주십시오.\n",
        "--- "
      ]
    },
    {
      "cell_type": "markdown",
      "metadata": {
        "id": "jw29WAIyz1aW",
        "colab_type": "text"
      },
      "source": [
        "## 대화창 실습 : animals 리스트 객체와 다양한 메소드"
      ]
    },
    {
      "cell_type": "code",
      "metadata": {
        "id": "UZ6-tDVoz1aZ",
        "colab_type": "code",
        "outputId": "ca32cd9b-8dd0-498c-ec4c-154c5f87a3d1",
        "colab": {
          "base_uri": "https://localhost:8080/",
          "height": 35
        }
      },
      "source": [
        "animals = ['lion', 'tiger', 'cat', 'dog']\n",
        "animals.sort()\n",
        "animals"
      ],
      "execution_count": 0,
      "outputs": [
        {
          "output_type": "execute_result",
          "data": {
            "text/plain": [
              "['cat', 'dog', 'lion', 'tiger']"
            ]
          },
          "metadata": {
            "tags": []
          },
          "execution_count": 1
        }
      ]
    },
    {
      "cell_type": "code",
      "metadata": {
        "id": "XuMTTrqpz1aj",
        "colab_type": "code",
        "outputId": "9050e8e9-9432-43d1-8028-9609f420939f",
        "colab": {
          "base_uri": "https://localhost:8080/",
          "height": 35
        }
      },
      "source": [
        "animals.append('rabbit')\n",
        "animals"
      ],
      "execution_count": 0,
      "outputs": [
        {
          "output_type": "execute_result",
          "data": {
            "text/plain": [
              "['cat', 'dog', 'lion', 'tiger', 'rabbit']"
            ]
          },
          "metadata": {
            "tags": []
          },
          "execution_count": 2
        }
      ]
    },
    {
      "cell_type": "code",
      "metadata": {
        "id": "XqWaL5JPz-QI",
        "colab_type": "code",
        "outputId": "e9ea8adb-a388-44ac-d1f9-d4d8b9a55d66",
        "colab": {
          "base_uri": "https://localhost:8080/",
          "height": 35
        }
      },
      "source": [
        "animals.reverse()\n",
        "animals"
      ],
      "execution_count": 0,
      "outputs": [
        {
          "output_type": "execute_result",
          "data": {
            "text/plain": [
              "['rabbit', 'tiger', 'lion', 'dog', 'cat']"
            ]
          },
          "metadata": {
            "tags": []
          },
          "execution_count": 3
        }
      ]
    },
    {
      "cell_type": "markdown",
      "metadata": {
        "id": "bfPA0jPgz1a2",
        "colab_type": "text"
      },
      "source": [
        "## 대화창 실습 : 리스트 객체의 pop() 메소드와 스트링 객체의 upper() 메소드"
      ]
    },
    {
      "cell_type": "code",
      "metadata": {
        "id": "P0FhZGsUz1a4",
        "colab_type": "code",
        "outputId": "6fc92882-e453-4ad8-ab9d-26389f33325e",
        "colab": {
          "base_uri": "https://localhost:8080/",
          "height": 35
        }
      },
      "source": [
        "s = animals.pop()\n",
        "s"
      ],
      "execution_count": 0,
      "outputs": [
        {
          "output_type": "execute_result",
          "data": {
            "text/plain": [
              "'cat'"
            ]
          },
          "metadata": {
            "tags": []
          },
          "execution_count": 4
        }
      ]
    },
    {
      "cell_type": "code",
      "metadata": {
        "id": "UN1gvVNUz1a9",
        "colab_type": "code",
        "outputId": "8206af1f-0bcf-4c79-ad04-d1a5e3bbdfd1",
        "colab": {
          "base_uri": "https://localhost:8080/",
          "height": 35
        }
      },
      "source": [
        "s.upper()"
      ],
      "execution_count": 0,
      "outputs": [
        {
          "output_type": "execute_result",
          "data": {
            "text/plain": [
              "'CAT'"
            ]
          },
          "metadata": {
            "tags": []
          },
          "execution_count": 5
        }
      ]
    },
    {
      "cell_type": "code",
      "metadata": {
        "id": "7wnUGmeTz1bD",
        "colab_type": "code",
        "outputId": "40aeee53-200e-46f3-ab41-99b817d38f80",
        "colab": {
          "base_uri": "https://localhost:8080/",
          "height": 35
        }
      },
      "source": [
        "s.find('a')"
      ],
      "execution_count": 0,
      "outputs": [
        {
          "output_type": "execute_result",
          "data": {
            "text/plain": [
              "1"
            ]
          },
          "metadata": {
            "tags": []
          },
          "execution_count": 6
        }
      ]
    },
    {
      "cell_type": "markdown",
      "metadata": {
        "id": "OWqUlROCz1bI",
        "colab_type": "text"
      },
      "source": [
        "## 대화창 실습 : type() 과 id() 함수"
      ]
    },
    {
      "cell_type": "code",
      "metadata": {
        "id": "AZok8olYz1bK",
        "colab_type": "code",
        "outputId": "fbcd0945-d6f2-4076-ff73-71508a95535d",
        "colab": {
          "base_uri": "https://localhost:8080/",
          "height": 35
        }
      },
      "source": [
        "animals = ['lion', 'tiger', 'cat', 'dog']\n",
        "type(animals)"
      ],
      "execution_count": 0,
      "outputs": [
        {
          "output_type": "execute_result",
          "data": {
            "text/plain": [
              "list"
            ]
          },
          "metadata": {
            "tags": []
          },
          "execution_count": 1
        }
      ]
    },
    {
      "cell_type": "code",
      "metadata": {
        "scrolled": true,
        "id": "YN8oufXWz1bP",
        "colab_type": "code",
        "outputId": "924a703e-115a-4658-cbdc-b2a550d7492f",
        "colab": {
          "base_uri": "https://localhost:8080/",
          "height": 34
        }
      },
      "source": [
        "id(animals)"
      ],
      "execution_count": 0,
      "outputs": [
        {
          "output_type": "execute_result",
          "data": {
            "text/plain": [
              "140674504711688"
            ]
          },
          "metadata": {
            "tags": []
          },
          "execution_count": 7
        }
      ]
    },
    {
      "cell_type": "code",
      "metadata": {
        "id": "cC3s2SCMz1bV",
        "colab_type": "code",
        "outputId": "41fed673-2020-4a13-9be3-1529da0140f6",
        "colab": {}
      },
      "source": [
        "s = 'tiger'\n",
        "type(s)"
      ],
      "execution_count": 0,
      "outputs": [
        {
          "output_type": "execute_result",
          "data": {
            "text/plain": [
              "str"
            ]
          },
          "metadata": {
            "tags": []
          },
          "execution_count": 28
        }
      ]
    },
    {
      "cell_type": "code",
      "metadata": {
        "id": "_n1gR1UAz1ba",
        "colab_type": "code",
        "outputId": "0fc940ca-988d-43fd-87cf-91a74692ec01",
        "colab": {}
      },
      "source": [
        "id(s)"
      ],
      "execution_count": 0,
      "outputs": [
        {
          "output_type": "execute_result",
          "data": {
            "text/plain": [
              "1701265598144"
            ]
          },
          "metadata": {
            "tags": []
          },
          "execution_count": 29
        }
      ]
    },
    {
      "cell_type": "markdown",
      "metadata": {
        "id": "NSiu_HERz1bg",
        "colab_type": "text"
      },
      "source": [
        "## 대화창 실습 : 정수형의 type과 id"
      ]
    },
    {
      "cell_type": "code",
      "metadata": {
        "id": "Ta1tMnG2z1bh",
        "colab_type": "code",
        "outputId": "e3332621-173f-486d-d4fa-b8dd495f49a8",
        "colab": {
          "base_uri": "https://localhost:8080/",
          "height": 36
        }
      },
      "source": [
        "n = 200\n",
        "type(n)  # n 객체의 자료형을 반환함"
      ],
      "execution_count": 0,
      "outputs": [
        {
          "output_type": "execute_result",
          "data": {
            "text/plain": [
              "int"
            ]
          },
          "metadata": {
            "tags": []
          },
          "execution_count": 2
        }
      ]
    },
    {
      "cell_type": "code",
      "metadata": {
        "id": "HtiH56tqz1bn",
        "colab_type": "code",
        "outputId": "61759e5a-f87a-4536-9219-bf4d2e5d556b",
        "colab": {
          "base_uri": "https://localhost:8080/",
          "height": 36
        }
      },
      "source": [
        "id(n)  # n 객체의 고유한 id를 반환함"
      ],
      "execution_count": 0,
      "outputs": [
        {
          "output_type": "execute_result",
          "data": {
            "text/plain": [
              "10975168"
            ]
          },
          "metadata": {
            "tags": []
          },
          "execution_count": 3
        }
      ]
    },
    {
      "cell_type": "code",
      "metadata": {
        "id": "3QVuy0yqdJVc",
        "colab_type": "code",
        "outputId": "6ec0e4a3-56d5-41fb-e28b-6398ce1cd06b",
        "colab": {
          "base_uri": "https://localhost:8080/",
          "height": 36
        }
      },
      "source": [
        "n + 100  # n 객체와 정수 100의 합을 연산함"
      ],
      "execution_count": 0,
      "outputs": [
        {
          "output_type": "execute_result",
          "data": {
            "text/plain": [
              "300"
            ]
          },
          "metadata": {
            "tags": []
          },
          "execution_count": 4
        }
      ]
    },
    {
      "cell_type": "code",
      "metadata": {
        "id": "3vonUD0nz1bs",
        "colab_type": "code",
        "outputId": "05e33e9c-1588-4217-dbc5-c22661199e97",
        "colab": {
          "base_uri": "https://localhost:8080/",
          "height": 36
        }
      },
      "source": [
        "n.__add__(100)  # n 객체와 정수 100의 합을 연산함(위의 +와 동일한 일을 함)"
      ],
      "execution_count": 0,
      "outputs": [
        {
          "output_type": "execute_result",
          "data": {
            "text/plain": [
              "300"
            ]
          },
          "metadata": {
            "tags": []
          },
          "execution_count": 5
        }
      ]
    },
    {
      "cell_type": "code",
      "metadata": {
        "id": "QJ8XTAMZdOG8",
        "colab_type": "code",
        "outputId": "2a201e17-6100-4021-b08c-1a3d9d6ddf43",
        "colab": {
          "base_uri": "https://localhost:8080/",
          "height": 36
        }
      },
      "source": [
        "200 + 100"
      ],
      "execution_count": 0,
      "outputs": [
        {
          "output_type": "execute_result",
          "data": {
            "text/plain": [
              "300"
            ]
          },
          "metadata": {
            "tags": []
          },
          "execution_count": 6
        }
      ]
    },
    {
      "cell_type": "code",
      "metadata": {
        "id": "nHkGuXQUz1by",
        "colab_type": "code",
        "outputId": "b468a654-b102-422a-dc73-120c65b34f40",
        "colab": {}
      },
      "source": [
        "(200).__add__(100)  # 위의 200 + 100 연산과 동일한 일을 함"
      ],
      "execution_count": 0,
      "outputs": [
        {
          "output_type": "execute_result",
          "data": {
            "text/plain": [
              "300"
            ]
          },
          "metadata": {
            "tags": []
          },
          "execution_count": 25
        }
      ]
    },
    {
      "cell_type": "markdown",
      "metadata": {
        "id": "E6cU7YiM-IkD",
        "colab_type": "text"
      },
      "source": [
        "# 코드 9-1 : Cat 클래스 정의와 객체 생성 문법\n",
        "## cat_pass.py"
      ]
    },
    {
      "cell_type": "code",
      "metadata": {
        "id": "OZmdKPgb-KsH",
        "colab_type": "code",
        "outputId": "529dce2b-e9f8-4a30-b0ff-9c8685a3701f",
        "colab": {
          "base_uri": "https://localhost:8080/",
          "height": 36
        }
      },
      "source": [
        "class Cat:    # Cat 클래스의 정의\n",
        "    pass\n",
        "\n",
        "nabi = Cat()  # Cat 인스턴스 생성\n",
        "print(nabi)"
      ],
      "execution_count": 0,
      "outputs": [
        {
          "output_type": "stream",
          "text": [
            "<__main__.Cat object at 0x7f78399e0eb8>\n"
          ],
          "name": "stdout"
        }
      ]
    },
    {
      "cell_type": "markdown",
      "metadata": {
        "id": "vWEkHvvCz1b7",
        "colab_type": "text"
      },
      "source": [
        "# 코드 9-2 : Cat 클래스 정의와 meow() 메소드\n",
        "## cat_class.py"
      ]
    },
    {
      "cell_type": "code",
      "metadata": {
        "id": "pbvb1KZ1z1b9",
        "colab_type": "code",
        "outputId": "2a15cf4e-e04b-4c9c-8ee7-eb2484ce4307",
        "colab": {
          "base_uri": "https://localhost:8080/",
          "height": 35
        }
      },
      "source": [
        "class Cat:\n",
        "    def meow(self):\n",
        "        print('야옹 야옹~~~')\n",
        "\n",
        "nabi = Cat()\n",
        "nabi.meow()"
      ],
      "execution_count": 0,
      "outputs": [
        {
          "output_type": "stream",
          "text": [
            "야옹 야옹~~~\n"
          ],
          "name": "stdout"
        }
      ]
    },
    {
      "cell_type": "markdown",
      "metadata": {
        "id": "IfVFGT5sz1cC",
        "colab_type": "text"
      },
      "source": [
        "# 코드 9-3 : Cat 클래스 정의와 여러 개의 객체 생성\n",
        "## many_cats.py"
      ]
    },
    {
      "cell_type": "code",
      "metadata": {
        "id": "xj-5tQbyz1cE",
        "colab_type": "code",
        "outputId": "33467a9d-41e2-41b5-fdb8-dc9b8e7e616e",
        "colab": {}
      },
      "source": [
        "class Cat:\n",
        "    def meow(self):\n",
        "        print('야옹 야옹~~~')\n",
        "\n",
        "nabi = Cat()\n",
        "nabi.meow()\n",
        "nero = Cat()\n",
        "nero.meow()\n",
        "mimi = Cat()\n",
        "mimi.meow()"
      ],
      "execution_count": 0,
      "outputs": [
        {
          "output_type": "stream",
          "text": [
            "야옹 야옹~~~\n",
            "야옹 야옹~~~\n",
            "야옹 야옹~~~\n"
          ],
          "name": "stdout"
        }
      ]
    },
    {
      "cell_type": "markdown",
      "metadata": {
        "id": "2aWc7ZlKz1cJ",
        "colab_type": "text"
      },
      "source": [
        "# 코드 9-4 : 생성자를 가진 Cat 클래스의 정의와 인스턴스 생성\n",
        "## init_cats.py"
      ]
    },
    {
      "cell_type": "code",
      "metadata": {
        "id": "u2-392SQz1cK",
        "colab_type": "code",
        "outputId": "b17021df-0262-42aa-9e54-b7f3d1e6a0a9",
        "colab": {
          "base_uri": "https://localhost:8080/",
          "height": 71
        }
      },
      "source": [
        "class Cat:\n",
        "    # 생성자 혹은 초기화 메소드라 한다\n",
        "    def __init__(self, name, color):\n",
        "        self.name = name    # name이라는 인스턴스 변수를 생성\n",
        "        self.color = color  # color라는 인스턴스 변수를 생성\n",
        "\n",
        "    # 고양이의 정보를 출력하는 메소드\n",
        "    def meow(self):\n",
        "        print('내 이름은 {}, 색깔은 {}, 야옹 야옹~~'.format(self.name, self.color))\n",
        "    \n",
        "nabi = Cat('나비', '검정색') # nabi 인스턴스 생성\n",
        "nero = Cat('네로', '흰색')  # nero 인스턴스 생성\n",
        "mimi = Cat('미미', '갈색')  # mini 인스턴스 생성\n",
        "\n",
        "nabi.meow()\n",
        "nero.meow()\n",
        "mimi.meow()"
      ],
      "execution_count": 0,
      "outputs": [
        {
          "output_type": "stream",
          "text": [
            "내 이름은 나비, 색깔은 검정색, 야옹 야옹~~\n",
            "내 이름은 네로, 색깔은 흰색, 야옹 야옹~~\n",
            "내 이름은 미미, 색깔은 갈색, 야옹 야옹~~\n"
          ],
          "name": "stdout"
        }
      ]
    },
    {
      "cell_type": "markdown",
      "metadata": {
        "id": "BhmGt03cz1cP",
        "colab_type": "text"
      },
      "source": [
        "# 코드 9-5 : `__str__` 메소드와 print() 함수에서 적용하기\n",
        "## str_cats.py"
      ]
    },
    {
      "cell_type": "code",
      "metadata": {
        "id": "bQf2t4bKz1cR",
        "colab_type": "code",
        "outputId": "b9f91f9e-92cf-43af-bc15-0365e6ed5217",
        "colab": {}
      },
      "source": [
        "class Cat:\n",
        "    def __init__(self, name, color):\n",
        "        self.name = name\n",
        "        self.color = color\n",
        "    \n",
        "    # Cat 객체의 문자열 표현방식\n",
        "    def __str__(self):\n",
        "        return 'Cat(name='+self.name+', color='+self.color+')'\n",
        "\n",
        "\n",
        "nabi = Cat('나비', '검정색') # nabi 인스턴스 생성\n",
        "nero = Cat('네로', '흰색')  # nero 인스턴스 생성\n",
        "\n",
        "print(nabi)\n",
        "print(nero)"
      ],
      "execution_count": 0,
      "outputs": [
        {
          "output_type": "stream",
          "text": [
            "Cat(name=나비, color=검정색)\n",
            "Cat(name=네로, color=흰색)\n"
          ],
          "name": "stdout"
        }
      ]
    },
    {
      "cell_type": "markdown",
      "metadata": {
        "id": "58-5ix1oIpq5",
        "colab_type": "text"
      },
      "source": [
        "# 코드 9-6 : nabi.age에 직접 값을 할당하기\n",
        "## cat_age_change.py"
      ]
    },
    {
      "cell_type": "code",
      "metadata": {
        "id": "d2SJoPbFznCc",
        "colab_type": "code",
        "outputId": "786cfac5-9131-4477-a784-97acebd2adea",
        "colab": {
          "base_uri": "https://localhost:8080/",
          "height": 52
        }
      },
      "source": [
        "class Cat:\n",
        "    def __init__(self, name, age):\n",
        "        self.name = name\n",
        "        self.age = age\n",
        "    \n",
        "    # Cat 객체의 문자열 표현방식\n",
        "    def __str__(self):\n",
        "        return 'Cat(name='+self.name+', age='+str(self.age)+')'\n",
        "\n",
        "\n",
        "nabi = Cat('나비', 3) # nabi 인스턴스 생성\n",
        "print(nabi)\n",
        "nabi.age = 4\n",
        "nabi.age = -5\n",
        "print(nabi)"
      ],
      "execution_count": 0,
      "outputs": [
        {
          "output_type": "stream",
          "text": [
            "Cat(name=나비, age=3)\n",
            "Cat(name=나비, age=-5)\n"
          ],
          "name": "stdout"
        }
      ]
    },
    {
      "cell_type": "markdown",
      "metadata": {
        "id": "xoSmlyRlIwJw",
        "colab_type": "text"
      },
      "source": [
        "# 코드 9-7 : set_age() 메소드를 통해서 age 값을 할당하기\n",
        "## cat_age_with_setter_getter.py"
      ]
    },
    {
      "cell_type": "code",
      "metadata": {
        "id": "aHAeDFdOt-CI",
        "colab_type": "code",
        "outputId": "e9b8ebb5-af2c-45e6-eb46-a98ebb83c037",
        "colab": {
          "base_uri": "https://localhost:8080/",
          "height": 52
        }
      },
      "source": [
        "class Cat:\n",
        "    def __init__(self, name, age):\n",
        "        self.__name = name\n",
        "        self.__age = age\n",
        "    \n",
        "    # Cat 객체의 문자열 표현방식\n",
        "    def __str__(self):\n",
        "        return 'Cat(name='+self.__name+', age='+str(self.__age)+')'\n",
        "\n",
        "    # self.__age를 외부에서 자유롭게 접근하는 것을 제한하고 음수가 되지 않도록 함\n",
        "    def set_age(self, age):  \n",
        "        if age > 0:\n",
        "            self.__age = age\n",
        "            \n",
        "    def get_age(self):\n",
        "        return self.__age\n",
        "\n",
        "nabi = Cat('나비', 3) # nabi 인스턴스 생성\n",
        "print(nabi)\n",
        "nabi.set_age(4)   # set_age() 메소드를 통해서 age에 접근\n",
        "nabi.set_age(-5)  # set_age() 메소드를 통해서 age가 음수가 되지 않도록 함\n",
        "print(nabi)"
      ],
      "execution_count": 0,
      "outputs": [
        {
          "output_type": "stream",
          "text": [
            "Cat(name=나비, age=3)\n",
            "Cat(name=나비, age=4)\n"
          ],
          "name": "stdout"
        }
      ]
    },
    {
      "cell_type": "markdown",
      "metadata": {
        "id": "rapZao6ez1cb",
        "colab_type": "text"
      },
      "source": [
        "# 코드 9-8 : 객체의 아이덴티티 연산자 : is, is not 연산자\n",
        "## is_test.py"
      ]
    },
    {
      "cell_type": "code",
      "metadata": {
        "id": "AOMOabzrz1ce",
        "colab_type": "code",
        "outputId": "d8c0bcf5-b0cd-49cd-c5d1-e1e54df43603",
        "colab": {
          "base_uri": "https://localhost:8080/",
          "height": 35
        }
      },
      "source": [
        "list_a = [10, 20, 30]\n",
        "list_b = [10, 20, 30]\n",
        "\n",
        "if list_a is list_b:\n",
        "    print('list_a is list_b')\n",
        "if  list_a is not list_b:\n",
        "    print('list_a is not list_b')"
      ],
      "execution_count": 0,
      "outputs": [
        {
          "output_type": "stream",
          "text": [
            "list_a is not list_b\n"
          ],
          "name": "stdout"
        }
      ]
    },
    {
      "cell_type": "markdown",
      "metadata": {
        "id": "WKaaGc36z1ck",
        "colab_type": "text"
      },
      "source": [
        "# 코드 9-9 : 두 개의 리스트와 == 연산\n",
        "## equal_test.py"
      ]
    },
    {
      "cell_type": "code",
      "metadata": {
        "id": "EUwDf9l8z1cm",
        "colab_type": "code",
        "outputId": "9975c024-0e46-4f5c-d33e-712a4ceeee72",
        "colab": {
          "base_uri": "https://localhost:8080/",
          "height": 35
        }
      },
      "source": [
        "list_a = [10, 20, 30]\n",
        "list_b = [10, 20, 30]\n",
        "\n",
        "if list_a == list_b:\n",
        "    print('list_a == list_b')\n",
        "else:\n",
        "    print('list_a != list_b')"
      ],
      "execution_count": 0,
      "outputs": [
        {
          "output_type": "stream",
          "text": [
            "list_a == list_b\n"
          ],
          "name": "stdout"
        }
      ]
    },
    {
      "cell_type": "markdown",
      "metadata": {
        "id": "av_U0HuiDWD0",
        "colab_type": "text"
      },
      "source": [
        "## Test this code"
      ]
    },
    {
      "cell_type": "code",
      "metadata": {
        "id": "FQuIOmkpDYLT",
        "colab_type": "code",
        "outputId": "539b556d-7083-4433-96ab-36d8d1b2f531",
        "colab": {
          "base_uri": "https://localhost:8080/",
          "height": 54
        }
      },
      "source": [
        "a_str = 'ABC'\n",
        "b_str = 'ABC'\n",
        "\n",
        "if a_str is b_str:\n",
        "    print('a_str is b_str')\n",
        "else:\n",
        "    print('a_str is not b_str')\n",
        "\n",
        "print('id(a_str) =', id(a_str), 'id(b_str) =', id(b_str),)"
      ],
      "execution_count": 0,
      "outputs": [
        {
          "output_type": "stream",
          "text": [
            "a_str is b_str\n",
            "id(a_str) = 140363089306600 id(b_str) = 140363089306600\n"
          ],
          "name": "stdout"
        }
      ]
    },
    {
      "cell_type": "code",
      "metadata": {
        "id": "9IkmfkLqDr4L",
        "colab_type": "code",
        "outputId": "c0331ee7-2192-47e1-9440-c6189d4a4c45",
        "colab": {
          "base_uri": "https://localhost:8080/",
          "height": 35
        }
      },
      "source": [
        "a_str = 'ABC'\n",
        "b_str = 'ABC'\n",
        "\n",
        "if a_str == b_str:\n",
        "    print('a_str == b_str')\n",
        "else:\n",
        "    print('a_str != b_str')"
      ],
      "execution_count": 0,
      "outputs": [
        {
          "output_type": "stream",
          "text": [
            "a_str == b_str\n"
          ],
          "name": "stdout"
        }
      ]
    },
    {
      "cell_type": "markdown",
      "metadata": {
        "colab_type": "text",
        "id": "dMu_xzZ-zB3x"
      },
      "source": [
        "# 코드 9-10 : 두 개의 문자열 참조변수와 is, is not 연산\n",
        "## equal_string_test.py"
      ]
    },
    {
      "cell_type": "code",
      "metadata": {
        "colab_type": "code",
        "outputId": "d02f6bea-43a6-4b6c-f113-b4d5d34ce7e2",
        "id": "Wr834tqgzB3z",
        "colab": {
          "base_uri": "https://localhost:8080/",
          "height": 35
        }
      },
      "source": [
        "a = 'ABC' # 문자열 객체를 참조하는 변수 a\n",
        "b = 'ABC' # 문자열 객체를 참조하는 변수 b\n",
        "if a is b: # 문자열 객체 a, b가 같은가 비교\n",
        " print('a is b') # 문자열 객체 a, b는 같은 객체를 참조함\n",
        "else:\n",
        " print('a is not b')"
      ],
      "execution_count": 0,
      "outputs": [
        {
          "output_type": "stream",
          "text": [
            "a is b\n"
          ],
          "name": "stdout"
        }
      ]
    },
    {
      "cell_type": "markdown",
      "metadata": {
        "id": "s0pOXgjkz1cr",
        "colab_type": "text"
      },
      "source": [
        "# 코드 9-11 : 사용자 정의 Vector2D 클래스와 + 연산\n",
        "## vector2d_error.py"
      ]
    },
    {
      "cell_type": "code",
      "metadata": {
        "id": "sOaYlgvJz1cs",
        "colab_type": "code",
        "outputId": "f36b2d8b-5461-4c3d-f31c-333a80295279",
        "colab": {}
      },
      "source": [
        "class Vector2D:\n",
        "    def __init__(self, x, y):\n",
        "        self.x = x\n",
        "        self.y = y\n",
        "\n",
        "v1 = Vector2D(30, 40)\n",
        "v2 = Vector2D(10, 20)\n",
        "\n",
        "v3 = v1 + v2  # Vector2D의 + 연산이 정의되지 않았다\n",
        "print('v1 + v2 = ',v3)"
      ],
      "execution_count": 0,
      "outputs": [
        {
          "output_type": "error",
          "ename": "TypeError",
          "evalue": "unsupported operand type(s) for +: 'Vector2D' and 'Vector2D'",
          "traceback": [
            "\u001b[1;31m---------------------------------------------------------------------------\u001b[0m",
            "\u001b[1;31mTypeError\u001b[0m                                 Traceback (most recent call last)",
            "\u001b[1;32m<ipython-input-41-6a6a433e1973>\u001b[0m in \u001b[0;36m<module>\u001b[1;34m\u001b[0m\n\u001b[0;32m      7\u001b[0m \u001b[0mv2\u001b[0m \u001b[1;33m=\u001b[0m \u001b[0mVector2D\u001b[0m\u001b[1;33m(\u001b[0m\u001b[1;36m10\u001b[0m\u001b[1;33m,\u001b[0m \u001b[1;36m20\u001b[0m\u001b[1;33m)\u001b[0m\u001b[1;33m\u001b[0m\u001b[1;33m\u001b[0m\u001b[0m\n\u001b[0;32m      8\u001b[0m \u001b[1;33m\u001b[0m\u001b[0m\n\u001b[1;32m----> 9\u001b[1;33m \u001b[0mv3\u001b[0m \u001b[1;33m=\u001b[0m \u001b[0mv1\u001b[0m \u001b[1;33m+\u001b[0m \u001b[0mv2\u001b[0m  \u001b[1;31m# Vector2D의 + 연산이 정의되지 않았다\u001b[0m\u001b[1;33m\u001b[0m\u001b[1;33m\u001b[0m\u001b[0m\n\u001b[0m\u001b[0;32m     10\u001b[0m \u001b[0mprint\u001b[0m\u001b[1;33m(\u001b[0m\u001b[1;34m'v1 + v2 = '\u001b[0m\u001b[1;33m,\u001b[0m\u001b[0mv3\u001b[0m\u001b[1;33m)\u001b[0m\u001b[1;33m\u001b[0m\u001b[1;33m\u001b[0m\u001b[0m\n",
            "\u001b[1;31mTypeError\u001b[0m: unsupported operand type(s) for +: 'Vector2D' and 'Vector2D'"
          ]
        }
      ]
    },
    {
      "cell_type": "code",
      "metadata": {
        "id": "e8soAol9zPK3",
        "colab_type": "code",
        "colab": {}
      },
      "source": [
        ""
      ],
      "execution_count": 0,
      "outputs": []
    },
    {
      "cell_type": "markdown",
      "metadata": {
        "id": "eryKcN7_z1cx",
        "colab_type": "text"
      },
      "source": [
        "# 코드 9-12 : add() 메소드를 이용한 벡터의 덧셈\n",
        "## vector_add.py"
      ]
    },
    {
      "cell_type": "code",
      "metadata": {
        "id": "gOnSpu8nz1cy",
        "colab_type": "code",
        "outputId": "8f900954-3930-4e37-9574-c741fc02bf54",
        "colab": {}
      },
      "source": [
        "class Vector2D:\n",
        "    def __init__(self, x, y):\n",
        "        self.x = x\n",
        "        self.y = y\n",
        "        \n",
        "    def __str__(self):\n",
        "        return \"({}, {})\".format(self.x, self.y)\n",
        "    \n",
        "    def add(self, other_vec):\n",
        "        return Vector2D(self.x + other_vec.x, self.y + other_vec.y)\n",
        "\n",
        "v1 = Vector2D(30, 40)\n",
        "v2 = Vector2D(10, 20)\n",
        "\n",
        "v3 = v1.add(v2)  # Vector2D의 add() 메소드 사용\n",
        "print('v1.add(v2) = ',v3)"
      ],
      "execution_count": 0,
      "outputs": [
        {
          "output_type": "stream",
          "text": [
            "v1.add(v2) =  (40, 60)\n"
          ],
          "name": "stdout"
        }
      ]
    },
    {
      "cell_type": "markdown",
      "metadata": {
        "id": "Tt2LiBFZz1c3",
        "colab_type": "text"
      },
      "source": [
        "# 코드 9-13 : `__add__, __sub__, __str__` 특수 메소드와 연산자의 관계\n",
        "## vector2d_add_sub.py"
      ]
    },
    {
      "cell_type": "code",
      "metadata": {
        "id": "aEgo8Pkiz1c4",
        "colab_type": "code",
        "outputId": "f9e272b2-53cf-46f4-9bb7-4e63e07b82b7",
        "colab": {
          "base_uri": "https://localhost:8080/",
          "height": 52
        }
      },
      "source": [
        "class Vector2D:\n",
        "    def __init__(self, x, y):\n",
        "        self.x = x\n",
        "        self.y = y\n",
        "\n",
        "    def __add__(self, other_vec):\n",
        "        return Vector2D(self.x + other_vec.x, self.y + other_vec.y)\n",
        "\n",
        "    def __sub__(self, other_vec):\n",
        "        return Vector2D(self.x - other_vec.x, self.y - other_vec.y)\n",
        "\n",
        "    def __str__(self):\n",
        "        return \"({}, {})\".format(self.x, self.y)\n",
        "\n",
        "v1 = Vector2D(30, 40)\n",
        "v2 = Vector2D(10, 20)\n",
        "\n",
        "v3 = v1 + v2\n",
        "print('v1 + v2 =',v3)\n",
        "v4 = v1 - v2\n",
        "print('v1 - v2 =',v4)"
      ],
      "execution_count": 0,
      "outputs": [
        {
          "output_type": "stream",
          "text": [
            "v1 + v2 = (40, 60)\n",
            "v1 - v2 = (20, 20)\n"
          ],
          "name": "stdout"
        }
      ]
    },
    {
      "cell_type": "markdown",
      "metadata": {
        "id": "wOJnvVbHz1c9",
        "colab_type": "text"
      },
      "source": [
        "# 코드 9-14 : Circle 인스턴스와 속성 PI\n",
        "## circle_instance_var.py"
      ]
    },
    {
      "cell_type": "code",
      "metadata": {
        "id": "OpF6TpoOz1c-",
        "colab_type": "code",
        "outputId": "1ab99d25-e113-43a2-9e2c-e1ab14bee21e",
        "colab": {
          "base_uri": "https://localhost:8080/",
          "height": 70
        }
      },
      "source": [
        "class Circle:\n",
        "    def __init__(self, name, radius, PI):\n",
        "        self.__name = name      # 인스턴스 변수\n",
        "        self.__radius = radius  # 인스턴스 변수\n",
        "        self.__PI = PI          # 인스턴스 변수\n",
        "\n",
        "    #  현재 인스턴스의 PI에 반지름**2 을 곱하여 면적을 구함\n",
        "    def area(self):\n",
        "        return self.__PI * self.__radius ** 2\n",
        "\n",
        "\n",
        "c1 = Circle(\"C1\", 4, 3.14)\n",
        "print(\"c1의 면적:\", c1.area())\n",
        "c2 = Circle(\"C2\", 6, 3.141)\n",
        "print(\"c2의 면적:\", c2.area())\n",
        "c3 = Circle(\"C3\", 5, 3.1415)\n",
        "print(\"c3의 면적:\", c3.area())"
      ],
      "execution_count": 0,
      "outputs": [
        {
          "output_type": "stream",
          "text": [
            "c1의 면적: 50.24\n",
            "c2의 면적: 113.076\n",
            "c3의 면적: 78.53750000000001\n"
          ],
          "name": "stdout"
        }
      ]
    },
    {
      "cell_type": "markdown",
      "metadata": {
        "id": "SCHfI7p2z1dK",
        "colab_type": "text"
      },
      "source": [
        "# 코드 9-15 : Circle 인스턴스와 클래스 변수 PI\n",
        "## circle_class_var.py"
      ]
    },
    {
      "cell_type": "code",
      "metadata": {
        "id": "lzC6buYhz1dL",
        "colab_type": "code",
        "outputId": "658d5150-61c6-45ec-e2d5-10fb7d12baa4",
        "colab": {
          "base_uri": "https://localhost:8080/",
          "height": 70
        }
      },
      "source": [
        "class Circle:\n",
        "    PI = 3.1415   # 클래스 변수\n",
        "    def __init__(self, name, radius):\n",
        "        self.__name = name      # 인스턴스 변수\n",
        "        self.__radius = radius  # 인스턴스 변수\n",
        "\n",
        "    # Circle 클래스의 변수 PI를 이용하여 면적을 구함\n",
        "    def area(self):\n",
        "        return Circle.PI * self.__radius ** 2\n",
        "\n",
        "\n",
        "c1 = Circle(\"C1\", 4)\n",
        "print(\"c1의 면적:\", c1.area())\n",
        "c2 = Circle(\"C2\", 6)\n",
        "print(\"c2의 면적:\", c2.area())\n",
        "c3 = Circle(\"C3\", 5)\n",
        "print(\"c3의 면적:\", c3.area())"
      ],
      "execution_count": 0,
      "outputs": [
        {
          "output_type": "stream",
          "text": [
            "c1의 면적: 50.264\n",
            "c2의 면적: 113.09400000000001\n",
            "c3의 면적: 78.53750000000001\n"
          ],
          "name": "stdout"
        }
      ]
    },
    {
      "cell_type": "markdown",
      "metadata": {
        "id": "dx21Gn1iz1dR",
        "colab_type": "text"
      },
      "source": [
        "# 코드 9-16 : `__dict__` 속성을 이용한 인스턴스 변수와 값 알아보기\n",
        "## circle_dict.py"
      ]
    },
    {
      "cell_type": "code",
      "metadata": {
        "id": "2O_W7B4IXdvJ",
        "colab_type": "code",
        "outputId": "5e7aaebf-00c6-4155-a605-4550803f49b4",
        "colab": {
          "base_uri": "https://localhost:8080/",
          "height": 70
        }
      },
      "source": [
        "class Circle:\n",
        "    PI = 3.14\n",
        "    def __init__(self, name, radius):\n",
        "        self.name = name\n",
        "        self.radius = radius\n",
        "\n",
        "c1 = Circle(\"C1\",4)\n",
        "print(\"c1의 속성들:\", c1.__dict__)\n",
        "# __dic__[key] 형식으로 value를 얻을 수 있음\n",
        "print(\"c1의 name 변수값:\", c1.__dict__['name'])\n",
        "print(\"c1의 radius 변수값:\", c1.__dict__['radius'])"
      ],
      "execution_count": 0,
      "outputs": [
        {
          "output_type": "stream",
          "text": [
            "c1의 속성들: {'name': 'C1', 'radius': 4}\n",
            "c1의 name 변수값: C1\n",
            "c1의 radius 변수값: 4\n"
          ],
          "name": "stdout"
        }
      ]
    },
    {
      "cell_type": "markdown",
      "metadata": {
        "id": "T_Ed4xQoXzSy",
        "colab_type": "text"
      },
      "source": [
        "# 코드 9-17 : 언더스코어로 시작하는 인스턴스 변수의 값 알아보기\n",
        "## circle_dict_with_underscore.py"
      ]
    },
    {
      "cell_type": "code",
      "metadata": {
        "id": "OwpVUpRcz1dT",
        "colab_type": "code",
        "outputId": "3eaf700d-4d0c-401c-b2df-9ec6050018ed",
        "colab": {
          "base_uri": "https://localhost:8080/",
          "height": 70
        }
      },
      "source": [
        "class Circle:\n",
        "    PI = 3.14\n",
        "    def __init__(self, name, radius):\n",
        "        self.__name = name\n",
        "        self.__radius = radius\n",
        "\n",
        "c1 = Circle(\"C1\",4)\n",
        "print(\"c1의 속성들:\", c1.__dict__)\n",
        "\n",
        "# __dic__[key] 형식으로 value를 얻을 수 있음\n",
        "print(\"c1의 __name 변수값:\", c1.__dict__['_Circle__name'])\n",
        "print(\"c1의 __radius 변수값:\", c1.__dict__['_Circle__radius'])"
      ],
      "execution_count": 0,
      "outputs": [
        {
          "output_type": "stream",
          "text": [
            "c1의 속성들: {'_Circle__name': 'C1', '_Circle__radius': 4}\n",
            "c1의 __name 변수값: C1\n",
            "c1의 __radius 변수값: 4\n"
          ],
          "name": "stdout"
        }
      ]
    },
    {
      "cell_type": "markdown",
      "metadata": {
        "id": "ZBG1Aj6qz1dX",
        "colab_type": "text"
      },
      "source": [
        "## 대화창 실습 : n = 100의 할당 연산과 객체의 id 값"
      ]
    },
    {
      "cell_type": "code",
      "metadata": {
        "id": "VP3e2sqZz1da",
        "colab_type": "code",
        "outputId": "2f5eeeb7-9389-40fa-c9cc-214382fad5bc",
        "colab": {}
      },
      "source": [
        "n = 100\n",
        "id(100)"
      ],
      "execution_count": 0,
      "outputs": [
        {
          "output_type": "execute_result",
          "data": {
            "text/plain": [
              "140723669147552"
            ]
          },
          "metadata": {
            "tags": []
          },
          "execution_count": 50
        }
      ]
    },
    {
      "cell_type": "code",
      "metadata": {
        "id": "ioCnH0Iaz1de",
        "colab_type": "code",
        "outputId": "081bd8e6-87d1-4fc1-b277-d9674bdb096c",
        "colab": {}
      },
      "source": [
        "id(n)"
      ],
      "execution_count": 0,
      "outputs": [
        {
          "output_type": "execute_result",
          "data": {
            "text/plain": [
              "140723669147552"
            ]
          },
          "metadata": {
            "tags": []
          },
          "execution_count": 49
        }
      ]
    },
    {
      "cell_type": "markdown",
      "metadata": {
        "id": "27OemkJ6z1dj",
        "colab_type": "text"
      },
      "source": [
        "## 대화창 실습 : 할당 연산자를 통한 참조와 m = n 연산자를 이용한 재참조"
      ]
    },
    {
      "cell_type": "code",
      "metadata": {
        "id": "rO5QfMt9z1dk",
        "colab_type": "code",
        "outputId": "f0ded761-7e68-4278-fe69-481d5087dafb",
        "colab": {
          "base_uri": "https://localhost:8080/",
          "height": 36
        }
      },
      "source": [
        "n = 100\n",
        "m = n\n",
        "id(n)"
      ],
      "execution_count": 0,
      "outputs": [
        {
          "output_type": "execute_result",
          "data": {
            "text/plain": [
              "10971968"
            ]
          },
          "metadata": {
            "tags": []
          },
          "execution_count": 1
        }
      ]
    },
    {
      "cell_type": "code",
      "metadata": {
        "id": "dLLSqPuzz1do",
        "colab_type": "code",
        "outputId": "00900f35-ceb1-40ee-ae02-55dac9b73d80",
        "colab": {
          "base_uri": "https://localhost:8080/",
          "height": 36
        }
      },
      "source": [
        "id(m)"
      ],
      "execution_count": 0,
      "outputs": [
        {
          "output_type": "execute_result",
          "data": {
            "text/plain": [
              "10971968"
            ]
          },
          "metadata": {
            "tags": []
          },
          "execution_count": 2
        }
      ]
    },
    {
      "cell_type": "markdown",
      "metadata": {
        "id": "Vj2ozIUEz1dt",
        "colab_type": "text"
      },
      "source": [
        "## 대화창 실습 : 할당 연산자를 통한 참조와 n = 200 연산자를 이용한 재참조"
      ]
    },
    {
      "cell_type": "code",
      "metadata": {
        "id": "4IVp2P67z1dv",
        "colab_type": "code",
        "outputId": "56a8e3bf-c759-41c1-c66e-9b9a1526d352",
        "colab": {
          "base_uri": "https://localhost:8080/",
          "height": 36
        }
      },
      "source": [
        "n = 100\n",
        "m = n\n",
        "n = 200\n",
        "id(n)"
      ],
      "execution_count": 0,
      "outputs": [
        {
          "output_type": "execute_result",
          "data": {
            "text/plain": [
              "10975168"
            ]
          },
          "metadata": {
            "tags": []
          },
          "execution_count": 4
        }
      ]
    },
    {
      "cell_type": "code",
      "metadata": {
        "id": "TLprPWkLz1d1",
        "colab_type": "code",
        "outputId": "60cbfcc6-7cba-4bd6-9b36-a85f091f5b90",
        "colab": {
          "base_uri": "https://localhost:8080/",
          "height": 36
        }
      },
      "source": [
        "id(m)"
      ],
      "execution_count": 0,
      "outputs": [
        {
          "output_type": "execute_result",
          "data": {
            "text/plain": [
              "10971968"
            ]
          },
          "metadata": {
            "tags": []
          },
          "execution_count": 5
        }
      ]
    },
    {
      "cell_type": "markdown",
      "metadata": {
        "id": "ZOBQtU4dz1d9",
        "colab_type": "text"
      },
      "source": [
        "## 대화창 실습 : n = n + 1 연산과 객체의 id 값의 변화"
      ]
    },
    {
      "cell_type": "code",
      "metadata": {
        "id": "wAKSZO2sz1d_",
        "colab_type": "code",
        "outputId": "252dbe16-09ee-40b6-bb1d-45f342c7fa3e",
        "colab": {
          "base_uri": "https://localhost:8080/",
          "height": 36
        }
      },
      "source": [
        "n = 100\n",
        "id(n)"
      ],
      "execution_count": 0,
      "outputs": [
        {
          "output_type": "execute_result",
          "data": {
            "text/plain": [
              "10971968"
            ]
          },
          "metadata": {
            "tags": []
          },
          "execution_count": 9
        }
      ]
    },
    {
      "cell_type": "code",
      "metadata": {
        "id": "D3EMnegAz1eD",
        "colab_type": "code",
        "outputId": "fa47310b-276c-4f71-9ef3-2155f598f0a5",
        "colab": {
          "base_uri": "https://localhost:8080/",
          "height": 36
        }
      },
      "source": [
        "n = n + 1\n",
        "id(n)"
      ],
      "execution_count": 0,
      "outputs": [
        {
          "output_type": "execute_result",
          "data": {
            "text/plain": [
              "10972000"
            ]
          },
          "metadata": {
            "tags": []
          },
          "execution_count": 10
        }
      ]
    },
    {
      "cell_type": "markdown",
      "metadata": {
        "id": "2uMERReLY31g",
        "colab_type": "text"
      },
      "source": [
        "\n",
        "\n",
        "---\n",
        "\n",
        "---"
      ]
    },
    {
      "cell_type": "markdown",
      "metadata": {
        "id": "keeiel_8z1e8",
        "colab_type": "text"
      },
      "source": [
        "# 이 밑으로는 책 순서와 무관한 코드\n",
        "\n",
        "## 리스트 객체의 메소드를 이용하여 객체와 메소드를 이해해 봅시다"
      ]
    },
    {
      "cell_type": "code",
      "metadata": {
        "id": "RIZ_WVCgz1e9",
        "colab_type": "code",
        "outputId": "5de32978-577a-4d77-8997-f935a89da553",
        "colab": {}
      },
      "source": [
        "animals = [\"lion\", \"tiger\", \"cat\", \"dog\"]\n",
        "animals.sort()\n",
        "print(animals)"
      ],
      "execution_count": 0,
      "outputs": [
        {
          "output_type": "stream",
          "text": [
            "['cat', 'dog', 'lion', 'tiger']\n"
          ],
          "name": "stdout"
        }
      ]
    },
    {
      "cell_type": "markdown",
      "metadata": {
        "id": "gYCM7CZvz1fB",
        "colab_type": "text"
      },
      "source": [
        "## animals라는 객체에 append()라는 메소드를 이용하여 'rabbit'을 추가해 봅시다"
      ]
    },
    {
      "cell_type": "code",
      "metadata": {
        "id": "y8GsF9uDz1fC",
        "colab_type": "code",
        "outputId": "0f482bae-30e7-4361-e4a4-b5a5f3259815",
        "colab": {}
      },
      "source": [
        "animals.append('rabbit')\n",
        "print(animals)"
      ],
      "execution_count": 0,
      "outputs": [
        {
          "output_type": "stream",
          "text": [
            "['cat', 'dog', 'lion', 'tiger', 'rabbit']\n"
          ],
          "name": "stdout"
        }
      ]
    },
    {
      "cell_type": "code",
      "metadata": {
        "id": "NgOLKUA4z1fG",
        "colab_type": "code",
        "outputId": "f6b8be86-93bb-4852-adcb-a50d10501600",
        "colab": {}
      },
      "source": [
        "animals.reverse()\n",
        "animals"
      ],
      "execution_count": 0,
      "outputs": [
        {
          "output_type": "execute_result",
          "data": {
            "text/plain": [
              "['rabbit', 'tiger', 'lion', 'dog', 'cat']"
            ]
          },
          "metadata": {
            "tags": []
          },
          "execution_count": 37
        }
      ]
    },
    {
      "cell_type": "code",
      "metadata": {
        "id": "y8lMSNcyz1fJ",
        "colab_type": "code",
        "outputId": "424b90c2-db0c-42c0-95a3-5b9385a28684",
        "colab": {}
      },
      "source": [
        "s = animals.pop()\n",
        "s"
      ],
      "execution_count": 0,
      "outputs": [
        {
          "output_type": "execute_result",
          "data": {
            "text/plain": [
              "'cat'"
            ]
          },
          "metadata": {
            "tags": []
          },
          "execution_count": 38
        }
      ]
    },
    {
      "cell_type": "code",
      "metadata": {
        "id": "wgz8iX_Dz1fM",
        "colab_type": "code",
        "outputId": "4652bd98-87c9-48df-fdd1-8c470563a3b9",
        "colab": {}
      },
      "source": [
        "s.upper()"
      ],
      "execution_count": 0,
      "outputs": [
        {
          "output_type": "execute_result",
          "data": {
            "text/plain": [
              "'CAT'"
            ]
          },
          "metadata": {
            "tags": []
          },
          "execution_count": 39
        }
      ]
    },
    {
      "cell_type": "code",
      "metadata": {
        "id": "a4WTVTD2z1fQ",
        "colab_type": "code",
        "outputId": "c486133e-547a-47b4-a560-2d7bf500bdcd",
        "colab": {}
      },
      "source": [
        "s.find('a')"
      ],
      "execution_count": 0,
      "outputs": [
        {
          "output_type": "execute_result",
          "data": {
            "text/plain": [
              "1"
            ]
          },
          "metadata": {
            "tags": []
          },
          "execution_count": 41
        }
      ]
    },
    {
      "cell_type": "markdown",
      "metadata": {
        "id": "62HhRpsgz1fT",
        "colab_type": "text"
      },
      "source": [
        "## 스트링 객체를 만들고 메소드를 호출해 봅니다\n",
        "## upper() 메소드"
      ]
    },
    {
      "cell_type": "code",
      "metadata": {
        "id": "Hn63ZfkGz1fU",
        "colab_type": "code",
        "outputId": "ec934542-04be-49c3-e8f5-e78e43c62155",
        "colab": {}
      },
      "source": [
        "s = 'hello'\n",
        "s.upper()"
      ],
      "execution_count": 0,
      "outputs": [
        {
          "output_type": "execute_result",
          "data": {
            "text/plain": [
              "'HELLO'"
            ]
          },
          "metadata": {
            "tags": []
          },
          "execution_count": 42
        }
      ]
    },
    {
      "cell_type": "code",
      "metadata": {
        "id": "9t_fRTSQz1fb",
        "colab_type": "code",
        "outputId": "02db49c6-bdcb-4e25-9614-b6f297171633",
        "colab": {}
      },
      "source": [
        "s.find('o')"
      ],
      "execution_count": 0,
      "outputs": [
        {
          "output_type": "execute_result",
          "data": {
            "text/plain": [
              "4"
            ]
          },
          "metadata": {
            "tags": []
          },
          "execution_count": 43
        }
      ]
    },
    {
      "cell_type": "code",
      "metadata": {
        "id": "nbvXAXKFz1fe",
        "colab_type": "code",
        "outputId": "4ff8a8ec-cccd-483f-9361-ab0f08b6ae0d",
        "colab": {}
      },
      "source": [
        "type(s)"
      ],
      "execution_count": 0,
      "outputs": [
        {
          "output_type": "execute_result",
          "data": {
            "text/plain": [
              "str"
            ]
          },
          "metadata": {
            "tags": []
          },
          "execution_count": 44
        }
      ]
    },
    {
      "cell_type": "code",
      "metadata": {
        "id": "uT-yrOi7z1fi",
        "colab_type": "code",
        "outputId": "308274e6-b7c1-4d02-b0be-f4018936abfa",
        "colab": {}
      },
      "source": [
        "n = 200\n",
        "type(n)"
      ],
      "execution_count": 0,
      "outputs": [
        {
          "output_type": "execute_result",
          "data": {
            "text/plain": [
              "int"
            ]
          },
          "metadata": {
            "tags": []
          },
          "execution_count": 45
        }
      ]
    },
    {
      "cell_type": "code",
      "metadata": {
        "id": "UzLwEivMz1fo",
        "colab_type": "code",
        "outputId": "49d9ed60-6d0e-4f1e-f3ff-b61045317497",
        "colab": {}
      },
      "source": [
        "id(s)"
      ],
      "execution_count": 0,
      "outputs": [
        {
          "output_type": "execute_result",
          "data": {
            "text/plain": [
              "80317328"
            ]
          },
          "metadata": {
            "tags": []
          },
          "execution_count": 46
        }
      ]
    },
    {
      "cell_type": "code",
      "metadata": {
        "id": "MmnhXiJrz1fr",
        "colab_type": "code",
        "outputId": "72e8e025-c251-44b2-df07-4a8b52f8b0e1",
        "colab": {}
      },
      "source": [
        "n.__add__(100)"
      ],
      "execution_count": 0,
      "outputs": [
        {
          "output_type": "execute_result",
          "data": {
            "text/plain": [
              "300"
            ]
          },
          "metadata": {
            "tags": []
          },
          "execution_count": 48
        }
      ]
    },
    {
      "cell_type": "code",
      "metadata": {
        "id": "dQ_cN6h8z1fv",
        "colab_type": "code",
        "outputId": "b88fc196-f42f-4bfd-9090-108a8d75bc7f",
        "colab": {}
      },
      "source": [
        "(200).__add__(100)"
      ],
      "execution_count": 0,
      "outputs": [
        {
          "output_type": "execute_result",
          "data": {
            "text/plain": [
              "300"
            ]
          },
          "metadata": {
            "tags": []
          },
          "execution_count": 50
        }
      ]
    },
    {
      "cell_type": "code",
      "metadata": {
        "id": "ivVn-0uvz1fz",
        "colab_type": "code",
        "outputId": "02ced08d-a85a-40f9-86b4-78e313878e5a",
        "colab": {}
      },
      "source": [
        "class Cat:\n",
        "    def meow(self):\n",
        "        print('야옹 야옹~~~')\n",
        "\n",
        "nabi = Cat()\n",
        "nabi.meow()"
      ],
      "execution_count": 0,
      "outputs": [
        {
          "output_type": "stream",
          "text": [
            "나비가 야옹 야옹~~~\n"
          ],
          "name": "stdout"
        }
      ]
    },
    {
      "cell_type": "code",
      "metadata": {
        "id": "3eoDhi-Rz1f8",
        "colab_type": "code",
        "outputId": "a7beace5-18ae-44bc-d0bf-a47b1391d50b",
        "colab": {}
      },
      "source": [
        "class Cat:\n",
        "    def meow(self):\n",
        "        print('야옹 야옹~~~')\n",
        "\n",
        "cat1 = Cat()\n",
        "cat1.meow()\n",
        "cat2 = Cat()\n",
        "cat2.meow()\n",
        "cat3 = Cat()\n",
        "cat3.meow()"
      ],
      "execution_count": 0,
      "outputs": [
        {
          "output_type": "stream",
          "text": [
            "야옹 야옹~~~\n",
            "야옹 야옹~~~\n",
            "야옹 야옹~~~\n"
          ],
          "name": "stdout"
        }
      ]
    },
    {
      "cell_type": "code",
      "metadata": {
        "id": "ocrBuWlxz1f_",
        "colab_type": "code",
        "outputId": "f0c9eb5b-361d-4605-be3b-f31f07cf8294",
        "colab": {}
      },
      "source": [
        "class Cat:\n",
        "    def info(self):  # info() 메소드nb\n",
        "        self.name = '나비'  # 인스턴스 변수 name 생성\n",
        "        self.color = '검정색'  # 인스턴스 변수 color\n",
        "        print('고양이 이름은', self.name, '색깔은', self.color)\n",
        "\n",
        "cat = Cat()  # 인스턴스 생성\n",
        "cat.info()  # 인스턴스의 메소드 실행"
      ],
      "execution_count": 0,
      "outputs": [
        {
          "output_type": "stream",
          "text": [
            "고양이 이름은 나비 색깔은 검정색\n"
          ],
          "name": "stdout"
        }
      ]
    },
    {
      "cell_type": "code",
      "metadata": {
        "id": "wKdYQzxnz1gC",
        "colab_type": "code",
        "outputId": "f96ae0f2-5cdf-4b13-e17a-8a277852264c",
        "colab": {}
      },
      "source": [
        "class Cat:\n",
        "    def info(self):  # info() 메소드\n",
        "        self.name = '나비'  # 인스턴스 변수 name 생성\n",
        "        self.color = '검정색'  # 인스턴스 변수 color\n",
        "        print('고양이 이름은', self.name, '색깔은', self.color)\n",
        "\n",
        "nabi = Cat()  # 인스턴스 생성\n",
        "nabi.info()  # 인스턴스의 메소드 실행"
      ],
      "execution_count": 0,
      "outputs": [
        {
          "output_type": "stream",
          "text": [
            "고양이 이름은 나비 색깔은 검정색\n"
          ],
          "name": "stdout"
        }
      ]
    },
    {
      "cell_type": "code",
      "metadata": {
        "id": "VmcHgTAXz1gH",
        "colab_type": "code",
        "outputId": "e67f402a-ba32-42e7-cfb4-f33b95a70a0f",
        "colab": {}
      },
      "source": [
        "class Cat:\n",
        "    def info(self):  # info() 메소드\n",
        "        self.name = '나비'  # 인스턴스 변수 name 생성\n",
        "        self.color = '검정색'  # 인스턴스 변수 color\n",
        "        print('고양이 이름은 {} 색깔은 {}'.format(self.name, self.color))\n",
        "\n",
        "nabi = Cat()  # 인스턴스 생성\n",
        "nabi.info()  # 인스턴스의 메소드 실행\n",
        "nero = Cat()  # 인스턴스 생성\n",
        "nero.info()  # 인스턴스의 메소드 실행\n",
        "mimi = Cat()  # 인스턴스 생성\n",
        "mimi.info()  # 인스턴스의 메소드 실행"
      ],
      "execution_count": 0,
      "outputs": [
        {
          "output_type": "stream",
          "text": [
            "고양이 이름은 나비 색깔은 검정색\n",
            "고양이 이름은 나비 색깔은 검정색\n",
            "고양이 이름은 나비 색깔은 검정색\n"
          ],
          "name": "stdout"
        }
      ]
    },
    {
      "cell_type": "code",
      "metadata": {
        "id": "uK7uV2iIz1gN",
        "colab_type": "code",
        "outputId": "82986064-7737-4aaf-e8f3-8acf984c2259",
        "colab": {}
      },
      "source": [
        "class Cat:\n",
        "    # 생성자 혹은 초기화 메소드라 한다\n",
        "    def __init__(self, name, color='흰색'):\n",
        "        self.name = name\n",
        "        self.color = color\n",
        "\n",
        "    # 고양이의 정보를 출력하는 메소드\n",
        "    def meow(self):\n",
        "        print('내이름은 {}, 색깔은 {}, 야옹 야옹~~'.format(self.name, self.color))\n",
        "    \n",
        "nabi = Cat('나비', '검정색') # nabi 인스턴스 생성\n",
        "nero = Cat('네로', '흰색')  # nero 인스턴스 생성\n",
        "mimi = Cat('미미', '갈색')  # mini 인스턴스 생성\n",
        "\n",
        "nabi.meow()\n",
        "nero.meow()\n",
        "mimi.meow()"
      ],
      "execution_count": 0,
      "outputs": [
        {
          "output_type": "stream",
          "text": [
            "내이름은 나비, 색깔은 검정색, 야옹 야옹~~\n",
            "내이름은 네로, 색깔은 흰색, 야옹 야옹~~\n",
            "내이름은 미미, 색깔은 갈색, 야옹 야옹~~\n"
          ],
          "name": "stdout"
        }
      ]
    },
    {
      "cell_type": "code",
      "metadata": {
        "id": "2UTht0lpz1gQ",
        "colab_type": "code",
        "outputId": "08362b67-90f2-4765-cc73-253fda5c7723",
        "colab": {}
      },
      "source": [
        "print(nabi)"
      ],
      "execution_count": 0,
      "outputs": [
        {
          "output_type": "stream",
          "text": [
            "<__main__.Cat object at 0x0000000004CDD2E8>\n"
          ],
          "name": "stdout"
        }
      ]
    },
    {
      "cell_type": "code",
      "metadata": {
        "id": "fvB0FoJ8z1gT",
        "colab_type": "code",
        "outputId": "613dd4cb-364a-449f-f0a1-c46e8b82b11a",
        "colab": {}
      },
      "source": [
        "class Cat:\n",
        "    def __init__(self, name, color):\n",
        "        self.name = name\n",
        "        self.color = color\n",
        "        \n",
        "    # Cat 객체의 문자열 표현방식    \n",
        "    def __str__(self):\n",
        "        return 'Cat(name='+self.name+', color='+self.color+')'\n",
        "\n",
        "\n",
        "nabi = Cat('나비', '검정색') # nabi 인스턴스 생성\n",
        "nero = Cat('네로', '흰색')  # nero 인스턴스 생성\n",
        "\n",
        "print(nabi)\n",
        "print(nero)"
      ],
      "execution_count": 0,
      "outputs": [
        {
          "output_type": "stream",
          "text": [
            "Cat(name=나비, color=검정색)\n",
            "Cat(name=네로, color=흰색)\n"
          ],
          "name": "stdout"
        }
      ]
    },
    {
      "cell_type": "code",
      "metadata": {
        "id": "OPvMhmd2z1gW",
        "colab_type": "code",
        "outputId": "5669733c-c238-47ed-b1a7-ba5a0a8791b2",
        "colab": {}
      },
      "source": [
        "print('nabi의 정보 {}'.format(nabi))"
      ],
      "execution_count": 0,
      "outputs": [
        {
          "output_type": "stream",
          "text": [
            "nabi의 정보 Cat(name=나비, color=검정색)\n"
          ],
          "name": "stdout"
        }
      ]
    },
    {
      "cell_type": "code",
      "metadata": {
        "id": "jvUWHhiHz1gc",
        "colab_type": "code",
        "outputId": "6182f7a5-c6d3-4b72-97ea-7411101d0c53",
        "colab": {
          "base_uri": "https://localhost:8080/",
          "height": 34
        }
      },
      "source": [
        "list_a = [10, 20, 30]\n",
        "list_b = [10, 20, 30]\n",
        "\n",
        "if list_a is list_b:\n",
        "    print('list_a is list_b')\n",
        "if  list_a is not list_b:\n",
        "    print('list_a is not list_b')\n"
      ],
      "execution_count": 0,
      "outputs": [
        {
          "output_type": "stream",
          "text": [
            "list_a is not list_b\n"
          ],
          "name": "stdout"
        }
      ]
    },
    {
      "cell_type": "code",
      "metadata": {
        "id": "-BAJQrVBz1gg",
        "colab_type": "code",
        "outputId": "69152b6b-5040-4687-a301-1a6fbdc80ef3",
        "colab": {
          "base_uri": "https://localhost:8080/",
          "height": 34
        }
      },
      "source": [
        "print('id(list_a) =',id(list_a), ', id(list_b) = ', id(list_b))"
      ],
      "execution_count": 0,
      "outputs": [
        {
          "output_type": "stream",
          "text": [
            "id(list_a) = 140669518308232 , id(list_b) =  140669518309320\n"
          ],
          "name": "stdout"
        }
      ]
    },
    {
      "cell_type": "code",
      "metadata": {
        "id": "Av4zzAGmz1gl",
        "colab_type": "code",
        "outputId": "76cb23ad-bf7c-4472-e6cf-8bb6fab20ee6",
        "colab": {}
      },
      "source": [
        "list_a = [10, 20, 30]\n",
        "list_b = [10, 20, 30]\n",
        "\n",
        "if list_a == list_b:\n",
        "    print('list_a == list_b')\n",
        "else:\n",
        "    print('list_a != list_b')\n"
      ],
      "execution_count": 0,
      "outputs": [
        {
          "output_type": "stream",
          "text": [
            "list_a == list_b\n"
          ],
          "name": "stdout"
        }
      ]
    },
    {
      "cell_type": "code",
      "metadata": {
        "id": "70fqCu8xz1gn",
        "colab_type": "code",
        "outputId": "c32770ff-1c6b-49f2-a214-977d3a96fdcc",
        "colab": {}
      },
      "source": [
        "class Vector2D:\n",
        "    def __init__(self, x, y):\n",
        "        self.x = x\n",
        "        self.y = y\n",
        "\n",
        "v1 = Vector2D(30, 40)\n",
        "v2 = Vector2D(10, 20)\n",
        "\n",
        "v3 = v1 + v2  # Vector2D의 + 연산이 정의되지 않았다\n",
        "print('v1 + v2 = ',v3)"
      ],
      "execution_count": 0,
      "outputs": [
        {
          "output_type": "error",
          "ename": "TypeError",
          "evalue": "unsupported operand type(s) for +: 'Vector2D' and 'Vector2D'",
          "traceback": [
            "\u001b[1;31m---------------------------------------------------------------------------\u001b[0m",
            "\u001b[1;31mTypeError\u001b[0m                                 Traceback (most recent call last)",
            "\u001b[1;32m<ipython-input-117-6a6a433e1973>\u001b[0m in \u001b[0;36m<module>\u001b[1;34m\u001b[0m\n\u001b[0;32m      7\u001b[0m \u001b[0mv2\u001b[0m \u001b[1;33m=\u001b[0m \u001b[0mVector2D\u001b[0m\u001b[1;33m(\u001b[0m\u001b[1;36m10\u001b[0m\u001b[1;33m,\u001b[0m \u001b[1;36m20\u001b[0m\u001b[1;33m)\u001b[0m\u001b[1;33m\u001b[0m\u001b[1;33m\u001b[0m\u001b[0m\n\u001b[0;32m      8\u001b[0m \u001b[1;33m\u001b[0m\u001b[0m\n\u001b[1;32m----> 9\u001b[1;33m \u001b[0mv3\u001b[0m \u001b[1;33m=\u001b[0m \u001b[0mv1\u001b[0m \u001b[1;33m+\u001b[0m \u001b[0mv2\u001b[0m  \u001b[1;31m# Vector2D의 + 연산이 정의되지 않았다\u001b[0m\u001b[1;33m\u001b[0m\u001b[1;33m\u001b[0m\u001b[0m\n\u001b[0m\u001b[0;32m     10\u001b[0m \u001b[0mprint\u001b[0m\u001b[1;33m(\u001b[0m\u001b[1;34m'v1 + v2 = '\u001b[0m\u001b[1;33m,\u001b[0m\u001b[0mv3\u001b[0m\u001b[1;33m)\u001b[0m\u001b[1;33m\u001b[0m\u001b[1;33m\u001b[0m\u001b[0m\n",
            "\u001b[1;31mTypeError\u001b[0m: unsupported operand type(s) for +: 'Vector2D' and 'Vector2D'"
          ]
        }
      ]
    },
    {
      "cell_type": "code",
      "metadata": {
        "id": "G4XN2G12z1gr",
        "colab_type": "code",
        "outputId": "728e9801-920a-454c-85ac-fc40dc4458f4",
        "colab": {}
      },
      "source": [
        "class Vector2D:\n",
        "    def __init__(self, x, y):\n",
        "        self.x = x\n",
        "        self.y = y\n",
        "        \n",
        "    def __str__(self):\n",
        "        return \"({}, {})\".format(self.x, self.y)\n",
        "    \n",
        "    def add(self, other_vec):\n",
        "        return Vector2D(self.x + other_vec.x, self.y + other_vec.y)\n",
        "\n",
        "v1 = Vector2D(30, 40)\n",
        "v2 = Vector2D(10, 20)\n",
        "\n",
        "v3 = v1.add(v2)  # Vector2D의 add() 메소드 사용\n",
        "print('v1.add(v2) = ',v3)"
      ],
      "execution_count": 0,
      "outputs": [
        {
          "output_type": "stream",
          "text": [
            "v1.add(v2) =  (40, 60)\n"
          ],
          "name": "stdout"
        }
      ]
    },
    {
      "cell_type": "code",
      "metadata": {
        "id": "5WHIA9I9z1gv",
        "colab_type": "code",
        "outputId": "9e7bd7ce-82cd-4c7a-e2af-9173c59ac1f7",
        "colab": {}
      },
      "source": [
        "class Vector2D:\n",
        "    def __init__(self, x, y):\n",
        "        self.x = x\n",
        "        self.y = y\n",
        "\n",
        "    def __add__(self, other_vec):\n",
        "        return Vector2D(self.x + other_vec.x, self.y + other_vec.y)\n",
        "\n",
        "    def __sub__(self, other_vec):\n",
        "        return Vector2D(self.x - other_vec.x, self.y - other_vec.y)\n",
        "\n",
        "    def __str__(self):\n",
        "        return \"({}, {})\".format(self.x, self.y)\n",
        "\n",
        "v1 = Vector2D(30, 40)\n",
        "v2 = Vector2D(10, 20)\n",
        "\n",
        "v3 = v1 + v2\n",
        "print('v1 + v2 = ',v3)\n",
        "v4 = v1 - v2\n",
        "print('v1 - v2 = ',v4)"
      ],
      "execution_count": 0,
      "outputs": [
        {
          "output_type": "stream",
          "text": [
            "v1 + v2 =  (40, 60)\n",
            "v1 - v2 =  (20, 20)\n"
          ],
          "name": "stdout"
        }
      ]
    },
    {
      "cell_type": "code",
      "metadata": {
        "id": "UhW8f-u1z1gy",
        "colab_type": "code",
        "outputId": "e15aba75-30b0-4f61-b98e-27097f4eff0b",
        "colab": {}
      },
      "source": [
        "class Circle:\n",
        "    def __init__(self, name, radius, PI):\n",
        "        self.name = name\n",
        "        self.radius = radius\n",
        "        self.PI = PI\n",
        "\n",
        "    #  현재 인스턴스의 PI에 반지름**2 을 곱하여 면적을 구함\n",
        "    def area(self):\n",
        "        return self.PI * self.radius ** 2\n",
        "\n",
        "\n",
        "c1 = Circle(\"C1\", 4, 3.14)\n",
        "print(\"c1의 면적:\",c1.area())\n",
        "c2 = Circle(\"C2\", 6, 3.141)\n",
        "print(\"c2의 면적:\",c2.area())\n",
        "c3 = Circle(\"C3\", 5, 3.1415)\n",
        "print(\"c3의 면적:\",c3.area())"
      ],
      "execution_count": 0,
      "outputs": [
        {
          "output_type": "stream",
          "text": [
            "c1의 면적: 50.24\n",
            "c2의 면적: 113.076\n",
            "c3의 면적: 78.53750000000001\n"
          ],
          "name": "stdout"
        }
      ]
    },
    {
      "cell_type": "code",
      "metadata": {
        "id": "DpCOguxaz1g3",
        "colab_type": "code",
        "outputId": "dbb74c1e-ac67-4cfd-893a-44257dbf00fd",
        "colab": {}
      },
      "source": [
        "class Circle:\n",
        "    PI = 3.1415 # 클래스 변수\n",
        "    def __init__(self, name, radius):\n",
        "        self.name = name\n",
        "        self.radius = radius\n",
        "\n",
        "    # Circle 클래스의 변수 PI를 이용하여 면적을 구함\n",
        "    def area(self):\n",
        "        return Circle.PI * self.radius ** 2\n",
        "\n",
        "\n",
        "c1 = Circle(\"C1\", 4)\n",
        "print(\"c1의 면적:\", c1.area())\n",
        "c2 = Circle(\"C2\", 6)\n",
        "print(\"c2의 면적:\", c2.area())\n",
        "c3 = Circle(\"C3\", 5)\n",
        "print(\"c3의 면적:\", c3.area())"
      ],
      "execution_count": 0,
      "outputs": [
        {
          "output_type": "stream",
          "text": [
            "c1의 면적: 50.264\n",
            "c2의 면적: 113.09400000000001\n",
            "c3의 면적: 78.53750000000001\n"
          ],
          "name": "stdout"
        }
      ]
    },
    {
      "cell_type": "code",
      "metadata": {
        "id": "rBe0N_HTz1g7",
        "colab_type": "code",
        "outputId": "724a6a1f-8a41-4c61-92cc-d93e3755deee",
        "colab": {}
      },
      "source": [
        "class Circle:\n",
        "    PI = 3.14\n",
        "    def __init__(self, name, radius):\n",
        "        self.name = name\n",
        "        self.radius = radius\n",
        "\n",
        "    # Circle 클래스의 변수 PI를 이용하여 면적을 구함\n",
        "    def area(self):\n",
        "        return Circle.PI * self.radius ** 2\n",
        "\n",
        "c1 = Circle(\"C1\",4)\n",
        "print(\"c1의 속성들:\", c1.__dict__)\n",
        "# __dic__[key] 형식으로 value를 얻을 수 있음\n",
        "print(\"c1의 name 변수값:\", c1.__dict__['name'])\n",
        "print(\"c1의 radius 변수값:\", c1.__dict__['radius'])"
      ],
      "execution_count": 0,
      "outputs": [
        {
          "output_type": "stream",
          "text": [
            "c1의 속성들: {'name': 'C1', 'radius': 4}\n",
            "c1의 name 변수값: C1\n",
            "c1의 radius 변수값: 4\n"
          ],
          "name": "stdout"
        }
      ]
    },
    {
      "cell_type": "markdown",
      "metadata": {
        "id": "j8bTh3ELz1g9",
        "colab_type": "text"
      },
      "source": [
        "## 파이썬 객체, 변수, 변경가능속성등"
      ]
    },
    {
      "cell_type": "code",
      "metadata": {
        "id": "CgqOMLYQz1g-",
        "colab_type": "code",
        "outputId": "4e40b69c-b340-4351-c039-80311fa6fd8d",
        "colab": {}
      },
      "source": [
        "nums = [1, 2, 3, 4]\n",
        "other = nums\n",
        "nums.append(4)\n",
        "print(other)"
      ],
      "execution_count": 0,
      "outputs": [
        {
          "output_type": "stream",
          "text": [
            "[1, 2, 3, 4, 4]\n"
          ],
          "name": "stdout"
        }
      ]
    },
    {
      "cell_type": "code",
      "metadata": {
        "id": "JunVTi-Jz1hE",
        "colab_type": "code",
        "colab": {}
      },
      "source": [
        ""
      ],
      "execution_count": 0,
      "outputs": []
    },
    {
      "cell_type": "code",
      "metadata": {
        "id": "t7xVqA98z1hG",
        "colab_type": "code",
        "outputId": "08ca452e-0168-45a5-debe-f088ffc18aeb",
        "colab": {}
      },
      "source": [
        "other.append(5)\n",
        "print(nums)"
      ],
      "execution_count": 0,
      "outputs": [
        {
          "output_type": "stream",
          "text": [
            "[1, 2, 3, 4, 4, 5]\n"
          ],
          "name": "stdout"
        }
      ]
    },
    {
      "cell_type": "code",
      "metadata": {
        "id": "NdYODdDuz1hJ",
        "colab_type": "code",
        "outputId": "cba07416-4454-4403-de4e-ef35099d152b",
        "colab": {}
      },
      "source": [
        "x = 'hello'\n",
        "print(id(x))\n",
        "y = x\n",
        "x = x + ' there'\n",
        "print(id(y))\n",
        "print(id(x))\n",
        "print(x)"
      ],
      "execution_count": 0,
      "outputs": [
        {
          "output_type": "stream",
          "text": [
            "84238040\n",
            "84238040\n",
            "83762096\n",
            "hello there\n"
          ],
          "name": "stdout"
        }
      ]
    },
    {
      "cell_type": "code",
      "metadata": {
        "scrolled": true,
        "id": "j3FIoDiHz1hL",
        "colab_type": "code",
        "outputId": "f5d404a1-c075-488f-f9d3-5936c3c0c0db",
        "colab": {}
      },
      "source": [
        "print(y)"
      ],
      "execution_count": 0,
      "outputs": [
        {
          "output_type": "stream",
          "text": [
            "hello\n"
          ],
          "name": "stdout"
        }
      ]
    },
    {
      "cell_type": "markdown",
      "metadata": {
        "id": "1mFY3eeMz1hQ",
        "colab_type": "text"
      },
      "source": [
        "## int, flots, str, tuple 은 immutable"
      ]
    },
    {
      "cell_type": "code",
      "metadata": {
        "id": "CH_1LVUTz1hQ",
        "colab_type": "code",
        "outputId": "5e19898e-cd98-4486-8582-223f50832096",
        "colab": {}
      },
      "source": [
        "y = y + ' everyone'\n",
        "y"
      ],
      "execution_count": 0,
      "outputs": [
        {
          "output_type": "execute_result",
          "data": {
            "text/plain": [
              "'hello everyone'"
            ]
          },
          "metadata": {
            "tags": []
          },
          "execution_count": 5
        }
      ]
    },
    {
      "cell_type": "code",
      "metadata": {
        "id": "py6zIWoHz1hT",
        "colab_type": "code",
        "outputId": "c3fe6a41-6bf9-47bc-c255-187b13c8c9ab",
        "colab": {}
      },
      "source": [
        "x = 100      # int는 immutable\n",
        "print(id(x))\n",
        "x = x + 1\n",
        "print(id(x))\n",
        "print(x)"
      ],
      "execution_count": 0,
      "outputs": [
        {
          "output_type": "stream",
          "text": [
            "8791103946672\n",
            "8791103946704\n",
            "101\n"
          ],
          "name": "stdout"
        }
      ]
    },
    {
      "cell_type": "code",
      "metadata": {
        "id": "wAmn4-4Jz1hX",
        "colab_type": "code",
        "outputId": "4fbacbf8-726b-4e6e-9887-e1efb7a44175",
        "colab": {}
      },
      "source": [
        "print(id(nums))"
      ],
      "execution_count": 0,
      "outputs": [
        {
          "output_type": "stream",
          "text": [
            "80892424\n"
          ],
          "name": "stdout"
        }
      ]
    },
    {
      "cell_type": "code",
      "metadata": {
        "id": "rjCgLOosz1hb",
        "colab_type": "code",
        "outputId": "49fe0f28-0887-4614-ebe7-f1e608e3a261",
        "colab": {}
      },
      "source": [
        "nums.append(7)   # 리스트는 mutable\n",
        "print(id(nums))"
      ],
      "execution_count": 0,
      "outputs": [
        {
          "output_type": "stream",
          "text": [
            "80892424\n"
          ],
          "name": "stdout"
        }
      ]
    },
    {
      "cell_type": "markdown",
      "metadata": {
        "id": "8jz3b4xoz1he",
        "colab_type": "text"
      },
      "source": [
        "## 이 경우는 rebind됨"
      ]
    },
    {
      "cell_type": "code",
      "metadata": {
        "id": "OWhVU9tOz1he",
        "colab_type": "code",
        "outputId": "434ce88c-d93e-45d6-bcf0-a370bd14313a",
        "colab": {}
      },
      "source": [
        "nums = nums + [7]\n",
        "print(id(nums))"
      ],
      "execution_count": 0,
      "outputs": [
        {
          "output_type": "stream",
          "text": [
            "83962376\n"
          ],
          "name": "stdout"
        }
      ]
    },
    {
      "cell_type": "code",
      "metadata": {
        "id": "0e-FCx59z1hh",
        "colab_type": "code",
        "outputId": "95bb003c-4739-4b62-f0c2-024d02ecb2ca",
        "colab": {}
      },
      "source": [
        "x = 100\n",
        "y = 200\n",
        "print(id(x))\n",
        "x += y\n",
        "print(id(x))\n",
        "x = x + y\n",
        "print(id(x))\n",
        "x = x.__add__(y)\n",
        "print(id(x))"
      ],
      "execution_count": 0,
      "outputs": [
        {
          "output_type": "stream",
          "text": [
            "8791103946672\n",
            "83735632\n",
            "83736080\n",
            "83735632\n"
          ],
          "name": "stdout"
        }
      ]
    },
    {
      "cell_type": "markdown",
      "metadata": {
        "id": "td8Ngwvyz1hk",
        "colab_type": "text"
      },
      "source": [
        "## 동일한 객체의 mutable 행위가 발생"
      ]
    },
    {
      "cell_type": "code",
      "metadata": {
        "id": "IiPfrVW3z1hl",
        "colab_type": "code",
        "outputId": "ccd7af13-6641-40e0-97df-a1019c87b2f3",
        "colab": {}
      },
      "source": [
        "x = [100]\n",
        "y = [200]\n",
        "print('x= ',x,' id =', id(x))\n",
        "x += y   # extend() 와 동일힌 동장\n",
        "print('x= ',x,' id =', id(x))\n",
        "x += y  # extend() 와 동일힌 동장\n",
        "print('x= ',x,' id =', id(x))\n",
        "x.append(300)\n",
        "print('x= ',x,' id =', id(x))\n",
        "x.extend([300])\n",
        "print('x= ',x,' id =', id(x))"
      ],
      "execution_count": 0,
      "outputs": [
        {
          "output_type": "stream",
          "text": [
            "x=  [100]  id = 83961800\n",
            "x=  [100, 200]  id = 83961800\n",
            "x=  [100, 200, 200]  id = 83961800\n",
            "x=  [100, 200, 200, 300]  id = 83961800\n",
            "x=  [100, 200, 200, 300, 300]  id = 83961800\n"
          ],
          "name": "stdout"
        }
      ]
    },
    {
      "cell_type": "markdown",
      "metadata": {
        "id": "FDtnPZIYz1hn",
        "colab_type": "text"
      },
      "source": [
        "## 새 객체에 재 할당됨"
      ]
    },
    {
      "cell_type": "code",
      "metadata": {
        "id": "HZAznIZdz1ho",
        "colab_type": "code",
        "outputId": "b508ca2d-17b1-4d77-a5de-7be185e77111",
        "colab": {}
      },
      "source": [
        "x = [100]\n",
        "y = [200]\n",
        "print('x= ',x,' id =', id(x))\n",
        "x = x + y\n",
        "print('x= ',x,' id =', id(x))\n",
        "x = x + y\n",
        "print('x= ',x,' id =', id(x))"
      ],
      "execution_count": 0,
      "outputs": [
        {
          "output_type": "stream",
          "text": [
            "x=  [100]  id = 84565704\n",
            "x=  [100, 200]  id = 84460360\n",
            "x=  [100, 200, 200]  id = 84565704\n"
          ],
          "name": "stdout"
        }
      ]
    },
    {
      "cell_type": "code",
      "metadata": {
        "id": "6EDoCzOrz1hq",
        "colab_type": "code",
        "outputId": "1ffe4114-1428-42a4-fc2b-f81e7311d19b",
        "colab": {}
      },
      "source": [
        "print('x= ',x,' id =', id(x))\n",
        "x = x\n",
        "print('x= ',x,' id =', id(x))"
      ],
      "execution_count": 0,
      "outputs": [
        {
          "output_type": "stream",
          "text": [
            "x=  [100, 200, 200, 300, 300]  id = 83961800\n",
            "x=  [100, 200, 200, 300, 300]  id = 83961800\n"
          ],
          "name": "stdout"
        }
      ]
    },
    {
      "cell_type": "code",
      "metadata": {
        "id": "GWPhXm47z1ht",
        "colab_type": "code",
        "colab": {}
      },
      "source": [
        "## Loop like a Naive"
      ],
      "execution_count": 0,
      "outputs": []
    },
    {
      "cell_type": "code",
      "metadata": {
        "id": "SK4uprpRz1hv",
        "colab_type": "code",
        "outputId": "d444fa0f-4f96-4261-9cab-fe6ad36dbfbe",
        "colab": {}
      },
      "source": [
        "nums = [1, 2, 3]\n",
        "for x in nums:\n",
        "    x = x + 10\n",
        "    \n",
        "print(nums)"
      ],
      "execution_count": 0,
      "outputs": [
        {
          "output_type": "stream",
          "text": [
            "[1, 2, 3]\n"
          ],
          "name": "stdout"
        }
      ]
    },
    {
      "cell_type": "code",
      "metadata": {
        "id": "cuDyXW1Vz1h0",
        "colab_type": "code",
        "colab": {}
      },
      "source": [
        ""
      ],
      "execution_count": 0,
      "outputs": []
    }
  ]
}