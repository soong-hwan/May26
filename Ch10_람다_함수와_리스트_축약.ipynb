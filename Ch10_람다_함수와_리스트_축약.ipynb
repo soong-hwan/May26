{
 "cells": [
  {
   "cell_type": "markdown",
   "metadata": {
    "colab_type": "text",
    "id": "view-in-github"
   },
   "source": [
    "<a href=\"https://colab.research.google.com/github/dongupak/Prime-Python/blob/master/jupyter-notebook/Ch10_%EB%9E%8C%EB%8B%A4_%ED%95%A8%EC%88%98%EC%99%80_%EB%A6%AC%EC%8A%A4%ED%8A%B8_%EC%B6%95%EC%95%BD.ipynb\" target=\"_parent\"><img src=\"https://colab.research.google.com/assets/colab-badge.svg\" alt=\"Open In Colab\"/></a>"
   ]
  },
  {
   "cell_type": "markdown",
   "metadata": {
    "colab_type": "text",
    "id": "0d3kSZ1ioPVb"
   },
   "source": [
    "# **생능 출판사 \"으뜸 파이썬\"(1판) 교재의 소스 코드**\n",
    "## *10장 람다함수와 리스트 축악*\n",
    "\n",
    "---\n",
    "* 출판사 : 생능 출판사( http://www.booksr.co.kr/ )\n",
    "* 으뜸 파이썬 저자 : 박동규, 강영민 \n",
    "* 소스코드 저장소 : https://github.com/dongupak/Prime-Python\n",
    "* 저작권 : 본 주피터 노트북 코드는 학습을 위한 목적으로 자유롭게 배포가능하지만 위의 출판사, 저서, 저자표기와 함께 배포해 주십시오.\n",
    "---\n"
   ]
  },
  {
   "cell_type": "markdown",
   "metadata": {
    "colab_type": "text",
    "id": "SnivUISnQQ9M"
   },
   "source": [
    "# 코드 10-1 : add() 함수를 이용한 정수의 덧셈과 결과 반환\n",
    "## function_add.py"
   ]
  },
  {
   "cell_type": "code",
   "execution_count": 0,
   "metadata": {
    "colab": {
     "base_uri": "https://localhost:8080/",
     "height": 34
    },
    "colab_type": "code",
    "id": "7X4IOlFTQQ9O",
    "outputId": "20b014b3-4a0f-4d86-c879-04ca444401a5"
   },
   "outputs": [
    {
     "name": "stdout",
     "output_type": "stream",
     "text": [
      "100과 200의 합 : 300\n"
     ]
    }
   ],
   "source": [
    "# add() 함수를 이용한 덧셈\n",
    "def add(x, y):\n",
    "    return x + y\n",
    "    \n",
    "print('100과 200의 합 :', add(100, 200))"
   ]
  },
  {
   "cell_type": "markdown",
   "metadata": {
    "colab_type": "text",
    "id": "vL1W5nSOQQ9U"
   },
   "source": [
    "# 코드 10-2 : 람다 함수를 정의하고 add라는 변수를 통해 참조하기\n",
    "## lambda_add.py"
   ]
  },
  {
   "cell_type": "code",
   "execution_count": 0,
   "metadata": {
    "colab": {
     "base_uri": "https://localhost:8080/",
     "height": 34
    },
    "colab_type": "code",
    "id": "xj_-uBkBQQ9V",
    "outputId": "f80e71cf-4f8d-4c3c-efd1-63088e6676ea"
   },
   "outputs": [
    {
     "name": "stdout",
     "output_type": "stream",
     "text": [
      "100과 200의 합 : 300\n"
     ]
    }
   ],
   "source": [
    "# 람다 함수를 이용한 덧셈\n",
    "add = lambda x, y: x + y   \n",
    "print('100과 200의 합 :', add(100, 200))"
   ]
  },
  {
   "cell_type": "markdown",
   "metadata": {
    "colab_type": "text",
    "id": "mTrRb6haQQ9Z"
   },
   "source": [
    "# 코드 10-3 : 인라인 람다 함수와 인자를 이용한 덧셈\n",
    "## inline_lambda_add.py"
   ]
  },
  {
   "cell_type": "code",
   "execution_count": 0,
   "metadata": {
    "colab": {
     "base_uri": "https://localhost:8080/",
     "height": 34
    },
    "colab_type": "code",
    "id": "kWHEgqmKQQ9a",
    "outputId": "398f45a6-689f-4639-94ac-f539dd32227d"
   },
   "outputs": [
    {
     "name": "stdout",
     "output_type": "stream",
     "text": [
      "100과 200의 합 : 300\n"
     ]
    }
   ],
   "source": [
    "print('100과 200의 합 :', (lambda x, y: x + y)(100, 200))"
   ]
  },
  {
   "cell_type": "markdown",
   "metadata": {
    "colab_type": "text",
    "id": "TjnVdmRMQQ9d"
   },
   "source": [
    "# 코드 10-4 : 19이상의 값을 반환하는 adult_func() 함수와 필터함수의 적용\n",
    "## age_filter.py"
   ]
  },
  {
   "cell_type": "code",
   "execution_count": 0,
   "metadata": {
    "colab": {
     "base_uri": "https://localhost:8080/",
     "height": 52
    },
    "colab_type": "code",
    "id": "YJYgrtHqQQ9e",
    "outputId": "3852664a-6424-4b66-9aee-245b8456da8d"
   },
   "outputs": [
    {
     "name": "stdout",
     "output_type": "stream",
     "text": [
      "성년 리스트 :\n",
      "34 39 20 54 "
     ]
    }
   ],
   "source": [
    "def adult_func(n):    # 19세 이상의 값이 들어오면 True, 그렇지 않으면 False를 반환\n",
    "    if n >= 19:\n",
    "        return True\n",
    "    else:\n",
    "        return False\n",
    "\n",
    "ages = [34, 39, 20, 18, 13, 54]\n",
    "print('성년 리스트 :')\n",
    "for a in filter(adult_func, ages):  # filter() 함수를 사용한 ages의 필터링\n",
    "    print(a, end = ' ')"
   ]
  },
  {
   "cell_type": "markdown",
   "metadata": {
    "colab_type": "text",
    "id": "n8_Yp8yYQQ9i"
   },
   "source": [
    "# 코드 10-5 : 람다 함수를 이용한 간략화된 필터\n",
    "## age_lambda_filter.py"
   ]
  },
  {
   "cell_type": "code",
   "execution_count": 0,
   "metadata": {
    "colab": {
     "base_uri": "https://localhost:8080/",
     "height": 52
    },
    "colab_type": "code",
    "id": "2DbJ3S7oQQ9i",
    "outputId": "6daaedfc-cb22-4630-b9ca-f472b2adad8e"
   },
   "outputs": [
    {
     "name": "stdout",
     "output_type": "stream",
     "text": [
      "성년 리스트 :\n",
      "34 39 20 54 "
     ]
    }
   ],
   "source": [
    "ages = [34, 39, 20, 18, 13, 54]\n",
    "\n",
    "print('성년 리스트 :')\n",
    "for a in filter(lambda x: x >= 19, ages):  # filter() 함수를 사용한 ages의 필터\n",
    "    print(a, end = ' ')"
   ]
  },
  {
   "cell_type": "markdown",
   "metadata": {
    "colab_type": "text",
    "id": "BgM6NJnCgBnj"
   },
   "source": [
    "## 코드 10-6 : 람다 함수를 이용한 간략화된 필터\n",
    "### age_lambda_filter_list.py"
   ]
  },
  {
   "cell_type": "code",
   "execution_count": 0,
   "metadata": {
    "colab": {
     "base_uri": "https://localhost:8080/",
     "height": 34
    },
    "colab_type": "code",
    "id": "1dDGVwYKgGWy",
    "outputId": "668ca838-269a-419c-a778-7dc77160ab24"
   },
   "outputs": [
    {
     "name": "stdout",
     "output_type": "stream",
     "text": [
      "성년 리스트 : [34, 39, 20, 54]\n"
     ]
    }
   ],
   "source": [
    "ages = [34, 39, 20, 18, 13, 54]\n",
    "adult_ages = list(filter(lambda x: x >= 19, ages))\n",
    "print('성년 리스트 :', adult_ages)"
   ]
  },
  {
   "cell_type": "markdown",
   "metadata": {
    "colab_type": "text",
    "id": "TB8Et9NtgQ-i"
   },
   "source": [
    "## 코드 10-7 : 람다 함수를 이용한 음수 값 추출기능 1\n",
    "### minus_filter_func.py"
   ]
  },
  {
   "cell_type": "code",
   "execution_count": 0,
   "metadata": {
    "colab": {
     "base_uri": "https://localhost:8080/",
     "height": 34
    },
    "colab_type": "code",
    "id": "Kx4PU9PUgUZD",
    "outputId": "9f1d3d5a-6973-4e63-931b-59581491f2be"
   },
   "outputs": [
    {
     "name": "stdout",
     "output_type": "stream",
     "text": [
      "음수 리스트 : [-30, -5, -90, -36]\n"
     ]
    }
   ],
   "source": [
    "def minus_func(n):   # n이 음수이면 True, 그렇지 않으면 False를 반환\n",
    "    if n < 0 :\n",
    "        return True\n",
    "    else:\n",
    "        return False\n",
    "\n",
    "n_list = [-30, 45, -5, -90, 20, 53, 77, -36]\n",
    "minus_list = []     # 음수를 저장할 리스트\n",
    "for n in filter(minus_func, n_list):    \n",
    "    minus_list.append(n)\n",
    "print('음수 리스트 :', minus_list)"
   ]
  },
  {
   "cell_type": "markdown",
   "metadata": {
    "colab_type": "text",
    "id": "Q3MY-QgKgkL6"
   },
   "source": [
    "## 코드 10-8 : 람다 함수를 이용한 음수 값 추출기능 2\n",
    "### lambda_filter_minus1.py"
   ]
  },
  {
   "cell_type": "code",
   "execution_count": 0,
   "metadata": {
    "colab": {
     "base_uri": "https://localhost:8080/",
     "height": 34
    },
    "colab_type": "code",
    "id": "skrPlbQwgomM",
    "outputId": "672e5d73-9b02-4b84-c850-4d3911fd9a2b"
   },
   "outputs": [
    {
     "name": "stdout",
     "output_type": "stream",
     "text": [
      "음수 리스트 : [-30, -5, -90, -36]\n"
     ]
    }
   ],
   "source": [
    "n_list = [-30, 45, -5, -90, 20, 53, 77, -36]\n",
    "minus_list = []\n",
    "for n in filter(lambda x: x < 0, n_list):    \n",
    "    minus_list.append(n)\n",
    "\n",
    "print('음수 리스트 :', minus_list)"
   ]
  },
  {
   "cell_type": "markdown",
   "metadata": {
    "colab_type": "text",
    "id": "TcXoiv-hgwG7"
   },
   "source": [
    "## 코드 10-9 : 람다 함수를 이용한 음수 값 추출기능 3\n",
    "### lambda_filter_minus2.py"
   ]
  },
  {
   "cell_type": "code",
   "execution_count": 0,
   "metadata": {
    "colab": {
     "base_uri": "https://localhost:8080/",
     "height": 34
    },
    "colab_type": "code",
    "id": "VWteY5Gagz0G",
    "outputId": "9100264d-9a81-40f4-cee7-d44abca9e131"
   },
   "outputs": [
    {
     "name": "stdout",
     "output_type": "stream",
     "text": [
      "음수 리스트 : [-30, -5, -90, -36]\n"
     ]
    }
   ],
   "source": [
    "n_list = [-30, 45, -5, -90, 20, 53, 77, -36]\n",
    "minus_list = list(filter(lambda x: x < 0, n_list))\n",
    "print('음수 리스트 :', minus_list)"
   ]
  },
  {
   "cell_type": "markdown",
   "metadata": {
    "colab_type": "text",
    "id": "18lz97YLQQ9m"
   },
   "source": [
    "# 코드 10-10 : 맵 함수를 이용한 제곱값 리스트 생성\n",
    "## square_map_for.py"
   ]
  },
  {
   "cell_type": "code",
   "execution_count": 0,
   "metadata": {
    "colab": {
     "base_uri": "https://localhost:8080/",
     "height": 34
    },
    "colab_type": "code",
    "id": "bKHCMT2QQQ9m",
    "outputId": "4ae4b0d7-e08d-4163-bf49-5cc8d7162348"
   },
   "outputs": [
    {
     "name": "stdout",
     "output_type": "stream",
     "text": [
      "[1, 4, 9, 16, 25, 36, 49]\n"
     ]
    }
   ],
   "source": [
    "a = [1, 2, 3, 4, 5, 6, 7]\n",
    "square_a = []\n",
    "for n in a:\n",
    "  square_a.append(n**2)  # n의 제곱을 square_a 리스트에 추가함\n",
    "  \n",
    "print(square_a)"
   ]
  },
  {
   "cell_type": "markdown",
   "metadata": {
    "colab_type": "text",
    "id": "d9OV-C-qQQ9p"
   },
   "source": [
    "# 코드 10-11 : 맵 함수와 square() 호출을 이용한 제곱값 리스트 생성\n",
    "## square_map_func.py"
   ]
  },
  {
   "cell_type": "code",
   "execution_count": 0,
   "metadata": {
    "colab": {
     "base_uri": "https://localhost:8080/",
     "height": 34
    },
    "colab_type": "code",
    "id": "y81hsliAQQ9q",
    "outputId": "f3317619-b5c9-4d5b-f2cd-ccc30f3976f4"
   },
   "outputs": [
    {
     "name": "stdout",
     "output_type": "stream",
     "text": [
      "[1, 4, 9, 16, 25, 36, 49]\n"
     ]
    }
   ],
   "source": [
    "def square(x):\n",
    "  return x ** 2\n",
    "\n",
    "a = [1, 2, 3, 4, 5, 6, 7]\n",
    "square_a = list(map(square, a))  # a의 각 항목에 대해 square 함수의 반환값을 적용\n",
    "print(square_a)"
   ]
  },
  {
   "cell_type": "markdown",
   "metadata": {
    "colab_type": "text",
    "id": "EkRRfnxiQQ9t"
   },
   "source": [
    "# 코드 10-12 : 맵 함수와 람다 함수를 이용한 제곱값 리스트 생성\n",
    "## square_map_lambda.py"
   ]
  },
  {
   "cell_type": "code",
   "execution_count": 0,
   "metadata": {
    "colab": {
     "base_uri": "https://localhost:8080/",
     "height": 34
    },
    "colab_type": "code",
    "id": "YQTcufl7QQ9u",
    "outputId": "4f5e45f2-1939-4016-f7fa-7a676cf4ff37"
   },
   "outputs": [
    {
     "name": "stdout",
     "output_type": "stream",
     "text": [
      "[1, 4, 9, 16, 25, 36, 49]\n"
     ]
    }
   ],
   "source": [
    "a = [1, 2, 3, 4, 5, 6, 7]\n",
    "square_a = list(map(lambda x: x**2, a))\n",
    "print(square_a)"
   ]
  },
  {
   "cell_type": "markdown",
   "metadata": {
    "colab_type": "text",
    "id": "G2UV5dgNQQ9x"
   },
   "source": [
    "# 코드 10-13 : reduce() 함수를 사용한 멤버 덧셈\n",
    "## reduce_lambda_sum.py"
   ]
  },
  {
   "cell_type": "code",
   "execution_count": 0,
   "metadata": {
    "colab": {
     "base_uri": "https://localhost:8080/",
     "height": 34
    },
    "colab_type": "code",
    "id": "6EtB2orwQQ9y",
    "outputId": "81ce6eba-ef1e-45e4-a3b4-b7ea5e5e276c"
   },
   "outputs": [
    {
     "name": "stdout",
     "output_type": "stream",
     "text": [
      "10\n"
     ]
    }
   ],
   "source": [
    "from functools import reduce\n",
    "\n",
    "a = [1, 2, 3, 4]\n",
    "n = reduce(lambda x, y: x + y, a)\n",
    "print(n)"
   ]
  },
  {
   "cell_type": "markdown",
   "metadata": {
    "colab_type": "text",
    "id": "AbddLHOzQQ92"
   },
   "source": [
    "# 코드 10-14 : 람다함수와 리듀스를 이용한 축약\n",
    "## reduce_lambda_mult.py"
   ]
  },
  {
   "cell_type": "code",
   "execution_count": 0,
   "metadata": {
    "colab": {
     "base_uri": "https://localhost:8080/",
     "height": 34
    },
    "colab_type": "code",
    "id": "S_xbAoxOQQ92",
    "outputId": "8ee3632f-26b0-42a9-f6c4-c7f6b97b40f6"
   },
   "outputs": [
    {
     "name": "stdout",
     "output_type": "stream",
     "text": [
      "24\n"
     ]
    }
   ],
   "source": [
    "from functools import reduce\n",
    "\n",
    "a = [1, 2, 3, 4]\n",
    "n = reduce(lambda x, y: x * y, a)\n",
    "print(n)"
   ]
  },
  {
   "cell_type": "markdown",
   "metadata": {
    "colab_type": "text",
    "id": "NuISUqRjZhN1"
   },
   "source": [
    "# 코드 10-15 : 맵, 람다 함수를 이용한 리스트의 제곱 구하기\n",
    "## list_map_lambda_square.py"
   ]
  },
  {
   "cell_type": "code",
   "execution_count": 0,
   "metadata": {
    "colab": {
     "base_uri": "https://localhost:8080/",
     "height": 34
    },
    "colab_type": "code",
    "id": "iLoV46yKFQ7t",
    "outputId": "70a226d9-2ee7-4ac3-ebee-9567c2f23888"
   },
   "outputs": [
    {
     "name": "stdout",
     "output_type": "stream",
     "text": [
      "[1, 4, 9, 16, 25, 36, 49]\n"
     ]
    }
   ],
   "source": [
    "a = [1, 2, 3, 4, 5, 6, 7]          # 연속된 값을 가지는 리스트\n",
    "a = list(map(lambda x: x**2, a))   # 리스트의 각 요소에 대하여 람다 함수 적용\n",
    "print(a)"
   ]
  },
  {
   "cell_type": "markdown",
   "metadata": {
    "colab_type": "text",
    "id": "GmsrsslYZsRU"
   },
   "source": [
    "# 코드 10-16 : 리스트 축약 표현식을 이용한 리스트의 제곱 구하기\n",
    "## list_comp_square.py"
   ]
  },
  {
   "cell_type": "code",
   "execution_count": 0,
   "metadata": {
    "colab": {
     "base_uri": "https://localhost:8080/",
     "height": 34
    },
    "colab_type": "code",
    "id": "bnE7q10KFcKp",
    "outputId": "4cb7372e-7b01-4735-b240-98bedf5f37e8"
   },
   "outputs": [
    {
     "name": "stdout",
     "output_type": "stream",
     "text": [
      "[1, 4, 9, 16, 25, 36, 49]\n"
     ]
    }
   ],
   "source": [
    "a = [1, 2, 3, 4, 5, 6, 7]  # 연속된 값을 가지는 리스트\n",
    "a = [x**2 for x in a]      # 리스트의 각 요소에 대하여 x**2를 적용\n",
    "print(a)"
   ]
  },
  {
   "cell_type": "markdown",
   "metadata": {
    "colab_type": "text",
    "id": "1bcW8z72Z2Qw"
   },
   "source": [
    "# 코드 10-17 : 리스트 축약 표현식과 range를 이용한 리스트의 제곱구하기\n",
    "## list_comp_range_square.py"
   ]
  },
  {
   "cell_type": "code",
   "execution_count": 0,
   "metadata": {
    "colab": {
     "base_uri": "https://localhost:8080/",
     "height": 34
    },
    "colab_type": "code",
    "id": "bcoZKzS2FgdZ",
    "outputId": "1f0c6648-e6fb-4206-9943-b7af6c7ac934"
   },
   "outputs": [
    {
     "name": "stdout",
     "output_type": "stream",
     "text": [
      "[1, 4, 9, 16, 25, 36, 49]\n"
     ]
    }
   ],
   "source": [
    "a = [x**2 for x in range(1, 8)]\n",
    "print(a)"
   ]
  },
  {
   "cell_type": "markdown",
   "metadata": {
    "colab_type": "text",
    "id": "T3cpQ0zZQQ97"
   },
   "source": [
    "# 코드 10-18 : 문자열 각각을 대문자로 바꾸는 기능\n",
    "## upper_chars_from_string.py"
   ]
  },
  {
   "cell_type": "code",
   "execution_count": 0,
   "metadata": {
    "colab": {
     "base_uri": "https://localhost:8080/",
     "height": 34
    },
    "colab_type": "code",
    "id": "2j068JQCQQ98",
    "outputId": "c3c1cb08-e5b4-4af4-a1bd-e0e5347be23c"
   },
   "outputs": [
    {
     "name": "stdout",
     "output_type": "stream",
     "text": [
      "['H', 'E', 'L', 'L', 'O', ' ', 'W', 'O', 'R', 'L', 'D']\n"
     ]
    }
   ],
   "source": [
    "st = \"Hello World\"\n",
    "s_list = [x.upper() for x in st]  # 문자열 각각에 대해 upper() 메소드 적용\n",
    "print(s_list)"
   ]
  },
  {
   "cell_type": "markdown",
   "metadata": {
    "colab_type": "text",
    "id": "T_B_VEfBaEc9"
   },
   "source": [
    "# 코드 10-19 : list() 함수, filter() 함수, 람다 함수를 이용한 필터링\n",
    "## age_lambda_filter_list.py"
   ]
  },
  {
   "cell_type": "code",
   "execution_count": 0,
   "metadata": {
    "colab": {
     "base_uri": "https://localhost:8080/",
     "height": 34
    },
    "colab_type": "code",
    "id": "UA4H_eIlGBE0",
    "outputId": "06f96b62-32ae-4383-9e35-c6ba518c1b39"
   },
   "outputs": [
    {
     "name": "stdout",
     "output_type": "stream",
     "text": [
      "성년 리스트 : [34, 39, 20, 54]\n"
     ]
    }
   ],
   "source": [
    "ages = [34, 39, 20, 18, 13, 54]\n",
    "adult_ages = list(filter(lambda x: x >= 19, ages))\n",
    "print('성년 리스트 :', adult_ages)"
   ]
  },
  {
   "cell_type": "markdown",
   "metadata": {
    "colab_type": "text",
    "id": "5i17OHyZaOt6"
   },
   "source": [
    "# 코드 10-20 : 리스트 축약표현을 이용한 필터링\n",
    "## age_list_comp_filter.py"
   ]
  },
  {
   "cell_type": "code",
   "execution_count": 0,
   "metadata": {
    "colab": {
     "base_uri": "https://localhost:8080/",
     "height": 34
    },
    "colab_type": "code",
    "id": "7J9pqaNVGKys",
    "outputId": "8ea793de-c1cb-4396-e801-e4ffb305a0ab"
   },
   "outputs": [
    {
     "name": "stdout",
     "output_type": "stream",
     "text": [
      "성년 리스트 : [34, 39, 20, 54]\n"
     ]
    }
   ],
   "source": [
    "ages = [34, 39, 20, 18, 13, 54]\n",
    "print('성년 리스트 :', [x for x in ages if x >= 19])"
   ]
  },
  {
   "cell_type": "markdown",
   "metadata": {
    "colab_type": "text",
    "id": "k6HtxbvcaXhP"
   },
   "source": [
    "# 코드 10-21 : list() 함수, filter() 함수, 람다 함수를 이용한 필터링\n",
    "## lambda_filter_minus2.py"
   ]
  },
  {
   "cell_type": "code",
   "execution_count": 0,
   "metadata": {
    "colab": {
     "base_uri": "https://localhost:8080/",
     "height": 34
    },
    "colab_type": "code",
    "id": "d-WCo1rlGUJq",
    "outputId": "186acf2b-2f37-494f-bb28-0656df794d3e"
   },
   "outputs": [
    {
     "name": "stdout",
     "output_type": "stream",
     "text": [
      "음수 리스트 : [-30, -5, -90, -36]\n"
     ]
    }
   ],
   "source": [
    "n_list = [-30, 45, -5, -90, 20, 53, 77, -36]\n",
    "minus_list = list(filter(lambda x: x < 0, n_list))\n",
    "print('음수 리스트 :', minus_list)"
   ]
  },
  {
   "cell_type": "markdown",
   "metadata": {
    "colab_type": "text",
    "id": "idOQFUGhGXwl"
   },
   "source": [
    "# 코드 10-22 : 리스트 축약 표현과 if 조건식을 이용한 필터링\n",
    "## list_comp_if_condition.py"
   ]
  },
  {
   "cell_type": "code",
   "execution_count": 0,
   "metadata": {
    "colab": {
     "base_uri": "https://localhost:8080/",
     "height": 34
    },
    "colab_type": "code",
    "id": "C-bV85kRGYyX",
    "outputId": "abe7255e-e95e-4fb7-a39d-29ff4423ef3b"
   },
   "outputs": [
    {
     "name": "stdout",
     "output_type": "stream",
     "text": [
      "음수 리스트 : [-30, -5, -90, -36]\n"
     ]
    }
   ],
   "source": [
    "n_list = [-30, 45, -5, -90, 20, 53, 77, -36]\n",
    "minus_list = [x for x in n_list if x < 0]\n",
    "print('음수 리스트 :', minus_list)"
   ]
  },
  {
   "cell_type": "markdown",
   "metadata": {
    "colab_type": "text",
    "id": "TCzUE-3yQQ9_"
   },
   "source": [
    "## 대화창 실습 : 리스트의 축약 표현 실습"
   ]
  },
  {
   "cell_type": "code",
   "execution_count": 0,
   "metadata": {
    "colab": {
     "base_uri": "https://localhost:8080/",
     "height": 34
    },
    "colab_type": "code",
    "id": "aRmavTMXQQ-A",
    "outputId": "01a9d243-2fae-42a8-9bb8-6063f8a08048"
   },
   "outputs": [
    {
     "data": {
      "text/plain": [
       "[0, 1, 2, 3, 4, 5, 6, 7, 8, 9]"
      ]
     },
     "execution_count": 23,
     "metadata": {
      "tags": []
     },
     "output_type": "execute_result"
    }
   ],
   "source": [
    "[x for x in range(10)]     # 0에서 9까지 숫자를 포함한 리스트"
   ]
  },
  {
   "cell_type": "code",
   "execution_count": 0,
   "metadata": {
    "colab": {
     "base_uri": "https://localhost:8080/",
     "height": 34
    },
    "colab_type": "code",
    "id": "WKwZHeTQQQ-E",
    "outputId": "5d1a5a05-ab2e-455b-eba7-06ac7473ec6c"
   },
   "outputs": [
    {
     "data": {
      "text/plain": [
       "[0, 1, 4, 9, 16, 25, 36, 49, 64, 81]"
      ]
     },
     "execution_count": 24,
     "metadata": {
      "tags": []
     },
     "output_type": "execute_result"
    }
   ],
   "source": [
    "[x * x for x in range(10)] # 0에서 9까지 숫자의 제곱 값"
   ]
  },
  {
   "cell_type": "code",
   "execution_count": 0,
   "metadata": {
    "colab": {
     "base_uri": "https://localhost:8080/",
     "height": 34
    },
    "colab_type": "code",
    "id": "XHVVa-1XQQ-J",
    "outputId": "ac7d72e4-12bb-4095-d147-dd4649985003"
   },
   "outputs": [
    {
     "data": {
      "text/plain": [
       "[0, 2, 4, 6, 8]"
      ]
     },
     "execution_count": 25,
     "metadata": {
      "tags": []
     },
     "output_type": "execute_result"
    }
   ],
   "source": [
    "[x for x in range(10) if x % 2 == 0]  # 0에서 9까지 숫자 중 짝수 값"
   ]
  },
  {
   "cell_type": "code",
   "execution_count": 0,
   "metadata": {
    "colab": {
     "base_uri": "https://localhost:8080/",
     "height": 34
    },
    "colab_type": "code",
    "id": "6QvIDAL0QQ-P",
    "outputId": "6cd24112-0fe3-458b-f5f6-4a13fa0e5f2c"
   },
   "outputs": [
    {
     "data": {
      "text/plain": [
       "[1, 3, 5, 7, 9]"
      ]
     },
     "execution_count": 26,
     "metadata": {
      "tags": []
     },
     "output_type": "execute_result"
    }
   ],
   "source": [
    "[x for x in range(10) if x % 2 == 1]  # 0에서 9까지 숫자 중 홀수 값"
   ]
  },
  {
   "cell_type": "code",
   "execution_count": 0,
   "metadata": {
    "colab": {
     "base_uri": "https://localhost:8080/",
     "height": 34
    },
    "colab_type": "code",
    "id": "OVbZLA5MQQ-U",
    "outputId": "33c1fecf-5365-4006-c94a-7a4218a4750d"
   },
   "outputs": [
    {
     "data": {
      "text/plain": [
       "[0, 4, 16, 36, 64]"
      ]
     },
     "execution_count": 27,
     "metadata": {
      "tags": []
     },
     "output_type": "execute_result"
    }
   ],
   "source": [
    "[x * x for x in range(10) if x % 2 == 0]  # 0에서 9까지 숫자 중 짝수의 제곱 값"
   ]
  },
  {
   "cell_type": "code",
   "execution_count": 0,
   "metadata": {
    "colab": {
     "base_uri": "https://localhost:8080/",
     "height": 34
    },
    "colab_type": "code",
    "id": "jVH3d-_VQQ-Y",
    "outputId": "d2a07612-be73-4229-ae35-2c39c552f236"
   },
   "outputs": [
    {
     "data": {
      "text/plain": [
       "[1, 9, 25, 49, 81]"
      ]
     },
     "execution_count": 28,
     "metadata": {
      "tags": []
     },
     "output_type": "execute_result"
    }
   ],
   "source": [
    "[x * x for x in range(10) if x % 2 == 1]  # 0에서 9까지 숫자 중 홀수의 제곱 값"
   ]
  },
  {
   "cell_type": "markdown",
   "metadata": {
    "colab_type": "text",
    "id": "bzwFk0d3eo_u"
   },
   "source": [
    "## 대화창 실습 : 여러 개의 정수를 입력받는 두 가지 방법"
   ]
  },
  {
   "cell_type": "code",
   "execution_count": 0,
   "metadata": {
    "colab": {
     "base_uri": "https://localhost:8080/",
     "height": 34
    },
    "colab_type": "code",
    "id": "krdRdFdB_m3F",
    "outputId": "39f8a6b1-f597-47de-bef2-85025a14edd6"
   },
   "outputs": [
    {
     "name": "stdout",
     "output_type": "stream",
     "text": [
      "정수를 여러개 입력하세요 : 10 20 30 40 50\n"
     ]
    }
   ],
   "source": [
    "s = input('정수를 여러개 입력하세요 : ').split()"
   ]
  },
  {
   "cell_type": "code",
   "execution_count": 0,
   "metadata": {
    "colab": {
     "base_uri": "https://localhost:8080/",
     "height": 34
    },
    "colab_type": "code",
    "id": "7m7nKKmb_qAt",
    "outputId": "15e0fce9-1d16-45c6-c118-91e3204f9ad8"
   },
   "outputs": [
    {
     "data": {
      "text/plain": [
       "[10, 20, 30, 40, 50]"
      ]
     },
     "execution_count": 30,
     "metadata": {
      "tags": []
     },
     "output_type": "execute_result"
    }
   ],
   "source": [
    "lst = [int(x) for x in s]\n",
    "lst"
   ]
  },
  {
   "cell_type": "code",
   "execution_count": 0,
   "metadata": {
    "colab": {
     "base_uri": "https://localhost:8080/",
     "height": 52
    },
    "colab_type": "code",
    "id": "pr9OP5NcAiPP",
    "outputId": "324f4b0b-ab5e-41b5-c69e-e04423e57e7c"
   },
   "outputs": [
    {
     "name": "stdout",
     "output_type": "stream",
     "text": [
      "정수를 여러개 입력하세요 : 1 2 3\n"
     ]
    },
    {
     "data": {
      "text/plain": [
       "[1, 2, 3]"
      ]
     },
     "execution_count": 31,
     "metadata": {
      "tags": []
     },
     "output_type": "execute_result"
    }
   ],
   "source": [
    "[int(x) for x in input('정수를 여러개 입력하세요 : ').split()]"
   ]
  },
  {
   "cell_type": "markdown",
   "metadata": {
    "colab_type": "text",
    "id": "j4OiE8ePQQ-b"
   },
   "source": [
    "# 코드 10-23 : 두 리스트를 곱하여 새 리스트를 생성하는 코드\n",
    "## product_xy_for_loop.py"
   ]
  },
  {
   "cell_type": "code",
   "execution_count": 0,
   "metadata": {
    "colab": {
     "base_uri": "https://localhost:8080/",
     "height": 34
    },
    "colab_type": "code",
    "id": "IkGig7GxQQ-d",
    "outputId": "0a75092c-5bec-4c87-a7e6-eaa9fcfa23aa"
   },
   "outputs": [
    {
     "name": "stdout",
     "output_type": "stream",
     "text": [
      "[2, 4, 6, 4, 8, 12, 6, 12, 18]\n"
     ]
    }
   ],
   "source": [
    "product_xy = []\n",
    "for x in [1, 2, 3]:    # 이중 for 루프를 통해 두 리스트 원소의 곱을 모두 구함\n",
    "    for y in [2, 4, 6]:\n",
    "        product_xy.append(x * y)\n",
    "\n",
    "print(product_xy)"
   ]
  },
  {
   "cell_type": "markdown",
   "metadata": {
    "colab_type": "text",
    "id": "g_tIWvyzQQ-g"
   },
   "source": [
    "# 코드 10-24 : 리스트 축약을 이용한 두 리스트의 곱하기 기능\n",
    "## product_xy_comprehension.py"
   ]
  },
  {
   "cell_type": "code",
   "execution_count": 0,
   "metadata": {
    "colab": {
     "base_uri": "https://localhost:8080/",
     "height": 34
    },
    "colab_type": "code",
    "id": "bLjriWggQQ-h",
    "outputId": "c16e632f-b907-46a1-81b4-27398693de79"
   },
   "outputs": [
    {
     "name": "stdout",
     "output_type": "stream",
     "text": [
      "[2, 4, 6, 4, 8, 12, 6, 12, 18]\n"
     ]
    }
   ],
   "source": [
    "product_xy = [x * y for x in [1, 2, 3] for y in [2, 4, 6]]\n",
    "print(product_xy)"
   ]
  },
  {
   "cell_type": "markdown",
   "metadata": {
    "colab_type": "text",
    "id": "mFnXsO1NbMac"
   },
   "source": [
    "## 대화창 실습 : 리스트의 축약 표현을 사용한 2와 3의 배수 구하기"
   ]
  },
  {
   "cell_type": "code",
   "execution_count": 0,
   "metadata": {
    "colab": {
     "base_uri": "https://localhost:8080/",
     "height": 34
    },
    "colab_type": "code",
    "id": "rhM1dNw5bTWp",
    "outputId": "628c902c-3257-4418-9ea2-674fa8215ee8"
   },
   "outputs": [
    {
     "data": {
      "text/plain": [
       "[6, 12, 18, 24, 30]"
      ]
     },
     "execution_count": 34,
     "metadata": {
      "tags": []
     },
     "output_type": "execute_result"
    }
   ],
   "source": [
    "[n for n in range(1, 31) if n % 2 == 0 if n % 3 == 0]"
   ]
  },
  {
   "cell_type": "markdown",
   "metadata": {
    "colab_type": "text",
    "id": "WYWAeGw4QQ-k"
   },
   "source": [
    "## 대화창 실습 : 리스트의 축약 표현을 사용한 2와 3과 5의 배수 구하기"
   ]
  },
  {
   "cell_type": "code",
   "execution_count": 0,
   "metadata": {
    "colab": {
     "base_uri": "https://localhost:8080/",
     "height": 34
    },
    "colab_type": "code",
    "id": "3xts0jVhQQ-l",
    "outputId": "527f6734-448e-4a74-c9e4-498f836bd380"
   },
   "outputs": [
    {
     "data": {
      "text/plain": [
       "[30]"
      ]
     },
     "execution_count": 35,
     "metadata": {
      "tags": []
     },
     "output_type": "execute_result"
    }
   ],
   "source": [
    "[n for n in range(1, 31) if n % 2 == 0 if n % 3 == 0 if n % 5 == 0]"
   ]
  },
  {
   "cell_type": "markdown",
   "metadata": {
    "colab_type": "text",
    "id": "oR9JaRc9P0hi"
   },
   "source": [
    "## 대화창 실습 : 반복자 객체로 변환가능한 리스트 형과 변환 불가능한 정수형"
   ]
  },
  {
   "cell_type": "code",
   "execution_count": 0,
   "metadata": {
    "colab": {
     "base_uri": "https://localhost:8080/",
     "height": 34
    },
    "colab_type": "code",
    "id": "-8BQqb-LQRAN",
    "outputId": "08765008-49d7-4a16-a089-10d897f66022"
   },
   "outputs": [
    {
     "data": {
      "text/plain": [
       "<list_iterator at 0x7f9b51f395c0>"
      ]
     },
     "execution_count": 36,
     "metadata": {
      "tags": []
     },
     "output_type": "execute_result"
    }
   ],
   "source": [
    "l = [10, 20, 30]  # 반복가능 자료형인 리스트\n",
    "l_iter = iter(l)\n",
    "l_iter"
   ]
  },
  {
   "cell_type": "code",
   "execution_count": 0,
   "metadata": {
    "colab": {
     "base_uri": "https://localhost:8080/",
     "height": 186
    },
    "colab_type": "code",
    "id": "v51RGumnP6lP",
    "outputId": "1f056f84-5d4c-43b2-e9fb-cd71e2284b6d"
   },
   "outputs": [
    {
     "ename": "TypeError",
     "evalue": "ignored",
     "output_type": "error",
     "traceback": [
      "\u001b[0;31m---------------------------------------------------------------------------\u001b[0m",
      "\u001b[0;31mTypeError\u001b[0m                                 Traceback (most recent call last)",
      "\u001b[0;32m<ipython-input-37-59ae9a7950d8>\u001b[0m in \u001b[0;36m<module>\u001b[0;34m()\u001b[0m\n\u001b[1;32m      1\u001b[0m \u001b[0mn\u001b[0m \u001b[0;34m=\u001b[0m \u001b[0;36m100\u001b[0m  \u001b[0;31m# 반복불가능 자료형인 int\u001b[0m\u001b[0;34m\u001b[0m\u001b[0;34m\u001b[0m\u001b[0m\n\u001b[0;32m----> 2\u001b[0;31m \u001b[0mn_iter\u001b[0m \u001b[0;34m=\u001b[0m \u001b[0miter\u001b[0m\u001b[0;34m(\u001b[0m\u001b[0mn\u001b[0m\u001b[0;34m)\u001b[0m\u001b[0;34m\u001b[0m\u001b[0;34m\u001b[0m\u001b[0m\n\u001b[0m",
      "\u001b[0;31mTypeError\u001b[0m: 'int' object is not iterable"
     ]
    }
   ],
   "source": [
    "n = 100  # 반복불가능 자료형인 int\n",
    "n_iter = iter(n)"
   ]
  },
  {
   "cell_type": "markdown",
   "metadata": {
    "colab_type": "text",
    "id": "QaYh-wokQJBh"
   },
   "source": [
    "# 코드 10-25 : 리스트와 튜플, 정수 값을 반복자 객체로 변환시키기\n",
    "## iterable_test.py"
   ]
  },
  {
   "cell_type": "code",
   "execution_count": 0,
   "metadata": {
    "colab": {
     "base_uri": "https://localhost:8080/",
     "height": 70
    },
    "colab_type": "code",
    "id": "NH4THzZEQQ-N",
    "outputId": "1df423ce-30a3-41ac-e281-cd1a41cec2e6"
   },
   "outputs": [
    {
     "name": "stdout",
     "output_type": "stream",
     "text": [
      "list는 iterable 객체입니다.\n",
      "tuple은 iterable 객체입니다.\n",
      "n은 iterable 객체가 아닙니다.\n"
     ]
    }
   ],
   "source": [
    "# 리스트가 반복가능 객체인가 검사\n",
    "try:\n",
    "    l = [10, 20, 30]\n",
    "    iterator = iter(l)\n",
    "except TypeError:\n",
    "    print('list는 iterable 객체가 아닙니다.')\n",
    "else:\n",
    "    print('list는 iterable 객체입니다.')\n",
    "\n",
    "# 튜플이 반복가능 객체인가 검사\n",
    "try:\n",
    "    t = ('홍길동', 22, 79.7)\n",
    "    iterator = iter(t)\n",
    "except TypeError:\n",
    "    print('tuple은 iterable 객체가 아닙니다.')\n",
    "else:\n",
    "    print('tuple은 iterable 객체입니다.')\n",
    "\n",
    "# 정수형이 반복가능 객체인가 검사\n",
    "try:\n",
    "    n = 100\n",
    "    iterator = iter(n)\n",
    "except TypeError:\n",
    "    print('n은 iterable 객체가 아닙니다.')\n",
    "else:\n",
    "    print('n은 iterable 객체입니다.')"
   ]
  },
  {
   "cell_type": "markdown",
   "metadata": {
    "colab_type": "text",
    "id": "9ZRqWCC5Qb34"
   },
   "source": [
    "## 대화창 실습 : next() 함수를 사용한 반복자 객체의 원소 추출"
   ]
  },
  {
   "cell_type": "code",
   "execution_count": 0,
   "metadata": {
    "colab": {
     "base_uri": "https://localhost:8080/",
     "height": 34
    },
    "colab_type": "code",
    "id": "yEP-OyeaP-Ef",
    "outputId": "037f7273-692d-486a-b9a3-fa1b6e149248"
   },
   "outputs": [
    {
     "data": {
      "text/plain": [
       "list_iterator"
      ]
     },
     "execution_count": 39,
     "metadata": {
      "tags": []
     },
     "output_type": "execute_result"
    }
   ],
   "source": [
    "lst = [10, 20, 30]\n",
    "l_iter = iter(lst)  # 리스트 형 객체를 반복자로 만듦\n",
    "type(l_iter)"
   ]
  },
  {
   "cell_type": "code",
   "execution_count": 0,
   "metadata": {
    "colab": {
     "base_uri": "https://localhost:8080/",
     "height": 34
    },
    "colab_type": "code",
    "id": "uL3IAjJYQi7Z",
    "outputId": "e0d1a28b-698e-4ba8-cdf3-ed3d9bd85c47"
   },
   "outputs": [
    {
     "data": {
      "text/plain": [
       "10"
      ]
     },
     "execution_count": 40,
     "metadata": {
      "tags": []
     },
     "output_type": "execute_result"
    }
   ],
   "source": [
    "next(l_iter)"
   ]
  },
  {
   "cell_type": "code",
   "execution_count": 0,
   "metadata": {
    "colab": {
     "base_uri": "https://localhost:8080/",
     "height": 34
    },
    "colab_type": "code",
    "id": "sFu_WI4nQluf",
    "outputId": "de75ea0b-de83-4d82-b715-19e9597a2aaa"
   },
   "outputs": [
    {
     "data": {
      "text/plain": [
       "20"
      ]
     },
     "execution_count": 41,
     "metadata": {
      "tags": []
     },
     "output_type": "execute_result"
    }
   ],
   "source": [
    "next(l_iter)"
   ]
  },
  {
   "cell_type": "code",
   "execution_count": 0,
   "metadata": {
    "colab": {
     "base_uri": "https://localhost:8080/",
     "height": 34
    },
    "colab_type": "code",
    "id": "AFp_zrU0QnDT",
    "outputId": "53464159-8c15-466e-bc5e-fafb6bf7ba78"
   },
   "outputs": [
    {
     "data": {
      "text/plain": [
       "30"
      ]
     },
     "execution_count": 42,
     "metadata": {
      "tags": []
     },
     "output_type": "execute_result"
    }
   ],
   "source": [
    "next(l_iter)"
   ]
  },
  {
   "cell_type": "code",
   "execution_count": 0,
   "metadata": {
    "colab": {
     "base_uri": "https://localhost:8080/",
     "height": 169
    },
    "colab_type": "code",
    "id": "j55rXPY9QntS",
    "outputId": "73a6afea-0822-491b-a5b4-7419acc83526"
   },
   "outputs": [
    {
     "ename": "StopIteration",
     "evalue": "ignored",
     "output_type": "error",
     "traceback": [
      "\u001b[0;31m---------------------------------------------------------------------------\u001b[0m",
      "\u001b[0;31mStopIteration\u001b[0m                             Traceback (most recent call last)",
      "\u001b[0;32m<ipython-input-43-43aece5a3964>\u001b[0m in \u001b[0;36m<module>\u001b[0;34m()\u001b[0m\n\u001b[0;32m----> 1\u001b[0;31m \u001b[0mnext\u001b[0m\u001b[0;34m(\u001b[0m\u001b[0ml_iter\u001b[0m\u001b[0;34m)\u001b[0m\u001b[0;34m\u001b[0m\u001b[0;34m\u001b[0m\u001b[0m\n\u001b[0m",
      "\u001b[0;31mStopIteration\u001b[0m: "
     ]
    }
   ],
   "source": [
    "next(l_iter)"
   ]
  },
  {
   "cell_type": "markdown",
   "metadata": {
    "colab_type": "text",
    "id": "_duNbhRPQ_ex"
   },
   "source": [
    "## 대화창 실습 : `__next__()` 메소드를 사용한 반복자 객체의 원소 추출"
   ]
  },
  {
   "cell_type": "code",
   "execution_count": 0,
   "metadata": {
    "colab": {},
    "colab_type": "code",
    "id": "AC1AG7V9RBnf"
   },
   "outputs": [],
   "source": [
    "lst = [10, 20, 30]"
   ]
  },
  {
   "cell_type": "code",
   "execution_count": 0,
   "metadata": {
    "colab": {},
    "colab_type": "code",
    "id": "LoDKM7cpQqbK"
   },
   "outputs": [],
   "source": [
    "l_iter = iter(lst)  # 리스트 형 객체를 반복자로 만듦"
   ]
  },
  {
   "cell_type": "code",
   "execution_count": 0,
   "metadata": {
    "colab": {
     "base_uri": "https://localhost:8080/",
     "height": 34
    },
    "colab_type": "code",
    "id": "49o8x0nnRHgF",
    "outputId": "3e78f344-f83e-4c23-fab4-7c3246f9bba2"
   },
   "outputs": [
    {
     "data": {
      "text/plain": [
       "10"
      ]
     },
     "execution_count": 46,
     "metadata": {
      "tags": []
     },
     "output_type": "execute_result"
    }
   ],
   "source": [
    "l_iter.__next__()"
   ]
  },
  {
   "cell_type": "code",
   "execution_count": 0,
   "metadata": {
    "colab": {
     "base_uri": "https://localhost:8080/",
     "height": 34
    },
    "colab_type": "code",
    "id": "LVFpc0EVRP9F",
    "outputId": "5ff7f7d8-ca6d-4435-a0e8-6c4a7c91cf09"
   },
   "outputs": [
    {
     "data": {
      "text/plain": [
       "20"
      ]
     },
     "execution_count": 47,
     "metadata": {
      "tags": []
     },
     "output_type": "execute_result"
    }
   ],
   "source": [
    "l_iter.__next__()"
   ]
  },
  {
   "cell_type": "code",
   "execution_count": 0,
   "metadata": {
    "colab": {
     "base_uri": "https://localhost:8080/",
     "height": 34
    },
    "colab_type": "code",
    "id": "_t-Ln2cZRQ1C",
    "outputId": "16672494-5b8f-446f-87b0-4fa3d5e59d2a"
   },
   "outputs": [
    {
     "data": {
      "text/plain": [
       "30"
      ]
     },
     "execution_count": 48,
     "metadata": {
      "tags": []
     },
     "output_type": "execute_result"
    }
   ],
   "source": [
    "l_iter.__next__()"
   ]
  },
  {
   "cell_type": "code",
   "execution_count": 0,
   "metadata": {
    "colab": {
     "base_uri": "https://localhost:8080/",
     "height": 169
    },
    "colab_type": "code",
    "id": "QItdEEB2RRkU",
    "outputId": "a9c3d62d-1622-4614-e44a-e1d8c5ab1463"
   },
   "outputs": [
    {
     "ename": "StopIteration",
     "evalue": "ignored",
     "output_type": "error",
     "traceback": [
      "\u001b[0;31m---------------------------------------------------------------------------\u001b[0m",
      "\u001b[0;31mStopIteration\u001b[0m                             Traceback (most recent call last)",
      "\u001b[0;32m<ipython-input-49-66a5d92851ba>\u001b[0m in \u001b[0;36m<module>\u001b[0;34m()\u001b[0m\n\u001b[0;32m----> 1\u001b[0;31m \u001b[0ml_iter\u001b[0m\u001b[0;34m.\u001b[0m\u001b[0m__next__\u001b[0m\u001b[0;34m(\u001b[0m\u001b[0;34m)\u001b[0m\u001b[0;34m\u001b[0m\u001b[0;34m\u001b[0m\u001b[0m\n\u001b[0m",
      "\u001b[0;31mStopIteration\u001b[0m: "
     ]
    }
   ],
   "source": [
    "l_iter.__next__()"
   ]
  },
  {
   "cell_type": "markdown",
   "metadata": {
    "colab_type": "text",
    "id": "ZFC2sR8aSOdl"
   },
   "source": [
    "## 대화창 실습 : range형 객체를 순환자 객체로 만들기"
   ]
  },
  {
   "cell_type": "code",
   "execution_count": 0,
   "metadata": {
    "colab": {
     "base_uri": "https://localhost:8080/",
     "height": 34
    },
    "colab_type": "code",
    "id": "mXQleH_iRSK7",
    "outputId": "937bdfc4-bc3c-4829-9c8f-04869981c8e0"
   },
   "outputs": [
    {
     "data": {
      "text/plain": [
       "range"
      ]
     },
     "execution_count": 50,
     "metadata": {
      "tags": []
     },
     "output_type": "execute_result"
    }
   ],
   "source": [
    "type(range(3))"
   ]
  },
  {
   "cell_type": "code",
   "execution_count": 0,
   "metadata": {
    "colab": {
     "base_uri": "https://localhost:8080/",
     "height": 34
    },
    "colab_type": "code",
    "id": "3OGmmvzESSQQ",
    "outputId": "08085e46-3ea5-4c60-8664-a733b977fb49"
   },
   "outputs": [
    {
     "data": {
      "text/plain": [
       "range_iterator"
      ]
     },
     "execution_count": 51,
     "metadata": {
      "tags": []
     },
     "output_type": "execute_result"
    }
   ],
   "source": [
    "r_iter = iter(range(3))  # range 형 객체를 반복자로 만듦\n",
    "type(r_iter)"
   ]
  },
  {
   "cell_type": "code",
   "execution_count": 0,
   "metadata": {
    "colab": {
     "base_uri": "https://localhost:8080/",
     "height": 34
    },
    "colab_type": "code",
    "id": "qu6fca_fSWZB",
    "outputId": "4e98da05-fde9-4e8d-b0e5-9fd149654d3a"
   },
   "outputs": [
    {
     "data": {
      "text/plain": [
       "0"
      ]
     },
     "execution_count": 52,
     "metadata": {
      "tags": []
     },
     "output_type": "execute_result"
    }
   ],
   "source": [
    "next(r_iter)  # 반복자이므로 next() 함수를 사용할 수 있음"
   ]
  },
  {
   "cell_type": "code",
   "execution_count": 0,
   "metadata": {
    "colab": {
     "base_uri": "https://localhost:8080/",
     "height": 34
    },
    "colab_type": "code",
    "id": "FidAOLGkSZbK",
    "outputId": "bb9afa5f-82ec-4218-d46b-406dfc3c9c42"
   },
   "outputs": [
    {
     "data": {
      "text/plain": [
       "1"
      ]
     },
     "execution_count": 53,
     "metadata": {
      "tags": []
     },
     "output_type": "execute_result"
    }
   ],
   "source": [
    "next(r_iter)"
   ]
  },
  {
   "cell_type": "code",
   "execution_count": 0,
   "metadata": {
    "colab": {
     "base_uri": "https://localhost:8080/",
     "height": 34
    },
    "colab_type": "code",
    "id": "5p8T6V_DSaYH",
    "outputId": "1d6bfcde-2d30-4f10-e33c-b9ccfe681c7b"
   },
   "outputs": [
    {
     "data": {
      "text/plain": [
       "2"
      ]
     },
     "execution_count": 54,
     "metadata": {
      "tags": []
     },
     "output_type": "execute_result"
    }
   ],
   "source": [
    "next(r_iter)"
   ]
  },
  {
   "cell_type": "code",
   "execution_count": 0,
   "metadata": {
    "colab": {
     "base_uri": "https://localhost:8080/",
     "height": 169
    },
    "colab_type": "code",
    "id": "WF1Rd4eVSbIa",
    "outputId": "96b89f2f-4735-4320-a946-a35ad874ca0b"
   },
   "outputs": [
    {
     "ename": "StopIteration",
     "evalue": "ignored",
     "output_type": "error",
     "traceback": [
      "\u001b[0;31m---------------------------------------------------------------------------\u001b[0m",
      "\u001b[0;31mStopIteration\u001b[0m                             Traceback (most recent call last)",
      "\u001b[0;32m<ipython-input-55-1b393cafff7b>\u001b[0m in \u001b[0;36m<module>\u001b[0;34m()\u001b[0m\n\u001b[0;32m----> 1\u001b[0;31m \u001b[0mnext\u001b[0m\u001b[0;34m(\u001b[0m\u001b[0mr_iter\u001b[0m\u001b[0;34m)\u001b[0m\u001b[0;34m\u001b[0m\u001b[0;34m\u001b[0m\u001b[0m\n\u001b[0m",
      "\u001b[0;31mStopIteration\u001b[0m: "
     ]
    }
   ],
   "source": [
    "next(r_iter)"
   ]
  },
  {
   "cell_type": "markdown",
   "metadata": {
    "colab_type": "text",
    "id": "f79BZwKbSsKP"
   },
   "source": [
    "## 대화창 실습 : range형 객체의 for ~ in 구문에서의 사용법"
   ]
  },
  {
   "cell_type": "code",
   "execution_count": 0,
   "metadata": {
    "colab": {
     "base_uri": "https://localhost:8080/",
     "height": 34
    },
    "colab_type": "code",
    "id": "kY6BfEkpSbkF",
    "outputId": "642648fa-19f1-48dd-fd19-769b7152ab01"
   },
   "outputs": [
    {
     "name": "stdout",
     "output_type": "stream",
     "text": [
      "0 1 2 3 4 "
     ]
    }
   ],
   "source": [
    "for i in range(5) :\n",
    "    print(i, end = ' ')"
   ]
  },
  {
   "cell_type": "markdown",
   "metadata": {
    "colab_type": "text",
    "id": "k36l7PdScwWW"
   },
   "source": [
    "# 코드 10-26 : OddCounter 클래스의 정의와 객체 생성\n",
    "## oddcounter_with_next.py"
   ]
  },
  {
   "cell_type": "code",
   "execution_count": 0,
   "metadata": {
    "colab": {
     "base_uri": "https://localhost:8080/",
     "height": 87
    },
    "colab_type": "code",
    "id": "SJP9eU3vSw7v",
    "outputId": "7290dee4-7668-4b10-b2d7-640d2966fc14"
   },
   "outputs": [
    {
     "name": "stdout",
     "output_type": "stream",
     "text": [
      "1\n",
      "3\n",
      "5\n",
      "7\n"
     ]
    }
   ],
   "source": [
    "class OddCounter:\n",
    "    ''' 1부터 증가하는 홀수를 반환하는 클래스 '''\n",
    "    def __init__(self, n = 1):  # 초기화 메소드, n을 1로 둔다\n",
    "        self.n = n\n",
    "  \n",
    "    def __iter__(self):  # 반복자는 __iter__() 함수를 가져야 함\n",
    "        return self\n",
    "\n",
    "    def __next__(self):  # 반복자는 __next__() 함수를 가져야 함\n",
    "        t = self.n       # self.n을 임시 변수 t에 저장해 두고\n",
    "        self.n += 2      # self.n을 2증가시킨다\n",
    "        return t         # t부터 출력해야 1이 가장 먼저 출력된다\n",
    "  \n",
    "my_counter = OddCounter()\n",
    "print(next(my_counter))\n",
    "print(my_counter.__next__())\n",
    "print(my_counter.__next__())\n",
    "print(my_counter.__next__())"
   ]
  },
  {
   "cell_type": "markdown",
   "metadata": {
    "colab_type": "text",
    "id": "cdFOP_nJcGve"
   },
   "source": [
    "# 코드 10-27 : OddCounter 클래스의 정의와 20보다 작은 홀수를 출력하는 방법\n",
    "## oddcounter_with_for.py"
   ]
  },
  {
   "cell_type": "code",
   "execution_count": 0,
   "metadata": {
    "colab": {
     "base_uri": "https://localhost:8080/",
     "height": 34
    },
    "colab_type": "code",
    "id": "a3ooR7vg6GcH",
    "outputId": "17334001-e0bd-482a-e815-137b3d7f58ee"
   },
   "outputs": [
    {
     "name": "stdout",
     "output_type": "stream",
     "text": [
      "1 3 5 7 9 11 13 15 17 19 "
     ]
    }
   ],
   "source": [
    "class OddCounter:\n",
    "    def __init__(self, n = 1):  # 초기화 메소드 : n을 1로 둔다\n",
    "        self.n = n\n",
    "  \n",
    "    def __iter__(self):   # 반복자는 __iter__() 함수를 가져야 함\n",
    "        return self\n",
    "\n",
    "    def __next__(self):   # 반복자는 __next__() 함수를 가져야 함\n",
    "        t = self.n        # self.n을 임시변수 t에 저장해 두고\n",
    "        self.n += 2       # self.n을 2증가시킨 홀수를 만들어서\n",
    "        return t          # t부터 출력해야 1이 가장 먼저 출력된다.\n",
    "\n",
    "my_counter = OddCounter()\n",
    "for x in my_counter:\n",
    "    if x > 20:  # 반복을 종료하는 조건 : x > 20\n",
    "        break\n",
    "    print(x, end = ' ')"
   ]
  },
  {
   "cell_type": "markdown",
   "metadata": {
    "colab_type": "text",
    "id": "i8aVSH9BcYbj"
   },
   "source": [
    "# 코드 10-28: OddCounter 클래스와 StopIteration 예외 생성기능\n",
    "## oddcounter_with_raise.py"
   ]
  },
  {
   "cell_type": "code",
   "execution_count": 0,
   "metadata": {
    "colab": {
     "base_uri": "https://localhost:8080/",
     "height": 34
    },
    "colab_type": "code",
    "id": "LbUC6IqA7ai_",
    "outputId": "052572a7-e53c-4ce7-ded6-478e938a7e8e"
   },
   "outputs": [
    {
     "name": "stdout",
     "output_type": "stream",
     "text": [
      "1 3 5 7 9 11 13 15 17 19 "
     ]
    }
   ],
   "source": [
    "class OddCounter:\n",
    "    def __init__(self, n = 1):\n",
    "        self.n = n\n",
    "  \n",
    "    def __iter__(self):\n",
    "        return self\n",
    "\n",
    "    def __next__(self):\n",
    "        if self.n < 20:      # 반복자가 수행되는 조건\n",
    "            t = self.n\n",
    "            self.n += 2\n",
    "            return t\n",
    "        \n",
    "        raise StopIteration  # 조건을 만족하지 않으면 StopIteration을 raise함\n",
    "\n",
    "my_counter = OddCounter()\n",
    "for x in my_counter:\n",
    "    print(x, end = ' ')"
   ]
  },
  {
   "cell_type": "markdown",
   "metadata": {
    "colab_type": "text",
    "id": "Ku0fP9Y8snmJ"
   },
   "source": [
    "## 대화창 실습 : 리스트에 대한 all() 함수 적용 결과 "
   ]
  },
  {
   "cell_type": "code",
   "execution_count": 0,
   "metadata": {
    "colab": {
     "base_uri": "https://localhost:8080/",
     "height": 34
    },
    "colab_type": "code",
    "id": "Zlj6zKUrsor2",
    "outputId": "1c147199-4806-4cac-d9ff-eb116eaebaae"
   },
   "outputs": [
    {
     "data": {
      "text/plain": [
       "True"
      ]
     },
     "execution_count": 60,
     "metadata": {
      "tags": []
     },
     "output_type": "execute_result"
    }
   ],
   "source": [
    "l1 = [1,2,3,4]   # 모든 원소가 0이 아님\n",
    "l2 = [0,2,4,8]   # 한 원소가 0임\n",
    "l3 = [0,0,0,0]   # 모든 원소가 0임\n",
    "all(l1)          # 모든 요소가 true 일 때만 True를 반환함"
   ]
  },
  {
   "cell_type": "code",
   "execution_count": 0,
   "metadata": {
    "colab": {
     "base_uri": "https://localhost:8080/",
     "height": 34
    },
    "colab_type": "code",
    "id": "O4yQvIINsvH1",
    "outputId": "d7ed084e-9b7e-48c2-9d97-afc00f799d63"
   },
   "outputs": [
    {
     "data": {
      "text/plain": [
       "False"
      ]
     },
     "execution_count": 61,
     "metadata": {
      "tags": []
     },
     "output_type": "execute_result"
    }
   ],
   "source": [
    "all(l2)"
   ]
  },
  {
   "cell_type": "code",
   "execution_count": 0,
   "metadata": {
    "colab": {
     "base_uri": "https://localhost:8080/",
     "height": 34
    },
    "colab_type": "code",
    "id": "irXi6VMzsthe",
    "outputId": "151ccee1-06ca-497b-b1dd-7af05caf95b1"
   },
   "outputs": [
    {
     "data": {
      "text/plain": [
       "False"
      ]
     },
     "execution_count": 62,
     "metadata": {
      "tags": []
     },
     "output_type": "execute_result"
    }
   ],
   "source": [
    "all(l3)"
   ]
  },
  {
   "cell_type": "markdown",
   "metadata": {
    "colab_type": "text",
    "id": "jgYIiWA1s0k_"
   },
   "source": [
    "## 대화창 실습 : 리스트에 대한 any() 함수 적용 결과"
   ]
  },
  {
   "cell_type": "code",
   "execution_count": 0,
   "metadata": {
    "colab": {
     "base_uri": "https://localhost:8080/",
     "height": 34
    },
    "colab_type": "code",
    "id": "YOORkUSBsyKb",
    "outputId": "1bba8e21-b6bb-471a-c33e-e48e0ad315e1"
   },
   "outputs": [
    {
     "data": {
      "text/plain": [
       "True"
      ]
     },
     "execution_count": 63,
     "metadata": {
      "tags": []
     },
     "output_type": "execute_result"
    }
   ],
   "source": [
    "any(l1)  # 항목들 중 하나만 true일 경우 True를 반환함"
   ]
  },
  {
   "cell_type": "code",
   "execution_count": 0,
   "metadata": {
    "colab": {
     "base_uri": "https://localhost:8080/",
     "height": 34
    },
    "colab_type": "code",
    "id": "4m-4ZO2xs3kv",
    "outputId": "3fe9794c-7607-4b5c-96ab-0b3295f4e2ae"
   },
   "outputs": [
    {
     "data": {
      "text/plain": [
       "True"
      ]
     },
     "execution_count": 64,
     "metadata": {
      "tags": []
     },
     "output_type": "execute_result"
    }
   ],
   "source": [
    "any(l2)"
   ]
  },
  {
   "cell_type": "code",
   "execution_count": 0,
   "metadata": {
    "colab": {
     "base_uri": "https://localhost:8080/",
     "height": 34
    },
    "colab_type": "code",
    "id": "mNFrDE5Bs4vS",
    "outputId": "79f0aee0-1101-4993-9754-627ce2951edd"
   },
   "outputs": [
    {
     "data": {
      "text/plain": [
       "False"
      ]
     },
     "execution_count": 65,
     "metadata": {
      "tags": []
     },
     "output_type": "execute_result"
    }
   ],
   "source": [
    "any(l3)  # 항목들이 모두 false(0)이므로 False를 반환함"
   ]
  },
  {
   "cell_type": "markdown",
   "metadata": {
    "colab_type": "text",
    "id": "rnbTiUHjs-af"
   },
   "source": [
    "## 대화창 실습 : 리스트에 대한 bool() 함수 적용 결과"
   ]
  },
  {
   "cell_type": "code",
   "execution_count": 0,
   "metadata": {
    "colab": {
     "base_uri": "https://localhost:8080/",
     "height": 34
    },
    "colab_type": "code",
    "id": "t0GAKeQGs5um",
    "outputId": "a6f6053d-d50e-4cf7-e675-eee1fcc8d7d1"
   },
   "outputs": [
    {
     "data": {
      "text/plain": [
       "True"
      ]
     },
     "execution_count": 67,
     "metadata": {
      "tags": []
     },
     "output_type": "execute_result"
    }
   ],
   "source": [
    "bool(l1)  # 리스트에 원소가 있으면 True를 반환함"
   ]
  },
  {
   "cell_type": "code",
   "execution_count": 0,
   "metadata": {
    "colab": {
     "base_uri": "https://localhost:8080/",
     "height": 34
    },
    "colab_type": "code",
    "id": "jeY5EptntCa7",
    "outputId": "f8448017-4af3-4017-d5ed-41bda1cd1baf"
   },
   "outputs": [
    {
     "data": {
      "text/plain": [
       "True"
      ]
     },
     "execution_count": 68,
     "metadata": {
      "tags": []
     },
     "output_type": "execute_result"
    }
   ],
   "source": [
    "bool(l2)  # 리스트에 원소가 있으면 True를 반환함"
   ]
  },
  {
   "cell_type": "code",
   "execution_count": 0,
   "metadata": {
    "colab": {
     "base_uri": "https://localhost:8080/",
     "height": 34
    },
    "colab_type": "code",
    "id": "4OxO2TaGtDez",
    "outputId": "378156b7-d218-4e22-d61c-fa72b875b54c"
   },
   "outputs": [
    {
     "data": {
      "text/plain": [
       "True"
      ]
     },
     "execution_count": 69,
     "metadata": {
      "tags": []
     },
     "output_type": "execute_result"
    }
   ],
   "source": [
    "bool(l3)"
   ]
  },
  {
   "cell_type": "code",
   "execution_count": 0,
   "metadata": {
    "colab": {
     "base_uri": "https://localhost:8080/",
     "height": 34
    },
    "colab_type": "code",
    "id": "ZPxZspj-c4yY",
    "outputId": "1016e2ca-9960-489b-c723-a4edcc8757b8"
   },
   "outputs": [
    {
     "data": {
      "text/plain": [
       "False"
      ]
     },
     "execution_count": 70,
     "metadata": {
      "tags": []
     },
     "output_type": "execute_result"
    }
   ],
   "source": [
    "l4 = []  # 비어있는 리스트 l4\n",
    "bool(l4) # 리스트에 원소가 없으면 False를 반환함"
   ]
  },
  {
   "cell_type": "markdown",
   "metadata": {
    "colab_type": "text",
    "id": "lBvHq6jFtGJM"
   },
   "source": [
    "## 대화창 실습 : 문자열을 리스트 형으로 변환시킴"
   ]
  },
  {
   "cell_type": "code",
   "execution_count": 0,
   "metadata": {
    "colab": {
     "base_uri": "https://localhost:8080/",
     "height": 34
    },
    "colab_type": "code",
    "id": "fKDG39HQtE2n",
    "outputId": "7b118dd5-fd29-4c27-fcdf-41fdad42e23f"
   },
   "outputs": [
    {
     "data": {
      "text/plain": [
       "['h', 'e', 'l', 'l', 'o']"
      ]
     },
     "execution_count": 71,
     "metadata": {
      "tags": []
     },
     "output_type": "execute_result"
    }
   ],
   "source": [
    "char_list = list('hello')\n",
    "char_list"
   ]
  },
  {
   "cell_type": "markdown",
   "metadata": {
    "colab_type": "text",
    "id": "v1cYNe6NtNHt"
   },
   "source": [
    "## 대화창 실습 : 공백 단위의 리스트를 만드는 split() 메소드"
   ]
  },
  {
   "cell_type": "code",
   "execution_count": 0,
   "metadata": {
    "colab": {
     "base_uri": "https://localhost:8080/",
     "height": 34
    },
    "colab_type": "code",
    "id": "AVPzmo3AtKmX",
    "outputId": "2c00715e-fbb5-49cc-d6ff-03fa1398febc"
   },
   "outputs": [
    {
     "data": {
      "text/plain": [
       "['Python은', '아름다운', '언어입니다.']"
      ]
     },
     "execution_count": 72,
     "metadata": {
      "tags": []
     },
     "output_type": "execute_result"
    }
   ],
   "source": [
    "words = \"Python은 아름다운 언어입니다.\"\n",
    "words_list = words.split()\n",
    "words_list"
   ]
  },
  {
   "cell_type": "markdown",
   "metadata": {
    "colab_type": "text",
    "id": "kRacUbBWuAXo"
   },
   "source": [
    "## 대화창 실습 : 마침표로 구분된 리스트를 만드는 split() 메소드"
   ]
  },
  {
   "cell_type": "code",
   "execution_count": 0,
   "metadata": {
    "colab": {
     "base_uri": "https://localhost:8080/",
     "height": 34
    },
    "colab_type": "code",
    "id": "nyt3G8fOt9l-",
    "outputId": "f227c6ce-82d4-475e-c3ef-a9aeafc8e2e4"
   },
   "outputs": [
    {
     "data": {
      "text/plain": [
       "['2019', '02', '20']"
      ]
     },
     "execution_count": 73,
     "metadata": {
      "tags": []
     },
     "output_type": "execute_result"
    }
   ],
   "source": [
    "time_str = '2019.02.20'\n",
    "time_str.split('.')"
   ]
  },
  {
   "cell_type": "markdown",
   "metadata": {
    "colab_type": "text",
    "id": "UXs4YI4iuGXv"
   },
   "source": [
    "## 대화창 실습 : join() 메소드를 이용한 리스트의 연결"
   ]
  },
  {
   "cell_type": "code",
   "execution_count": 0,
   "metadata": {
    "colab": {
     "base_uri": "https://localhost:8080/",
     "height": 34
    },
    "colab_type": "code",
    "id": "ICI-sC12uEOY",
    "outputId": "b67aff32-1457-412d-d155-bed3a4e4ca3a"
   },
   "outputs": [
    {
     "data": {
      "text/plain": [
       "['2019', '02', '21']"
      ]
     },
     "execution_count": 74,
     "metadata": {
      "tags": []
     },
     "output_type": "execute_result"
    }
   ],
   "source": [
    "time_list = ['2019', '02', '21']\n",
    "time_list"
   ]
  },
  {
   "cell_type": "code",
   "execution_count": 0,
   "metadata": {
    "colab": {
     "base_uri": "https://localhost:8080/",
     "height": 34
    },
    "colab_type": "code",
    "id": "EQzqyv0SuLAC",
    "outputId": "6a41f9b8-b421-4c7e-e8e9-35e5edbf158c"
   },
   "outputs": [
    {
     "data": {
      "text/plain": [
       "'2019.02.21'"
      ]
     },
     "execution_count": 75,
     "metadata": {
      "tags": []
     },
     "output_type": "execute_result"
    }
   ],
   "source": [
    "'.'.join(time_list)"
   ]
  },
  {
   "cell_type": "code",
   "execution_count": 0,
   "metadata": {
    "colab": {
     "base_uri": "https://localhost:8080/",
     "height": 34
    },
    "colab_type": "code",
    "id": "Hq83N77juNAr",
    "outputId": "0bb2ba3d-42d1-4985-ed03-52318195748b"
   },
   "outputs": [
    {
     "data": {
      "text/plain": [
       "'2019,02,21'"
      ]
     },
     "execution_count": 76,
     "metadata": {
      "tags": []
     },
     "output_type": "execute_result"
    }
   ],
   "source": [
    "','.join(time_list)"
   ]
  },
  {
   "cell_type": "markdown",
   "metadata": {
    "colab_type": "text",
    "id": "NBmj4Qb9DMbj"
   },
   "source": [
    "## 대화창 실습 : 제너레이터와 이를 이용한 for 문"
   ]
  },
  {
   "cell_type": "code",
   "execution_count": 0,
   "metadata": {
    "colab": {
     "base_uri": "https://localhost:8080/",
     "height": 70
    },
    "colab_type": "code",
    "id": "3Ykz9V6gDZ8j",
    "outputId": "e48ff6f7-a20c-4b77-f76d-58884e3b8b9a"
   },
   "outputs": [
    {
     "name": "stdout",
     "output_type": "stream",
     "text": [
      "1\n",
      "2\n",
      "3\n"
     ]
    }
   ],
   "source": [
    "my_generator = ( x for x in range(1, 4) )\n",
    "for n in my_generator:\n",
    "    print(n)"
   ]
  },
  {
   "cell_type": "code",
   "execution_count": 0,
   "metadata": {
    "colab": {
     "base_uri": "https://localhost:8080/",
     "height": 34
    },
    "colab_type": "code",
    "id": "x_VD5LwjDd3O",
    "outputId": "a49558a3-9f36-4883-dced-0c4ab7cad7fe"
   },
   "outputs": [
    {
     "data": {
      "text/plain": [
       "generator"
      ]
     },
     "execution_count": 76,
     "metadata": {
      "tags": []
     },
     "output_type": "execute_result"
    }
   ],
   "source": [
    "type(my_generator)"
   ]
  },
  {
   "cell_type": "markdown",
   "metadata": {
    "colab_type": "text",
    "id": "FKxmaIWODhPs"
   },
   "source": [
    "# 코드 10-29 : 제너레이터의 예제\n",
    "## generator_with_yield.py"
   ]
  },
  {
   "cell_type": "code",
   "execution_count": 0,
   "metadata": {
    "colab": {
     "base_uri": "https://localhost:8080/",
     "height": 87
    },
    "colab_type": "code",
    "id": "SjsauGWGuOaj",
    "outputId": "12876416-1be2-4f3b-be05-61c20ef3cf00"
   },
   "outputs": [
    {
     "name": "stdout",
     "output_type": "stream",
     "text": [
      "<generator object create_gen at 0x7f9b51e870a0>\n",
      "1\n",
      "2\n",
      "3\n"
     ]
    }
   ],
   "source": [
    "def create_gen():\n",
    "    alist = range(1, 4)\n",
    "    for x in alist:\n",
    "        yield x\n",
    "\n",
    "my_generator = create_gen()\n",
    "print(my_generator)\n",
    "for n in my_generator:\n",
    "    print(n)"
   ]
  },
  {
   "cell_type": "code",
   "execution_count": 0,
   "metadata": {
    "colab": {},
    "colab_type": "code",
    "id": "tm1cF4npkIU0"
   },
   "outputs": [],
   "source": []
  }
 ],
 "metadata": {
  "colab": {
   "collapsed_sections": [],
   "include_colab_link": true,
   "name": "Ch10-람다 함수와 리스트 축약.ipynb",
   "provenance": []
  },
  "kernelspec": {
   "display_name": "Python 3",
   "language": "python",
   "name": "python3"
  },
  "language_info": {
   "codemirror_mode": {
    "name": "ipython",
    "version": 3
   },
   "file_extension": ".py",
   "mimetype": "text/x-python",
   "name": "python",
   "nbconvert_exporter": "python",
   "pygments_lexer": "ipython3",
   "version": "3.7.4"
  }
 },
 "nbformat": 4,
 "nbformat_minor": 1
}
